{
 "cells": [
  {
   "cell_type": "code",
   "execution_count": 1,
   "metadata": {},
   "outputs": [],
   "source": [
    "import pandas as pd \n",
    "import numpy as np \n",
    "import os \n",
    "import matplotlib.pyplot as plt "
   ]
  },
  {
   "cell_type": "markdown",
   "metadata": {},
   "source": [
    "## 데이터 불러오기"
   ]
  },
  {
   "cell_type": "code",
   "execution_count": 12,
   "metadata": {},
   "outputs": [
    {
     "name": "stdout",
     "output_type": "stream",
     "text": [
      "CoREMOF_O2_15.0_5760.csv\n"
     ]
    },
    {
     "data": {
      "text/plain": [
       "Index(['Adsorbent', 'LCD', 'PLD', 'LFPD', 'cm3_g', 'ASA_m2_cm3', 'ASA_m2_g',\n",
       "       'NASA_m2_cm3', 'NASA_m2_g', 'AV_VF', 'AV_cm3_g', 'NAV_cm3_g', 'Has_OMS',\n",
       "       '0.5bar_GCMC', 'Uptake'],\n",
       "      dtype='object')"
      ]
     },
     "execution_count": 12,
     "metadata": {},
     "output_type": "execute_result"
    }
   ],
   "source": [
    "DATA_PATH =  \"../[01]Data/\"\n",
    "datas = os.listdir(DATA_PATH)\n",
    "print('CoREMOF_O2_15.0_5760.csv')\n",
    "O2_15bar = pd.read_csv(os.path.join(DATA_PATH , 'CoREMOF_O2_15.0_5760.csv')).reset_index(drop = True).drop(\"Unnamed: 0\", axis = 1)\n",
    "O2_15bar  = O2_15bar[['Adsorbent', 'LCD', 'PLD', 'LFPD', 'cm3_g', 'ASA_m2_cm3', 'ASA_m2_g',\n",
    "       'NASA_m2_cm3', 'NASA_m2_g', 'AV_VF', 'AV_cm3_g', 'NAV_cm3_g', 'Has_OMS',\n",
    "       '0.5bar_GCMC',  'Uptake']]"
   ]
  },
  {
   "cell_type": "markdown",
   "metadata": {},
   "source": [
    "## 액티브 러닝 몬테카를로 드랍아웃\n",
    "* 10개씩 추가 샘플링해가며 5%부터 학습"
   ]
  },
  {
   "cell_type": "code",
   "execution_count": 1,
   "metadata": {},
   "outputs": [
    {
     "name": "stdout",
     "output_type": "stream",
     "text": [
      "Initial Test MSE: 0.0043948672362705485, R2: 0.9188898596574582\n"
     ]
    },
    {
     "name": "stderr",
     "output_type": "stream",
     "text": [
      "c:\\Users\\PSID_PC_20\\anaconda3\\envs\\python39\\lib\\site-packages\\sklearn\\base.py:493: UserWarning: X does not have valid feature names, but StandardScaler was fitted with feature names\n",
      "  warnings.warn(\n"
     ]
    },
    {
     "name": "stdout",
     "output_type": "stream",
     "text": [
      "Iteration 1/100 - Test MSE: 0.003532801785872044, R2: 0.9347998396198142\n"
     ]
    },
    {
     "name": "stderr",
     "output_type": "stream",
     "text": [
      "c:\\Users\\PSID_PC_20\\anaconda3\\envs\\python39\\lib\\site-packages\\sklearn\\base.py:493: UserWarning: X does not have valid feature names, but StandardScaler was fitted with feature names\n",
      "  warnings.warn(\n"
     ]
    },
    {
     "name": "stdout",
     "output_type": "stream",
     "text": [
      "Iteration 2/100 - Test MSE: 0.0024243527735363906, R2: 0.9552569888622542\n"
     ]
    },
    {
     "name": "stderr",
     "output_type": "stream",
     "text": [
      "c:\\Users\\PSID_PC_20\\anaconda3\\envs\\python39\\lib\\site-packages\\sklearn\\base.py:493: UserWarning: X does not have valid feature names, but StandardScaler was fitted with feature names\n",
      "  warnings.warn(\n"
     ]
    },
    {
     "name": "stdout",
     "output_type": "stream",
     "text": [
      "Iteration 3/100 - Test MSE: 0.0011302226114888144, R2: 0.979141004788585\n"
     ]
    },
    {
     "name": "stderr",
     "output_type": "stream",
     "text": [
      "c:\\Users\\PSID_PC_20\\anaconda3\\envs\\python39\\lib\\site-packages\\sklearn\\base.py:493: UserWarning: X does not have valid feature names, but StandardScaler was fitted with feature names\n",
      "  warnings.warn(\n"
     ]
    },
    {
     "name": "stdout",
     "output_type": "stream",
     "text": [
      "Iteration 4/100 - Test MSE: 0.0009334162531163232, R2: 0.9827731944520534\n"
     ]
    },
    {
     "name": "stderr",
     "output_type": "stream",
     "text": [
      "c:\\Users\\PSID_PC_20\\anaconda3\\envs\\python39\\lib\\site-packages\\sklearn\\base.py:493: UserWarning: X does not have valid feature names, but StandardScaler was fitted with feature names\n",
      "  warnings.warn(\n"
     ]
    },
    {
     "name": "stdout",
     "output_type": "stream",
     "text": [
      "Iteration 5/100 - Test MSE: 0.0007043290445403077, R2: 0.9870011482534632\n"
     ]
    },
    {
     "name": "stderr",
     "output_type": "stream",
     "text": [
      "c:\\Users\\PSID_PC_20\\anaconda3\\envs\\python39\\lib\\site-packages\\sklearn\\base.py:493: UserWarning: X does not have valid feature names, but StandardScaler was fitted with feature names\n",
      "  warnings.warn(\n"
     ]
    },
    {
     "name": "stdout",
     "output_type": "stream",
     "text": [
      "Iteration 6/100 - Test MSE: 0.0007963323116269829, R2: 0.985303167972333\n"
     ]
    },
    {
     "name": "stderr",
     "output_type": "stream",
     "text": [
      "c:\\Users\\PSID_PC_20\\anaconda3\\envs\\python39\\lib\\site-packages\\sklearn\\base.py:493: UserWarning: X does not have valid feature names, but StandardScaler was fitted with feature names\n",
      "  warnings.warn(\n"
     ]
    },
    {
     "name": "stdout",
     "output_type": "stream",
     "text": [
      "Iteration 7/100 - Test MSE: 0.0007055709797777525, R2: 0.9869782275289021\n"
     ]
    },
    {
     "name": "stderr",
     "output_type": "stream",
     "text": [
      "c:\\Users\\PSID_PC_20\\anaconda3\\envs\\python39\\lib\\site-packages\\sklearn\\base.py:493: UserWarning: X does not have valid feature names, but StandardScaler was fitted with feature names\n",
      "  warnings.warn(\n"
     ]
    },
    {
     "name": "stdout",
     "output_type": "stream",
     "text": [
      "Iteration 8/100 - Test MSE: 0.0009633355454724881, R2: 0.9822210144039439\n"
     ]
    },
    {
     "name": "stderr",
     "output_type": "stream",
     "text": [
      "c:\\Users\\PSID_PC_20\\anaconda3\\envs\\python39\\lib\\site-packages\\sklearn\\base.py:493: UserWarning: X does not have valid feature names, but StandardScaler was fitted with feature names\n",
      "  warnings.warn(\n"
     ]
    },
    {
     "name": "stdout",
     "output_type": "stream",
     "text": [
      "Iteration 9/100 - Test MSE: 0.0008185031127564246, R2: 0.9848939913819063\n"
     ]
    },
    {
     "name": "stderr",
     "output_type": "stream",
     "text": [
      "c:\\Users\\PSID_PC_20\\anaconda3\\envs\\python39\\lib\\site-packages\\sklearn\\base.py:493: UserWarning: X does not have valid feature names, but StandardScaler was fitted with feature names\n",
      "  warnings.warn(\n"
     ]
    },
    {
     "name": "stdout",
     "output_type": "stream",
     "text": [
      "Iteration 10/100 - Test MSE: 0.0007397140778664613, R2: 0.9863480943920352\n"
     ]
    },
    {
     "name": "stderr",
     "output_type": "stream",
     "text": [
      "c:\\Users\\PSID_PC_20\\anaconda3\\envs\\python39\\lib\\site-packages\\sklearn\\base.py:493: UserWarning: X does not have valid feature names, but StandardScaler was fitted with feature names\n",
      "  warnings.warn(\n"
     ]
    },
    {
     "name": "stdout",
     "output_type": "stream",
     "text": [
      "Iteration 11/100 - Test MSE: 0.0010356377534602168, R2: 0.9808866300137714\n"
     ]
    },
    {
     "name": "stderr",
     "output_type": "stream",
     "text": [
      "c:\\Users\\PSID_PC_20\\anaconda3\\envs\\python39\\lib\\site-packages\\sklearn\\base.py:493: UserWarning: X does not have valid feature names, but StandardScaler was fitted with feature names\n",
      "  warnings.warn(\n"
     ]
    },
    {
     "name": "stdout",
     "output_type": "stream",
     "text": [
      "Iteration 12/100 - Test MSE: 0.0007291366129294039, R2: 0.986543308404061\n"
     ]
    },
    {
     "name": "stderr",
     "output_type": "stream",
     "text": [
      "c:\\Users\\PSID_PC_20\\anaconda3\\envs\\python39\\lib\\site-packages\\sklearn\\base.py:493: UserWarning: X does not have valid feature names, but StandardScaler was fitted with feature names\n",
      "  warnings.warn(\n"
     ]
    },
    {
     "name": "stdout",
     "output_type": "stream",
     "text": [
      "Iteration 13/100 - Test MSE: 0.0008070123850581018, R2: 0.9851060602536476\n"
     ]
    },
    {
     "name": "stderr",
     "output_type": "stream",
     "text": [
      "c:\\Users\\PSID_PC_20\\anaconda3\\envs\\python39\\lib\\site-packages\\sklearn\\base.py:493: UserWarning: X does not have valid feature names, but StandardScaler was fitted with feature names\n",
      "  warnings.warn(\n"
     ]
    },
    {
     "name": "stdout",
     "output_type": "stream",
     "text": [
      "Iteration 14/100 - Test MSE: 0.001186269360823243, R2: 0.9781066254865799\n"
     ]
    },
    {
     "name": "stderr",
     "output_type": "stream",
     "text": [
      "c:\\Users\\PSID_PC_20\\anaconda3\\envs\\python39\\lib\\site-packages\\sklearn\\base.py:493: UserWarning: X does not have valid feature names, but StandardScaler was fitted with feature names\n",
      "  warnings.warn(\n"
     ]
    },
    {
     "name": "stdout",
     "output_type": "stream",
     "text": [
      "Iteration 15/100 - Test MSE: 0.0012940763081526498, R2: 0.9761169779824133\n"
     ]
    },
    {
     "name": "stderr",
     "output_type": "stream",
     "text": [
      "c:\\Users\\PSID_PC_20\\anaconda3\\envs\\python39\\lib\\site-packages\\sklearn\\base.py:493: UserWarning: X does not have valid feature names, but StandardScaler was fitted with feature names\n",
      "  warnings.warn(\n"
     ]
    },
    {
     "name": "stdout",
     "output_type": "stream",
     "text": [
      "Iteration 16/100 - Test MSE: 0.0010872297360825511, R2: 0.9799344663359901\n"
     ]
    },
    {
     "name": "stderr",
     "output_type": "stream",
     "text": [
      "c:\\Users\\PSID_PC_20\\anaconda3\\envs\\python39\\lib\\site-packages\\sklearn\\base.py:493: UserWarning: X does not have valid feature names, but StandardScaler was fitted with feature names\n",
      "  warnings.warn(\n"
     ]
    },
    {
     "name": "stdout",
     "output_type": "stream",
     "text": [
      "Iteration 17/100 - Test MSE: 0.001024398909154943, R2: 0.9810940502132636\n"
     ]
    },
    {
     "name": "stderr",
     "output_type": "stream",
     "text": [
      "c:\\Users\\PSID_PC_20\\anaconda3\\envs\\python39\\lib\\site-packages\\sklearn\\base.py:493: UserWarning: X does not have valid feature names, but StandardScaler was fitted with feature names\n",
      "  warnings.warn(\n"
     ]
    },
    {
     "name": "stdout",
     "output_type": "stream",
     "text": [
      "Iteration 18/100 - Test MSE: 0.0008750848280026351, R2: 0.983849738935196\n"
     ]
    },
    {
     "name": "stderr",
     "output_type": "stream",
     "text": [
      "c:\\Users\\PSID_PC_20\\anaconda3\\envs\\python39\\lib\\site-packages\\sklearn\\base.py:493: UserWarning: X does not have valid feature names, but StandardScaler was fitted with feature names\n",
      "  warnings.warn(\n"
     ]
    },
    {
     "name": "stdout",
     "output_type": "stream",
     "text": [
      "Iteration 19/100 - Test MSE: 0.0008698224770136297, R2: 0.9839468590538033\n"
     ]
    },
    {
     "name": "stderr",
     "output_type": "stream",
     "text": [
      "c:\\Users\\PSID_PC_20\\anaconda3\\envs\\python39\\lib\\site-packages\\sklearn\\base.py:493: UserWarning: X does not have valid feature names, but StandardScaler was fitted with feature names\n",
      "  warnings.warn(\n"
     ]
    },
    {
     "name": "stdout",
     "output_type": "stream",
     "text": [
      "Iteration 20/100 - Test MSE: 0.0010055384675446265, R2: 0.9814421319603776\n"
     ]
    },
    {
     "name": "stderr",
     "output_type": "stream",
     "text": [
      "c:\\Users\\PSID_PC_20\\anaconda3\\envs\\python39\\lib\\site-packages\\sklearn\\base.py:493: UserWarning: X does not have valid feature names, but StandardScaler was fitted with feature names\n",
      "  warnings.warn(\n"
     ]
    },
    {
     "name": "stdout",
     "output_type": "stream",
     "text": [
      "Iteration 21/100 - Test MSE: 0.0007021886899995521, R2: 0.9870406498920453\n"
     ]
    },
    {
     "name": "stderr",
     "output_type": "stream",
     "text": [
      "c:\\Users\\PSID_PC_20\\anaconda3\\envs\\python39\\lib\\site-packages\\sklearn\\base.py:493: UserWarning: X does not have valid feature names, but StandardScaler was fitted with feature names\n",
      "  warnings.warn(\n"
     ]
    },
    {
     "name": "stdout",
     "output_type": "stream",
     "text": [
      "Iteration 22/100 - Test MSE: 0.0009535050579558592, R2: 0.982402442460639\n"
     ]
    },
    {
     "name": "stderr",
     "output_type": "stream",
     "text": [
      "c:\\Users\\PSID_PC_20\\anaconda3\\envs\\python39\\lib\\site-packages\\sklearn\\base.py:493: UserWarning: X does not have valid feature names, but StandardScaler was fitted with feature names\n",
      "  warnings.warn(\n"
     ]
    },
    {
     "name": "stdout",
     "output_type": "stream",
     "text": [
      "Iteration 23/100 - Test MSE: 0.0008243102916248242, R2: 0.9847868161095514\n"
     ]
    },
    {
     "name": "stderr",
     "output_type": "stream",
     "text": [
      "c:\\Users\\PSID_PC_20\\anaconda3\\envs\\python39\\lib\\site-packages\\sklearn\\base.py:493: UserWarning: X does not have valid feature names, but StandardScaler was fitted with feature names\n",
      "  warnings.warn(\n"
     ]
    },
    {
     "name": "stdout",
     "output_type": "stream",
     "text": [
      "Iteration 24/100 - Test MSE: 0.001080089822489511, R2: 0.9800662380966444\n"
     ]
    },
    {
     "name": "stderr",
     "output_type": "stream",
     "text": [
      "c:\\Users\\PSID_PC_20\\anaconda3\\envs\\python39\\lib\\site-packages\\sklearn\\base.py:493: UserWarning: X does not have valid feature names, but StandardScaler was fitted with feature names\n",
      "  warnings.warn(\n"
     ]
    },
    {
     "name": "stdout",
     "output_type": "stream",
     "text": [
      "Iteration 25/100 - Test MSE: 0.0012497350457421747, R2: 0.976935324891143\n"
     ]
    },
    {
     "name": "stderr",
     "output_type": "stream",
     "text": [
      "c:\\Users\\PSID_PC_20\\anaconda3\\envs\\python39\\lib\\site-packages\\sklearn\\base.py:493: UserWarning: X does not have valid feature names, but StandardScaler was fitted with feature names\n",
      "  warnings.warn(\n"
     ]
    },
    {
     "name": "stdout",
     "output_type": "stream",
     "text": [
      "Iteration 26/100 - Test MSE: 0.0007509411382798945, R2: 0.9861408916719502\n"
     ]
    },
    {
     "name": "stderr",
     "output_type": "stream",
     "text": [
      "c:\\Users\\PSID_PC_20\\anaconda3\\envs\\python39\\lib\\site-packages\\sklearn\\base.py:493: UserWarning: X does not have valid feature names, but StandardScaler was fitted with feature names\n",
      "  warnings.warn(\n"
     ]
    },
    {
     "name": "stdout",
     "output_type": "stream",
     "text": [
      "Iteration 27/100 - Test MSE: 0.0009671945325276008, R2: 0.9821497942817439\n"
     ]
    },
    {
     "name": "stderr",
     "output_type": "stream",
     "text": [
      "c:\\Users\\PSID_PC_20\\anaconda3\\envs\\python39\\lib\\site-packages\\sklearn\\base.py:493: UserWarning: X does not have valid feature names, but StandardScaler was fitted with feature names\n",
      "  warnings.warn(\n"
     ]
    },
    {
     "name": "stdout",
     "output_type": "stream",
     "text": [
      "Iteration 28/100 - Test MSE: 0.0008703681742713445, R2: 0.9839367878551122\n"
     ]
    },
    {
     "name": "stderr",
     "output_type": "stream",
     "text": [
      "c:\\Users\\PSID_PC_20\\anaconda3\\envs\\python39\\lib\\site-packages\\sklearn\\base.py:493: UserWarning: X does not have valid feature names, but StandardScaler was fitted with feature names\n",
      "  warnings.warn(\n"
     ]
    },
    {
     "name": "stdout",
     "output_type": "stream",
     "text": [
      "Iteration 29/100 - Test MSE: 0.0009100791356160153, R2: 0.9832038961715543\n"
     ]
    },
    {
     "name": "stderr",
     "output_type": "stream",
     "text": [
      "c:\\Users\\PSID_PC_20\\anaconda3\\envs\\python39\\lib\\site-packages\\sklearn\\base.py:493: UserWarning: X does not have valid feature names, but StandardScaler was fitted with feature names\n",
      "  warnings.warn(\n"
     ]
    },
    {
     "name": "stdout",
     "output_type": "stream",
     "text": [
      "Iteration 30/100 - Test MSE: 0.0010065765232610444, R2: 0.9814229739653084\n"
     ]
    },
    {
     "name": "stderr",
     "output_type": "stream",
     "text": [
      "c:\\Users\\PSID_PC_20\\anaconda3\\envs\\python39\\lib\\site-packages\\sklearn\\base.py:493: UserWarning: X does not have valid feature names, but StandardScaler was fitted with feature names\n",
      "  warnings.warn(\n"
     ]
    },
    {
     "name": "stdout",
     "output_type": "stream",
     "text": [
      "Iteration 31/100 - Test MSE: 0.0008828080604599989, R2: 0.9837072016445709\n"
     ]
    },
    {
     "name": "stderr",
     "output_type": "stream",
     "text": [
      "c:\\Users\\PSID_PC_20\\anaconda3\\envs\\python39\\lib\\site-packages\\sklearn\\base.py:493: UserWarning: X does not have valid feature names, but StandardScaler was fitted with feature names\n",
      "  warnings.warn(\n"
     ]
    },
    {
     "name": "stdout",
     "output_type": "stream",
     "text": [
      "Iteration 32/100 - Test MSE: 0.0018387822863948147, R2: 0.9660640740002363\n"
     ]
    },
    {
     "name": "stderr",
     "output_type": "stream",
     "text": [
      "c:\\Users\\PSID_PC_20\\anaconda3\\envs\\python39\\lib\\site-packages\\sklearn\\base.py:493: UserWarning: X does not have valid feature names, but StandardScaler was fitted with feature names\n",
      "  warnings.warn(\n"
     ]
    },
    {
     "name": "stdout",
     "output_type": "stream",
     "text": [
      "Iteration 33/100 - Test MSE: 0.0009245404490686238, R2: 0.9829370032028661\n"
     ]
    },
    {
     "name": "stderr",
     "output_type": "stream",
     "text": [
      "c:\\Users\\PSID_PC_20\\anaconda3\\envs\\python39\\lib\\site-packages\\sklearn\\base.py:493: UserWarning: X does not have valid feature names, but StandardScaler was fitted with feature names\n",
      "  warnings.warn(\n"
     ]
    },
    {
     "name": "stdout",
     "output_type": "stream",
     "text": [
      "Iteration 34/100 - Test MSE: 0.0012390029853880692, R2: 0.9771333920623881\n"
     ]
    },
    {
     "name": "stderr",
     "output_type": "stream",
     "text": [
      "c:\\Users\\PSID_PC_20\\anaconda3\\envs\\python39\\lib\\site-packages\\sklearn\\base.py:493: UserWarning: X does not have valid feature names, but StandardScaler was fitted with feature names\n",
      "  warnings.warn(\n"
     ]
    },
    {
     "name": "stdout",
     "output_type": "stream",
     "text": [
      "Iteration 35/100 - Test MSE: 0.0010171782980895531, R2: 0.9812273112983856\n"
     ]
    },
    {
     "name": "stderr",
     "output_type": "stream",
     "text": [
      "c:\\Users\\PSID_PC_20\\anaconda3\\envs\\python39\\lib\\site-packages\\sklearn\\base.py:493: UserWarning: X does not have valid feature names, but StandardScaler was fitted with feature names\n",
      "  warnings.warn(\n"
     ]
    },
    {
     "name": "stdout",
     "output_type": "stream",
     "text": [
      "Iteration 36/100 - Test MSE: 0.0007875690072555074, R2: 0.9854649004682702\n"
     ]
    },
    {
     "name": "stderr",
     "output_type": "stream",
     "text": [
      "c:\\Users\\PSID_PC_20\\anaconda3\\envs\\python39\\lib\\site-packages\\sklearn\\base.py:493: UserWarning: X does not have valid feature names, but StandardScaler was fitted with feature names\n",
      "  warnings.warn(\n"
     ]
    },
    {
     "name": "stdout",
     "output_type": "stream",
     "text": [
      "Iteration 37/100 - Test MSE: 0.0007974278766216527, R2: 0.985282948606037\n"
     ]
    },
    {
     "name": "stderr",
     "output_type": "stream",
     "text": [
      "c:\\Users\\PSID_PC_20\\anaconda3\\envs\\python39\\lib\\site-packages\\sklearn\\base.py:493: UserWarning: X does not have valid feature names, but StandardScaler was fitted with feature names\n",
      "  warnings.warn(\n"
     ]
    },
    {
     "name": "stdout",
     "output_type": "stream",
     "text": [
      "Iteration 38/100 - Test MSE: 0.0011554362594969525, R2: 0.9786756704750454\n"
     ]
    },
    {
     "name": "stderr",
     "output_type": "stream",
     "text": [
      "c:\\Users\\PSID_PC_20\\anaconda3\\envs\\python39\\lib\\site-packages\\sklearn\\base.py:493: UserWarning: X does not have valid feature names, but StandardScaler was fitted with feature names\n",
      "  warnings.warn(\n"
     ]
    },
    {
     "name": "stdout",
     "output_type": "stream",
     "text": [
      "Iteration 39/100 - Test MSE: 0.0006565413194386105, R2: 0.9878831018782873\n"
     ]
    },
    {
     "name": "stderr",
     "output_type": "stream",
     "text": [
      "c:\\Users\\PSID_PC_20\\anaconda3\\envs\\python39\\lib\\site-packages\\sklearn\\base.py:493: UserWarning: X does not have valid feature names, but StandardScaler was fitted with feature names\n",
      "  warnings.warn(\n"
     ]
    },
    {
     "name": "stdout",
     "output_type": "stream",
     "text": [
      "Iteration 40/100 - Test MSE: 0.0009148569172062822, R2: 0.9831157190971448\n"
     ]
    },
    {
     "name": "stderr",
     "output_type": "stream",
     "text": [
      "c:\\Users\\PSID_PC_20\\anaconda3\\envs\\python39\\lib\\site-packages\\sklearn\\base.py:493: UserWarning: X does not have valid feature names, but StandardScaler was fitted with feature names\n",
      "  warnings.warn(\n"
     ]
    },
    {
     "name": "stdout",
     "output_type": "stream",
     "text": [
      "Iteration 41/100 - Test MSE: 0.0007522252902887347, R2: 0.9861171918093472\n"
     ]
    },
    {
     "name": "stderr",
     "output_type": "stream",
     "text": [
      "c:\\Users\\PSID_PC_20\\anaconda3\\envs\\python39\\lib\\site-packages\\sklearn\\base.py:493: UserWarning: X does not have valid feature names, but StandardScaler was fitted with feature names\n",
      "  warnings.warn(\n"
     ]
    },
    {
     "name": "stdout",
     "output_type": "stream",
     "text": [
      "Iteration 42/100 - Test MSE: 0.0009214415026379801, R2: 0.9829941962797876\n"
     ]
    },
    {
     "name": "stderr",
     "output_type": "stream",
     "text": [
      "c:\\Users\\PSID_PC_20\\anaconda3\\envs\\python39\\lib\\site-packages\\sklearn\\base.py:493: UserWarning: X does not have valid feature names, but StandardScaler was fitted with feature names\n",
      "  warnings.warn(\n"
     ]
    },
    {
     "name": "stdout",
     "output_type": "stream",
     "text": [
      "Iteration 43/100 - Test MSE: 0.0006665098835711787, R2: 0.9876991255276177\n"
     ]
    },
    {
     "name": "stderr",
     "output_type": "stream",
     "text": [
      "c:\\Users\\PSID_PC_20\\anaconda3\\envs\\python39\\lib\\site-packages\\sklearn\\base.py:493: UserWarning: X does not have valid feature names, but StandardScaler was fitted with feature names\n",
      "  warnings.warn(\n"
     ]
    },
    {
     "name": "stdout",
     "output_type": "stream",
     "text": [
      "Iteration 44/100 - Test MSE: 0.0009504487481745539, R2: 0.9824588486503975\n"
     ]
    },
    {
     "name": "stderr",
     "output_type": "stream",
     "text": [
      "c:\\Users\\PSID_PC_20\\anaconda3\\envs\\python39\\lib\\site-packages\\sklearn\\base.py:493: UserWarning: X does not have valid feature names, but StandardScaler was fitted with feature names\n",
      "  warnings.warn(\n"
     ]
    },
    {
     "name": "stdout",
     "output_type": "stream",
     "text": [
      "Iteration 45/100 - Test MSE: 0.0008385131888069056, R2: 0.9845246923816259\n"
     ]
    },
    {
     "name": "stderr",
     "output_type": "stream",
     "text": [
      "c:\\Users\\PSID_PC_20\\anaconda3\\envs\\python39\\lib\\site-packages\\sklearn\\base.py:493: UserWarning: X does not have valid feature names, but StandardScaler was fitted with feature names\n",
      "  warnings.warn(\n"
     ]
    },
    {
     "name": "stdout",
     "output_type": "stream",
     "text": [
      "Iteration 46/100 - Test MSE: 0.0008735531911837706, R2: 0.9838780062913306\n"
     ]
    },
    {
     "name": "stderr",
     "output_type": "stream",
     "text": [
      "c:\\Users\\PSID_PC_20\\anaconda3\\envs\\python39\\lib\\site-packages\\sklearn\\base.py:493: UserWarning: X does not have valid feature names, but StandardScaler was fitted with feature names\n",
      "  warnings.warn(\n"
     ]
    },
    {
     "name": "stdout",
     "output_type": "stream",
     "text": [
      "Iteration 47/100 - Test MSE: 0.0006494259902803113, R2: 0.9880144199171691\n"
     ]
    },
    {
     "name": "stderr",
     "output_type": "stream",
     "text": [
      "c:\\Users\\PSID_PC_20\\anaconda3\\envs\\python39\\lib\\site-packages\\sklearn\\base.py:493: UserWarning: X does not have valid feature names, but StandardScaler was fitted with feature names\n",
      "  warnings.warn(\n"
     ]
    },
    {
     "name": "stdout",
     "output_type": "stream",
     "text": [
      "Iteration 48/100 - Test MSE: 0.0006173031244014242, R2: 0.9886072683513921\n"
     ]
    },
    {
     "name": "stderr",
     "output_type": "stream",
     "text": [
      "c:\\Users\\PSID_PC_20\\anaconda3\\envs\\python39\\lib\\site-packages\\sklearn\\base.py:493: UserWarning: X does not have valid feature names, but StandardScaler was fitted with feature names\n",
      "  warnings.warn(\n"
     ]
    },
    {
     "name": "stdout",
     "output_type": "stream",
     "text": [
      "Iteration 49/100 - Test MSE: 0.0009229254257734973, R2: 0.982966809510789\n"
     ]
    },
    {
     "name": "stderr",
     "output_type": "stream",
     "text": [
      "c:\\Users\\PSID_PC_20\\anaconda3\\envs\\python39\\lib\\site-packages\\sklearn\\base.py:493: UserWarning: X does not have valid feature names, but StandardScaler was fitted with feature names\n",
      "  warnings.warn(\n"
     ]
    },
    {
     "name": "stdout",
     "output_type": "stream",
     "text": [
      "Iteration 50/100 - Test MSE: 0.0007774921222415466, R2: 0.9856508759514322\n"
     ]
    },
    {
     "name": "stderr",
     "output_type": "stream",
     "text": [
      "c:\\Users\\PSID_PC_20\\anaconda3\\envs\\python39\\lib\\site-packages\\sklearn\\base.py:493: UserWarning: X does not have valid feature names, but StandardScaler was fitted with feature names\n",
      "  warnings.warn(\n"
     ]
    },
    {
     "name": "stdout",
     "output_type": "stream",
     "text": [
      "Iteration 51/100 - Test MSE: 0.0009664036360272567, R2: 0.9821643907923302\n"
     ]
    },
    {
     "name": "stderr",
     "output_type": "stream",
     "text": [
      "c:\\Users\\PSID_PC_20\\anaconda3\\envs\\python39\\lib\\site-packages\\sklearn\\base.py:493: UserWarning: X does not have valid feature names, but StandardScaler was fitted with feature names\n",
      "  warnings.warn(\n"
     ]
    },
    {
     "name": "stdout",
     "output_type": "stream",
     "text": [
      "Iteration 52/100 - Test MSE: 0.0007710023284220235, R2: 0.9857706493277816\n"
     ]
    },
    {
     "name": "stderr",
     "output_type": "stream",
     "text": [
      "c:\\Users\\PSID_PC_20\\anaconda3\\envs\\python39\\lib\\site-packages\\sklearn\\base.py:493: UserWarning: X does not have valid feature names, but StandardScaler was fitted with feature names\n",
      "  warnings.warn(\n"
     ]
    },
    {
     "name": "stdout",
     "output_type": "stream",
     "text": [
      "Iteration 53/100 - Test MSE: 0.0006537481483485147, R2: 0.9879346516719304\n"
     ]
    },
    {
     "name": "stderr",
     "output_type": "stream",
     "text": [
      "c:\\Users\\PSID_PC_20\\anaconda3\\envs\\python39\\lib\\site-packages\\sklearn\\base.py:493: UserWarning: X does not have valid feature names, but StandardScaler was fitted with feature names\n",
      "  warnings.warn(\n"
     ]
    },
    {
     "name": "stdout",
     "output_type": "stream",
     "text": [
      "Iteration 54/100 - Test MSE: 0.0007503398217182295, R2: 0.9861519893611601\n"
     ]
    },
    {
     "name": "stderr",
     "output_type": "stream",
     "text": [
      "c:\\Users\\PSID_PC_20\\anaconda3\\envs\\python39\\lib\\site-packages\\sklearn\\base.py:493: UserWarning: X does not have valid feature names, but StandardScaler was fitted with feature names\n",
      "  warnings.warn(\n"
     ]
    },
    {
     "name": "stdout",
     "output_type": "stream",
     "text": [
      "Iteration 55/100 - Test MSE: 0.0008181871998749395, R2: 0.9848998217601124\n"
     ]
    },
    {
     "name": "stderr",
     "output_type": "stream",
     "text": [
      "c:\\Users\\PSID_PC_20\\anaconda3\\envs\\python39\\lib\\site-packages\\sklearn\\base.py:493: UserWarning: X does not have valid feature names, but StandardScaler was fitted with feature names\n",
      "  warnings.warn(\n"
     ]
    },
    {
     "name": "stdout",
     "output_type": "stream",
     "text": [
      "Iteration 56/100 - Test MSE: 0.0014905646814287758, R2: 0.9724906569412278\n"
     ]
    },
    {
     "name": "stderr",
     "output_type": "stream",
     "text": [
      "c:\\Users\\PSID_PC_20\\anaconda3\\envs\\python39\\lib\\site-packages\\sklearn\\base.py:493: UserWarning: X does not have valid feature names, but StandardScaler was fitted with feature names\n",
      "  warnings.warn(\n"
     ]
    },
    {
     "name": "stdout",
     "output_type": "stream",
     "text": [
      "Iteration 57/100 - Test MSE: 0.0005021731339242165, R2: 0.9907320673915484\n"
     ]
    },
    {
     "name": "stderr",
     "output_type": "stream",
     "text": [
      "c:\\Users\\PSID_PC_20\\anaconda3\\envs\\python39\\lib\\site-packages\\sklearn\\base.py:493: UserWarning: X does not have valid feature names, but StandardScaler was fitted with feature names\n",
      "  warnings.warn(\n"
     ]
    },
    {
     "name": "stdout",
     "output_type": "stream",
     "text": [
      "Iteration 58/100 - Test MSE: 0.000771731707636021, R2: 0.9857571881588247\n"
     ]
    },
    {
     "name": "stderr",
     "output_type": "stream",
     "text": [
      "c:\\Users\\PSID_PC_20\\anaconda3\\envs\\python39\\lib\\site-packages\\sklearn\\base.py:493: UserWarning: X does not have valid feature names, but StandardScaler was fitted with feature names\n",
      "  warnings.warn(\n"
     ]
    },
    {
     "name": "stdout",
     "output_type": "stream",
     "text": [
      "Iteration 59/100 - Test MSE: 0.0010273641099106435, R2: 0.9810393254999767\n"
     ]
    },
    {
     "name": "stderr",
     "output_type": "stream",
     "text": [
      "c:\\Users\\PSID_PC_20\\anaconda3\\envs\\python39\\lib\\site-packages\\sklearn\\base.py:493: UserWarning: X does not have valid feature names, but StandardScaler was fitted with feature names\n",
      "  warnings.warn(\n"
     ]
    },
    {
     "name": "stdout",
     "output_type": "stream",
     "text": [
      "Iteration 60/100 - Test MSE: 0.0006986012277834947, R2: 0.9871068588463037\n"
     ]
    },
    {
     "name": "stderr",
     "output_type": "stream",
     "text": [
      "c:\\Users\\PSID_PC_20\\anaconda3\\envs\\python39\\lib\\site-packages\\sklearn\\base.py:493: UserWarning: X does not have valid feature names, but StandardScaler was fitted with feature names\n",
      "  warnings.warn(\n"
     ]
    },
    {
     "name": "stdout",
     "output_type": "stream",
     "text": [
      "Iteration 61/100 - Test MSE: 0.0012885964426395738, R2: 0.976218112473384\n"
     ]
    },
    {
     "name": "stderr",
     "output_type": "stream",
     "text": [
      "c:\\Users\\PSID_PC_20\\anaconda3\\envs\\python39\\lib\\site-packages\\sklearn\\base.py:493: UserWarning: X does not have valid feature names, but StandardScaler was fitted with feature names\n",
      "  warnings.warn(\n"
     ]
    },
    {
     "name": "stdout",
     "output_type": "stream",
     "text": [
      "Iteration 62/100 - Test MSE: 0.0006075546750738139, R2: 0.9887871823398192\n"
     ]
    },
    {
     "name": "stderr",
     "output_type": "stream",
     "text": [
      "c:\\Users\\PSID_PC_20\\anaconda3\\envs\\python39\\lib\\site-packages\\sklearn\\base.py:493: UserWarning: X does not have valid feature names, but StandardScaler was fitted with feature names\n",
      "  warnings.warn(\n"
     ]
    },
    {
     "name": "stdout",
     "output_type": "stream",
     "text": [
      "Iteration 63/100 - Test MSE: 0.0005266008114036695, R2: 0.9902812386765764\n"
     ]
    },
    {
     "name": "stderr",
     "output_type": "stream",
     "text": [
      "c:\\Users\\PSID_PC_20\\anaconda3\\envs\\python39\\lib\\site-packages\\sklearn\\base.py:493: UserWarning: X does not have valid feature names, but StandardScaler was fitted with feature names\n",
      "  warnings.warn(\n"
     ]
    },
    {
     "name": "stdout",
     "output_type": "stream",
     "text": [
      "Iteration 64/100 - Test MSE: 0.0007087871935615034, R2: 0.9869188702065195\n"
     ]
    },
    {
     "name": "stderr",
     "output_type": "stream",
     "text": [
      "c:\\Users\\PSID_PC_20\\anaconda3\\envs\\python39\\lib\\site-packages\\sklearn\\base.py:493: UserWarning: X does not have valid feature names, but StandardScaler was fitted with feature names\n",
      "  warnings.warn(\n"
     ]
    },
    {
     "name": "stdout",
     "output_type": "stream",
     "text": [
      "Iteration 65/100 - Test MSE: 0.0007269111434637495, R2: 0.9865843808940779\n"
     ]
    },
    {
     "name": "stderr",
     "output_type": "stream",
     "text": [
      "c:\\Users\\PSID_PC_20\\anaconda3\\envs\\python39\\lib\\site-packages\\sklearn\\base.py:493: UserWarning: X does not have valid feature names, but StandardScaler was fitted with feature names\n",
      "  warnings.warn(\n"
     ]
    },
    {
     "name": "stdout",
     "output_type": "stream",
     "text": [
      "Iteration 66/100 - Test MSE: 0.0008762801575580094, R2: 0.9838276783488848\n"
     ]
    },
    {
     "name": "stderr",
     "output_type": "stream",
     "text": [
      "c:\\Users\\PSID_PC_20\\anaconda3\\envs\\python39\\lib\\site-packages\\sklearn\\base.py:493: UserWarning: X does not have valid feature names, but StandardScaler was fitted with feature names\n",
      "  warnings.warn(\n"
     ]
    },
    {
     "name": "stdout",
     "output_type": "stream",
     "text": [
      "Iteration 67/100 - Test MSE: 0.0007518787427884708, R2: 0.986123587569417\n"
     ]
    },
    {
     "name": "stderr",
     "output_type": "stream",
     "text": [
      "c:\\Users\\PSID_PC_20\\anaconda3\\envs\\python39\\lib\\site-packages\\sklearn\\base.py:493: UserWarning: X does not have valid feature names, but StandardScaler was fitted with feature names\n",
      "  warnings.warn(\n"
     ]
    },
    {
     "name": "stdout",
     "output_type": "stream",
     "text": [
      "Iteration 68/100 - Test MSE: 0.0006942090957627341, R2: 0.9871879185064606\n"
     ]
    },
    {
     "name": "stderr",
     "output_type": "stream",
     "text": [
      "c:\\Users\\PSID_PC_20\\anaconda3\\envs\\python39\\lib\\site-packages\\sklearn\\base.py:493: UserWarning: X does not have valid feature names, but StandardScaler was fitted with feature names\n",
      "  warnings.warn(\n"
     ]
    },
    {
     "name": "stdout",
     "output_type": "stream",
     "text": [
      "Iteration 69/100 - Test MSE: 0.0009386402695886101, R2: 0.9826767818219465\n"
     ]
    },
    {
     "name": "stderr",
     "output_type": "stream",
     "text": [
      "c:\\Users\\PSID_PC_20\\anaconda3\\envs\\python39\\lib\\site-packages\\sklearn\\base.py:493: UserWarning: X does not have valid feature names, but StandardScaler was fitted with feature names\n",
      "  warnings.warn(\n"
     ]
    },
    {
     "name": "stdout",
     "output_type": "stream",
     "text": [
      "Iteration 70/100 - Test MSE: 0.0004587368343500525, R2: 0.9915337126210891\n"
     ]
    },
    {
     "name": "stderr",
     "output_type": "stream",
     "text": [
      "c:\\Users\\PSID_PC_20\\anaconda3\\envs\\python39\\lib\\site-packages\\sklearn\\base.py:493: UserWarning: X does not have valid feature names, but StandardScaler was fitted with feature names\n",
      "  warnings.warn(\n"
     ]
    },
    {
     "name": "stdout",
     "output_type": "stream",
     "text": [
      "Iteration 71/100 - Test MSE: 0.000852032821100126, R2: 0.9842751787527197\n"
     ]
    },
    {
     "name": "stderr",
     "output_type": "stream",
     "text": [
      "c:\\Users\\PSID_PC_20\\anaconda3\\envs\\python39\\lib\\site-packages\\sklearn\\base.py:493: UserWarning: X does not have valid feature names, but StandardScaler was fitted with feature names\n",
      "  warnings.warn(\n"
     ]
    },
    {
     "name": "stdout",
     "output_type": "stream",
     "text": [
      "Iteration 72/100 - Test MSE: 0.0005241228215451902, R2: 0.9903269715950886\n"
     ]
    },
    {
     "name": "stderr",
     "output_type": "stream",
     "text": [
      "c:\\Users\\PSID_PC_20\\anaconda3\\envs\\python39\\lib\\site-packages\\sklearn\\base.py:493: UserWarning: X does not have valid feature names, but StandardScaler was fitted with feature names\n",
      "  warnings.warn(\n"
     ]
    },
    {
     "name": "stdout",
     "output_type": "stream",
     "text": [
      "Iteration 73/100 - Test MSE: 0.0006189647340813191, R2: 0.9885766022613637\n"
     ]
    },
    {
     "name": "stderr",
     "output_type": "stream",
     "text": [
      "c:\\Users\\PSID_PC_20\\anaconda3\\envs\\python39\\lib\\site-packages\\sklearn\\base.py:493: UserWarning: X does not have valid feature names, but StandardScaler was fitted with feature names\n",
      "  warnings.warn(\n"
     ]
    },
    {
     "name": "stdout",
     "output_type": "stream",
     "text": [
      "Iteration 74/100 - Test MSE: 0.0006208900484452185, R2: 0.9885410693294537\n"
     ]
    },
    {
     "name": "stderr",
     "output_type": "stream",
     "text": [
      "c:\\Users\\PSID_PC_20\\anaconda3\\envs\\python39\\lib\\site-packages\\sklearn\\base.py:493: UserWarning: X does not have valid feature names, but StandardScaler was fitted with feature names\n",
      "  warnings.warn(\n"
     ]
    },
    {
     "name": "stdout",
     "output_type": "stream",
     "text": [
      "Iteration 75/100 - Test MSE: 0.000840564170764244, R2: 0.9844868401723426\n"
     ]
    },
    {
     "name": "stderr",
     "output_type": "stream",
     "text": [
      "c:\\Users\\PSID_PC_20\\anaconda3\\envs\\python39\\lib\\site-packages\\sklearn\\base.py:493: UserWarning: X does not have valid feature names, but StandardScaler was fitted with feature names\n",
      "  warnings.warn(\n"
     ]
    },
    {
     "name": "stdout",
     "output_type": "stream",
     "text": [
      "Iteration 76/100 - Test MSE: 0.0006554811301147176, R2: 0.9879026683635137\n"
     ]
    },
    {
     "name": "stderr",
     "output_type": "stream",
     "text": [
      "c:\\Users\\PSID_PC_20\\anaconda3\\envs\\python39\\lib\\site-packages\\sklearn\\base.py:493: UserWarning: X does not have valid feature names, but StandardScaler was fitted with feature names\n",
      "  warnings.warn(\n"
     ]
    },
    {
     "name": "stdout",
     "output_type": "stream",
     "text": [
      "Iteration 77/100 - Test MSE: 0.0004670174113028692, R2: 0.9913808891744064\n"
     ]
    },
    {
     "name": "stderr",
     "output_type": "stream",
     "text": [
      "c:\\Users\\PSID_PC_20\\anaconda3\\envs\\python39\\lib\\site-packages\\sklearn\\base.py:493: UserWarning: X does not have valid feature names, but StandardScaler was fitted with feature names\n",
      "  warnings.warn(\n"
     ]
    },
    {
     "name": "stdout",
     "output_type": "stream",
     "text": [
      "Iteration 78/100 - Test MSE: 0.0012549418777688596, R2: 0.9768392294111842\n"
     ]
    },
    {
     "name": "stderr",
     "output_type": "stream",
     "text": [
      "c:\\Users\\PSID_PC_20\\anaconda3\\envs\\python39\\lib\\site-packages\\sklearn\\base.py:493: UserWarning: X does not have valid feature names, but StandardScaler was fitted with feature names\n",
      "  warnings.warn(\n"
     ]
    },
    {
     "name": "stdout",
     "output_type": "stream",
     "text": [
      "Iteration 79/100 - Test MSE: 0.00032809751965768544, R2: 0.9939447463518699\n"
     ]
    },
    {
     "name": "stderr",
     "output_type": "stream",
     "text": [
      "c:\\Users\\PSID_PC_20\\anaconda3\\envs\\python39\\lib\\site-packages\\sklearn\\base.py:493: UserWarning: X does not have valid feature names, but StandardScaler was fitted with feature names\n",
      "  warnings.warn(\n"
     ]
    },
    {
     "name": "stdout",
     "output_type": "stream",
     "text": [
      "Iteration 80/100 - Test MSE: 0.0008632353820916542, R2: 0.9840684281854398\n"
     ]
    },
    {
     "name": "stderr",
     "output_type": "stream",
     "text": [
      "c:\\Users\\PSID_PC_20\\anaconda3\\envs\\python39\\lib\\site-packages\\sklearn\\base.py:493: UserWarning: X does not have valid feature names, but StandardScaler was fitted with feature names\n",
      "  warnings.warn(\n"
     ]
    },
    {
     "name": "stdout",
     "output_type": "stream",
     "text": [
      "Iteration 81/100 - Test MSE: 0.000569829777754557, R2: 0.9894834199168545\n"
     ]
    },
    {
     "name": "stderr",
     "output_type": "stream",
     "text": [
      "c:\\Users\\PSID_PC_20\\anaconda3\\envs\\python39\\lib\\site-packages\\sklearn\\base.py:493: UserWarning: X does not have valid feature names, but StandardScaler was fitted with feature names\n",
      "  warnings.warn(\n"
     ]
    },
    {
     "name": "stdout",
     "output_type": "stream",
     "text": [
      "Iteration 82/100 - Test MSE: 0.0005670091992359458, R2: 0.9895354755324607\n"
     ]
    },
    {
     "name": "stderr",
     "output_type": "stream",
     "text": [
      "c:\\Users\\PSID_PC_20\\anaconda3\\envs\\python39\\lib\\site-packages\\sklearn\\base.py:493: UserWarning: X does not have valid feature names, but StandardScaler was fitted with feature names\n",
      "  warnings.warn(\n"
     ]
    },
    {
     "name": "stdout",
     "output_type": "stream",
     "text": [
      "Iteration 83/100 - Test MSE: 0.0009669251631176886, R2: 0.9821547656698354\n"
     ]
    },
    {
     "name": "stderr",
     "output_type": "stream",
     "text": [
      "c:\\Users\\PSID_PC_20\\anaconda3\\envs\\python39\\lib\\site-packages\\sklearn\\base.py:493: UserWarning: X does not have valid feature names, but StandardScaler was fitted with feature names\n",
      "  warnings.warn(\n"
     ]
    },
    {
     "name": "stdout",
     "output_type": "stream",
     "text": [
      "Iteration 84/100 - Test MSE: 0.0008244651427772176, R2: 0.9847839582305695\n"
     ]
    },
    {
     "name": "stderr",
     "output_type": "stream",
     "text": [
      "c:\\Users\\PSID_PC_20\\anaconda3\\envs\\python39\\lib\\site-packages\\sklearn\\base.py:493: UserWarning: X does not have valid feature names, but StandardScaler was fitted with feature names\n",
      "  warnings.warn(\n"
     ]
    },
    {
     "name": "stdout",
     "output_type": "stream",
     "text": [
      "Iteration 85/100 - Test MSE: 0.0005739352542331603, R2: 0.9894076506716304\n"
     ]
    },
    {
     "name": "stderr",
     "output_type": "stream",
     "text": [
      "c:\\Users\\PSID_PC_20\\anaconda3\\envs\\python39\\lib\\site-packages\\sklearn\\base.py:493: UserWarning: X does not have valid feature names, but StandardScaler was fitted with feature names\n",
      "  warnings.warn(\n"
     ]
    },
    {
     "name": "stdout",
     "output_type": "stream",
     "text": [
      "Iteration 86/100 - Test MSE: 0.0007334758920668473, R2: 0.9864632241783263\n"
     ]
    },
    {
     "name": "stderr",
     "output_type": "stream",
     "text": [
      "c:\\Users\\PSID_PC_20\\anaconda3\\envs\\python39\\lib\\site-packages\\sklearn\\base.py:493: UserWarning: X does not have valid feature names, but StandardScaler was fitted with feature names\n",
      "  warnings.warn(\n"
     ]
    },
    {
     "name": "stdout",
     "output_type": "stream",
     "text": [
      "Iteration 87/100 - Test MSE: 0.000665623903280445, R2: 0.9877154768715513\n"
     ]
    },
    {
     "name": "stderr",
     "output_type": "stream",
     "text": [
      "c:\\Users\\PSID_PC_20\\anaconda3\\envs\\python39\\lib\\site-packages\\sklearn\\base.py:493: UserWarning: X does not have valid feature names, but StandardScaler was fitted with feature names\n",
      "  warnings.warn(\n"
     ]
    },
    {
     "name": "stdout",
     "output_type": "stream",
     "text": [
      "Iteration 88/100 - Test MSE: 0.0008779495099051218, R2: 0.9837968693628846\n"
     ]
    },
    {
     "name": "stderr",
     "output_type": "stream",
     "text": [
      "c:\\Users\\PSID_PC_20\\anaconda3\\envs\\python39\\lib\\site-packages\\sklearn\\base.py:493: UserWarning: X does not have valid feature names, but StandardScaler was fitted with feature names\n",
      "  warnings.warn(\n"
     ]
    },
    {
     "name": "stdout",
     "output_type": "stream",
     "text": [
      "Iteration 89/100 - Test MSE: 0.0005511960923013601, R2: 0.9898273167312416\n"
     ]
    },
    {
     "name": "stderr",
     "output_type": "stream",
     "text": [
      "c:\\Users\\PSID_PC_20\\anaconda3\\envs\\python39\\lib\\site-packages\\sklearn\\base.py:493: UserWarning: X does not have valid feature names, but StandardScaler was fitted with feature names\n",
      "  warnings.warn(\n"
     ]
    },
    {
     "name": "stdout",
     "output_type": "stream",
     "text": [
      "Iteration 90/100 - Test MSE: 0.0007137072152882316, R2: 0.9868280679976497\n"
     ]
    },
    {
     "name": "stderr",
     "output_type": "stream",
     "text": [
      "c:\\Users\\PSID_PC_20\\anaconda3\\envs\\python39\\lib\\site-packages\\sklearn\\base.py:493: UserWarning: X does not have valid feature names, but StandardScaler was fitted with feature names\n",
      "  warnings.warn(\n"
     ]
    },
    {
     "name": "stdout",
     "output_type": "stream",
     "text": [
      "Iteration 91/100 - Test MSE: 0.0008700975224367744, R2: 0.9839417829111868\n"
     ]
    },
    {
     "name": "stderr",
     "output_type": "stream",
     "text": [
      "c:\\Users\\PSID_PC_20\\anaconda3\\envs\\python39\\lib\\site-packages\\sklearn\\base.py:493: UserWarning: X does not have valid feature names, but StandardScaler was fitted with feature names\n",
      "  warnings.warn(\n"
     ]
    },
    {
     "name": "stdout",
     "output_type": "stream",
     "text": [
      "Iteration 92/100 - Test MSE: 0.0003886405120656297, R2: 0.9928273859523478\n"
     ]
    },
    {
     "name": "stderr",
     "output_type": "stream",
     "text": [
      "c:\\Users\\PSID_PC_20\\anaconda3\\envs\\python39\\lib\\site-packages\\sklearn\\base.py:493: UserWarning: X does not have valid feature names, but StandardScaler was fitted with feature names\n",
      "  warnings.warn(\n"
     ]
    },
    {
     "name": "stdout",
     "output_type": "stream",
     "text": [
      "Iteration 93/100 - Test MSE: 0.0005579890252690575, R2: 0.9897019487242629\n"
     ]
    },
    {
     "name": "stderr",
     "output_type": "stream",
     "text": [
      "c:\\Users\\PSID_PC_20\\anaconda3\\envs\\python39\\lib\\site-packages\\sklearn\\base.py:493: UserWarning: X does not have valid feature names, but StandardScaler was fitted with feature names\n",
      "  warnings.warn(\n"
     ]
    },
    {
     "name": "stdout",
     "output_type": "stream",
     "text": [
      "Iteration 94/100 - Test MSE: 0.0007625342497304521, R2: 0.9859269332413061\n"
     ]
    },
    {
     "name": "stderr",
     "output_type": "stream",
     "text": [
      "c:\\Users\\PSID_PC_20\\anaconda3\\envs\\python39\\lib\\site-packages\\sklearn\\base.py:493: UserWarning: X does not have valid feature names, but StandardScaler was fitted with feature names\n",
      "  warnings.warn(\n"
     ]
    },
    {
     "name": "stdout",
     "output_type": "stream",
     "text": [
      "Iteration 95/100 - Test MSE: 0.0007839609118669051, R2: 0.985531490221181\n"
     ]
    },
    {
     "name": "stderr",
     "output_type": "stream",
     "text": [
      "c:\\Users\\PSID_PC_20\\anaconda3\\envs\\python39\\lib\\site-packages\\sklearn\\base.py:493: UserWarning: X does not have valid feature names, but StandardScaler was fitted with feature names\n",
      "  warnings.warn(\n"
     ]
    },
    {
     "name": "stdout",
     "output_type": "stream",
     "text": [
      "Iteration 96/100 - Test MSE: 0.0011504778939762472, R2: 0.9787671803436337\n"
     ]
    },
    {
     "name": "stderr",
     "output_type": "stream",
     "text": [
      "c:\\Users\\PSID_PC_20\\anaconda3\\envs\\python39\\lib\\site-packages\\sklearn\\base.py:493: UserWarning: X does not have valid feature names, but StandardScaler was fitted with feature names\n",
      "  warnings.warn(\n"
     ]
    },
    {
     "name": "stdout",
     "output_type": "stream",
     "text": [
      "Iteration 97/100 - Test MSE: 0.0006669070377680079, R2: 0.9876917957879667\n"
     ]
    },
    {
     "name": "stderr",
     "output_type": "stream",
     "text": [
      "c:\\Users\\PSID_PC_20\\anaconda3\\envs\\python39\\lib\\site-packages\\sklearn\\base.py:493: UserWarning: X does not have valid feature names, but StandardScaler was fitted with feature names\n",
      "  warnings.warn(\n"
     ]
    },
    {
     "name": "stdout",
     "output_type": "stream",
     "text": [
      "Iteration 98/100 - Test MSE: 0.0006307900391354968, R2: 0.9883583585463722\n"
     ]
    },
    {
     "name": "stderr",
     "output_type": "stream",
     "text": [
      "c:\\Users\\PSID_PC_20\\anaconda3\\envs\\python39\\lib\\site-packages\\sklearn\\base.py:493: UserWarning: X does not have valid feature names, but StandardScaler was fitted with feature names\n",
      "  warnings.warn(\n"
     ]
    },
    {
     "name": "stdout",
     "output_type": "stream",
     "text": [
      "Iteration 99/100 - Test MSE: 0.000653007859862892, R2: 0.987948314178608\n"
     ]
    },
    {
     "name": "stderr",
     "output_type": "stream",
     "text": [
      "c:\\Users\\PSID_PC_20\\anaconda3\\envs\\python39\\lib\\site-packages\\sklearn\\base.py:493: UserWarning: X does not have valid feature names, but StandardScaler was fitted with feature names\n",
      "  warnings.warn(\n"
     ]
    },
    {
     "name": "stdout",
     "output_type": "stream",
     "text": [
      "Iteration 100/100 - Test MSE: 0.0006672700446552003, R2: 0.9876850962591796\n",
      "Performance log: [(0.0043948672362705485, 0.9188898596574582), (0.003532801785872044, 0.9347998396198142), (0.0024243527735363906, 0.9552569888622542), (0.0011302226114888144, 0.979141004788585), (0.0009334162531163232, 0.9827731944520534), (0.0007043290445403077, 0.9870011482534632), (0.0007963323116269829, 0.985303167972333), (0.0007055709797777525, 0.9869782275289021), (0.0009633355454724881, 0.9822210144039439), (0.0008185031127564246, 0.9848939913819063), (0.0007397140778664613, 0.9863480943920352), (0.0010356377534602168, 0.9808866300137714), (0.0007291366129294039, 0.986543308404061), (0.0008070123850581018, 0.9851060602536476), (0.001186269360823243, 0.9781066254865799), (0.0012940763081526498, 0.9761169779824133), (0.0010872297360825511, 0.9799344663359901), (0.001024398909154943, 0.9810940502132636), (0.0008750848280026351, 0.983849738935196), (0.0008698224770136297, 0.9839468590538033), (0.0010055384675446265, 0.9814421319603776), (0.0007021886899995521, 0.9870406498920453), (0.0009535050579558592, 0.982402442460639), (0.0008243102916248242, 0.9847868161095514), (0.001080089822489511, 0.9800662380966444), (0.0012497350457421747, 0.976935324891143), (0.0007509411382798945, 0.9861408916719502), (0.0009671945325276008, 0.9821497942817439), (0.0008703681742713445, 0.9839367878551122), (0.0009100791356160153, 0.9832038961715543), (0.0010065765232610444, 0.9814229739653084), (0.0008828080604599989, 0.9837072016445709), (0.0018387822863948147, 0.9660640740002363), (0.0009245404490686238, 0.9829370032028661), (0.0012390029853880692, 0.9771333920623881), (0.0010171782980895531, 0.9812273112983856), (0.0007875690072555074, 0.9854649004682702), (0.0007974278766216527, 0.985282948606037), (0.0011554362594969525, 0.9786756704750454), (0.0006565413194386105, 0.9878831018782873), (0.0009148569172062822, 0.9831157190971448), (0.0007522252902887347, 0.9861171918093472), (0.0009214415026379801, 0.9829941962797876), (0.0006665098835711787, 0.9876991255276177), (0.0009504487481745539, 0.9824588486503975), (0.0008385131888069056, 0.9845246923816259), (0.0008735531911837706, 0.9838780062913306), (0.0006494259902803113, 0.9880144199171691), (0.0006173031244014242, 0.9886072683513921), (0.0009229254257734973, 0.982966809510789), (0.0007774921222415466, 0.9856508759514322), (0.0009664036360272567, 0.9821643907923302), (0.0007710023284220235, 0.9857706493277816), (0.0006537481483485147, 0.9879346516719304), (0.0007503398217182295, 0.9861519893611601), (0.0008181871998749395, 0.9848998217601124), (0.0014905646814287758, 0.9724906569412278), (0.0005021731339242165, 0.9907320673915484), (0.000771731707636021, 0.9857571881588247), (0.0010273641099106435, 0.9810393254999767), (0.0006986012277834947, 0.9871068588463037), (0.0012885964426395738, 0.976218112473384), (0.0006075546750738139, 0.9887871823398192), (0.0005266008114036695, 0.9902812386765764), (0.0007087871935615034, 0.9869188702065195), (0.0007269111434637495, 0.9865843808940779), (0.0008762801575580094, 0.9838276783488848), (0.0007518787427884708, 0.986123587569417), (0.0006942090957627341, 0.9871879185064606), (0.0009386402695886101, 0.9826767818219465), (0.0004587368343500525, 0.9915337126210891), (0.000852032821100126, 0.9842751787527197), (0.0005241228215451902, 0.9903269715950886), (0.0006189647340813191, 0.9885766022613637), (0.0006208900484452185, 0.9885410693294537), (0.000840564170764244, 0.9844868401723426), (0.0006554811301147176, 0.9879026683635137), (0.0004670174113028692, 0.9913808891744064), (0.0012549418777688596, 0.9768392294111842), (0.00032809751965768544, 0.9939447463518699), (0.0008632353820916542, 0.9840684281854398), (0.000569829777754557, 0.9894834199168545), (0.0005670091992359458, 0.9895354755324607), (0.0009669251631176886, 0.9821547656698354), (0.0008244651427772176, 0.9847839582305695), (0.0005739352542331603, 0.9894076506716304), (0.0007334758920668473, 0.9864632241783263), (0.000665623903280445, 0.9877154768715513), (0.0008779495099051218, 0.9837968693628846), (0.0005511960923013601, 0.9898273167312416), (0.0007137072152882316, 0.9868280679976497), (0.0008700975224367744, 0.9839417829111868), (0.0003886405120656297, 0.9928273859523478), (0.0005579890252690575, 0.9897019487242629), (0.0007625342497304521, 0.9859269332413061), (0.0007839609118669051, 0.985531490221181), (0.0011504778939762472, 0.9787671803436337), (0.0006669070377680079, 0.9876917957879667), (0.0006307900391354968, 0.9883583585463722), (0.000653007859862892, 0.987948314178608), (0.0006672700446552003, 0.9876850962591796)]\n"
     ]
    }
   ],
   "source": [
    "import os\n",
    "os.environ[\"KMP_DUPLICATE_LIB_OK\"] = \"TRUE\"\n",
    "import torch\n",
    "import torch.nn as nn\n",
    "import torch.optim as optim\n",
    "from torch.utils.data import DataLoader, TensorDataset\n",
    "import numpy as np\n",
    "import pandas as pd\n",
    "from sklearn.metrics import mean_squared_error, r2_score\n",
    "from sklearn.model_selection import train_test_split\n",
    "from sklearn.preprocessing import StandardScaler\n",
    "\n",
    "# PyTorch 모델 정의\n",
    "class DropoutMLP(nn.Module):\n",
    "    def __init__(self, input_dim, hidden_dim):\n",
    "        super(DropoutMLP, self).__init__()\n",
    "        self.model = nn.Sequential(\n",
    "            nn.Linear(input_dim, hidden_dim),\n",
    "            nn.ReLU(),\n",
    "            nn.Dropout(p=0.2),  # 드롭아웃 적용\n",
    "            nn.Linear(hidden_dim, hidden_dim),\n",
    "            nn.ReLU(),\n",
    "            nn.Dropout(p=0.2),  # 드롭아웃 적용\n",
    "            nn.Linear(hidden_dim, 1)\n",
    "        )\n",
    "    \n",
    "    def forward(self, x):\n",
    "        return self.model(x)\n",
    "\n",
    "# Monte Carlo Dropout 예측 함수\n",
    "def mc_dropout_predict(model, X, n_simulations):\n",
    "    model.train()  # 드롭아웃 활성화를 위해 train 모드 유지\n",
    "    predictions = []\n",
    "    with torch.no_grad():  # 가중치 업데이트 방지\n",
    "        for _ in range(n_simulations):\n",
    "            predictions.append(model(X).detach().numpy())\n",
    "    \n",
    "    predictions = np.array(predictions)\n",
    "    mean_prediction = predictions.mean(axis=0)\n",
    "    uncertainty = predictions.std(axis=0)\n",
    "    return mean_prediction, uncertainty\n",
    "\n",
    "# 데이터 준비\n",
    "data = pd.read_csv(\"../[01]Data/CoREMOF_O2_1.0_5760.csv\").reset_index(drop=True).drop(\"Unnamed: 0\", axis=1)\n",
    "data = data[['Adsorbent', 'LCD', 'PLD', 'LFPD', 'cm3_g', 'ASA_m2_cm3', 'ASA_m2_g',\n",
    "              'AV_VF', 'AV_cm3_g',  'Has_OMS',\n",
    "             '0.5bar_GCMC', 'Uptake']]\n",
    "# 'NASA_m2_cm3', 'NASA_m2_g', 'NAV_cm3_g' 제거\n",
    "\n",
    "X = data.drop(['Adsorbent', 'Uptake'], axis=1)\n",
    "y = data['Uptake']\n",
    "\n",
    "# Train-Test Split\n",
    "X_train, X_test, y_train, y_test = train_test_split(X, y, test_size=0.2, random_state=42)\n",
    "\n",
    "\n",
    "# Train 데이터를 Initial (5%)와 Remaining (95%)으로 랜덤 분리\n",
    "initial_size = int(0.05 * len(X_train))\n",
    "indices = np.random.permutation(len(X_train))  # 데이터셋 인덱스를 랜덤으로 섞음\n",
    "initial_indices = indices[:initial_size]  # 상위 5% 인덱스 선택\n",
    "remaining_indices = indices[initial_size:]  # 나머지 인덱스 선택\n",
    "\n",
    "X_initial = X_train.iloc[initial_indices]\n",
    "y_initial = y_train.iloc[initial_indices]\n",
    "X_remaining = pd.DataFrame(X_train.iloc[remaining_indices], columns=X_train.columns)\n",
    "y_remaining = y_train.iloc[remaining_indices]\n",
    "def create_dataloader(X, y, batch_size=32, shuffle=True):\n",
    "    # y를 numpy 배열로 변환 (필요 시)\n",
    "    if isinstance(y, pd.Series):\n",
    "        y = y.to_numpy()\n",
    "    dataset = TensorDataset(torch.tensor(X, dtype=torch.float32), torch.tensor(y, dtype=torch.float32))\n",
    "    return DataLoader(dataset, batch_size=batch_size, shuffle=shuffle)\n",
    "\n",
    "input_dim = X_train.shape[1]\n",
    "hidden_dim = 64\n",
    "# StandardScaler를 초기 데이터에 대해 피팅\n",
    "scaler = StandardScaler()\n",
    "X_initial_scaled = scaler.fit_transform(X_initial)\n",
    "X_test_scaled = scaler.transform(X_test)\n",
    "\n",
    "# 남은 데이터를 그대로 둠 (추후 transform 적용)\n",
    "X_remaining = pd.DataFrame(X_train.iloc[remaining_indices], columns=X_train.columns)\n",
    "y_remaining = y_train.iloc[remaining_indices].to_numpy()\n",
    "\n",
    "# 초기 데이터 로더 생성\n",
    "train_loader = create_dataloader(X_initial_scaled, y_initial)\n",
    "test_loader = create_dataloader(X_test_scaled, y_test.to_numpy(), shuffle=False)\n",
    "\n",
    "# 모델 초기화\n",
    "model = DropoutMLP(input_dim, hidden_dim)\n",
    "criterion = nn.MSELoss()\n",
    "optimizer = optim.Adam(model.parameters(), lr=0.001)\n",
    "\n",
    "# 초기 학습\n",
    "epochs = 50\n",
    "for epoch in range(epochs):\n",
    "    model.train()\n",
    "    for X_batch, y_batch in train_loader:\n",
    "        optimizer.zero_grad()\n",
    "        predictions = model(X_batch).squeeze()\n",
    "        loss = criterion(predictions, y_batch)\n",
    "        loss.backward()\n",
    "        optimizer.step()\n",
    "\n",
    "# 액티브 러닝 설정\n",
    "iterations = 100\n",
    "samples_per_iteration = 10\n",
    "performance_log = []\n",
    "\n",
    "# 초기 성능 평가\n",
    "X_test_tensor = torch.tensor(X_test_scaled, dtype=torch.float32)\n",
    "mean_prediction, _ = mc_dropout_predict(model, X_test_tensor, n_simulations=20)\n",
    "mse = mean_squared_error(y_test, mean_prediction)\n",
    "r2 = r2_score(y_test, mean_prediction)\n",
    "performance_log.append((mse, r2))\n",
    "print(f\"Initial Test MSE: {mse}, R2: {r2}\")\n",
    "\n",
    "# 반복 학습\n",
    "for iteration in range(iterations):\n",
    "    # Monte Carlo Dropout 예측\n",
    "    _, uncertainties = mc_dropout_predict(model, torch.tensor(scaler.transform(X_remaining), dtype=torch.float32), n_simulations=20)\n",
    "    uncertainties = uncertainties.flatten()\n",
    "\n",
    "    # 가장 불확실성이 높은 샘플 선택\n",
    "    most_uncertain_indices = np.argsort(uncertainties)[-samples_per_iteration:]\n",
    "    sampled_X = X_remaining.iloc[most_uncertain_indices].values\n",
    "    sampled_y = y_remaining[most_uncertain_indices]\n",
    "\n",
    "    # 선택된 샘플 추가\n",
    "    X_initial = np.vstack([X_initial, sampled_X])\n",
    "    y_initial = np.hstack([y_initial, sampled_y])\n",
    "\n",
    "    # 남은 데이터에서 샘플 제거\n",
    "    X_remaining = X_remaining.drop(X_remaining.index[most_uncertain_indices]).reset_index(drop=True)\n",
    "    y_remaining = np.delete(y_remaining, most_uncertain_indices, axis=0)\n",
    "\n",
    "    # 새 데이터 스케일링 및 로더 생성\n",
    "    X_initial_scaled = scaler.transform(X_initial)\n",
    "    train_loader = create_dataloader(X_initial_scaled, y_initial)\n",
    "\n",
    "    # 모델 학습\n",
    "    for epoch in range(epochs):\n",
    "        model.train()\n",
    "        for X_batch, y_batch in train_loader:\n",
    "            optimizer.zero_grad()\n",
    "            predictions = model(X_batch).squeeze()\n",
    "            loss = criterion(predictions, y_batch)\n",
    "            loss.backward()\n",
    "            optimizer.step()\n",
    "\n",
    "    # Test 성능 평가\n",
    "    mean_prediction, _ = mc_dropout_predict(model, X_test_tensor, n_simulations=20)\n",
    "    mse = mean_squared_error(y_test, mean_prediction)\n",
    "    r2 = r2_score(y_test, mean_prediction)\n",
    "    performance_log.append((mse, r2))\n",
    "    print(f\"Iteration {iteration + 1}/{iterations} - Test MSE: {mse}, R2: {r2}\")\n",
    "\n",
    "# 최종 성능 기록\n",
    "print(\"Performance log:\", performance_log)\n",
    "first_log = performance_log\n"
   ]
  },
  {
   "cell_type": "markdown",
   "metadata": {},
   "source": [
    "## 랜덤하게 샘플링해서 추가"
   ]
  },
  {
   "cell_type": "code",
   "execution_count": 7,
   "metadata": {},
   "outputs": [
    {
     "name": "stdout",
     "output_type": "stream",
     "text": [
      "Initial Test MSE: 0.008600090682369381, R2: 0.8412797191121735\n"
     ]
    },
    {
     "name": "stderr",
     "output_type": "stream",
     "text": [
      "c:\\Users\\PSID_PC_20\\anaconda3\\envs\\python39\\lib\\site-packages\\sklearn\\base.py:493: UserWarning: X does not have valid feature names, but StandardScaler was fitted with feature names\n",
      "  warnings.warn(\n"
     ]
    },
    {
     "name": "stdout",
     "output_type": "stream",
     "text": [
      "Iteration 1/100 - Test MSE: 0.004697864732747438, R2: 0.9132978433025944\n"
     ]
    },
    {
     "name": "stderr",
     "output_type": "stream",
     "text": [
      "c:\\Users\\PSID_PC_20\\anaconda3\\envs\\python39\\lib\\site-packages\\sklearn\\base.py:493: UserWarning: X does not have valid feature names, but StandardScaler was fitted with feature names\n",
      "  warnings.warn(\n"
     ]
    },
    {
     "name": "stdout",
     "output_type": "stream",
     "text": [
      "Iteration 2/100 - Test MSE: 0.003087368958073112, R2: 0.9430205928834794\n"
     ]
    },
    {
     "name": "stderr",
     "output_type": "stream",
     "text": [
      "c:\\Users\\PSID_PC_20\\anaconda3\\envs\\python39\\lib\\site-packages\\sklearn\\base.py:493: UserWarning: X does not have valid feature names, but StandardScaler was fitted with feature names\n",
      "  warnings.warn(\n"
     ]
    },
    {
     "name": "stdout",
     "output_type": "stream",
     "text": [
      "Iteration 3/100 - Test MSE: 0.002023969861346189, R2: 0.9626463165603671\n"
     ]
    },
    {
     "name": "stderr",
     "output_type": "stream",
     "text": [
      "c:\\Users\\PSID_PC_20\\anaconda3\\envs\\python39\\lib\\site-packages\\sklearn\\base.py:493: UserWarning: X does not have valid feature names, but StandardScaler was fitted with feature names\n",
      "  warnings.warn(\n"
     ]
    },
    {
     "name": "stdout",
     "output_type": "stream",
     "text": [
      "Iteration 4/100 - Test MSE: 0.002104367325180649, R2: 0.9611625289453557\n"
     ]
    },
    {
     "name": "stderr",
     "output_type": "stream",
     "text": [
      "c:\\Users\\PSID_PC_20\\anaconda3\\envs\\python39\\lib\\site-packages\\sklearn\\base.py:493: UserWarning: X does not have valid feature names, but StandardScaler was fitted with feature names\n",
      "  warnings.warn(\n"
     ]
    },
    {
     "name": "stdout",
     "output_type": "stream",
     "text": [
      "Iteration 5/100 - Test MSE: 0.003196440852458628, R2: 0.9410075999566342\n"
     ]
    },
    {
     "name": "stderr",
     "output_type": "stream",
     "text": [
      "c:\\Users\\PSID_PC_20\\anaconda3\\envs\\python39\\lib\\site-packages\\sklearn\\base.py:493: UserWarning: X does not have valid feature names, but StandardScaler was fitted with feature names\n",
      "  warnings.warn(\n"
     ]
    },
    {
     "name": "stdout",
     "output_type": "stream",
     "text": [
      "Iteration 6/100 - Test MSE: 0.002964316693802769, R2: 0.9452916026518893\n"
     ]
    },
    {
     "name": "stderr",
     "output_type": "stream",
     "text": [
      "c:\\Users\\PSID_PC_20\\anaconda3\\envs\\python39\\lib\\site-packages\\sklearn\\base.py:493: UserWarning: X does not have valid feature names, but StandardScaler was fitted with feature names\n",
      "  warnings.warn(\n"
     ]
    },
    {
     "name": "stdout",
     "output_type": "stream",
     "text": [
      "Iteration 7/100 - Test MSE: 0.0029827698960172167, R2: 0.9449510367733502\n"
     ]
    },
    {
     "name": "stderr",
     "output_type": "stream",
     "text": [
      "c:\\Users\\PSID_PC_20\\anaconda3\\envs\\python39\\lib\\site-packages\\sklearn\\base.py:493: UserWarning: X does not have valid feature names, but StandardScaler was fitted with feature names\n",
      "  warnings.warn(\n"
     ]
    },
    {
     "name": "stdout",
     "output_type": "stream",
     "text": [
      "Iteration 8/100 - Test MSE: 0.0028852178319286326, R2: 0.9467514237210215\n"
     ]
    },
    {
     "name": "stderr",
     "output_type": "stream",
     "text": [
      "c:\\Users\\PSID_PC_20\\anaconda3\\envs\\python39\\lib\\site-packages\\sklearn\\base.py:493: UserWarning: X does not have valid feature names, but StandardScaler was fitted with feature names\n",
      "  warnings.warn(\n"
     ]
    },
    {
     "name": "stdout",
     "output_type": "stream",
     "text": [
      "Iteration 9/100 - Test MSE: 0.00211791180625744, R2: 0.9609125567159471\n"
     ]
    },
    {
     "name": "stderr",
     "output_type": "stream",
     "text": [
      "c:\\Users\\PSID_PC_20\\anaconda3\\envs\\python39\\lib\\site-packages\\sklearn\\base.py:493: UserWarning: X does not have valid feature names, but StandardScaler was fitted with feature names\n",
      "  warnings.warn(\n"
     ]
    },
    {
     "name": "stdout",
     "output_type": "stream",
     "text": [
      "Iteration 10/100 - Test MSE: 0.0030617394732665483, R2: 0.9434936017362636\n"
     ]
    },
    {
     "name": "stderr",
     "output_type": "stream",
     "text": [
      "c:\\Users\\PSID_PC_20\\anaconda3\\envs\\python39\\lib\\site-packages\\sklearn\\base.py:493: UserWarning: X does not have valid feature names, but StandardScaler was fitted with feature names\n",
      "  warnings.warn(\n"
     ]
    },
    {
     "name": "stdout",
     "output_type": "stream",
     "text": [
      "Iteration 11/100 - Test MSE: 0.0024739544886805656, R2: 0.9543415568684566\n"
     ]
    },
    {
     "name": "stderr",
     "output_type": "stream",
     "text": [
      "c:\\Users\\PSID_PC_20\\anaconda3\\envs\\python39\\lib\\site-packages\\sklearn\\base.py:493: UserWarning: X does not have valid feature names, but StandardScaler was fitted with feature names\n",
      "  warnings.warn(\n"
     ]
    },
    {
     "name": "stdout",
     "output_type": "stream",
     "text": [
      "Iteration 12/100 - Test MSE: 0.003253567907856596, R2: 0.9399532829018562\n"
     ]
    },
    {
     "name": "stderr",
     "output_type": "stream",
     "text": [
      "c:\\Users\\PSID_PC_20\\anaconda3\\envs\\python39\\lib\\site-packages\\sklearn\\base.py:493: UserWarning: X does not have valid feature names, but StandardScaler was fitted with feature names\n",
      "  warnings.warn(\n"
     ]
    },
    {
     "name": "stdout",
     "output_type": "stream",
     "text": [
      "Iteration 13/100 - Test MSE: 0.003489399342445949, R2: 0.9356008600120677\n"
     ]
    },
    {
     "name": "stderr",
     "output_type": "stream",
     "text": [
      "c:\\Users\\PSID_PC_20\\anaconda3\\envs\\python39\\lib\\site-packages\\sklearn\\base.py:493: UserWarning: X does not have valid feature names, but StandardScaler was fitted with feature names\n",
      "  warnings.warn(\n"
     ]
    },
    {
     "name": "stdout",
     "output_type": "stream",
     "text": [
      "Iteration 14/100 - Test MSE: 0.0017582191079622957, R2: 0.9675509199862024\n"
     ]
    },
    {
     "name": "stderr",
     "output_type": "stream",
     "text": [
      "c:\\Users\\PSID_PC_20\\anaconda3\\envs\\python39\\lib\\site-packages\\sklearn\\base.py:493: UserWarning: X does not have valid feature names, but StandardScaler was fitted with feature names\n",
      "  warnings.warn(\n"
     ]
    },
    {
     "name": "stdout",
     "output_type": "stream",
     "text": [
      "Iteration 15/100 - Test MSE: 0.0029285086056303287, R2: 0.9459524642663415\n"
     ]
    },
    {
     "name": "stderr",
     "output_type": "stream",
     "text": [
      "c:\\Users\\PSID_PC_20\\anaconda3\\envs\\python39\\lib\\site-packages\\sklearn\\base.py:493: UserWarning: X does not have valid feature names, but StandardScaler was fitted with feature names\n",
      "  warnings.warn(\n"
     ]
    },
    {
     "name": "stdout",
     "output_type": "stream",
     "text": [
      "Iteration 16/100 - Test MSE: 0.0030864935808773506, R2: 0.9430367485403818\n"
     ]
    },
    {
     "name": "stderr",
     "output_type": "stream",
     "text": [
      "c:\\Users\\PSID_PC_20\\anaconda3\\envs\\python39\\lib\\site-packages\\sklearn\\base.py:493: UserWarning: X does not have valid feature names, but StandardScaler was fitted with feature names\n",
      "  warnings.warn(\n"
     ]
    },
    {
     "name": "stdout",
     "output_type": "stream",
     "text": [
      "Iteration 17/100 - Test MSE: 0.002321654937534797, R2: 0.9571523443856745\n"
     ]
    },
    {
     "name": "stderr",
     "output_type": "stream",
     "text": [
      "c:\\Users\\PSID_PC_20\\anaconda3\\envs\\python39\\lib\\site-packages\\sklearn\\base.py:493: UserWarning: X does not have valid feature names, but StandardScaler was fitted with feature names\n",
      "  warnings.warn(\n"
     ]
    },
    {
     "name": "stdout",
     "output_type": "stream",
     "text": [
      "Iteration 18/100 - Test MSE: 0.002977633494669014, R2: 0.945045832409216\n"
     ]
    },
    {
     "name": "stderr",
     "output_type": "stream",
     "text": [
      "c:\\Users\\PSID_PC_20\\anaconda3\\envs\\python39\\lib\\site-packages\\sklearn\\base.py:493: UserWarning: X does not have valid feature names, but StandardScaler was fitted with feature names\n",
      "  warnings.warn(\n"
     ]
    },
    {
     "name": "stdout",
     "output_type": "stream",
     "text": [
      "Iteration 19/100 - Test MSE: 0.00258756838071023, R2: 0.9522447384136611\n"
     ]
    },
    {
     "name": "stderr",
     "output_type": "stream",
     "text": [
      "c:\\Users\\PSID_PC_20\\anaconda3\\envs\\python39\\lib\\site-packages\\sklearn\\base.py:493: UserWarning: X does not have valid feature names, but StandardScaler was fitted with feature names\n",
      "  warnings.warn(\n"
     ]
    },
    {
     "name": "stdout",
     "output_type": "stream",
     "text": [
      "Iteration 20/100 - Test MSE: 0.00623341401927332, R2: 0.8849582800263451\n"
     ]
    },
    {
     "name": "stderr",
     "output_type": "stream",
     "text": [
      "c:\\Users\\PSID_PC_20\\anaconda3\\envs\\python39\\lib\\site-packages\\sklearn\\base.py:493: UserWarning: X does not have valid feature names, but StandardScaler was fitted with feature names\n",
      "  warnings.warn(\n"
     ]
    },
    {
     "name": "stdout",
     "output_type": "stream",
     "text": [
      "Iteration 21/100 - Test MSE: 0.0037487188159671956, R2: 0.930814950049356\n"
     ]
    },
    {
     "name": "stderr",
     "output_type": "stream",
     "text": [
      "c:\\Users\\PSID_PC_20\\anaconda3\\envs\\python39\\lib\\site-packages\\sklearn\\base.py:493: UserWarning: X does not have valid feature names, but StandardScaler was fitted with feature names\n",
      "  warnings.warn(\n"
     ]
    },
    {
     "name": "stdout",
     "output_type": "stream",
     "text": [
      "Iteration 22/100 - Test MSE: 0.003394011282472778, R2: 0.9373613088528369\n"
     ]
    },
    {
     "name": "stderr",
     "output_type": "stream",
     "text": [
      "c:\\Users\\PSID_PC_20\\anaconda3\\envs\\python39\\lib\\site-packages\\sklearn\\base.py:493: UserWarning: X does not have valid feature names, but StandardScaler was fitted with feature names\n",
      "  warnings.warn(\n"
     ]
    },
    {
     "name": "stdout",
     "output_type": "stream",
     "text": [
      "Iteration 23/100 - Test MSE: 0.0022663787320503707, R2: 0.9581725027985256\n"
     ]
    },
    {
     "name": "stderr",
     "output_type": "stream",
     "text": [
      "c:\\Users\\PSID_PC_20\\anaconda3\\envs\\python39\\lib\\site-packages\\sklearn\\base.py:493: UserWarning: X does not have valid feature names, but StandardScaler was fitted with feature names\n",
      "  warnings.warn(\n"
     ]
    },
    {
     "name": "stdout",
     "output_type": "stream",
     "text": [
      "Iteration 24/100 - Test MSE: 0.002369752688814252, R2: 0.9562646690255998\n"
     ]
    },
    {
     "name": "stderr",
     "output_type": "stream",
     "text": [
      "c:\\Users\\PSID_PC_20\\anaconda3\\envs\\python39\\lib\\site-packages\\sklearn\\base.py:493: UserWarning: X does not have valid feature names, but StandardScaler was fitted with feature names\n",
      "  warnings.warn(\n"
     ]
    },
    {
     "name": "stdout",
     "output_type": "stream",
     "text": [
      "Iteration 25/100 - Test MSE: 0.002291687104954686, R2: 0.9577054202752655\n"
     ]
    },
    {
     "name": "stderr",
     "output_type": "stream",
     "text": [
      "c:\\Users\\PSID_PC_20\\anaconda3\\envs\\python39\\lib\\site-packages\\sklearn\\base.py:493: UserWarning: X does not have valid feature names, but StandardScaler was fitted with feature names\n",
      "  warnings.warn(\n"
     ]
    },
    {
     "name": "stdout",
     "output_type": "stream",
     "text": [
      "Iteration 26/100 - Test MSE: 0.0023596497341437316, R2: 0.9564511256412712\n"
     ]
    },
    {
     "name": "stderr",
     "output_type": "stream",
     "text": [
      "c:\\Users\\PSID_PC_20\\anaconda3\\envs\\python39\\lib\\site-packages\\sklearn\\base.py:493: UserWarning: X does not have valid feature names, but StandardScaler was fitted with feature names\n",
      "  warnings.warn(\n"
     ]
    },
    {
     "name": "stdout",
     "output_type": "stream",
     "text": [
      "Iteration 27/100 - Test MSE: 0.006643839524014335, R2: 0.8773836097348366\n"
     ]
    },
    {
     "name": "stderr",
     "output_type": "stream",
     "text": [
      "c:\\Users\\PSID_PC_20\\anaconda3\\envs\\python39\\lib\\site-packages\\sklearn\\base.py:493: UserWarning: X does not have valid feature names, but StandardScaler was fitted with feature names\n",
      "  warnings.warn(\n"
     ]
    },
    {
     "name": "stdout",
     "output_type": "stream",
     "text": [
      "Iteration 28/100 - Test MSE: 0.003113272660333991, R2: 0.9425425231687833\n"
     ]
    },
    {
     "name": "stderr",
     "output_type": "stream",
     "text": [
      "c:\\Users\\PSID_PC_20\\anaconda3\\envs\\python39\\lib\\site-packages\\sklearn\\base.py:493: UserWarning: X does not have valid feature names, but StandardScaler was fitted with feature names\n",
      "  warnings.warn(\n"
     ]
    },
    {
     "name": "stdout",
     "output_type": "stream",
     "text": [
      "Iteration 29/100 - Test MSE: 0.0024512276195920745, R2: 0.9547609960556295\n"
     ]
    },
    {
     "name": "stderr",
     "output_type": "stream",
     "text": [
      "c:\\Users\\PSID_PC_20\\anaconda3\\envs\\python39\\lib\\site-packages\\sklearn\\base.py:493: UserWarning: X does not have valid feature names, but StandardScaler was fitted with feature names\n",
      "  warnings.warn(\n"
     ]
    },
    {
     "name": "stdout",
     "output_type": "stream",
     "text": [
      "Iteration 30/100 - Test MSE: 0.005603814843879836, R2: 0.896577943313159\n"
     ]
    },
    {
     "name": "stderr",
     "output_type": "stream",
     "text": [
      "c:\\Users\\PSID_PC_20\\anaconda3\\envs\\python39\\lib\\site-packages\\sklearn\\base.py:493: UserWarning: X does not have valid feature names, but StandardScaler was fitted with feature names\n",
      "  warnings.warn(\n"
     ]
    },
    {
     "name": "stdout",
     "output_type": "stream",
     "text": [
      "Iteration 31/100 - Test MSE: 0.001820207530146759, R2: 0.9664068832377201\n"
     ]
    },
    {
     "name": "stderr",
     "output_type": "stream",
     "text": [
      "c:\\Users\\PSID_PC_20\\anaconda3\\envs\\python39\\lib\\site-packages\\sklearn\\base.py:493: UserWarning: X does not have valid feature names, but StandardScaler was fitted with feature names\n",
      "  warnings.warn(\n"
     ]
    },
    {
     "name": "stdout",
     "output_type": "stream",
     "text": [
      "Iteration 32/100 - Test MSE: 0.001455990134807363, R2: 0.9731287527420744\n"
     ]
    },
    {
     "name": "stderr",
     "output_type": "stream",
     "text": [
      "c:\\Users\\PSID_PC_20\\anaconda3\\envs\\python39\\lib\\site-packages\\sklearn\\base.py:493: UserWarning: X does not have valid feature names, but StandardScaler was fitted with feature names\n",
      "  warnings.warn(\n"
     ]
    },
    {
     "name": "stdout",
     "output_type": "stream",
     "text": [
      "Iteration 33/100 - Test MSE: 0.002668037763157763, R2: 0.9507596234937538\n"
     ]
    },
    {
     "name": "stderr",
     "output_type": "stream",
     "text": [
      "c:\\Users\\PSID_PC_20\\anaconda3\\envs\\python39\\lib\\site-packages\\sklearn\\base.py:493: UserWarning: X does not have valid feature names, but StandardScaler was fitted with feature names\n",
      "  warnings.warn(\n"
     ]
    },
    {
     "name": "stdout",
     "output_type": "stream",
     "text": [
      "Iteration 34/100 - Test MSE: 0.0014877306551981306, R2: 0.9725429607431277\n"
     ]
    },
    {
     "name": "stderr",
     "output_type": "stream",
     "text": [
      "c:\\Users\\PSID_PC_20\\anaconda3\\envs\\python39\\lib\\site-packages\\sklearn\\base.py:493: UserWarning: X does not have valid feature names, but StandardScaler was fitted with feature names\n",
      "  warnings.warn(\n"
     ]
    },
    {
     "name": "stdout",
     "output_type": "stream",
     "text": [
      "Iteration 35/100 - Test MSE: 0.0037682647516005066, R2: 0.9304542170630987\n"
     ]
    },
    {
     "name": "stderr",
     "output_type": "stream",
     "text": [
      "c:\\Users\\PSID_PC_20\\anaconda3\\envs\\python39\\lib\\site-packages\\sklearn\\base.py:493: UserWarning: X does not have valid feature names, but StandardScaler was fitted with feature names\n",
      "  warnings.warn(\n"
     ]
    },
    {
     "name": "stdout",
     "output_type": "stream",
     "text": [
      "Iteration 36/100 - Test MSE: 0.004742638311412775, R2: 0.9124715177155068\n"
     ]
    },
    {
     "name": "stderr",
     "output_type": "stream",
     "text": [
      "c:\\Users\\PSID_PC_20\\anaconda3\\envs\\python39\\lib\\site-packages\\sklearn\\base.py:493: UserWarning: X does not have valid feature names, but StandardScaler was fitted with feature names\n",
      "  warnings.warn(\n"
     ]
    },
    {
     "name": "stdout",
     "output_type": "stream",
     "text": [
      "Iteration 37/100 - Test MSE: 0.0012515199944109611, R2: 0.9769023824996562\n"
     ]
    },
    {
     "name": "stderr",
     "output_type": "stream",
     "text": [
      "c:\\Users\\PSID_PC_20\\anaconda3\\envs\\python39\\lib\\site-packages\\sklearn\\base.py:493: UserWarning: X does not have valid feature names, but StandardScaler was fitted with feature names\n",
      "  warnings.warn(\n"
     ]
    },
    {
     "name": "stdout",
     "output_type": "stream",
     "text": [
      "Iteration 38/100 - Test MSE: 0.0011738024043389886, R2: 0.9783367112970764\n"
     ]
    },
    {
     "name": "stderr",
     "output_type": "stream",
     "text": [
      "c:\\Users\\PSID_PC_20\\anaconda3\\envs\\python39\\lib\\site-packages\\sklearn\\base.py:493: UserWarning: X does not have valid feature names, but StandardScaler was fitted with feature names\n",
      "  warnings.warn(\n"
     ]
    },
    {
     "name": "stdout",
     "output_type": "stream",
     "text": [
      "Iteration 39/100 - Test MSE: 0.005022205389468643, R2: 0.9073119250094691\n"
     ]
    },
    {
     "name": "stderr",
     "output_type": "stream",
     "text": [
      "c:\\Users\\PSID_PC_20\\anaconda3\\envs\\python39\\lib\\site-packages\\sklearn\\base.py:493: UserWarning: X does not have valid feature names, but StandardScaler was fitted with feature names\n",
      "  warnings.warn(\n"
     ]
    },
    {
     "name": "stdout",
     "output_type": "stream",
     "text": [
      "Iteration 40/100 - Test MSE: 0.002798002224042138, R2: 0.9483610446300109\n"
     ]
    },
    {
     "name": "stderr",
     "output_type": "stream",
     "text": [
      "c:\\Users\\PSID_PC_20\\anaconda3\\envs\\python39\\lib\\site-packages\\sklearn\\base.py:493: UserWarning: X does not have valid feature names, but StandardScaler was fitted with feature names\n",
      "  warnings.warn(\n"
     ]
    },
    {
     "name": "stdout",
     "output_type": "stream",
     "text": [
      "Iteration 41/100 - Test MSE: 0.007983548192816166, R2: 0.8526584127487161\n"
     ]
    },
    {
     "name": "stderr",
     "output_type": "stream",
     "text": [
      "c:\\Users\\PSID_PC_20\\anaconda3\\envs\\python39\\lib\\site-packages\\sklearn\\base.py:493: UserWarning: X does not have valid feature names, but StandardScaler was fitted with feature names\n",
      "  warnings.warn(\n"
     ]
    },
    {
     "name": "stdout",
     "output_type": "stream",
     "text": [
      "Iteration 42/100 - Test MSE: 0.0014886701128854981, R2: 0.9725256224389716\n"
     ]
    },
    {
     "name": "stderr",
     "output_type": "stream",
     "text": [
      "c:\\Users\\PSID_PC_20\\anaconda3\\envs\\python39\\lib\\site-packages\\sklearn\\base.py:493: UserWarning: X does not have valid feature names, but StandardScaler was fitted with feature names\n",
      "  warnings.warn(\n"
     ]
    },
    {
     "name": "stdout",
     "output_type": "stream",
     "text": [
      "Iteration 43/100 - Test MSE: 0.0013842908872084877, R2: 0.9744520091051346\n"
     ]
    },
    {
     "name": "stderr",
     "output_type": "stream",
     "text": [
      "c:\\Users\\PSID_PC_20\\anaconda3\\envs\\python39\\lib\\site-packages\\sklearn\\base.py:493: UserWarning: X does not have valid feature names, but StandardScaler was fitted with feature names\n",
      "  warnings.warn(\n"
     ]
    },
    {
     "name": "stdout",
     "output_type": "stream",
     "text": [
      "Iteration 44/100 - Test MSE: 0.0010891323429176904, R2: 0.9798993524863291\n"
     ]
    },
    {
     "name": "stderr",
     "output_type": "stream",
     "text": [
      "c:\\Users\\PSID_PC_20\\anaconda3\\envs\\python39\\lib\\site-packages\\sklearn\\base.py:493: UserWarning: X does not have valid feature names, but StandardScaler was fitted with feature names\n",
      "  warnings.warn(\n"
     ]
    },
    {
     "name": "stdout",
     "output_type": "stream",
     "text": [
      "Iteration 45/100 - Test MSE: 0.0032881057411909003, R2: 0.9393158646686606\n"
     ]
    },
    {
     "name": "stderr",
     "output_type": "stream",
     "text": [
      "c:\\Users\\PSID_PC_20\\anaconda3\\envs\\python39\\lib\\site-packages\\sklearn\\base.py:493: UserWarning: X does not have valid feature names, but StandardScaler was fitted with feature names\n",
      "  warnings.warn(\n"
     ]
    },
    {
     "name": "stdout",
     "output_type": "stream",
     "text": [
      "Iteration 46/100 - Test MSE: 0.003986503741905326, R2: 0.92642647420303\n"
     ]
    },
    {
     "name": "stderr",
     "output_type": "stream",
     "text": [
      "c:\\Users\\PSID_PC_20\\anaconda3\\envs\\python39\\lib\\site-packages\\sklearn\\base.py:493: UserWarning: X does not have valid feature names, but StandardScaler was fitted with feature names\n",
      "  warnings.warn(\n"
     ]
    },
    {
     "name": "stdout",
     "output_type": "stream",
     "text": [
      "Iteration 47/100 - Test MSE: 0.0011238803495570186, R2: 0.9792580553677542\n"
     ]
    },
    {
     "name": "stderr",
     "output_type": "stream",
     "text": [
      "c:\\Users\\PSID_PC_20\\anaconda3\\envs\\python39\\lib\\site-packages\\sklearn\\base.py:493: UserWarning: X does not have valid feature names, but StandardScaler was fitted with feature names\n",
      "  warnings.warn(\n"
     ]
    },
    {
     "name": "stdout",
     "output_type": "stream",
     "text": [
      "Iteration 48/100 - Test MSE: 0.0015848359739714173, R2: 0.9707508187715327\n"
     ]
    },
    {
     "name": "stderr",
     "output_type": "stream",
     "text": [
      "c:\\Users\\PSID_PC_20\\anaconda3\\envs\\python39\\lib\\site-packages\\sklearn\\base.py:493: UserWarning: X does not have valid feature names, but StandardScaler was fitted with feature names\n",
      "  warnings.warn(\n"
     ]
    },
    {
     "name": "stdout",
     "output_type": "stream",
     "text": [
      "Iteration 49/100 - Test MSE: 0.001602807123067543, R2: 0.9704191494975957\n"
     ]
    },
    {
     "name": "stderr",
     "output_type": "stream",
     "text": [
      "c:\\Users\\PSID_PC_20\\anaconda3\\envs\\python39\\lib\\site-packages\\sklearn\\base.py:493: UserWarning: X does not have valid feature names, but StandardScaler was fitted with feature names\n",
      "  warnings.warn(\n"
     ]
    },
    {
     "name": "stdout",
     "output_type": "stream",
     "text": [
      "Iteration 50/100 - Test MSE: 0.0014567148026162302, R2: 0.9731153785251713\n"
     ]
    },
    {
     "name": "stderr",
     "output_type": "stream",
     "text": [
      "c:\\Users\\PSID_PC_20\\anaconda3\\envs\\python39\\lib\\site-packages\\sklearn\\base.py:493: UserWarning: X does not have valid feature names, but StandardScaler was fitted with feature names\n",
      "  warnings.warn(\n"
     ]
    },
    {
     "name": "stdout",
     "output_type": "stream",
     "text": [
      "Iteration 51/100 - Test MSE: 0.0030316715072638955, R2: 0.9440485256534557\n"
     ]
    },
    {
     "name": "stderr",
     "output_type": "stream",
     "text": [
      "c:\\Users\\PSID_PC_20\\anaconda3\\envs\\python39\\lib\\site-packages\\sklearn\\base.py:493: UserWarning: X does not have valid feature names, but StandardScaler was fitted with feature names\n",
      "  warnings.warn(\n"
     ]
    },
    {
     "name": "stdout",
     "output_type": "stream",
     "text": [
      "Iteration 52/100 - Test MSE: 0.0014841814966986965, R2: 0.9726084627773215\n"
     ]
    },
    {
     "name": "stderr",
     "output_type": "stream",
     "text": [
      "c:\\Users\\PSID_PC_20\\anaconda3\\envs\\python39\\lib\\site-packages\\sklearn\\base.py:493: UserWarning: X does not have valid feature names, but StandardScaler was fitted with feature names\n",
      "  warnings.warn(\n"
     ]
    },
    {
     "name": "stdout",
     "output_type": "stream",
     "text": [
      "Iteration 53/100 - Test MSE: 0.002097156748450239, R2: 0.9612956048402832\n"
     ]
    },
    {
     "name": "stderr",
     "output_type": "stream",
     "text": [
      "c:\\Users\\PSID_PC_20\\anaconda3\\envs\\python39\\lib\\site-packages\\sklearn\\base.py:493: UserWarning: X does not have valid feature names, but StandardScaler was fitted with feature names\n",
      "  warnings.warn(\n"
     ]
    },
    {
     "name": "stdout",
     "output_type": "stream",
     "text": [
      "Iteration 54/100 - Test MSE: 0.0037404952245617515, R2: 0.9309667217906069\n"
     ]
    },
    {
     "name": "stderr",
     "output_type": "stream",
     "text": [
      "c:\\Users\\PSID_PC_20\\anaconda3\\envs\\python39\\lib\\site-packages\\sklearn\\base.py:493: UserWarning: X does not have valid feature names, but StandardScaler was fitted with feature names\n",
      "  warnings.warn(\n"
     ]
    },
    {
     "name": "stdout",
     "output_type": "stream",
     "text": [
      "Iteration 55/100 - Test MSE: 0.0008686800896903051, R2: 0.9839679425567032\n"
     ]
    },
    {
     "name": "stderr",
     "output_type": "stream",
     "text": [
      "c:\\Users\\PSID_PC_20\\anaconda3\\envs\\python39\\lib\\site-packages\\sklearn\\base.py:493: UserWarning: X does not have valid feature names, but StandardScaler was fitted with feature names\n",
      "  warnings.warn(\n"
     ]
    },
    {
     "name": "stdout",
     "output_type": "stream",
     "text": [
      "Iteration 56/100 - Test MSE: 0.002533388846537478, R2: 0.9532446570424146\n"
     ]
    },
    {
     "name": "stderr",
     "output_type": "stream",
     "text": [
      "c:\\Users\\PSID_PC_20\\anaconda3\\envs\\python39\\lib\\site-packages\\sklearn\\base.py:493: UserWarning: X does not have valid feature names, but StandardScaler was fitted with feature names\n",
      "  warnings.warn(\n"
     ]
    },
    {
     "name": "stdout",
     "output_type": "stream",
     "text": [
      "Iteration 57/100 - Test MSE: 0.0011636293689678996, R2: 0.9785244612977703\n"
     ]
    },
    {
     "name": "stderr",
     "output_type": "stream",
     "text": [
      "c:\\Users\\PSID_PC_20\\anaconda3\\envs\\python39\\lib\\site-packages\\sklearn\\base.py:493: UserWarning: X does not have valid feature names, but StandardScaler was fitted with feature names\n",
      "  warnings.warn(\n"
     ]
    },
    {
     "name": "stdout",
     "output_type": "stream",
     "text": [
      "Iteration 58/100 - Test MSE: 0.008096254403167517, R2: 0.8505783461511114\n"
     ]
    },
    {
     "name": "stderr",
     "output_type": "stream",
     "text": [
      "c:\\Users\\PSID_PC_20\\anaconda3\\envs\\python39\\lib\\site-packages\\sklearn\\base.py:493: UserWarning: X does not have valid feature names, but StandardScaler was fitted with feature names\n",
      "  warnings.warn(\n"
     ]
    },
    {
     "name": "stdout",
     "output_type": "stream",
     "text": [
      "Iteration 59/100 - Test MSE: 0.0009986552042417461, R2: 0.9815691670725883\n"
     ]
    },
    {
     "name": "stderr",
     "output_type": "stream",
     "text": [
      "c:\\Users\\PSID_PC_20\\anaconda3\\envs\\python39\\lib\\site-packages\\sklearn\\base.py:493: UserWarning: X does not have valid feature names, but StandardScaler was fitted with feature names\n",
      "  warnings.warn(\n"
     ]
    },
    {
     "name": "stdout",
     "output_type": "stream",
     "text": [
      "Iteration 60/100 - Test MSE: 0.002255477405261128, R2: 0.9583736938921946\n"
     ]
    },
    {
     "name": "stderr",
     "output_type": "stream",
     "text": [
      "c:\\Users\\PSID_PC_20\\anaconda3\\envs\\python39\\lib\\site-packages\\sklearn\\base.py:493: UserWarning: X does not have valid feature names, but StandardScaler was fitted with feature names\n",
      "  warnings.warn(\n"
     ]
    },
    {
     "name": "stdout",
     "output_type": "stream",
     "text": [
      "Iteration 61/100 - Test MSE: 0.0012463258199826369, R2: 0.9769982443753843\n"
     ]
    },
    {
     "name": "stderr",
     "output_type": "stream",
     "text": [
      "c:\\Users\\PSID_PC_20\\anaconda3\\envs\\python39\\lib\\site-packages\\sklearn\\base.py:493: UserWarning: X does not have valid feature names, but StandardScaler was fitted with feature names\n",
      "  warnings.warn(\n"
     ]
    },
    {
     "name": "stdout",
     "output_type": "stream",
     "text": [
      "Iteration 62/100 - Test MSE: 0.0011307357323272378, R2: 0.979131534808952\n"
     ]
    },
    {
     "name": "stderr",
     "output_type": "stream",
     "text": [
      "c:\\Users\\PSID_PC_20\\anaconda3\\envs\\python39\\lib\\site-packages\\sklearn\\base.py:493: UserWarning: X does not have valid feature names, but StandardScaler was fitted with feature names\n",
      "  warnings.warn(\n"
     ]
    },
    {
     "name": "stdout",
     "output_type": "stream",
     "text": [
      "Iteration 63/100 - Test MSE: 0.0017007063365183273, R2: 0.9686123556821001\n"
     ]
    },
    {
     "name": "stderr",
     "output_type": "stream",
     "text": [
      "c:\\Users\\PSID_PC_20\\anaconda3\\envs\\python39\\lib\\site-packages\\sklearn\\base.py:493: UserWarning: X does not have valid feature names, but StandardScaler was fitted with feature names\n",
      "  warnings.warn(\n"
     ]
    },
    {
     "name": "stdout",
     "output_type": "stream",
     "text": [
      "Iteration 64/100 - Test MSE: 0.0030824369037714835, R2: 0.9431116171613644\n"
     ]
    },
    {
     "name": "stderr",
     "output_type": "stream",
     "text": [
      "c:\\Users\\PSID_PC_20\\anaconda3\\envs\\python39\\lib\\site-packages\\sklearn\\base.py:493: UserWarning: X does not have valid feature names, but StandardScaler was fitted with feature names\n",
      "  warnings.warn(\n"
     ]
    },
    {
     "name": "stdout",
     "output_type": "stream",
     "text": [
      "Iteration 65/100 - Test MSE: 0.0017505420272575848, R2: 0.9676926055161409\n"
     ]
    },
    {
     "name": "stderr",
     "output_type": "stream",
     "text": [
      "c:\\Users\\PSID_PC_20\\anaconda3\\envs\\python39\\lib\\site-packages\\sklearn\\base.py:493: UserWarning: X does not have valid feature names, but StandardScaler was fitted with feature names\n",
      "  warnings.warn(\n"
     ]
    },
    {
     "name": "stdout",
     "output_type": "stream",
     "text": [
      "Iteration 66/100 - Test MSE: 0.0011482924661518352, R2: 0.978807513839054\n"
     ]
    },
    {
     "name": "stderr",
     "output_type": "stream",
     "text": [
      "c:\\Users\\PSID_PC_20\\anaconda3\\envs\\python39\\lib\\site-packages\\sklearn\\base.py:493: UserWarning: X does not have valid feature names, but StandardScaler was fitted with feature names\n",
      "  warnings.warn(\n"
     ]
    },
    {
     "name": "stdout",
     "output_type": "stream",
     "text": [
      "Iteration 67/100 - Test MSE: 0.0027798554171063116, R2: 0.9486959557839103\n"
     ]
    },
    {
     "name": "stderr",
     "output_type": "stream",
     "text": [
      "c:\\Users\\PSID_PC_20\\anaconda3\\envs\\python39\\lib\\site-packages\\sklearn\\base.py:493: UserWarning: X does not have valid feature names, but StandardScaler was fitted with feature names\n",
      "  warnings.warn(\n"
     ]
    },
    {
     "name": "stdout",
     "output_type": "stream",
     "text": [
      "Iteration 68/100 - Test MSE: 0.0058933246812881, R2: 0.8912348505004948\n"
     ]
    },
    {
     "name": "stderr",
     "output_type": "stream",
     "text": [
      "c:\\Users\\PSID_PC_20\\anaconda3\\envs\\python39\\lib\\site-packages\\sklearn\\base.py:493: UserWarning: X does not have valid feature names, but StandardScaler was fitted with feature names\n",
      "  warnings.warn(\n"
     ]
    },
    {
     "name": "stdout",
     "output_type": "stream",
     "text": [
      "Iteration 69/100 - Test MSE: 0.0018394950144902205, R2: 0.9660509201385298\n"
     ]
    },
    {
     "name": "stderr",
     "output_type": "stream",
     "text": [
      "c:\\Users\\PSID_PC_20\\anaconda3\\envs\\python39\\lib\\site-packages\\sklearn\\base.py:493: UserWarning: X does not have valid feature names, but StandardScaler was fitted with feature names\n",
      "  warnings.warn(\n"
     ]
    },
    {
     "name": "stdout",
     "output_type": "stream",
     "text": [
      "Iteration 70/100 - Test MSE: 0.0033587388869254927, R2: 0.9380122839106149\n"
     ]
    },
    {
     "name": "stderr",
     "output_type": "stream",
     "text": [
      "c:\\Users\\PSID_PC_20\\anaconda3\\envs\\python39\\lib\\site-packages\\sklearn\\base.py:493: UserWarning: X does not have valid feature names, but StandardScaler was fitted with feature names\n",
      "  warnings.warn(\n"
     ]
    },
    {
     "name": "stdout",
     "output_type": "stream",
     "text": [
      "Iteration 71/100 - Test MSE: 0.0015695501816031462, R2: 0.9710329280361778\n"
     ]
    },
    {
     "name": "stderr",
     "output_type": "stream",
     "text": [
      "c:\\Users\\PSID_PC_20\\anaconda3\\envs\\python39\\lib\\site-packages\\sklearn\\base.py:493: UserWarning: X does not have valid feature names, but StandardScaler was fitted with feature names\n",
      "  warnings.warn(\n"
     ]
    },
    {
     "name": "stdout",
     "output_type": "stream",
     "text": [
      "Iteration 72/100 - Test MSE: 0.0016348046621163037, R2: 0.9698286140517369\n"
     ]
    },
    {
     "name": "stderr",
     "output_type": "stream",
     "text": [
      "c:\\Users\\PSID_PC_20\\anaconda3\\envs\\python39\\lib\\site-packages\\sklearn\\base.py:493: UserWarning: X does not have valid feature names, but StandardScaler was fitted with feature names\n",
      "  warnings.warn(\n"
     ]
    },
    {
     "name": "stdout",
     "output_type": "stream",
     "text": [
      "Iteration 73/100 - Test MSE: 0.002367749556255882, R2: 0.9563016381430269\n"
     ]
    },
    {
     "name": "stderr",
     "output_type": "stream",
     "text": [
      "c:\\Users\\PSID_PC_20\\anaconda3\\envs\\python39\\lib\\site-packages\\sklearn\\base.py:493: UserWarning: X does not have valid feature names, but StandardScaler was fitted with feature names\n",
      "  warnings.warn(\n"
     ]
    },
    {
     "name": "stdout",
     "output_type": "stream",
     "text": [
      "Iteration 74/100 - Test MSE: 0.0020738333069321366, R2: 0.9617260541606157\n"
     ]
    },
    {
     "name": "stderr",
     "output_type": "stream",
     "text": [
      "c:\\Users\\PSID_PC_20\\anaconda3\\envs\\python39\\lib\\site-packages\\sklearn\\base.py:493: UserWarning: X does not have valid feature names, but StandardScaler was fitted with feature names\n",
      "  warnings.warn(\n"
     ]
    },
    {
     "name": "stdout",
     "output_type": "stream",
     "text": [
      "Iteration 75/100 - Test MSE: 0.0017671555649501332, R2: 0.967385991845833\n"
     ]
    },
    {
     "name": "stderr",
     "output_type": "stream",
     "text": [
      "c:\\Users\\PSID_PC_20\\anaconda3\\envs\\python39\\lib\\site-packages\\sklearn\\base.py:493: UserWarning: X does not have valid feature names, but StandardScaler was fitted with feature names\n",
      "  warnings.warn(\n"
     ]
    },
    {
     "name": "stdout",
     "output_type": "stream",
     "text": [
      "Iteration 76/100 - Test MSE: 0.0017223057698177056, R2: 0.9682137240575146\n"
     ]
    },
    {
     "name": "stderr",
     "output_type": "stream",
     "text": [
      "c:\\Users\\PSID_PC_20\\anaconda3\\envs\\python39\\lib\\site-packages\\sklearn\\base.py:493: UserWarning: X does not have valid feature names, but StandardScaler was fitted with feature names\n",
      "  warnings.warn(\n"
     ]
    },
    {
     "name": "stdout",
     "output_type": "stream",
     "text": [
      "Iteration 77/100 - Test MSE: 0.004024867917442881, R2: 0.9257184383296603\n"
     ]
    },
    {
     "name": "stderr",
     "output_type": "stream",
     "text": [
      "c:\\Users\\PSID_PC_20\\anaconda3\\envs\\python39\\lib\\site-packages\\sklearn\\base.py:493: UserWarning: X does not have valid feature names, but StandardScaler was fitted with feature names\n",
      "  warnings.warn(\n"
     ]
    },
    {
     "name": "stdout",
     "output_type": "stream",
     "text": [
      "Iteration 78/100 - Test MSE: 0.002463559554299228, R2: 0.9545334021600649\n"
     ]
    },
    {
     "name": "stderr",
     "output_type": "stream",
     "text": [
      "c:\\Users\\PSID_PC_20\\anaconda3\\envs\\python39\\lib\\site-packages\\sklearn\\base.py:493: UserWarning: X does not have valid feature names, but StandardScaler was fitted with feature names\n",
      "  warnings.warn(\n"
     ]
    },
    {
     "name": "stdout",
     "output_type": "stream",
     "text": [
      "Iteration 79/100 - Test MSE: 0.0014073013940687183, R2: 0.9740273351979496\n"
     ]
    },
    {
     "name": "stderr",
     "output_type": "stream",
     "text": [
      "c:\\Users\\PSID_PC_20\\anaconda3\\envs\\python39\\lib\\site-packages\\sklearn\\base.py:493: UserWarning: X does not have valid feature names, but StandardScaler was fitted with feature names\n",
      "  warnings.warn(\n"
     ]
    },
    {
     "name": "stdout",
     "output_type": "stream",
     "text": [
      "Iteration 80/100 - Test MSE: 0.0020138533830320205, R2: 0.9628330227636996\n"
     ]
    },
    {
     "name": "stderr",
     "output_type": "stream",
     "text": [
      "c:\\Users\\PSID_PC_20\\anaconda3\\envs\\python39\\lib\\site-packages\\sklearn\\base.py:493: UserWarning: X does not have valid feature names, but StandardScaler was fitted with feature names\n",
      "  warnings.warn(\n"
     ]
    },
    {
     "name": "stdout",
     "output_type": "stream",
     "text": [
      "Iteration 81/100 - Test MSE: 0.0021274016957613545, R2: 0.9607374146176499\n"
     ]
    },
    {
     "name": "stderr",
     "output_type": "stream",
     "text": [
      "c:\\Users\\PSID_PC_20\\anaconda3\\envs\\python39\\lib\\site-packages\\sklearn\\base.py:493: UserWarning: X does not have valid feature names, but StandardScaler was fitted with feature names\n",
      "  warnings.warn(\n"
     ]
    },
    {
     "name": "stdout",
     "output_type": "stream",
     "text": [
      "Iteration 82/100 - Test MSE: 0.0017332146244436054, R2: 0.9680123940327119\n"
     ]
    },
    {
     "name": "stderr",
     "output_type": "stream",
     "text": [
      "c:\\Users\\PSID_PC_20\\anaconda3\\envs\\python39\\lib\\site-packages\\sklearn\\base.py:493: UserWarning: X does not have valid feature names, but StandardScaler was fitted with feature names\n",
      "  warnings.warn(\n"
     ]
    },
    {
     "name": "stdout",
     "output_type": "stream",
     "text": [
      "Iteration 83/100 - Test MSE: 0.0029981590727707653, R2: 0.9446670194824671\n"
     ]
    },
    {
     "name": "stderr",
     "output_type": "stream",
     "text": [
      "c:\\Users\\PSID_PC_20\\anaconda3\\envs\\python39\\lib\\site-packages\\sklearn\\base.py:493: UserWarning: X does not have valid feature names, but StandardScaler was fitted with feature names\n",
      "  warnings.warn(\n"
     ]
    },
    {
     "name": "stdout",
     "output_type": "stream",
     "text": [
      "Iteration 84/100 - Test MSE: 0.0033537494613364587, R2: 0.9381043670130156\n"
     ]
    },
    {
     "name": "stderr",
     "output_type": "stream",
     "text": [
      "c:\\Users\\PSID_PC_20\\anaconda3\\envs\\python39\\lib\\site-packages\\sklearn\\base.py:493: UserWarning: X does not have valid feature names, but StandardScaler was fitted with feature names\n",
      "  warnings.warn(\n"
     ]
    },
    {
     "name": "stdout",
     "output_type": "stream",
     "text": [
      "Iteration 85/100 - Test MSE: 0.0013137603830574262, R2: 0.9757536955458329\n"
     ]
    },
    {
     "name": "stderr",
     "output_type": "stream",
     "text": [
      "c:\\Users\\PSID_PC_20\\anaconda3\\envs\\python39\\lib\\site-packages\\sklearn\\base.py:493: UserWarning: X does not have valid feature names, but StandardScaler was fitted with feature names\n",
      "  warnings.warn(\n"
     ]
    },
    {
     "name": "stdout",
     "output_type": "stream",
     "text": [
      "Iteration 86/100 - Test MSE: 0.0014032966056450452, R2: 0.9741012461794704\n"
     ]
    },
    {
     "name": "stderr",
     "output_type": "stream",
     "text": [
      "c:\\Users\\PSID_PC_20\\anaconda3\\envs\\python39\\lib\\site-packages\\sklearn\\base.py:493: UserWarning: X does not have valid feature names, but StandardScaler was fitted with feature names\n",
      "  warnings.warn(\n"
     ]
    },
    {
     "name": "stdout",
     "output_type": "stream",
     "text": [
      "Iteration 87/100 - Test MSE: 0.003314609304036852, R2: 0.9388267241357519\n"
     ]
    },
    {
     "name": "stderr",
     "output_type": "stream",
     "text": [
      "c:\\Users\\PSID_PC_20\\anaconda3\\envs\\python39\\lib\\site-packages\\sklearn\\base.py:493: UserWarning: X does not have valid feature names, but StandardScaler was fitted with feature names\n",
      "  warnings.warn(\n"
     ]
    },
    {
     "name": "stdout",
     "output_type": "stream",
     "text": [
      "Iteration 88/100 - Test MSE: 0.0037437531019265616, R2: 0.9309065955396709\n"
     ]
    },
    {
     "name": "stderr",
     "output_type": "stream",
     "text": [
      "c:\\Users\\PSID_PC_20\\anaconda3\\envs\\python39\\lib\\site-packages\\sklearn\\base.py:493: UserWarning: X does not have valid feature names, but StandardScaler was fitted with feature names\n",
      "  warnings.warn(\n"
     ]
    },
    {
     "name": "stdout",
     "output_type": "stream",
     "text": [
      "Iteration 89/100 - Test MSE: 0.001397007864441228, R2: 0.9742173089987087\n"
     ]
    },
    {
     "name": "stderr",
     "output_type": "stream",
     "text": [
      "c:\\Users\\PSID_PC_20\\anaconda3\\envs\\python39\\lib\\site-packages\\sklearn\\base.py:493: UserWarning: X does not have valid feature names, but StandardScaler was fitted with feature names\n",
      "  warnings.warn(\n"
     ]
    },
    {
     "name": "stdout",
     "output_type": "stream",
     "text": [
      "Iteration 90/100 - Test MSE: 0.0023109226143327105, R2: 0.9573504164079506\n"
     ]
    },
    {
     "name": "stderr",
     "output_type": "stream",
     "text": [
      "c:\\Users\\PSID_PC_20\\anaconda3\\envs\\python39\\lib\\site-packages\\sklearn\\base.py:493: UserWarning: X does not have valid feature names, but StandardScaler was fitted with feature names\n",
      "  warnings.warn(\n"
     ]
    },
    {
     "name": "stdout",
     "output_type": "stream",
     "text": [
      "Iteration 91/100 - Test MSE: 0.0012406602318717965, R2: 0.9771028064979898\n"
     ]
    },
    {
     "name": "stderr",
     "output_type": "stream",
     "text": [
      "c:\\Users\\PSID_PC_20\\anaconda3\\envs\\python39\\lib\\site-packages\\sklearn\\base.py:493: UserWarning: X does not have valid feature names, but StandardScaler was fitted with feature names\n",
      "  warnings.warn(\n"
     ]
    },
    {
     "name": "stdout",
     "output_type": "stream",
     "text": [
      "Iteration 92/100 - Test MSE: 0.0013887295348149738, R2: 0.9743700909695145\n"
     ]
    },
    {
     "name": "stderr",
     "output_type": "stream",
     "text": [
      "c:\\Users\\PSID_PC_20\\anaconda3\\envs\\python39\\lib\\site-packages\\sklearn\\base.py:493: UserWarning: X does not have valid feature names, but StandardScaler was fitted with feature names\n",
      "  warnings.warn(\n"
     ]
    },
    {
     "name": "stdout",
     "output_type": "stream",
     "text": [
      "Iteration 93/100 - Test MSE: 0.0015747124456649683, R2: 0.9709376550870693\n"
     ]
    },
    {
     "name": "stderr",
     "output_type": "stream",
     "text": [
      "c:\\Users\\PSID_PC_20\\anaconda3\\envs\\python39\\lib\\site-packages\\sklearn\\base.py:493: UserWarning: X does not have valid feature names, but StandardScaler was fitted with feature names\n",
      "  warnings.warn(\n"
     ]
    },
    {
     "name": "stdout",
     "output_type": "stream",
     "text": [
      "Iteration 94/100 - Test MSE: 0.0016264282883258288, R2: 0.9699832054915192\n"
     ]
    },
    {
     "name": "stderr",
     "output_type": "stream",
     "text": [
      "c:\\Users\\PSID_PC_20\\anaconda3\\envs\\python39\\lib\\site-packages\\sklearn\\base.py:493: UserWarning: X does not have valid feature names, but StandardScaler was fitted with feature names\n",
      "  warnings.warn(\n"
     ]
    },
    {
     "name": "stdout",
     "output_type": "stream",
     "text": [
      "Iteration 95/100 - Test MSE: 0.001625334354007554, R2: 0.970003394762619\n"
     ]
    },
    {
     "name": "stderr",
     "output_type": "stream",
     "text": [
      "c:\\Users\\PSID_PC_20\\anaconda3\\envs\\python39\\lib\\site-packages\\sklearn\\base.py:493: UserWarning: X does not have valid feature names, but StandardScaler was fitted with feature names\n",
      "  warnings.warn(\n"
     ]
    },
    {
     "name": "stdout",
     "output_type": "stream",
     "text": [
      "Iteration 96/100 - Test MSE: 0.002121823129314498, R2: 0.9608403706987075\n"
     ]
    },
    {
     "name": "stderr",
     "output_type": "stream",
     "text": [
      "c:\\Users\\PSID_PC_20\\anaconda3\\envs\\python39\\lib\\site-packages\\sklearn\\base.py:493: UserWarning: X does not have valid feature names, but StandardScaler was fitted with feature names\n",
      "  warnings.warn(\n"
     ]
    },
    {
     "name": "stdout",
     "output_type": "stream",
     "text": [
      "Iteration 97/100 - Test MSE: 0.0016457391927039973, R2: 0.9696268101603183\n"
     ]
    },
    {
     "name": "stderr",
     "output_type": "stream",
     "text": [
      "c:\\Users\\PSID_PC_20\\anaconda3\\envs\\python39\\lib\\site-packages\\sklearn\\base.py:493: UserWarning: X does not have valid feature names, but StandardScaler was fitted with feature names\n",
      "  warnings.warn(\n"
     ]
    },
    {
     "name": "stdout",
     "output_type": "stream",
     "text": [
      "Iteration 98/100 - Test MSE: 0.004741717877447707, R2: 0.9124885049244643\n"
     ]
    },
    {
     "name": "stderr",
     "output_type": "stream",
     "text": [
      "c:\\Users\\PSID_PC_20\\anaconda3\\envs\\python39\\lib\\site-packages\\sklearn\\base.py:493: UserWarning: X does not have valid feature names, but StandardScaler was fitted with feature names\n",
      "  warnings.warn(\n"
     ]
    },
    {
     "name": "stdout",
     "output_type": "stream",
     "text": [
      "Iteration 99/100 - Test MSE: 0.003769191107466149, R2: 0.9304371205616051\n"
     ]
    },
    {
     "name": "stderr",
     "output_type": "stream",
     "text": [
      "c:\\Users\\PSID_PC_20\\anaconda3\\envs\\python39\\lib\\site-packages\\sklearn\\base.py:493: UserWarning: X does not have valid feature names, but StandardScaler was fitted with feature names\n",
      "  warnings.warn(\n"
     ]
    },
    {
     "name": "stdout",
     "output_type": "stream",
     "text": [
      "Iteration 100/100 - Test MSE: 0.0013625593374175084, R2: 0.9748530790257138\n",
      "Performance log: [(0.008600090682369381, 0.8412797191121735), (0.004697864732747438, 0.9132978433025944), (0.003087368958073112, 0.9430205928834794), (0.002023969861346189, 0.9626463165603671), (0.002104367325180649, 0.9611625289453557), (0.003196440852458628, 0.9410075999566342), (0.002964316693802769, 0.9452916026518893), (0.0029827698960172167, 0.9449510367733502), (0.0028852178319286326, 0.9467514237210215), (0.00211791180625744, 0.9609125567159471), (0.0030617394732665483, 0.9434936017362636), (0.0024739544886805656, 0.9543415568684566), (0.003253567907856596, 0.9399532829018562), (0.003489399342445949, 0.9356008600120677), (0.0017582191079622957, 0.9675509199862024), (0.0029285086056303287, 0.9459524642663415), (0.0030864935808773506, 0.9430367485403818), (0.002321654937534797, 0.9571523443856745), (0.002977633494669014, 0.945045832409216), (0.00258756838071023, 0.9522447384136611), (0.00623341401927332, 0.8849582800263451), (0.0037487188159671956, 0.930814950049356), (0.003394011282472778, 0.9373613088528369), (0.0022663787320503707, 0.9581725027985256), (0.002369752688814252, 0.9562646690255998), (0.002291687104954686, 0.9577054202752655), (0.0023596497341437316, 0.9564511256412712), (0.006643839524014335, 0.8773836097348366), (0.003113272660333991, 0.9425425231687833), (0.0024512276195920745, 0.9547609960556295), (0.005603814843879836, 0.896577943313159), (0.001820207530146759, 0.9664068832377201), (0.001455990134807363, 0.9731287527420744), (0.002668037763157763, 0.9507596234937538), (0.0014877306551981306, 0.9725429607431277), (0.0037682647516005066, 0.9304542170630987), (0.004742638311412775, 0.9124715177155068), (0.0012515199944109611, 0.9769023824996562), (0.0011738024043389886, 0.9783367112970764), (0.005022205389468643, 0.9073119250094691), (0.002798002224042138, 0.9483610446300109), (0.007983548192816166, 0.8526584127487161), (0.0014886701128854981, 0.9725256224389716), (0.0013842908872084877, 0.9744520091051346), (0.0010891323429176904, 0.9798993524863291), (0.0032881057411909003, 0.9393158646686606), (0.003986503741905326, 0.92642647420303), (0.0011238803495570186, 0.9792580553677542), (0.0015848359739714173, 0.9707508187715327), (0.001602807123067543, 0.9704191494975957), (0.0014567148026162302, 0.9731153785251713), (0.0030316715072638955, 0.9440485256534557), (0.0014841814966986965, 0.9726084627773215), (0.002097156748450239, 0.9612956048402832), (0.0037404952245617515, 0.9309667217906069), (0.0008686800896903051, 0.9839679425567032), (0.002533388846537478, 0.9532446570424146), (0.0011636293689678996, 0.9785244612977703), (0.008096254403167517, 0.8505783461511114), (0.0009986552042417461, 0.9815691670725883), (0.002255477405261128, 0.9583736938921946), (0.0012463258199826369, 0.9769982443753843), (0.0011307357323272378, 0.979131534808952), (0.0017007063365183273, 0.9686123556821001), (0.0030824369037714835, 0.9431116171613644), (0.0017505420272575848, 0.9676926055161409), (0.0011482924661518352, 0.978807513839054), (0.0027798554171063116, 0.9486959557839103), (0.0058933246812881, 0.8912348505004948), (0.0018394950144902205, 0.9660509201385298), (0.0033587388869254927, 0.9380122839106149), (0.0015695501816031462, 0.9710329280361778), (0.0016348046621163037, 0.9698286140517369), (0.002367749556255882, 0.9563016381430269), (0.0020738333069321366, 0.9617260541606157), (0.0017671555649501332, 0.967385991845833), (0.0017223057698177056, 0.9682137240575146), (0.004024867917442881, 0.9257184383296603), (0.002463559554299228, 0.9545334021600649), (0.0014073013940687183, 0.9740273351979496), (0.0020138533830320205, 0.9628330227636996), (0.0021274016957613545, 0.9607374146176499), (0.0017332146244436054, 0.9680123940327119), (0.0029981590727707653, 0.9446670194824671), (0.0033537494613364587, 0.9381043670130156), (0.0013137603830574262, 0.9757536955458329), (0.0014032966056450452, 0.9741012461794704), (0.003314609304036852, 0.9388267241357519), (0.0037437531019265616, 0.9309065955396709), (0.001397007864441228, 0.9742173089987087), (0.0023109226143327105, 0.9573504164079506), (0.0012406602318717965, 0.9771028064979898), (0.0013887295348149738, 0.9743700909695145), (0.0015747124456649683, 0.9709376550870693), (0.0016264282883258288, 0.9699832054915192), (0.001625334354007554, 0.970003394762619), (0.002121823129314498, 0.9608403706987075), (0.0016457391927039973, 0.9696268101603183), (0.004741717877447707, 0.9124885049244643), (0.003769191107466149, 0.9304371205616051), (0.0013625593374175084, 0.9748530790257138)]\n"
     ]
    }
   ],
   "source": [
    "import torch\n",
    "import torch.nn as nn\n",
    "import torch.optim as optim\n",
    "from torch.utils.data import DataLoader, TensorDataset\n",
    "import numpy as np\n",
    "import pandas as pd\n",
    "from sklearn.metrics import mean_squared_error, r2_score\n",
    "from sklearn.model_selection import train_test_split\n",
    "from sklearn.preprocessing import StandardScaler\n",
    "\n",
    "# PyTorch 모델 정의\n",
    "class DropoutMLP(nn.Module):\n",
    "    def __init__(self, input_dim, hidden_dim):\n",
    "        super(DropoutMLP, self).__init__()\n",
    "        self.model = nn.Sequential(\n",
    "            nn.Linear(input_dim, hidden_dim),\n",
    "            nn.ReLU(),\n",
    "            nn.Dropout(p=0.2),  # 드롭아웃 적용\n",
    "            nn.Linear(hidden_dim, hidden_dim),\n",
    "            nn.ReLU(),\n",
    "            nn.Dropout(p=0.2),  # 드롭아웃 적용\n",
    "            nn.Linear(hidden_dim, 1)\n",
    "        )\n",
    "    \n",
    "    def forward(self, x):\n",
    "        return self.model(x)\n",
    "\n",
    "# 데이터 준비\n",
    "data = pd.read_csv(\"../[01]Data/CoREMOF_O2_1.0_5760.csv\").reset_index(drop=True).drop(\"Unnamed: 0\", axis=1)\n",
    "data = data[['Adsorbent', 'LCD', 'PLD', 'LFPD', 'cm3_g', 'ASA_m2_cm3', 'ASA_m2_g',\n",
    "              'AV_VF', 'AV_cm3_g',  'Has_OMS',\n",
    "             '0.5bar_GCMC', 'Uptake']]\n",
    "X = data.drop(['Adsorbent', 'Uptake'], axis=1)\n",
    "y = data['Uptake']\n",
    "\n",
    "# Train-Test Split\n",
    "X_train, X_test, y_train, y_test = train_test_split(X, y, test_size=0.2, random_state=42)\n",
    "\n",
    "\n",
    "\n",
    "# Train 데이터를 Initial (5%)와 Remaining (95%)으로 랜덤 분리\n",
    "initial_size = int(0.05 * len(X_train))\n",
    "indices = np.random.permutation(len(X_train))\n",
    "initial_indices = indices[:initial_size]\n",
    "remaining_indices = indices[initial_size:]\n",
    "\n",
    "X_initial = X_train.iloc[initial_indices]\n",
    "y_initial = y_train.iloc[initial_indices].to_numpy()\n",
    "\n",
    "# 스탠다드 스케일러 적용\n",
    "scaler = StandardScaler()\n",
    "X_initial_scaled = scaler.fit_transform(X_initial)\n",
    "X_test_scaled = scaler.transform(X_test)\n",
    "X_remaining = pd.DataFrame(X_train.iloc[remaining_indices], columns=X_train.columns).reset_index(drop =True)\n",
    "y_remaining = y_train.iloc[remaining_indices].reset_index(drop =True)\n",
    "\n",
    "def create_dataloader(X, y, batch_size=32, shuffle=True):\n",
    "    dataset = TensorDataset(torch.tensor(X, dtype=torch.float32), torch.tensor(y, dtype=torch.float32))\n",
    "    return DataLoader(dataset, batch_size=batch_size, shuffle=shuffle)\n",
    "\n",
    "train_loader = create_dataloader(X_initial_scaled, y_initial)\n",
    "test_loader = create_dataloader(X_test_scaled, y_test.to_numpy(), shuffle=False)\n",
    "\n",
    "# 모델 초기화\n",
    "input_dim = X_train.shape[1]\n",
    "hidden_dim = 64\n",
    "model = DropoutMLP(input_dim, hidden_dim)\n",
    "criterion = nn.MSELoss()\n",
    "optimizer = optim.Adam(model.parameters(), lr=0.001)\n",
    "\n",
    "# 초기 모델 학습\n",
    "epochs = 50\n",
    "for epoch in range(epochs):\n",
    "    model.train()\n",
    "    for X_batch, y_batch in train_loader:\n",
    "        optimizer.zero_grad()\n",
    "        predictions = model(X_batch).squeeze()\n",
    "        loss = criterion(predictions, y_batch)\n",
    "        loss.backward()\n",
    "        optimizer.step()\n",
    "\n",
    "# 랜덤 샘플링 설정\n",
    "iterations = 100\n",
    "samples_per_iteration = 10\n",
    "performance_log = []\n",
    "\n",
    "X_remaining_tensor = torch.tensor(X_remaining.values, dtype=torch.float32)\n",
    "X_test_tensor = torch.tensor(X_test_scaled, dtype=torch.float32)\n",
    "\n",
    "# 초기 Test 성능 평가\n",
    "mean_prediction, _ = mc_dropout_predict(model, X_test_tensor, n_simulations=20)\n",
    "mse = mean_squared_error(y_test, mean_prediction)\n",
    "r2 = r2_score(y_test, mean_prediction)\n",
    "performance_log.append((mse, r2))\n",
    "print(f\"Initial Test MSE: {mse}, R2: {r2}\")\n",
    "\n",
    "for iteration in range(iterations):\n",
    "    # 랜덤으로 샘플 선택\n",
    "    sample_indices = np.random.choice(X_remaining.index, size=samples_per_iteration, replace=False)\n",
    "    sample_indices = X_remaining.index[sample_indices]  # 현재 인덱스 동기화\n",
    "    sampled_X = X_remaining.iloc[sample_indices].values\n",
    "    sampled_y = y_remaining.iloc[sample_indices].to_numpy()\n",
    "\n",
    "    # 선택된 샘플을 Training Set에 추가\n",
    "    X_initial = np.vstack([X_initial, sampled_X])\n",
    "    y_initial = np.hstack([y_initial, sampled_y])\n",
    "    X_initial_scaled = scaler.transform(X_initial)\n",
    "    # 남은 데이터에서 선택된 샘플 제거\n",
    "    X_remaining = X_remaining.drop(sample_indices).reset_index(drop=True)  # 인덱스 초기화\n",
    "    y_remaining = y_remaining.drop(sample_indices).reset_index(drop=True)  # 인덱스 초기화\n",
    "\n",
    "\n",
    "    # 새 학습 데이터로 DataLoader 생성\n",
    "    train_loader = create_dataloader(X_initial_scaled, y_initial)\n",
    "\n",
    "    # 모델 재학습\n",
    "    for epoch in range(epochs):\n",
    "        model.train()\n",
    "        for X_batch, y_batch in train_loader:\n",
    "            optimizer.zero_grad()\n",
    "            predictions = model(X_batch).squeeze()\n",
    "            loss = criterion(predictions, y_batch)\n",
    "            loss.backward()\n",
    "            optimizer.step()\n",
    "\n",
    "    # Test 성능 평가\n",
    "    mean_prediction, _ = mc_dropout_predict(model, X_test_tensor, n_simulations=20)\n",
    "    mse = mean_squared_error(y_test, mean_prediction)\n",
    "    r2 = r2_score(y_test, mean_prediction)\n",
    "    performance_log.append((mse, r2))\n",
    "    print(f\"Iteration {iteration + 1}/{iterations} - Test MSE: {mse}, R2: {r2}\")\n",
    "\n",
    "# 성능 기록 출력\n",
    "print(\"Performance log:\", performance_log)\n",
    "second_log = performance_log\n"
   ]
  },
  {
   "cell_type": "markdown",
   "metadata": {},
   "source": [
    "## 랜덤 샘플링이면서 매번 아예 새로운 모델을 학습시키는 코드"
   ]
  },
  {
   "cell_type": "code",
   "execution_count": 8,
   "metadata": {},
   "outputs": [
    {
     "name": "stderr",
     "output_type": "stream",
     "text": [
      "c:\\Users\\PSID_PC_20\\anaconda3\\envs\\python39\\lib\\site-packages\\sklearn\\base.py:486: UserWarning: X has feature names, but StandardScaler was fitted without feature names\n",
      "  warnings.warn(\n"
     ]
    },
    {
     "name": "stdout",
     "output_type": "stream",
     "text": [
      "Iteration 1/100 - Samples: 240, Test MSE: 0.0149, R2: 0.7245\n"
     ]
    },
    {
     "name": "stderr",
     "output_type": "stream",
     "text": [
      "c:\\Users\\PSID_PC_20\\anaconda3\\envs\\python39\\lib\\site-packages\\sklearn\\base.py:486: UserWarning: X has feature names, but StandardScaler was fitted without feature names\n",
      "  warnings.warn(\n"
     ]
    },
    {
     "name": "stdout",
     "output_type": "stream",
     "text": [
      "Iteration 2/100 - Samples: 250, Test MSE: 0.0044, R2: 0.9188\n"
     ]
    },
    {
     "name": "stderr",
     "output_type": "stream",
     "text": [
      "c:\\Users\\PSID_PC_20\\anaconda3\\envs\\python39\\lib\\site-packages\\sklearn\\base.py:486: UserWarning: X has feature names, but StandardScaler was fitted without feature names\n",
      "  warnings.warn(\n"
     ]
    },
    {
     "name": "stdout",
     "output_type": "stream",
     "text": [
      "Iteration 3/100 - Samples: 260, Test MSE: 0.0083, R2: 0.8476\n"
     ]
    },
    {
     "name": "stderr",
     "output_type": "stream",
     "text": [
      "c:\\Users\\PSID_PC_20\\anaconda3\\envs\\python39\\lib\\site-packages\\sklearn\\base.py:486: UserWarning: X has feature names, but StandardScaler was fitted without feature names\n",
      "  warnings.warn(\n"
     ]
    },
    {
     "name": "stdout",
     "output_type": "stream",
     "text": [
      "Iteration 4/100 - Samples: 270, Test MSE: 0.0114, R2: 0.7905\n"
     ]
    },
    {
     "name": "stderr",
     "output_type": "stream",
     "text": [
      "c:\\Users\\PSID_PC_20\\anaconda3\\envs\\python39\\lib\\site-packages\\sklearn\\base.py:486: UserWarning: X has feature names, but StandardScaler was fitted without feature names\n",
      "  warnings.warn(\n"
     ]
    },
    {
     "name": "stdout",
     "output_type": "stream",
     "text": [
      "Iteration 5/100 - Samples: 280, Test MSE: 0.0089, R2: 0.8366\n"
     ]
    },
    {
     "name": "stderr",
     "output_type": "stream",
     "text": [
      "c:\\Users\\PSID_PC_20\\anaconda3\\envs\\python39\\lib\\site-packages\\sklearn\\base.py:486: UserWarning: X has feature names, but StandardScaler was fitted without feature names\n",
      "  warnings.warn(\n"
     ]
    },
    {
     "name": "stdout",
     "output_type": "stream",
     "text": [
      "Iteration 6/100 - Samples: 290, Test MSE: 0.0092, R2: 0.8311\n"
     ]
    },
    {
     "name": "stderr",
     "output_type": "stream",
     "text": [
      "c:\\Users\\PSID_PC_20\\anaconda3\\envs\\python39\\lib\\site-packages\\sklearn\\base.py:486: UserWarning: X has feature names, but StandardScaler was fitted without feature names\n",
      "  warnings.warn(\n"
     ]
    },
    {
     "name": "stdout",
     "output_type": "stream",
     "text": [
      "Iteration 7/100 - Samples: 300, Test MSE: 0.0062, R2: 0.8851\n"
     ]
    },
    {
     "name": "stderr",
     "output_type": "stream",
     "text": [
      "c:\\Users\\PSID_PC_20\\anaconda3\\envs\\python39\\lib\\site-packages\\sklearn\\base.py:486: UserWarning: X has feature names, but StandardScaler was fitted without feature names\n",
      "  warnings.warn(\n"
     ]
    },
    {
     "name": "stdout",
     "output_type": "stream",
     "text": [
      "Iteration 8/100 - Samples: 310, Test MSE: 0.0066, R2: 0.8790\n"
     ]
    },
    {
     "name": "stderr",
     "output_type": "stream",
     "text": [
      "c:\\Users\\PSID_PC_20\\anaconda3\\envs\\python39\\lib\\site-packages\\sklearn\\base.py:486: UserWarning: X has feature names, but StandardScaler was fitted without feature names\n",
      "  warnings.warn(\n"
     ]
    },
    {
     "name": "stdout",
     "output_type": "stream",
     "text": [
      "Iteration 9/100 - Samples: 320, Test MSE: 0.0063, R2: 0.8842\n"
     ]
    },
    {
     "name": "stderr",
     "output_type": "stream",
     "text": [
      "c:\\Users\\PSID_PC_20\\anaconda3\\envs\\python39\\lib\\site-packages\\sklearn\\base.py:486: UserWarning: X has feature names, but StandardScaler was fitted without feature names\n",
      "  warnings.warn(\n"
     ]
    },
    {
     "name": "stdout",
     "output_type": "stream",
     "text": [
      "Iteration 10/100 - Samples: 330, Test MSE: 0.0046, R2: 0.9159\n"
     ]
    },
    {
     "name": "stderr",
     "output_type": "stream",
     "text": [
      "c:\\Users\\PSID_PC_20\\anaconda3\\envs\\python39\\lib\\site-packages\\sklearn\\base.py:486: UserWarning: X has feature names, but StandardScaler was fitted without feature names\n",
      "  warnings.warn(\n"
     ]
    },
    {
     "name": "stdout",
     "output_type": "stream",
     "text": [
      "Iteration 11/100 - Samples: 340, Test MSE: 0.0047, R2: 0.9139\n"
     ]
    },
    {
     "name": "stderr",
     "output_type": "stream",
     "text": [
      "c:\\Users\\PSID_PC_20\\anaconda3\\envs\\python39\\lib\\site-packages\\sklearn\\base.py:486: UserWarning: X has feature names, but StandardScaler was fitted without feature names\n",
      "  warnings.warn(\n"
     ]
    },
    {
     "name": "stdout",
     "output_type": "stream",
     "text": [
      "Iteration 12/100 - Samples: 350, Test MSE: 0.0080, R2: 0.8525\n"
     ]
    },
    {
     "name": "stderr",
     "output_type": "stream",
     "text": [
      "c:\\Users\\PSID_PC_20\\anaconda3\\envs\\python39\\lib\\site-packages\\sklearn\\base.py:486: UserWarning: X has feature names, but StandardScaler was fitted without feature names\n",
      "  warnings.warn(\n"
     ]
    },
    {
     "name": "stdout",
     "output_type": "stream",
     "text": [
      "Iteration 13/100 - Samples: 360, Test MSE: 0.0064, R2: 0.8827\n"
     ]
    },
    {
     "name": "stderr",
     "output_type": "stream",
     "text": [
      "c:\\Users\\PSID_PC_20\\anaconda3\\envs\\python39\\lib\\site-packages\\sklearn\\base.py:486: UserWarning: X has feature names, but StandardScaler was fitted without feature names\n",
      "  warnings.warn(\n"
     ]
    },
    {
     "name": "stdout",
     "output_type": "stream",
     "text": [
      "Iteration 14/100 - Samples: 370, Test MSE: 0.0036, R2: 0.9341\n"
     ]
    },
    {
     "name": "stderr",
     "output_type": "stream",
     "text": [
      "c:\\Users\\PSID_PC_20\\anaconda3\\envs\\python39\\lib\\site-packages\\sklearn\\base.py:486: UserWarning: X has feature names, but StandardScaler was fitted without feature names\n",
      "  warnings.warn(\n"
     ]
    },
    {
     "name": "stdout",
     "output_type": "stream",
     "text": [
      "Iteration 15/100 - Samples: 380, Test MSE: 0.0053, R2: 0.9023\n"
     ]
    },
    {
     "name": "stderr",
     "output_type": "stream",
     "text": [
      "c:\\Users\\PSID_PC_20\\anaconda3\\envs\\python39\\lib\\site-packages\\sklearn\\base.py:486: UserWarning: X has feature names, but StandardScaler was fitted without feature names\n",
      "  warnings.warn(\n"
     ]
    },
    {
     "name": "stdout",
     "output_type": "stream",
     "text": [
      "Iteration 16/100 - Samples: 390, Test MSE: 0.0057, R2: 0.8950\n"
     ]
    },
    {
     "name": "stderr",
     "output_type": "stream",
     "text": [
      "c:\\Users\\PSID_PC_20\\anaconda3\\envs\\python39\\lib\\site-packages\\sklearn\\base.py:486: UserWarning: X has feature names, but StandardScaler was fitted without feature names\n",
      "  warnings.warn(\n"
     ]
    },
    {
     "name": "stdout",
     "output_type": "stream",
     "text": [
      "Iteration 17/100 - Samples: 400, Test MSE: 0.0070, R2: 0.8706\n"
     ]
    },
    {
     "name": "stderr",
     "output_type": "stream",
     "text": [
      "c:\\Users\\PSID_PC_20\\anaconda3\\envs\\python39\\lib\\site-packages\\sklearn\\base.py:486: UserWarning: X has feature names, but StandardScaler was fitted without feature names\n",
      "  warnings.warn(\n"
     ]
    },
    {
     "name": "stdout",
     "output_type": "stream",
     "text": [
      "Iteration 18/100 - Samples: 410, Test MSE: 0.0073, R2: 0.8657\n"
     ]
    },
    {
     "name": "stderr",
     "output_type": "stream",
     "text": [
      "c:\\Users\\PSID_PC_20\\anaconda3\\envs\\python39\\lib\\site-packages\\sklearn\\base.py:486: UserWarning: X has feature names, but StandardScaler was fitted without feature names\n",
      "  warnings.warn(\n"
     ]
    },
    {
     "name": "stdout",
     "output_type": "stream",
     "text": [
      "Iteration 19/100 - Samples: 420, Test MSE: 0.0071, R2: 0.8683\n"
     ]
    },
    {
     "name": "stderr",
     "output_type": "stream",
     "text": [
      "c:\\Users\\PSID_PC_20\\anaconda3\\envs\\python39\\lib\\site-packages\\sklearn\\base.py:486: UserWarning: X has feature names, but StandardScaler was fitted without feature names\n",
      "  warnings.warn(\n"
     ]
    },
    {
     "name": "stdout",
     "output_type": "stream",
     "text": [
      "Iteration 20/100 - Samples: 430, Test MSE: 0.0107, R2: 0.8024\n"
     ]
    },
    {
     "name": "stderr",
     "output_type": "stream",
     "text": [
      "c:\\Users\\PSID_PC_20\\anaconda3\\envs\\python39\\lib\\site-packages\\sklearn\\base.py:486: UserWarning: X has feature names, but StandardScaler was fitted without feature names\n",
      "  warnings.warn(\n"
     ]
    },
    {
     "name": "stdout",
     "output_type": "stream",
     "text": [
      "Iteration 21/100 - Samples: 440, Test MSE: 0.0030, R2: 0.9446\n"
     ]
    },
    {
     "name": "stderr",
     "output_type": "stream",
     "text": [
      "c:\\Users\\PSID_PC_20\\anaconda3\\envs\\python39\\lib\\site-packages\\sklearn\\base.py:486: UserWarning: X has feature names, but StandardScaler was fitted without feature names\n",
      "  warnings.warn(\n"
     ]
    },
    {
     "name": "stdout",
     "output_type": "stream",
     "text": [
      "Iteration 22/100 - Samples: 450, Test MSE: 0.0070, R2: 0.8701\n"
     ]
    },
    {
     "name": "stderr",
     "output_type": "stream",
     "text": [
      "c:\\Users\\PSID_PC_20\\anaconda3\\envs\\python39\\lib\\site-packages\\sklearn\\base.py:486: UserWarning: X has feature names, but StandardScaler was fitted without feature names\n",
      "  warnings.warn(\n"
     ]
    },
    {
     "name": "stdout",
     "output_type": "stream",
     "text": [
      "Iteration 23/100 - Samples: 460, Test MSE: 0.0040, R2: 0.9258\n"
     ]
    },
    {
     "name": "stderr",
     "output_type": "stream",
     "text": [
      "c:\\Users\\PSID_PC_20\\anaconda3\\envs\\python39\\lib\\site-packages\\sklearn\\base.py:486: UserWarning: X has feature names, but StandardScaler was fitted without feature names\n",
      "  warnings.warn(\n"
     ]
    },
    {
     "name": "stdout",
     "output_type": "stream",
     "text": [
      "Iteration 24/100 - Samples: 470, Test MSE: 0.0054, R2: 0.9001\n"
     ]
    },
    {
     "name": "stderr",
     "output_type": "stream",
     "text": [
      "c:\\Users\\PSID_PC_20\\anaconda3\\envs\\python39\\lib\\site-packages\\sklearn\\base.py:486: UserWarning: X has feature names, but StandardScaler was fitted without feature names\n",
      "  warnings.warn(\n"
     ]
    },
    {
     "name": "stdout",
     "output_type": "stream",
     "text": [
      "Iteration 25/100 - Samples: 480, Test MSE: 0.0061, R2: 0.8866\n"
     ]
    },
    {
     "name": "stderr",
     "output_type": "stream",
     "text": [
      "c:\\Users\\PSID_PC_20\\anaconda3\\envs\\python39\\lib\\site-packages\\sklearn\\base.py:486: UserWarning: X has feature names, but StandardScaler was fitted without feature names\n",
      "  warnings.warn(\n"
     ]
    },
    {
     "name": "stdout",
     "output_type": "stream",
     "text": [
      "Iteration 26/100 - Samples: 490, Test MSE: 0.0060, R2: 0.8884\n"
     ]
    },
    {
     "name": "stderr",
     "output_type": "stream",
     "text": [
      "c:\\Users\\PSID_PC_20\\anaconda3\\envs\\python39\\lib\\site-packages\\sklearn\\base.py:486: UserWarning: X has feature names, but StandardScaler was fitted without feature names\n",
      "  warnings.warn(\n"
     ]
    },
    {
     "name": "stdout",
     "output_type": "stream",
     "text": [
      "Iteration 27/100 - Samples: 500, Test MSE: 0.0069, R2: 0.8727\n"
     ]
    },
    {
     "name": "stderr",
     "output_type": "stream",
     "text": [
      "c:\\Users\\PSID_PC_20\\anaconda3\\envs\\python39\\lib\\site-packages\\sklearn\\base.py:486: UserWarning: X has feature names, but StandardScaler was fitted without feature names\n",
      "  warnings.warn(\n"
     ]
    },
    {
     "name": "stdout",
     "output_type": "stream",
     "text": [
      "Iteration 28/100 - Samples: 510, Test MSE: 0.0048, R2: 0.9108\n"
     ]
    },
    {
     "name": "stderr",
     "output_type": "stream",
     "text": [
      "c:\\Users\\PSID_PC_20\\anaconda3\\envs\\python39\\lib\\site-packages\\sklearn\\base.py:486: UserWarning: X has feature names, but StandardScaler was fitted without feature names\n",
      "  warnings.warn(\n"
     ]
    },
    {
     "name": "stdout",
     "output_type": "stream",
     "text": [
      "Iteration 29/100 - Samples: 520, Test MSE: 0.0070, R2: 0.8715\n"
     ]
    },
    {
     "name": "stderr",
     "output_type": "stream",
     "text": [
      "c:\\Users\\PSID_PC_20\\anaconda3\\envs\\python39\\lib\\site-packages\\sklearn\\base.py:486: UserWarning: X has feature names, but StandardScaler was fitted without feature names\n",
      "  warnings.warn(\n"
     ]
    },
    {
     "name": "stdout",
     "output_type": "stream",
     "text": [
      "Iteration 30/100 - Samples: 530, Test MSE: 0.0045, R2: 0.9173\n"
     ]
    },
    {
     "name": "stderr",
     "output_type": "stream",
     "text": [
      "c:\\Users\\PSID_PC_20\\anaconda3\\envs\\python39\\lib\\site-packages\\sklearn\\base.py:486: UserWarning: X has feature names, but StandardScaler was fitted without feature names\n",
      "  warnings.warn(\n"
     ]
    },
    {
     "name": "stdout",
     "output_type": "stream",
     "text": [
      "Iteration 31/100 - Samples: 540, Test MSE: 0.0083, R2: 0.8471\n"
     ]
    },
    {
     "name": "stderr",
     "output_type": "stream",
     "text": [
      "c:\\Users\\PSID_PC_20\\anaconda3\\envs\\python39\\lib\\site-packages\\sklearn\\base.py:486: UserWarning: X has feature names, but StandardScaler was fitted without feature names\n",
      "  warnings.warn(\n"
     ]
    },
    {
     "name": "stdout",
     "output_type": "stream",
     "text": [
      "Iteration 32/100 - Samples: 550, Test MSE: 0.0038, R2: 0.9306\n"
     ]
    },
    {
     "name": "stderr",
     "output_type": "stream",
     "text": [
      "c:\\Users\\PSID_PC_20\\anaconda3\\envs\\python39\\lib\\site-packages\\sklearn\\base.py:486: UserWarning: X has feature names, but StandardScaler was fitted without feature names\n",
      "  warnings.warn(\n"
     ]
    },
    {
     "name": "stdout",
     "output_type": "stream",
     "text": [
      "Iteration 33/100 - Samples: 560, Test MSE: 0.0052, R2: 0.9048\n"
     ]
    },
    {
     "name": "stderr",
     "output_type": "stream",
     "text": [
      "c:\\Users\\PSID_PC_20\\anaconda3\\envs\\python39\\lib\\site-packages\\sklearn\\base.py:486: UserWarning: X has feature names, but StandardScaler was fitted without feature names\n",
      "  warnings.warn(\n"
     ]
    },
    {
     "name": "stdout",
     "output_type": "stream",
     "text": [
      "Iteration 34/100 - Samples: 570, Test MSE: 0.0053, R2: 0.9014\n"
     ]
    },
    {
     "name": "stderr",
     "output_type": "stream",
     "text": [
      "c:\\Users\\PSID_PC_20\\anaconda3\\envs\\python39\\lib\\site-packages\\sklearn\\base.py:486: UserWarning: X has feature names, but StandardScaler was fitted without feature names\n",
      "  warnings.warn(\n"
     ]
    },
    {
     "name": "stdout",
     "output_type": "stream",
     "text": [
      "Iteration 35/100 - Samples: 580, Test MSE: 0.0032, R2: 0.9412\n"
     ]
    },
    {
     "name": "stderr",
     "output_type": "stream",
     "text": [
      "c:\\Users\\PSID_PC_20\\anaconda3\\envs\\python39\\lib\\site-packages\\sklearn\\base.py:486: UserWarning: X has feature names, but StandardScaler was fitted without feature names\n",
      "  warnings.warn(\n"
     ]
    },
    {
     "name": "stdout",
     "output_type": "stream",
     "text": [
      "Iteration 36/100 - Samples: 590, Test MSE: 0.0065, R2: 0.8795\n"
     ]
    },
    {
     "name": "stderr",
     "output_type": "stream",
     "text": [
      "c:\\Users\\PSID_PC_20\\anaconda3\\envs\\python39\\lib\\site-packages\\sklearn\\base.py:486: UserWarning: X has feature names, but StandardScaler was fitted without feature names\n",
      "  warnings.warn(\n"
     ]
    },
    {
     "name": "stdout",
     "output_type": "stream",
     "text": [
      "Iteration 37/100 - Samples: 600, Test MSE: 0.0064, R2: 0.8810\n"
     ]
    },
    {
     "name": "stderr",
     "output_type": "stream",
     "text": [
      "c:\\Users\\PSID_PC_20\\anaconda3\\envs\\python39\\lib\\site-packages\\sklearn\\base.py:486: UserWarning: X has feature names, but StandardScaler was fitted without feature names\n",
      "  warnings.warn(\n"
     ]
    },
    {
     "name": "stdout",
     "output_type": "stream",
     "text": [
      "Iteration 38/100 - Samples: 610, Test MSE: 0.0068, R2: 0.8750\n"
     ]
    },
    {
     "name": "stderr",
     "output_type": "stream",
     "text": [
      "c:\\Users\\PSID_PC_20\\anaconda3\\envs\\python39\\lib\\site-packages\\sklearn\\base.py:486: UserWarning: X has feature names, but StandardScaler was fitted without feature names\n",
      "  warnings.warn(\n"
     ]
    },
    {
     "name": "stdout",
     "output_type": "stream",
     "text": [
      "Iteration 39/100 - Samples: 620, Test MSE: 0.0064, R2: 0.8816\n"
     ]
    },
    {
     "name": "stderr",
     "output_type": "stream",
     "text": [
      "c:\\Users\\PSID_PC_20\\anaconda3\\envs\\python39\\lib\\site-packages\\sklearn\\base.py:486: UserWarning: X has feature names, but StandardScaler was fitted without feature names\n",
      "  warnings.warn(\n"
     ]
    },
    {
     "name": "stdout",
     "output_type": "stream",
     "text": [
      "Iteration 40/100 - Samples: 630, Test MSE: 0.0100, R2: 0.8147\n"
     ]
    },
    {
     "name": "stderr",
     "output_type": "stream",
     "text": [
      "c:\\Users\\PSID_PC_20\\anaconda3\\envs\\python39\\lib\\site-packages\\sklearn\\base.py:486: UserWarning: X has feature names, but StandardScaler was fitted without feature names\n",
      "  warnings.warn(\n"
     ]
    },
    {
     "name": "stdout",
     "output_type": "stream",
     "text": [
      "Iteration 41/100 - Samples: 640, Test MSE: 0.0053, R2: 0.9016\n"
     ]
    },
    {
     "name": "stderr",
     "output_type": "stream",
     "text": [
      "c:\\Users\\PSID_PC_20\\anaconda3\\envs\\python39\\lib\\site-packages\\sklearn\\base.py:486: UserWarning: X has feature names, but StandardScaler was fitted without feature names\n",
      "  warnings.warn(\n"
     ]
    },
    {
     "name": "stdout",
     "output_type": "stream",
     "text": [
      "Iteration 42/100 - Samples: 650, Test MSE: 0.0038, R2: 0.9296\n"
     ]
    },
    {
     "name": "stderr",
     "output_type": "stream",
     "text": [
      "c:\\Users\\PSID_PC_20\\anaconda3\\envs\\python39\\lib\\site-packages\\sklearn\\base.py:486: UserWarning: X has feature names, but StandardScaler was fitted without feature names\n",
      "  warnings.warn(\n"
     ]
    },
    {
     "name": "stdout",
     "output_type": "stream",
     "text": [
      "Iteration 43/100 - Samples: 660, Test MSE: 0.0083, R2: 0.8467\n"
     ]
    },
    {
     "name": "stderr",
     "output_type": "stream",
     "text": [
      "c:\\Users\\PSID_PC_20\\anaconda3\\envs\\python39\\lib\\site-packages\\sklearn\\base.py:486: UserWarning: X has feature names, but StandardScaler was fitted without feature names\n",
      "  warnings.warn(\n"
     ]
    },
    {
     "name": "stdout",
     "output_type": "stream",
     "text": [
      "Iteration 44/100 - Samples: 670, Test MSE: 0.0063, R2: 0.8830\n"
     ]
    },
    {
     "name": "stderr",
     "output_type": "stream",
     "text": [
      "c:\\Users\\PSID_PC_20\\anaconda3\\envs\\python39\\lib\\site-packages\\sklearn\\base.py:486: UserWarning: X has feature names, but StandardScaler was fitted without feature names\n",
      "  warnings.warn(\n"
     ]
    },
    {
     "name": "stdout",
     "output_type": "stream",
     "text": [
      "Iteration 45/100 - Samples: 680, Test MSE: 0.0051, R2: 0.9057\n"
     ]
    },
    {
     "name": "stderr",
     "output_type": "stream",
     "text": [
      "c:\\Users\\PSID_PC_20\\anaconda3\\envs\\python39\\lib\\site-packages\\sklearn\\base.py:486: UserWarning: X has feature names, but StandardScaler was fitted without feature names\n",
      "  warnings.warn(\n"
     ]
    },
    {
     "name": "stdout",
     "output_type": "stream",
     "text": [
      "Iteration 46/100 - Samples: 690, Test MSE: 0.0048, R2: 0.9112\n"
     ]
    },
    {
     "name": "stderr",
     "output_type": "stream",
     "text": [
      "c:\\Users\\PSID_PC_20\\anaconda3\\envs\\python39\\lib\\site-packages\\sklearn\\base.py:486: UserWarning: X has feature names, but StandardScaler was fitted without feature names\n",
      "  warnings.warn(\n"
     ]
    },
    {
     "name": "stdout",
     "output_type": "stream",
     "text": [
      "Iteration 47/100 - Samples: 700, Test MSE: 0.0047, R2: 0.9129\n"
     ]
    },
    {
     "name": "stderr",
     "output_type": "stream",
     "text": [
      "c:\\Users\\PSID_PC_20\\anaconda3\\envs\\python39\\lib\\site-packages\\sklearn\\base.py:486: UserWarning: X has feature names, but StandardScaler was fitted without feature names\n",
      "  warnings.warn(\n"
     ]
    },
    {
     "name": "stdout",
     "output_type": "stream",
     "text": [
      "Iteration 48/100 - Samples: 710, Test MSE: 0.0069, R2: 0.8731\n"
     ]
    },
    {
     "name": "stderr",
     "output_type": "stream",
     "text": [
      "c:\\Users\\PSID_PC_20\\anaconda3\\envs\\python39\\lib\\site-packages\\sklearn\\base.py:486: UserWarning: X has feature names, but StandardScaler was fitted without feature names\n",
      "  warnings.warn(\n"
     ]
    },
    {
     "name": "stdout",
     "output_type": "stream",
     "text": [
      "Iteration 49/100 - Samples: 720, Test MSE: 0.0048, R2: 0.9122\n"
     ]
    },
    {
     "name": "stderr",
     "output_type": "stream",
     "text": [
      "c:\\Users\\PSID_PC_20\\anaconda3\\envs\\python39\\lib\\site-packages\\sklearn\\base.py:486: UserWarning: X has feature names, but StandardScaler was fitted without feature names\n",
      "  warnings.warn(\n"
     ]
    },
    {
     "name": "stdout",
     "output_type": "stream",
     "text": [
      "Iteration 50/100 - Samples: 730, Test MSE: 0.0062, R2: 0.8851\n"
     ]
    },
    {
     "name": "stderr",
     "output_type": "stream",
     "text": [
      "c:\\Users\\PSID_PC_20\\anaconda3\\envs\\python39\\lib\\site-packages\\sklearn\\base.py:486: UserWarning: X has feature names, but StandardScaler was fitted without feature names\n",
      "  warnings.warn(\n"
     ]
    },
    {
     "name": "stdout",
     "output_type": "stream",
     "text": [
      "Iteration 51/100 - Samples: 740, Test MSE: 0.0068, R2: 0.8748\n"
     ]
    },
    {
     "name": "stderr",
     "output_type": "stream",
     "text": [
      "c:\\Users\\PSID_PC_20\\anaconda3\\envs\\python39\\lib\\site-packages\\sklearn\\base.py:486: UserWarning: X has feature names, but StandardScaler was fitted without feature names\n",
      "  warnings.warn(\n"
     ]
    },
    {
     "name": "stdout",
     "output_type": "stream",
     "text": [
      "Iteration 52/100 - Samples: 750, Test MSE: 0.0048, R2: 0.9114\n"
     ]
    },
    {
     "name": "stderr",
     "output_type": "stream",
     "text": [
      "c:\\Users\\PSID_PC_20\\anaconda3\\envs\\python39\\lib\\site-packages\\sklearn\\base.py:486: UserWarning: X has feature names, but StandardScaler was fitted without feature names\n",
      "  warnings.warn(\n"
     ]
    },
    {
     "name": "stdout",
     "output_type": "stream",
     "text": [
      "Iteration 53/100 - Samples: 760, Test MSE: 0.0045, R2: 0.9178\n"
     ]
    },
    {
     "name": "stderr",
     "output_type": "stream",
     "text": [
      "c:\\Users\\PSID_PC_20\\anaconda3\\envs\\python39\\lib\\site-packages\\sklearn\\base.py:486: UserWarning: X has feature names, but StandardScaler was fitted without feature names\n",
      "  warnings.warn(\n"
     ]
    },
    {
     "name": "stdout",
     "output_type": "stream",
     "text": [
      "Iteration 54/100 - Samples: 770, Test MSE: 0.0042, R2: 0.9223\n"
     ]
    },
    {
     "name": "stderr",
     "output_type": "stream",
     "text": [
      "c:\\Users\\PSID_PC_20\\anaconda3\\envs\\python39\\lib\\site-packages\\sklearn\\base.py:486: UserWarning: X has feature names, but StandardScaler was fitted without feature names\n",
      "  warnings.warn(\n"
     ]
    },
    {
     "name": "stdout",
     "output_type": "stream",
     "text": [
      "Iteration 55/100 - Samples: 780, Test MSE: 0.0041, R2: 0.9238\n"
     ]
    },
    {
     "name": "stderr",
     "output_type": "stream",
     "text": [
      "c:\\Users\\PSID_PC_20\\anaconda3\\envs\\python39\\lib\\site-packages\\sklearn\\base.py:486: UserWarning: X has feature names, but StandardScaler was fitted without feature names\n",
      "  warnings.warn(\n"
     ]
    },
    {
     "name": "stdout",
     "output_type": "stream",
     "text": [
      "Iteration 56/100 - Samples: 790, Test MSE: 0.0030, R2: 0.9440\n"
     ]
    },
    {
     "name": "stderr",
     "output_type": "stream",
     "text": [
      "c:\\Users\\PSID_PC_20\\anaconda3\\envs\\python39\\lib\\site-packages\\sklearn\\base.py:486: UserWarning: X has feature names, but StandardScaler was fitted without feature names\n",
      "  warnings.warn(\n"
     ]
    },
    {
     "name": "stdout",
     "output_type": "stream",
     "text": [
      "Iteration 57/100 - Samples: 800, Test MSE: 0.0038, R2: 0.9291\n"
     ]
    },
    {
     "name": "stderr",
     "output_type": "stream",
     "text": [
      "c:\\Users\\PSID_PC_20\\anaconda3\\envs\\python39\\lib\\site-packages\\sklearn\\base.py:486: UserWarning: X has feature names, but StandardScaler was fitted without feature names\n",
      "  warnings.warn(\n"
     ]
    },
    {
     "name": "stdout",
     "output_type": "stream",
     "text": [
      "Iteration 58/100 - Samples: 810, Test MSE: 0.0047, R2: 0.9131\n"
     ]
    },
    {
     "name": "stderr",
     "output_type": "stream",
     "text": [
      "c:\\Users\\PSID_PC_20\\anaconda3\\envs\\python39\\lib\\site-packages\\sklearn\\base.py:486: UserWarning: X has feature names, but StandardScaler was fitted without feature names\n",
      "  warnings.warn(\n"
     ]
    },
    {
     "name": "stdout",
     "output_type": "stream",
     "text": [
      "Iteration 59/100 - Samples: 820, Test MSE: 0.0050, R2: 0.9070\n"
     ]
    },
    {
     "name": "stderr",
     "output_type": "stream",
     "text": [
      "c:\\Users\\PSID_PC_20\\anaconda3\\envs\\python39\\lib\\site-packages\\sklearn\\base.py:486: UserWarning: X has feature names, but StandardScaler was fitted without feature names\n",
      "  warnings.warn(\n"
     ]
    },
    {
     "name": "stdout",
     "output_type": "stream",
     "text": [
      "Iteration 60/100 - Samples: 830, Test MSE: 0.0063, R2: 0.8845\n"
     ]
    },
    {
     "name": "stderr",
     "output_type": "stream",
     "text": [
      "c:\\Users\\PSID_PC_20\\anaconda3\\envs\\python39\\lib\\site-packages\\sklearn\\base.py:486: UserWarning: X has feature names, but StandardScaler was fitted without feature names\n",
      "  warnings.warn(\n"
     ]
    },
    {
     "name": "stdout",
     "output_type": "stream",
     "text": [
      "Iteration 61/100 - Samples: 840, Test MSE: 0.0061, R2: 0.8869\n"
     ]
    },
    {
     "name": "stderr",
     "output_type": "stream",
     "text": [
      "c:\\Users\\PSID_PC_20\\anaconda3\\envs\\python39\\lib\\site-packages\\sklearn\\base.py:486: UserWarning: X has feature names, but StandardScaler was fitted without feature names\n",
      "  warnings.warn(\n"
     ]
    },
    {
     "name": "stdout",
     "output_type": "stream",
     "text": [
      "Iteration 62/100 - Samples: 850, Test MSE: 0.0059, R2: 0.8916\n"
     ]
    },
    {
     "name": "stderr",
     "output_type": "stream",
     "text": [
      "c:\\Users\\PSID_PC_20\\anaconda3\\envs\\python39\\lib\\site-packages\\sklearn\\base.py:486: UserWarning: X has feature names, but StandardScaler was fitted without feature names\n",
      "  warnings.warn(\n"
     ]
    },
    {
     "name": "stdout",
     "output_type": "stream",
     "text": [
      "Iteration 63/100 - Samples: 860, Test MSE: 0.0049, R2: 0.9095\n"
     ]
    },
    {
     "name": "stderr",
     "output_type": "stream",
     "text": [
      "c:\\Users\\PSID_PC_20\\anaconda3\\envs\\python39\\lib\\site-packages\\sklearn\\base.py:486: UserWarning: X has feature names, but StandardScaler was fitted without feature names\n",
      "  warnings.warn(\n"
     ]
    },
    {
     "name": "stdout",
     "output_type": "stream",
     "text": [
      "Iteration 64/100 - Samples: 870, Test MSE: 0.0074, R2: 0.8627\n"
     ]
    },
    {
     "name": "stderr",
     "output_type": "stream",
     "text": [
      "c:\\Users\\PSID_PC_20\\anaconda3\\envs\\python39\\lib\\site-packages\\sklearn\\base.py:486: UserWarning: X has feature names, but StandardScaler was fitted without feature names\n",
      "  warnings.warn(\n"
     ]
    },
    {
     "name": "stdout",
     "output_type": "stream",
     "text": [
      "Iteration 65/100 - Samples: 880, Test MSE: 0.0052, R2: 0.9039\n"
     ]
    },
    {
     "name": "stderr",
     "output_type": "stream",
     "text": [
      "c:\\Users\\PSID_PC_20\\anaconda3\\envs\\python39\\lib\\site-packages\\sklearn\\base.py:486: UserWarning: X has feature names, but StandardScaler was fitted without feature names\n",
      "  warnings.warn(\n"
     ]
    },
    {
     "name": "stdout",
     "output_type": "stream",
     "text": [
      "Iteration 66/100 - Samples: 890, Test MSE: 0.0097, R2: 0.8211\n"
     ]
    },
    {
     "name": "stderr",
     "output_type": "stream",
     "text": [
      "c:\\Users\\PSID_PC_20\\anaconda3\\envs\\python39\\lib\\site-packages\\sklearn\\base.py:486: UserWarning: X has feature names, but StandardScaler was fitted without feature names\n",
      "  warnings.warn(\n"
     ]
    },
    {
     "name": "stdout",
     "output_type": "stream",
     "text": [
      "Iteration 67/100 - Samples: 900, Test MSE: 0.0009, R2: 0.9827\n"
     ]
    },
    {
     "name": "stderr",
     "output_type": "stream",
     "text": [
      "c:\\Users\\PSID_PC_20\\anaconda3\\envs\\python39\\lib\\site-packages\\sklearn\\base.py:486: UserWarning: X has feature names, but StandardScaler was fitted without feature names\n",
      "  warnings.warn(\n"
     ]
    },
    {
     "name": "stdout",
     "output_type": "stream",
     "text": [
      "Iteration 68/100 - Samples: 910, Test MSE: 0.0025, R2: 0.9539\n"
     ]
    },
    {
     "name": "stderr",
     "output_type": "stream",
     "text": [
      "c:\\Users\\PSID_PC_20\\anaconda3\\envs\\python39\\lib\\site-packages\\sklearn\\base.py:486: UserWarning: X has feature names, but StandardScaler was fitted without feature names\n",
      "  warnings.warn(\n"
     ]
    },
    {
     "name": "stdout",
     "output_type": "stream",
     "text": [
      "Iteration 69/100 - Samples: 920, Test MSE: 0.0020, R2: 0.9638\n"
     ]
    },
    {
     "name": "stderr",
     "output_type": "stream",
     "text": [
      "c:\\Users\\PSID_PC_20\\anaconda3\\envs\\python39\\lib\\site-packages\\sklearn\\base.py:486: UserWarning: X has feature names, but StandardScaler was fitted without feature names\n",
      "  warnings.warn(\n"
     ]
    },
    {
     "name": "stdout",
     "output_type": "stream",
     "text": [
      "Iteration 70/100 - Samples: 930, Test MSE: 0.0018, R2: 0.9675\n"
     ]
    },
    {
     "name": "stderr",
     "output_type": "stream",
     "text": [
      "c:\\Users\\PSID_PC_20\\anaconda3\\envs\\python39\\lib\\site-packages\\sklearn\\base.py:486: UserWarning: X has feature names, but StandardScaler was fitted without feature names\n",
      "  warnings.warn(\n"
     ]
    },
    {
     "name": "stdout",
     "output_type": "stream",
     "text": [
      "Iteration 71/100 - Samples: 940, Test MSE: 0.0017, R2: 0.9692\n"
     ]
    },
    {
     "name": "stderr",
     "output_type": "stream",
     "text": [
      "c:\\Users\\PSID_PC_20\\anaconda3\\envs\\python39\\lib\\site-packages\\sklearn\\base.py:486: UserWarning: X has feature names, but StandardScaler was fitted without feature names\n",
      "  warnings.warn(\n"
     ]
    },
    {
     "name": "stdout",
     "output_type": "stream",
     "text": [
      "Iteration 72/100 - Samples: 950, Test MSE: 0.0019, R2: 0.9656\n"
     ]
    },
    {
     "name": "stderr",
     "output_type": "stream",
     "text": [
      "c:\\Users\\PSID_PC_20\\anaconda3\\envs\\python39\\lib\\site-packages\\sklearn\\base.py:486: UserWarning: X has feature names, but StandardScaler was fitted without feature names\n",
      "  warnings.warn(\n"
     ]
    },
    {
     "name": "stdout",
     "output_type": "stream",
     "text": [
      "Iteration 73/100 - Samples: 960, Test MSE: 0.0029, R2: 0.9456\n"
     ]
    },
    {
     "name": "stderr",
     "output_type": "stream",
     "text": [
      "c:\\Users\\PSID_PC_20\\anaconda3\\envs\\python39\\lib\\site-packages\\sklearn\\base.py:486: UserWarning: X has feature names, but StandardScaler was fitted without feature names\n",
      "  warnings.warn(\n"
     ]
    },
    {
     "name": "stdout",
     "output_type": "stream",
     "text": [
      "Iteration 74/100 - Samples: 970, Test MSE: 0.0022, R2: 0.9601\n"
     ]
    },
    {
     "name": "stderr",
     "output_type": "stream",
     "text": [
      "c:\\Users\\PSID_PC_20\\anaconda3\\envs\\python39\\lib\\site-packages\\sklearn\\base.py:486: UserWarning: X has feature names, but StandardScaler was fitted without feature names\n",
      "  warnings.warn(\n"
     ]
    },
    {
     "name": "stdout",
     "output_type": "stream",
     "text": [
      "Iteration 75/100 - Samples: 980, Test MSE: 0.0013, R2: 0.9755\n"
     ]
    },
    {
     "name": "stderr",
     "output_type": "stream",
     "text": [
      "c:\\Users\\PSID_PC_20\\anaconda3\\envs\\python39\\lib\\site-packages\\sklearn\\base.py:486: UserWarning: X has feature names, but StandardScaler was fitted without feature names\n",
      "  warnings.warn(\n"
     ]
    },
    {
     "name": "stdout",
     "output_type": "stream",
     "text": [
      "Iteration 76/100 - Samples: 990, Test MSE: 0.0016, R2: 0.9704\n"
     ]
    },
    {
     "name": "stderr",
     "output_type": "stream",
     "text": [
      "c:\\Users\\PSID_PC_20\\anaconda3\\envs\\python39\\lib\\site-packages\\sklearn\\base.py:486: UserWarning: X has feature names, but StandardScaler was fitted without feature names\n",
      "  warnings.warn(\n"
     ]
    },
    {
     "name": "stdout",
     "output_type": "stream",
     "text": [
      "Iteration 77/100 - Samples: 1000, Test MSE: 0.0041, R2: 0.9249\n"
     ]
    },
    {
     "name": "stderr",
     "output_type": "stream",
     "text": [
      "c:\\Users\\PSID_PC_20\\anaconda3\\envs\\python39\\lib\\site-packages\\sklearn\\base.py:486: UserWarning: X has feature names, but StandardScaler was fitted without feature names\n",
      "  warnings.warn(\n"
     ]
    },
    {
     "name": "stdout",
     "output_type": "stream",
     "text": [
      "Iteration 78/100 - Samples: 1010, Test MSE: 0.0022, R2: 0.9599\n"
     ]
    },
    {
     "name": "stderr",
     "output_type": "stream",
     "text": [
      "c:\\Users\\PSID_PC_20\\anaconda3\\envs\\python39\\lib\\site-packages\\sklearn\\base.py:486: UserWarning: X has feature names, but StandardScaler was fitted without feature names\n",
      "  warnings.warn(\n"
     ]
    },
    {
     "name": "stdout",
     "output_type": "stream",
     "text": [
      "Iteration 79/100 - Samples: 1020, Test MSE: 0.0048, R2: 0.9111\n"
     ]
    },
    {
     "name": "stderr",
     "output_type": "stream",
     "text": [
      "c:\\Users\\PSID_PC_20\\anaconda3\\envs\\python39\\lib\\site-packages\\sklearn\\base.py:486: UserWarning: X has feature names, but StandardScaler was fitted without feature names\n",
      "  warnings.warn(\n"
     ]
    },
    {
     "name": "stdout",
     "output_type": "stream",
     "text": [
      "Iteration 80/100 - Samples: 1030, Test MSE: 0.0018, R2: 0.9665\n"
     ]
    },
    {
     "name": "stderr",
     "output_type": "stream",
     "text": [
      "c:\\Users\\PSID_PC_20\\anaconda3\\envs\\python39\\lib\\site-packages\\sklearn\\base.py:486: UserWarning: X has feature names, but StandardScaler was fitted without feature names\n",
      "  warnings.warn(\n"
     ]
    },
    {
     "name": "stdout",
     "output_type": "stream",
     "text": [
      "Iteration 81/100 - Samples: 1040, Test MSE: 0.0016, R2: 0.9712\n"
     ]
    },
    {
     "name": "stderr",
     "output_type": "stream",
     "text": [
      "c:\\Users\\PSID_PC_20\\anaconda3\\envs\\python39\\lib\\site-packages\\sklearn\\base.py:486: UserWarning: X has feature names, but StandardScaler was fitted without feature names\n",
      "  warnings.warn(\n"
     ]
    },
    {
     "name": "stdout",
     "output_type": "stream",
     "text": [
      "Iteration 82/100 - Samples: 1050, Test MSE: 0.0017, R2: 0.9691\n"
     ]
    },
    {
     "name": "stderr",
     "output_type": "stream",
     "text": [
      "c:\\Users\\PSID_PC_20\\anaconda3\\envs\\python39\\lib\\site-packages\\sklearn\\base.py:486: UserWarning: X has feature names, but StandardScaler was fitted without feature names\n",
      "  warnings.warn(\n"
     ]
    },
    {
     "name": "stdout",
     "output_type": "stream",
     "text": [
      "Iteration 83/100 - Samples: 1060, Test MSE: 0.0040, R2: 0.9268\n"
     ]
    },
    {
     "name": "stderr",
     "output_type": "stream",
     "text": [
      "c:\\Users\\PSID_PC_20\\anaconda3\\envs\\python39\\lib\\site-packages\\sklearn\\base.py:486: UserWarning: X has feature names, but StandardScaler was fitted without feature names\n",
      "  warnings.warn(\n"
     ]
    },
    {
     "name": "stdout",
     "output_type": "stream",
     "text": [
      "Iteration 84/100 - Samples: 1070, Test MSE: 0.0020, R2: 0.9637\n"
     ]
    },
    {
     "name": "stderr",
     "output_type": "stream",
     "text": [
      "c:\\Users\\PSID_PC_20\\anaconda3\\envs\\python39\\lib\\site-packages\\sklearn\\base.py:486: UserWarning: X has feature names, but StandardScaler was fitted without feature names\n",
      "  warnings.warn(\n"
     ]
    },
    {
     "name": "stdout",
     "output_type": "stream",
     "text": [
      "Iteration 85/100 - Samples: 1080, Test MSE: 0.0025, R2: 0.9532\n"
     ]
    },
    {
     "name": "stderr",
     "output_type": "stream",
     "text": [
      "c:\\Users\\PSID_PC_20\\anaconda3\\envs\\python39\\lib\\site-packages\\sklearn\\base.py:486: UserWarning: X has feature names, but StandardScaler was fitted without feature names\n",
      "  warnings.warn(\n"
     ]
    },
    {
     "name": "stdout",
     "output_type": "stream",
     "text": [
      "Iteration 86/100 - Samples: 1090, Test MSE: 0.0019, R2: 0.9655\n"
     ]
    },
    {
     "name": "stderr",
     "output_type": "stream",
     "text": [
      "c:\\Users\\PSID_PC_20\\anaconda3\\envs\\python39\\lib\\site-packages\\sklearn\\base.py:486: UserWarning: X has feature names, but StandardScaler was fitted without feature names\n",
      "  warnings.warn(\n"
     ]
    },
    {
     "name": "stdout",
     "output_type": "stream",
     "text": [
      "Iteration 87/100 - Samples: 1100, Test MSE: 0.0031, R2: 0.9433\n"
     ]
    },
    {
     "name": "stderr",
     "output_type": "stream",
     "text": [
      "c:\\Users\\PSID_PC_20\\anaconda3\\envs\\python39\\lib\\site-packages\\sklearn\\base.py:486: UserWarning: X has feature names, but StandardScaler was fitted without feature names\n",
      "  warnings.warn(\n"
     ]
    },
    {
     "name": "stdout",
     "output_type": "stream",
     "text": [
      "Iteration 88/100 - Samples: 1110, Test MSE: 0.0025, R2: 0.9532\n"
     ]
    },
    {
     "name": "stderr",
     "output_type": "stream",
     "text": [
      "c:\\Users\\PSID_PC_20\\anaconda3\\envs\\python39\\lib\\site-packages\\sklearn\\base.py:486: UserWarning: X has feature names, but StandardScaler was fitted without feature names\n",
      "  warnings.warn(\n"
     ]
    },
    {
     "name": "stdout",
     "output_type": "stream",
     "text": [
      "Iteration 89/100 - Samples: 1120, Test MSE: 0.0014, R2: 0.9732\n"
     ]
    },
    {
     "name": "stderr",
     "output_type": "stream",
     "text": [
      "c:\\Users\\PSID_PC_20\\anaconda3\\envs\\python39\\lib\\site-packages\\sklearn\\base.py:486: UserWarning: X has feature names, but StandardScaler was fitted without feature names\n",
      "  warnings.warn(\n"
     ]
    },
    {
     "name": "stdout",
     "output_type": "stream",
     "text": [
      "Iteration 90/100 - Samples: 1130, Test MSE: 0.0010, R2: 0.9817\n"
     ]
    },
    {
     "name": "stderr",
     "output_type": "stream",
     "text": [
      "c:\\Users\\PSID_PC_20\\anaconda3\\envs\\python39\\lib\\site-packages\\sklearn\\base.py:486: UserWarning: X has feature names, but StandardScaler was fitted without feature names\n",
      "  warnings.warn(\n"
     ]
    },
    {
     "name": "stdout",
     "output_type": "stream",
     "text": [
      "Iteration 91/100 - Samples: 1140, Test MSE: 0.0014, R2: 0.9741\n"
     ]
    },
    {
     "name": "stderr",
     "output_type": "stream",
     "text": [
      "c:\\Users\\PSID_PC_20\\anaconda3\\envs\\python39\\lib\\site-packages\\sklearn\\base.py:486: UserWarning: X has feature names, but StandardScaler was fitted without feature names\n",
      "  warnings.warn(\n"
     ]
    },
    {
     "name": "stdout",
     "output_type": "stream",
     "text": [
      "Iteration 92/100 - Samples: 1150, Test MSE: 0.0019, R2: 0.9653\n"
     ]
    },
    {
     "name": "stderr",
     "output_type": "stream",
     "text": [
      "c:\\Users\\PSID_PC_20\\anaconda3\\envs\\python39\\lib\\site-packages\\sklearn\\base.py:486: UserWarning: X has feature names, but StandardScaler was fitted without feature names\n",
      "  warnings.warn(\n"
     ]
    },
    {
     "name": "stdout",
     "output_type": "stream",
     "text": [
      "Iteration 93/100 - Samples: 1160, Test MSE: 0.0032, R2: 0.9411\n"
     ]
    },
    {
     "name": "stderr",
     "output_type": "stream",
     "text": [
      "c:\\Users\\PSID_PC_20\\anaconda3\\envs\\python39\\lib\\site-packages\\sklearn\\base.py:486: UserWarning: X has feature names, but StandardScaler was fitted without feature names\n",
      "  warnings.warn(\n"
     ]
    },
    {
     "name": "stdout",
     "output_type": "stream",
     "text": [
      "Iteration 94/100 - Samples: 1170, Test MSE: 0.0014, R2: 0.9738\n"
     ]
    },
    {
     "name": "stderr",
     "output_type": "stream",
     "text": [
      "c:\\Users\\PSID_PC_20\\anaconda3\\envs\\python39\\lib\\site-packages\\sklearn\\base.py:486: UserWarning: X has feature names, but StandardScaler was fitted without feature names\n",
      "  warnings.warn(\n"
     ]
    },
    {
     "name": "stdout",
     "output_type": "stream",
     "text": [
      "Iteration 95/100 - Samples: 1180, Test MSE: 0.0014, R2: 0.9743\n"
     ]
    },
    {
     "name": "stderr",
     "output_type": "stream",
     "text": [
      "c:\\Users\\PSID_PC_20\\anaconda3\\envs\\python39\\lib\\site-packages\\sklearn\\base.py:486: UserWarning: X has feature names, but StandardScaler was fitted without feature names\n",
      "  warnings.warn(\n"
     ]
    },
    {
     "name": "stdout",
     "output_type": "stream",
     "text": [
      "Iteration 96/100 - Samples: 1190, Test MSE: 0.0020, R2: 0.9633\n"
     ]
    },
    {
     "name": "stderr",
     "output_type": "stream",
     "text": [
      "c:\\Users\\PSID_PC_20\\anaconda3\\envs\\python39\\lib\\site-packages\\sklearn\\base.py:486: UserWarning: X has feature names, but StandardScaler was fitted without feature names\n",
      "  warnings.warn(\n"
     ]
    },
    {
     "name": "stdout",
     "output_type": "stream",
     "text": [
      "Iteration 97/100 - Samples: 1200, Test MSE: 0.0013, R2: 0.9768\n"
     ]
    },
    {
     "name": "stderr",
     "output_type": "stream",
     "text": [
      "c:\\Users\\PSID_PC_20\\anaconda3\\envs\\python39\\lib\\site-packages\\sklearn\\base.py:486: UserWarning: X has feature names, but StandardScaler was fitted without feature names\n",
      "  warnings.warn(\n"
     ]
    },
    {
     "name": "stdout",
     "output_type": "stream",
     "text": [
      "Iteration 98/100 - Samples: 1210, Test MSE: 0.0013, R2: 0.9764\n"
     ]
    },
    {
     "name": "stderr",
     "output_type": "stream",
     "text": [
      "c:\\Users\\PSID_PC_20\\anaconda3\\envs\\python39\\lib\\site-packages\\sklearn\\base.py:486: UserWarning: X has feature names, but StandardScaler was fitted without feature names\n",
      "  warnings.warn(\n"
     ]
    },
    {
     "name": "stdout",
     "output_type": "stream",
     "text": [
      "Iteration 99/100 - Samples: 1220, Test MSE: 0.0030, R2: 0.9450\n"
     ]
    },
    {
     "name": "stderr",
     "output_type": "stream",
     "text": [
      "c:\\Users\\PSID_PC_20\\anaconda3\\envs\\python39\\lib\\site-packages\\sklearn\\base.py:486: UserWarning: X has feature names, but StandardScaler was fitted without feature names\n",
      "  warnings.warn(\n"
     ]
    },
    {
     "name": "stdout",
     "output_type": "stream",
     "text": [
      "Iteration 100/100 - Samples: 1230, Test MSE: 0.0015, R2: 0.9727\n",
      "Performance log:\n",
      "MSE: 0.0149, R2: 0.7245\n",
      "MSE: 0.0044, R2: 0.9188\n",
      "MSE: 0.0083, R2: 0.8476\n",
      "MSE: 0.0114, R2: 0.7905\n",
      "MSE: 0.0089, R2: 0.8366\n",
      "MSE: 0.0092, R2: 0.8311\n",
      "MSE: 0.0062, R2: 0.8851\n",
      "MSE: 0.0066, R2: 0.8790\n",
      "MSE: 0.0063, R2: 0.8842\n",
      "MSE: 0.0046, R2: 0.9159\n",
      "MSE: 0.0047, R2: 0.9139\n",
      "MSE: 0.0080, R2: 0.8525\n",
      "MSE: 0.0064, R2: 0.8827\n",
      "MSE: 0.0036, R2: 0.9341\n",
      "MSE: 0.0053, R2: 0.9023\n",
      "MSE: 0.0057, R2: 0.8950\n",
      "MSE: 0.0070, R2: 0.8706\n",
      "MSE: 0.0073, R2: 0.8657\n",
      "MSE: 0.0071, R2: 0.8683\n",
      "MSE: 0.0107, R2: 0.8024\n",
      "MSE: 0.0030, R2: 0.9446\n",
      "MSE: 0.0070, R2: 0.8701\n",
      "MSE: 0.0040, R2: 0.9258\n",
      "MSE: 0.0054, R2: 0.9001\n",
      "MSE: 0.0061, R2: 0.8866\n",
      "MSE: 0.0060, R2: 0.8884\n",
      "MSE: 0.0069, R2: 0.8727\n",
      "MSE: 0.0048, R2: 0.9108\n",
      "MSE: 0.0070, R2: 0.8715\n",
      "MSE: 0.0045, R2: 0.9173\n",
      "MSE: 0.0083, R2: 0.8471\n",
      "MSE: 0.0038, R2: 0.9306\n",
      "MSE: 0.0052, R2: 0.9048\n",
      "MSE: 0.0053, R2: 0.9014\n",
      "MSE: 0.0032, R2: 0.9412\n",
      "MSE: 0.0065, R2: 0.8795\n",
      "MSE: 0.0064, R2: 0.8810\n",
      "MSE: 0.0068, R2: 0.8750\n",
      "MSE: 0.0064, R2: 0.8816\n",
      "MSE: 0.0100, R2: 0.8147\n",
      "MSE: 0.0053, R2: 0.9016\n",
      "MSE: 0.0038, R2: 0.9296\n",
      "MSE: 0.0083, R2: 0.8467\n",
      "MSE: 0.0063, R2: 0.8830\n",
      "MSE: 0.0051, R2: 0.9057\n",
      "MSE: 0.0048, R2: 0.9112\n",
      "MSE: 0.0047, R2: 0.9129\n",
      "MSE: 0.0069, R2: 0.8731\n",
      "MSE: 0.0048, R2: 0.9122\n",
      "MSE: 0.0062, R2: 0.8851\n",
      "MSE: 0.0068, R2: 0.8748\n",
      "MSE: 0.0048, R2: 0.9114\n",
      "MSE: 0.0045, R2: 0.9178\n",
      "MSE: 0.0042, R2: 0.9223\n",
      "MSE: 0.0041, R2: 0.9238\n",
      "MSE: 0.0030, R2: 0.9440\n",
      "MSE: 0.0038, R2: 0.9291\n",
      "MSE: 0.0047, R2: 0.9131\n",
      "MSE: 0.0050, R2: 0.9070\n",
      "MSE: 0.0063, R2: 0.8845\n",
      "MSE: 0.0061, R2: 0.8869\n",
      "MSE: 0.0059, R2: 0.8916\n",
      "MSE: 0.0049, R2: 0.9095\n",
      "MSE: 0.0074, R2: 0.8627\n",
      "MSE: 0.0052, R2: 0.9039\n",
      "MSE: 0.0097, R2: 0.8211\n",
      "MSE: 0.0009, R2: 0.9827\n",
      "MSE: 0.0025, R2: 0.9539\n",
      "MSE: 0.0020, R2: 0.9638\n",
      "MSE: 0.0018, R2: 0.9675\n",
      "MSE: 0.0017, R2: 0.9692\n",
      "MSE: 0.0019, R2: 0.9656\n",
      "MSE: 0.0029, R2: 0.9456\n",
      "MSE: 0.0022, R2: 0.9601\n",
      "MSE: 0.0013, R2: 0.9755\n",
      "MSE: 0.0016, R2: 0.9704\n",
      "MSE: 0.0041, R2: 0.9249\n",
      "MSE: 0.0022, R2: 0.9599\n",
      "MSE: 0.0048, R2: 0.9111\n",
      "MSE: 0.0018, R2: 0.9665\n",
      "MSE: 0.0016, R2: 0.9712\n",
      "MSE: 0.0017, R2: 0.9691\n",
      "MSE: 0.0040, R2: 0.9268\n",
      "MSE: 0.0020, R2: 0.9637\n",
      "MSE: 0.0025, R2: 0.9532\n",
      "MSE: 0.0019, R2: 0.9655\n",
      "MSE: 0.0031, R2: 0.9433\n",
      "MSE: 0.0025, R2: 0.9532\n",
      "MSE: 0.0014, R2: 0.9732\n",
      "MSE: 0.0010, R2: 0.9817\n",
      "MSE: 0.0014, R2: 0.9741\n",
      "MSE: 0.0019, R2: 0.9653\n",
      "MSE: 0.0032, R2: 0.9411\n",
      "MSE: 0.0014, R2: 0.9738\n",
      "MSE: 0.0014, R2: 0.9743\n",
      "MSE: 0.0020, R2: 0.9633\n",
      "MSE: 0.0013, R2: 0.9768\n",
      "MSE: 0.0013, R2: 0.9764\n",
      "MSE: 0.0030, R2: 0.9450\n",
      "MSE: 0.0015, R2: 0.9727\n"
     ]
    }
   ],
   "source": [
    "import torch\n",
    "import torch.nn as nn\n",
    "import torch.optim as optim\n",
    "from torch.utils.data import DataLoader, TensorDataset\n",
    "import numpy as np\n",
    "import pandas as pd\n",
    "from sklearn.metrics import mean_squared_error, r2_score\n",
    "from sklearn.model_selection import train_test_split\n",
    "from sklearn.preprocessing import StandardScaler\n",
    "\n",
    "# PyTorch 모델 정의\n",
    "class DropoutMLP(nn.Module):\n",
    "    def __init__(self, input_dim, hidden_dim):\n",
    "        super(DropoutMLP, self).__init__()\n",
    "        self.model = nn.Sequential(\n",
    "            nn.Linear(input_dim, hidden_dim),\n",
    "            nn.ReLU(),\n",
    "            nn.Dropout(p=0.2),  # 드롭아웃 적용\n",
    "            nn.Linear(hidden_dim, hidden_dim),\n",
    "            nn.ReLU(),\n",
    "            nn.Dropout(p=0.2),  # 드롭아웃 적용\n",
    "            nn.Linear(hidden_dim, 1)\n",
    "        )\n",
    "    \n",
    "    def forward(self, x):\n",
    "        return self.model(x)\n",
    "\n",
    "# 데이터 준비\n",
    "data = pd.read_csv(\"../[01]Data/CoREMOF_O2_1.0_5760.csv\").reset_index(drop=True).drop(\"Unnamed: 0\", axis=1)\n",
    "data = data[['Adsorbent', 'LCD', 'PLD', 'LFPD', 'cm3_g', 'ASA_m2_cm3', 'ASA_m2_g',\n",
    "              'AV_VF', 'AV_cm3_g',  'Has_OMS',\n",
    "             '0.5bar_GCMC', 'Uptake']]\n",
    "X = data.drop(['Adsorbent', 'Uptake'], axis=1)\n",
    "y = data['Uptake']\n",
    "\n",
    "# Train-Test Split\n",
    "X_train, X_test, y_train, y_test = train_test_split(X, y, test_size=0.2, random_state=42)\n",
    "\n",
    "# Train 데이터를 Initial (5%)와 Remaining (95%)으로 랜덤 분리\n",
    "initial_size = int(0.05 * len(X_train))\n",
    "indices = np.random.permutation(len(X_train))\n",
    "initial_indices = indices[:initial_size]\n",
    "remaining_indices = indices[initial_size:]\n",
    "\n",
    "X_initial = X_train.iloc[initial_indices]\n",
    "y_initial = y_train.iloc[initial_indices].to_numpy()\n",
    "\n",
    "# 스탠다드 스케일러 적용\n",
    "scaler = StandardScaler()\n",
    "X_initial_scaled = scaler.fit_transform(X_initial)\n",
    "X_test_scaled = scaler.transform(X_test)\n",
    "X_remaining = pd.DataFrame(X_train.iloc[remaining_indices], columns=X_train.columns).reset_index(drop=True)\n",
    "y_remaining = y_train.iloc[remaining_indices].reset_index(drop=True)\n",
    "\n",
    "def create_dataloader(X, y, batch_size=32, shuffle=True):\n",
    "    dataset = TensorDataset(torch.tensor(X, dtype=torch.float32), torch.tensor(y, dtype=torch.float32))\n",
    "    return DataLoader(dataset, batch_size=batch_size, shuffle=shuffle)\n",
    "\n",
    "train_loader = create_dataloader(X_initial_scaled, y_initial)\n",
    "test_loader = create_dataloader(X_test_scaled, y_test.to_numpy(), shuffle=False)\n",
    "\n",
    "# 모델 초기화\n",
    "input_dim = X_train.shape[1]\n",
    "hidden_dim = 64\n",
    "criterion = nn.MSELoss()\n",
    "\n",
    "# 랜덤 샘플링 설정\n",
    "iterations = 100\n",
    "samples_per_iteration = 10\n",
    "performance_log = []\n",
    "\n",
    "for iteration in range(iterations):\n",
    "    # 랜덤으로 샘플 선택\n",
    "    sample_indices = np.random.choice(X_remaining.index, size=samples_per_iteration, replace=False)\n",
    "    sampled_X = X_remaining.iloc[sample_indices].values\n",
    "    sampled_y = y_remaining.iloc[sample_indices].to_numpy()\n",
    "\n",
    "    # 선택된 샘플을 Training Set에 추가\n",
    "    X_initial = np.vstack([X_initial, sampled_X])\n",
    "    y_initial = np.hstack([y_initial, sampled_y])\n",
    "\n",
    "    # 남은 데이터에서 선택된 샘플 제거\n",
    "    X_remaining = X_remaining.drop(sample_indices).reset_index(drop=True)\n",
    "    y_remaining = y_remaining.drop(sample_indices).reset_index(drop=True)\n",
    "\n",
    "    # 새 데이터 스케일링\n",
    "    scaler = StandardScaler()\n",
    "    X_initial_scaled = scaler.fit_transform(X_initial)\n",
    "    X_test_scaled = scaler.transform(X_test)\n",
    "    train_loader = create_dataloader(X_initial_scaled, y_initial)\n",
    "\n",
    "    # 새로운 모델 생성\n",
    "    model = DropoutMLP(input_dim, hidden_dim)\n",
    "    optimizer = optim.Adam(model.parameters(), lr=0.001)\n",
    "\n",
    "    # 모델 학습\n",
    "    epochs = 50\n",
    "    for epoch in range(epochs):\n",
    "        model.train()\n",
    "        for X_batch, y_batch in train_loader:\n",
    "            optimizer.zero_grad()\n",
    "            predictions = model(X_batch).squeeze()\n",
    "            loss = criterion(predictions, y_batch)\n",
    "            loss.backward()\n",
    "            optimizer.step()\n",
    "\n",
    "    # Test 성능 평가\n",
    "    X_test_tensor = torch.tensor(X_test_scaled, dtype=torch.float32)\n",
    "    model.eval()\n",
    "    with torch.no_grad():\n",
    "        predictions = model(X_test_tensor).squeeze().numpy()\n",
    "    mse = mean_squared_error(y_test, predictions)\n",
    "    r2 = r2_score(y_test, predictions)\n",
    "    performance_log.append((mse, r2))\n",
    "\n",
    "    print(f\"Iteration {iteration + 1}/{iterations} - Samples: {len(y_initial)}, Test MSE: {mse:.4f}, R2: {r2:.4f}\")\n",
    "\n",
    "# 성능 기록 출력\n",
    "print(\"Performance log:\")\n",
    "for entry in performance_log:\n",
    "    print(f\"MSE: {entry[0]:.4f}, R2: {entry[1]:.4f}\")\n",
    "third_log = performance_log"
   ]
  },
  {
   "cell_type": "markdown",
   "metadata": {},
   "source": [
    "## 랜덤하게 아예 모델 재학습 시키는 경우 높은 샘플링 비율 포인트 찍어서 성능보기"
   ]
  },
  {
   "cell_type": "code",
   "execution_count": 12,
   "metadata": {},
   "outputs": [
    {
     "name": "stdout",
     "output_type": "stream",
     "text": [
      "Sample_Fraction 0.3 - Samples: 1382, Test MSE: 0.0015, R2: 0.9728\n",
      "Sample_Fraction 0.35 - Samples: 1612, Test MSE: 0.0018, R2: 0.9662\n",
      "Sample_Fraction 0.39999999999999997 - Samples: 1843, Test MSE: 0.0018, R2: 0.9671\n",
      "Sample_Fraction 0.44999999999999996 - Samples: 2073, Test MSE: 0.0016, R2: 0.9701\n",
      "Sample_Fraction 0.49999999999999994 - Samples: 2303, Test MSE: 0.0021, R2: 0.9610\n",
      "Sample_Fraction 0.5499999999999999 - Samples: 2534, Test MSE: 0.0021, R2: 0.9616\n",
      "Sample_Fraction 0.5999999999999999 - Samples: 2764, Test MSE: 0.0013, R2: 0.9765\n",
      "Sample_Fraction 0.6499999999999999 - Samples: 2995, Test MSE: 0.0009, R2: 0.9833\n",
      "Sample_Fraction 0.7 - Samples: 3225, Test MSE: 0.0034, R2: 0.9368\n",
      "Sample_Fraction 0.7499999999999999 - Samples: 3455, Test MSE: 0.0019, R2: 0.9647\n",
      "Sample_Fraction 0.7999999999999998 - Samples: 3686, Test MSE: 0.0018, R2: 0.9661\n",
      "Sample_Fraction 0.8499999999999999 - Samples: 3916, Test MSE: 0.0053, R2: 0.9023\n",
      "Sample_Fraction 0.8999999999999999 - Samples: 4147, Test MSE: 0.0012, R2: 0.9776\n",
      "Sample_Fraction 0.95 - Samples: 4377, Test MSE: 0.0015, R2: 0.9726\n",
      "Sample_Fraction 0.9999999999999998 - Samples: 4607, Test MSE: 0.0019, R2: 0.9647\n"
     ]
    }
   ],
   "source": [
    "import torch\n",
    "import torch.nn as nn\n",
    "import torch.optim as optim\n",
    "from torch.utils.data import DataLoader, TensorDataset\n",
    "import numpy as np\n",
    "import pandas as pd\n",
    "from sklearn.metrics import mean_squared_error, r2_score\n",
    "from sklearn.model_selection import train_test_split\n",
    "from sklearn.preprocessing import StandardScaler\n",
    "\n",
    "# PyTorch 모델 정의\n",
    "class DropoutMLP(nn.Module):\n",
    "    def __init__(self, input_dim, hidden_dim):\n",
    "        super(DropoutMLP, self).__init__()\n",
    "        self.model = nn.Sequential(\n",
    "            nn.Linear(input_dim, hidden_dim),\n",
    "            nn.ReLU(),\n",
    "            nn.Dropout(p=0.2),  # 드롭아웃 적용\n",
    "            nn.Linear(hidden_dim, hidden_dim),\n",
    "            nn.ReLU(),\n",
    "            nn.Dropout(p=0.2),  # 드롭아웃 적용\n",
    "            nn.Linear(hidden_dim, 1)\n",
    "        )\n",
    "    \n",
    "    def forward(self, x):\n",
    "        return self.model(x)\n",
    "\n",
    "# 데이터 준비\n",
    "data = pd.read_csv(\"../[01]Data/CoREMOF_O2_1.0_5760.csv\").reset_index(drop=True).drop(\"Unnamed: 0\", axis=1)\n",
    "data = data[['Adsorbent', 'LCD', 'PLD', 'LFPD', 'cm3_g', 'ASA_m2_cm3', 'ASA_m2_g',\n",
    "              'AV_VF', 'AV_cm3_g',  'Has_OMS',\n",
    "             '0.5bar_GCMC', 'Uptake']]\n",
    "X = data.drop(['Adsorbent', 'Uptake'], axis=1)\n",
    "y = data['Uptake']\n",
    "\n",
    "# Train-Test Split\n",
    "X_train, X_test, y_train, y_test = train_test_split(X, y, test_size=0.2, random_state=42)\n",
    "\n",
    "\n",
    "for i in np.arange(0.3, 1.05, 0.05):\n",
    "    # Train 데이터를 Initial (5%)와 Remaining (95%)으로 랜덤 분리\n",
    "    initial_size = int( i* len(X_train))\n",
    "    indices = np.random.permutation(len(X_train))\n",
    "    initial_indices = indices[:initial_size]\n",
    "    remaining_indices = indices[initial_size:]\n",
    "\n",
    "    X_initial = X_train.iloc[initial_indices]\n",
    "    y_initial = y_train.iloc[initial_indices].to_numpy()\n",
    "\n",
    "    # 스탠다드 스케일러 적용\n",
    "    scaler = StandardScaler()\n",
    "    X_initial_scaled = scaler.fit_transform(X_initial)\n",
    "    X_test_scaled = scaler.transform(X_test)\n",
    "    X_remaining = pd.DataFrame(X_train.iloc[remaining_indices], columns=X_train.columns).reset_index(drop =True)\n",
    "    y_remaining = y_train.iloc[remaining_indices].reset_index(drop =True)\n",
    "\n",
    "    def create_dataloader(X, y, batch_size=32, shuffle=True):\n",
    "        dataset = TensorDataset(torch.tensor(X, dtype=torch.float32), torch.tensor(y, dtype=torch.float32))\n",
    "        return DataLoader(dataset, batch_size=batch_size, shuffle=shuffle)\n",
    "\n",
    "    train_loader = create_dataloader(X_initial_scaled, y_initial)\n",
    "    test_loader = create_dataloader(X_test_scaled, y_test.to_numpy(), shuffle=False)\n",
    "\n",
    "    # 모델 초기화\n",
    "    input_dim = X_train.shape[1]\n",
    "    hidden_dim = 64\n",
    "    model = DropoutMLP(input_dim, hidden_dim)\n",
    "    criterion = nn.MSELoss()\n",
    "    optimizer = optim.Adam(model.parameters(), lr=0.001)\n",
    "\n",
    "    # 초기 모델 학습\n",
    "    epochs = 50\n",
    "    for epoch in range(epochs):\n",
    "        model.train()\n",
    "        for X_batch, y_batch in train_loader:\n",
    "            optimizer.zero_grad()\n",
    "            predictions = model(X_batch).squeeze()\n",
    "            loss = criterion(predictions, y_batch)\n",
    "            loss.backward()\n",
    "            optimizer.step()\n",
    "\n",
    "    # 랜덤 샘플링 설정\n",
    "    iterations = 100\n",
    "    samples_per_iteration = 10\n",
    "    performance_log = []\n",
    "\n",
    "    X_remaining_tensor = torch.tensor(X_remaining.values, dtype=torch.float32)\n",
    "    X_test_tensor = torch.tensor(X_test_scaled, dtype=torch.float32)\n",
    "    model.eval()\n",
    "    with torch.no_grad():\n",
    "        predictions = model(X_test_tensor).squeeze().numpy()\n",
    "    mse = mean_squared_error(y_test, predictions)\n",
    "    r2 = r2_score(y_test, predictions)\n",
    "    performance_log.append((mse, r2))\n",
    "\n",
    "    print(f\"Sample_Fraction {i} - Samples: {len(y_initial)}, Test MSE: {mse:.4f}, R2: {r2:.4f}\")\n",
    "train_fractions = np.arange(0.3, 1.05, 0.05)\n",
    "fourth_log = performance_log"
   ]
  },
  {
   "cell_type": "code",
   "execution_count": 6,
   "metadata": {},
   "outputs": [],
   "source": [
    "ls = []\n",
    "for a , b, c in zip(first_log, second_log , third_log):\n",
    "    dic = {}\n",
    "    for i, co in zip(list(a) + list(b) + list(c) , [\"Active_Learning_MSE\" , \"Active_Learning_R2\", \"Random_이어서학습_MSE\", \"Random_이어서학습_R2\", \"Random_모델재학습_MSE\", \"Random_모델재학습_R2\"]):\n",
    "        dic[co] = i \n",
    "    ls.append(dic)\n",
    "pd.DataFrame(ls).to_csv(\"Active_Learning_O2_1bar_Score.csv\")"
   ]
  },
  {
   "cell_type": "code",
   "execution_count": null,
   "metadata": {},
   "outputs": [],
   "source": [
    "0.9728, 0.9662, 0.9671, 0.9701, 0.9610, 0.9616, 0.9765, 0.9833, 0.9368, 0.9647, 0.9661, 0.9023, 0.9776, 0.9726, 0.9647"
   ]
  },
  {
   "cell_type": "code",
   "execution_count": null,
   "metadata": {},
   "outputs": [],
   "source": [
    "# 25 % Initial Test MSE: 0.24229746295191884, R2: 0.8516043708914969\n",
    "# 35 % Initial Test MSE: 0.11843110378372088, R2: 0.9274666026714148\n",
    "# 40 % Initial Test MSE: 0.11655841181037568, R2: 0.9286135371053348\n",
    "# 50%  Initial Test MSE: 0.09955010659747054, R2: 0.9390303120950066\n",
    "# 75 % Initial Test MSE: 0.0953816269835651, R2: 0.9415833068610072\n",
    "# 100% Initial Test MSE: 0.08467340609458346, R2: 0.9481415809596864"
   ]
  },
  {
   "cell_type": "markdown",
   "metadata": {},
   "source": [
    "## 전체 Train셋에 대한 퍼센트로 X축을 구성해서 비교 시각화"
   ]
  },
  {
   "cell_type": "code",
   "execution_count": 18,
   "metadata": {},
   "outputs": [
    {
     "data": {
      "text/plain": [
       "(0.5, 1.0)"
      ]
     },
     "execution_count": 18,
     "metadata": {},
     "output_type": "execute_result"
    },
    {
     "data": {
      "image/png": "[encoded data removed]",
      "text/plain": [
       "<Figure size 640x480 with 1 Axes>"
      ]
     },
     "metadata": {},
     "output_type": "display_data"
    }
   ],
   "source": [
    "import matplotlib.pyplot as plt\n",
    "plt.plot([ (10* x + int(len(X_train) * 0.05)) * 100/ len(X_train) for x in range(0,101)], [ x[1] for x in  first_log], color = \"blue\" )\n",
    "# plt.plot([5*x for x in range(1, 21)], [ x[1] for x in  log] )\n",
    "# plt.plot(np.arange(0, 101), [ x[1] for x in  second_performance_log] )\n",
    "plt.plot([ (10* x + int(len(X_train) * 0.05)) * 100/ len(X_train) for x in range(0,101)], [ x[1] for x in  second_log] , color = \"red\" )\n",
    "plt.plot([ (10* x + int(len(X_train) * 0.05)) * 100/ len(X_train) for x in range(1,101)], [ x[1] for x in  third_log] , color = \"green\" )\n",
    "# plt.axhline(0.94)\n",
    "# plt.scatter([ 35, 40, 50, 75, 100],[0.9274666026714148,0.9286135371053348,0.9390303120950066,0.9415833068610072,0.9481415809596864], color = \"red\" , marker = \"*\" )\n",
    "plt.scatter(train_fractions*100,  [0.9728, 0.9662, 0.9671, 0.9701, 0.9610, 0.9616, 0.9765, 0.9833, 0.9368, 0.9647, 0.9661, 0.9023, 0.9776, 0.9726, 0.9647] , marker = \"*\" , color = \"green\")\n",
    "\n",
    "catx = [0.05, 0.10, 0.15, 0.20, 0.25, 0.30, 0.35, 0.40, 0.45, 0.50, 0.55, 0.60, 0.65, 0.70, 0.75, 0.80, 0.85, 0.90, 0.95, 1.00]\n",
    "catr2 = [0.8485,0.7977,0.8232,0.8679,0.8881,0.8207,0.8525,0.9018,0.8979,0.9201,0.8962,0.9099,0.8961,0.9166,0.8959,0.8942,0.8908,0.8992,0.8988,0.9215]\n",
    "plt.scatter([x* 100 for x in catx] , catr2, marker = \"*\", color = \"black\")\n",
    "plt.ylim(0.5,1)\n",
    "\n",
    "# 25 % Initial Test MSE: 0.24229746295191884, R2: 0.8516043708914969\n",
    "# 35 % Initial Test MSE: 0.11843110378372088, R2: 0.9274666026714148\n",
    "# 40 % Initial Test MSE: 0.11655841181037568, R2: 0.9286135371053348\n",
    "# 50%  Initial Test MSE: 0.09955010659747054, R2: 0.9390303120950066\n",
    "# 75 % Initial Test MSE: 0.0953816269835651, R2: 0.9415833068610072\n",
    "# 100% Initial Test MSE: 0.08467340609458346, R2: 0.9481415809596864\n"
   ]
  },
  {
   "cell_type": "code",
   "execution_count": 17,
   "metadata": {},
   "outputs": [
    {
     "data": {
      "text/plain": [
       "(0.8, 1.0)"
      ]
     },
     "execution_count": 17,
     "metadata": {},
     "output_type": "execute_result"
    },
    {
     "data": {
      "image/png": "[encoded data removed]",
      "text/plain": [
       "<Figure size 640x480 with 1 Axes>"
      ]
     },
     "metadata": {},
     "output_type": "display_data"
    }
   ],
   "source": [
    "import matplotlib.pyplot as plt\n",
    "plt.plot([ (10* x + int(len(X_train) * 0.05)) * 100/ len(X_train) for x in range(0,101)], [ x[1] for x in  first_log], color = \"blue\" )\n",
    "# plt.plot([5*x for x in range(1, 21)], [ x[1] for x in  log] )\n",
    "# plt.plot(np.arange(0, 101), [ x[1] for x in  second_performance_log] )\n",
    "plt.plot([ (10* x + int(len(X_train) * 0.05)) * 100/ len(X_train) for x in range(0,101)], [ x[1] for x in  second_log] , color = \"red\" )\n",
    "plt.plot([ (10* x + int(len(X_train) * 0.05)) * 100/ len(X_train) for x in range(1,101)], [ x[1] for x in  third_log] , color = \"green\" )\n",
    "# plt.axhline(0.94)\n",
    "# plt.scatter([ 35, 40, 50, 75, 100],[0.9274666026714148,0.9286135371053348,0.9390303120950066,0.9415833068610072,0.9481415809596864], color = \"red\" , marker = \"*\" )\n",
    "plt.scatter(train_fractions*100,  [0.9728, 0.9662, 0.9671, 0.9701, 0.9610, 0.9616, 0.9765, 0.9833, 0.9368, 0.9647, 0.9661, 0.9023, 0.9776, 0.9726, 0.9647] , marker = \"*\" , color = \"green\")\n",
    "\n",
    "catx = [0.05, 0.10, 0.15, 0.20, 0.25, 0.30, 0.35, 0.40, 0.45, 0.50, 0.55, 0.60, 0.65, 0.70, 0.75, 0.80, 0.85, 0.90, 0.95, 1.00]\n",
    "catr2 = [0.8485,0.7977,0.8232,0.8679,0.8881,0.8207,0.8525,0.9018,0.8979,0.9201,0.8962,0.9099,0.8961,0.9166,0.8959,0.8942,0.8908,0.8992,0.8988,0.9215]\n",
    "plt.scatter([x* 100 for x in catx] , catr2, marker = \"*\", color = \"black\")\n",
    "plt.ylim(0.8,1)\n",
    "\n",
    "# 25 % Initial Test MSE: 0.24229746295191884, R2: 0.8516043708914969\n",
    "# 35 % Initial Test MSE: 0.11843110378372088, R2: 0.9274666026714148\n",
    "# 40 % Initial Test MSE: 0.11655841181037568, R2: 0.9286135371053348\n",
    "# 50%  Initial Test MSE: 0.09955010659747054, R2: 0.9390303120950066\n",
    "# 75 % Initial Test MSE: 0.0953816269835651, R2: 0.9415833068610072\n",
    "# 100% Initial Test MSE: 0.08467340609458346, R2: 0.9481415809596864\n"
   ]
  },
  {
   "cell_type": "markdown",
   "metadata": {},
   "source": [
    "* 확대"
   ]
  },
  {
   "cell_type": "code",
   "execution_count": 109,
   "metadata": {},
   "outputs": [
    {
     "data": {
      "text/plain": [
       "(0.8, 1.0)"
      ]
     },
     "execution_count": 109,
     "metadata": {},
     "output_type": "execute_result"
    },
    {
     "data": {
      "image/png": "[encoded data removed]",
      "text/plain": [
       "<Figure size 640x480 with 1 Axes>"
      ]
     },
     "metadata": {},
     "output_type": "display_data"
    }
   ],
   "source": [
    "plt.plot([ (10* x + int(len(X_train_scaled) * 0.05)) * 100/ len(X_train_scaled) for x in range(0,101)], [ x[1] for x in  first_performance_log], color = \"blue\" )\n",
    "# plt.plot([5*x for x in range(1, 21)], [ x[1] for x in  log] )\n",
    "# plt.plot(np.arange(0, 101), [ x[1] for x in  second_performance_log] )\n",
    "plt.plot([ (10* x + int(len(X_train_scaled) * 0.05)) * 100/ len(X_train_scaled) for x in range(0,101)], [ x[1] for x in  second_performance_log] , color = \"red\" )\n",
    "# plt.axhline(0.94)\n",
    "plt.scatter([ 35, 40, 50, 75, 100],[0.9274666026714148,0.9286135371053348,0.9390303120950066,0.9415833068610072,0.9481415809596864], color = \"red\" , marker = \"*\" )\n",
    "\n",
    "plt.axhline(y  =max( [ x[1] for x in  first_performance_log]) - 0.002, color = 'green')\n",
    "# 25 % Initial Test MSE: 0.24229746295191884, R2: 0.8516043708914969\n",
    "# 35 % Initial Test MSE: 0.11843110378372088, R2: 0.9274666026714148\n",
    "# 40 % Initial Test MSE: 0.11655841181037568, R2: 0.9286135371053348\n",
    "# 50%  Initial Test MSE: 0.09955010659747054, R2: 0.9390303120950066\n",
    "# 75 % Initial Test MSE: 0.0953816269835651, R2: 0.9415833068610072\n",
    "# 100% Initial Test MSE: 0.08467340609458346, R2: 0.9481415809596864\n",
    "plt.ylim(0.80, 1)"
   ]
  }
 ],
 "metadata": {
  "kernelspec": {
   "display_name": "python39",
   "language": "python",
   "name": "python3"
  },
  "language_info": {
   "codemirror_mode": {
    "name": "ipython",
    "version": 3
   },
   "file_extension": ".py",
   "mimetype": "text/x-python",
   "name": "python",
   "nbconvert_exporter": "python",
   "pygments_lexer": "ipython3",
   "version": "3.9.19"
  }
 },
 "nbformat": 4,
 "nbformat_minor": 2
}
