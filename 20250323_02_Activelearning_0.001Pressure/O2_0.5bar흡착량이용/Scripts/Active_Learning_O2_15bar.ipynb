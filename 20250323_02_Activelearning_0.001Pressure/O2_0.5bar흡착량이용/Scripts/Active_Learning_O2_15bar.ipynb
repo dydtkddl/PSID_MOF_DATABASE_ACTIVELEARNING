{
 "cells": [
  {
   "cell_type": "code",
   "execution_count": 1,
   "metadata": {},
   "outputs": [],
   "source": [
    "import pandas as pd \n",
    "import numpy as np \n",
    "import os \n",
    "import matplotlib.pyplot as plt "
   ]
  },
  {
   "cell_type": "markdown",
   "metadata": {},
   "source": [
    "## 데이터 불러오기"
   ]
  },
  {
   "cell_type": "code",
   "execution_count": 12,
   "metadata": {},
   "outputs": [
    {
     "name": "stdout",
     "output_type": "stream",
     "text": [
      "CoREMOF_O2_15.0_5760.csv\n"
     ]
    },
    {
     "data": {
      "text/plain": [
       "Index(['Adsorbent', 'LCD', 'PLD', 'LFPD', 'cm3_g', 'ASA_m2_cm3', 'ASA_m2_g',\n",
       "       'NASA_m2_cm3', 'NASA_m2_g', 'AV_VF', 'AV_cm3_g', 'NAV_cm3_g', 'Has_OMS',\n",
       "       '0.5bar_GCMC', 'Uptake'],\n",
       "      dtype='object')"
      ]
     },
     "execution_count": 12,
     "metadata": {},
     "output_type": "execute_result"
    }
   ],
   "source": [
    "DATA_PATH =  \"../[01]Data/\"\n",
    "datas = os.listdir(DATA_PATH)\n",
    "print('CoREMOF_O2_15.0_5760.csv')\n",
    "O2_15bar = pd.read_csv(os.path.join(DATA_PATH , 'CoREMOF_O2_15.0_5760.csv')).reset_index(drop = True).drop(\"Unnamed: 0\", axis = 1)\n",
    "O2_15bar  = O2_15bar[['Adsorbent', 'LCD', 'PLD', 'LFPD', 'cm3_g', 'ASA_m2_cm3', 'ASA_m2_g',\n",
    "       'NASA_m2_cm3', 'NASA_m2_g', 'AV_VF', 'AV_cm3_g', 'NAV_cm3_g', 'Has_OMS',\n",
    "       '0.5bar_GCMC',  'Uptake']]"
   ]
  },
  {
   "cell_type": "markdown",
   "metadata": {},
   "source": [
    "## 액티브 러닝 몬테카를로 드랍아웃\n",
    "* 10개씩 추가 샘플링해가며 5%부터 학습"
   ]
  },
  {
   "cell_type": "code",
   "execution_count": 37,
   "metadata": {},
   "outputs": [
    {
     "name": "stdout",
     "output_type": "stream",
     "text": [
      "Initial Test MSE: 0.3311766345283599, R2: 0.7971701212710384\n"
     ]
    },
    {
     "name": "stderr",
     "output_type": "stream",
     "text": [
      "c:\\Users\\PSID_PC_20\\anaconda3\\envs\\python39\\lib\\site-packages\\sklearn\\base.py:493: UserWarning: X does not have valid feature names, but StandardScaler was fitted with feature names\n",
      "  warnings.warn(\n"
     ]
    },
    {
     "name": "stdout",
     "output_type": "stream",
     "text": [
      "Iteration 1/100 - Test MSE: 0.266878105500994, R2: 0.8365499007764504\n"
     ]
    },
    {
     "name": "stderr",
     "output_type": "stream",
     "text": [
      "c:\\Users\\PSID_PC_20\\anaconda3\\envs\\python39\\lib\\site-packages\\sklearn\\base.py:493: UserWarning: X does not have valid feature names, but StandardScaler was fitted with feature names\n",
      "  warnings.warn(\n"
     ]
    },
    {
     "name": "stdout",
     "output_type": "stream",
     "text": [
      "Iteration 2/100 - Test MSE: 0.25525489971139703, R2: 0.8436685594466284\n"
     ]
    },
    {
     "name": "stderr",
     "output_type": "stream",
     "text": [
      "c:\\Users\\PSID_PC_20\\anaconda3\\envs\\python39\\lib\\site-packages\\sklearn\\base.py:493: UserWarning: X does not have valid feature names, but StandardScaler was fitted with feature names\n",
      "  warnings.warn(\n"
     ]
    },
    {
     "name": "stdout",
     "output_type": "stream",
     "text": [
      "Iteration 3/100 - Test MSE: 0.23514238750621747, R2: 0.8559865130284715\n"
     ]
    },
    {
     "name": "stderr",
     "output_type": "stream",
     "text": [
      "c:\\Users\\PSID_PC_20\\anaconda3\\envs\\python39\\lib\\site-packages\\sklearn\\base.py:493: UserWarning: X does not have valid feature names, but StandardScaler was fitted with feature names\n",
      "  warnings.warn(\n"
     ]
    },
    {
     "name": "stdout",
     "output_type": "stream",
     "text": [
      "Iteration 4/100 - Test MSE: 0.1664384628771788, R2: 0.8980643870323464\n"
     ]
    },
    {
     "name": "stderr",
     "output_type": "stream",
     "text": [
      "c:\\Users\\PSID_PC_20\\anaconda3\\envs\\python39\\lib\\site-packages\\sklearn\\base.py:493: UserWarning: X does not have valid feature names, but StandardScaler was fitted with feature names\n",
      "  warnings.warn(\n"
     ]
    },
    {
     "name": "stdout",
     "output_type": "stream",
     "text": [
      "Iteration 5/100 - Test MSE: 0.1404958978174764, R2: 0.9139529696688338\n"
     ]
    },
    {
     "name": "stderr",
     "output_type": "stream",
     "text": [
      "c:\\Users\\PSID_PC_20\\anaconda3\\envs\\python39\\lib\\site-packages\\sklearn\\base.py:493: UserWarning: X does not have valid feature names, but StandardScaler was fitted with feature names\n",
      "  warnings.warn(\n"
     ]
    },
    {
     "name": "stdout",
     "output_type": "stream",
     "text": [
      "Iteration 6/100 - Test MSE: 0.13474879110686075, R2: 0.9174727981700705\n"
     ]
    },
    {
     "name": "stderr",
     "output_type": "stream",
     "text": [
      "c:\\Users\\PSID_PC_20\\anaconda3\\envs\\python39\\lib\\site-packages\\sklearn\\base.py:493: UserWarning: X does not have valid feature names, but StandardScaler was fitted with feature names\n",
      "  warnings.warn(\n"
     ]
    },
    {
     "name": "stdout",
     "output_type": "stream",
     "text": [
      "Iteration 7/100 - Test MSE: 0.12233238597111866, R2: 0.9250772535735104\n"
     ]
    },
    {
     "name": "stderr",
     "output_type": "stream",
     "text": [
      "c:\\Users\\PSID_PC_20\\anaconda3\\envs\\python39\\lib\\site-packages\\sklearn\\base.py:493: UserWarning: X does not have valid feature names, but StandardScaler was fitted with feature names\n",
      "  warnings.warn(\n"
     ]
    },
    {
     "name": "stdout",
     "output_type": "stream",
     "text": [
      "Iteration 8/100 - Test MSE: 0.1137522969889445, R2: 0.9303321484733771\n"
     ]
    },
    {
     "name": "stderr",
     "output_type": "stream",
     "text": [
      "c:\\Users\\PSID_PC_20\\anaconda3\\envs\\python39\\lib\\site-packages\\sklearn\\base.py:493: UserWarning: X does not have valid feature names, but StandardScaler was fitted with feature names\n",
      "  warnings.warn(\n"
     ]
    },
    {
     "name": "stdout",
     "output_type": "stream",
     "text": [
      "Iteration 9/100 - Test MSE: 0.11580979984296093, R2: 0.9290720261976647\n"
     ]
    },
    {
     "name": "stderr",
     "output_type": "stream",
     "text": [
      "c:\\Users\\PSID_PC_20\\anaconda3\\envs\\python39\\lib\\site-packages\\sklearn\\base.py:493: UserWarning: X does not have valid feature names, but StandardScaler was fitted with feature names\n",
      "  warnings.warn(\n"
     ]
    },
    {
     "name": "stdout",
     "output_type": "stream",
     "text": [
      "Iteration 10/100 - Test MSE: 0.11413357573660471, R2: 0.9300986334421613\n"
     ]
    },
    {
     "name": "stderr",
     "output_type": "stream",
     "text": [
      "c:\\Users\\PSID_PC_20\\anaconda3\\envs\\python39\\lib\\site-packages\\sklearn\\base.py:493: UserWarning: X does not have valid feature names, but StandardScaler was fitted with feature names\n",
      "  warnings.warn(\n"
     ]
    },
    {
     "name": "stdout",
     "output_type": "stream",
     "text": [
      "Iteration 11/100 - Test MSE: 0.10810058796246204, R2: 0.9337935504472372\n"
     ]
    },
    {
     "name": "stderr",
     "output_type": "stream",
     "text": [
      "c:\\Users\\PSID_PC_20\\anaconda3\\envs\\python39\\lib\\site-packages\\sklearn\\base.py:493: UserWarning: X does not have valid feature names, but StandardScaler was fitted with feature names\n",
      "  warnings.warn(\n"
     ]
    },
    {
     "name": "stdout",
     "output_type": "stream",
     "text": [
      "Iteration 12/100 - Test MSE: 0.10923323875167686, R2: 0.933099855910043\n"
     ]
    },
    {
     "name": "stderr",
     "output_type": "stream",
     "text": [
      "c:\\Users\\PSID_PC_20\\anaconda3\\envs\\python39\\lib\\site-packages\\sklearn\\base.py:493: UserWarning: X does not have valid feature names, but StandardScaler was fitted with feature names\n",
      "  warnings.warn(\n"
     ]
    },
    {
     "name": "stdout",
     "output_type": "stream",
     "text": [
      "Iteration 13/100 - Test MSE: 0.10721903792869487, R2: 0.9343334577589264\n"
     ]
    },
    {
     "name": "stderr",
     "output_type": "stream",
     "text": [
      "c:\\Users\\PSID_PC_20\\anaconda3\\envs\\python39\\lib\\site-packages\\sklearn\\base.py:493: UserWarning: X does not have valid feature names, but StandardScaler was fitted with feature names\n",
      "  warnings.warn(\n"
     ]
    },
    {
     "name": "stdout",
     "output_type": "stream",
     "text": [
      "Iteration 14/100 - Test MSE: 0.1053863641146237, R2: 0.9354558829807033\n"
     ]
    },
    {
     "name": "stderr",
     "output_type": "stream",
     "text": [
      "c:\\Users\\PSID_PC_20\\anaconda3\\envs\\python39\\lib\\site-packages\\sklearn\\base.py:493: UserWarning: X does not have valid feature names, but StandardScaler was fitted with feature names\n",
      "  warnings.warn(\n"
     ]
    },
    {
     "name": "stdout",
     "output_type": "stream",
     "text": [
      "Iteration 15/100 - Test MSE: 0.09554026989886327, R2: 0.9414861456487829\n"
     ]
    },
    {
     "name": "stderr",
     "output_type": "stream",
     "text": [
      "c:\\Users\\PSID_PC_20\\anaconda3\\envs\\python39\\lib\\site-packages\\sklearn\\base.py:493: UserWarning: X does not have valid feature names, but StandardScaler was fitted with feature names\n",
      "  warnings.warn(\n"
     ]
    },
    {
     "name": "stdout",
     "output_type": "stream",
     "text": [
      "Iteration 16/100 - Test MSE: 0.10030598917528309, R2: 0.9385673701008971\n"
     ]
    },
    {
     "name": "stderr",
     "output_type": "stream",
     "text": [
      "c:\\Users\\PSID_PC_20\\anaconda3\\envs\\python39\\lib\\site-packages\\sklearn\\base.py:493: UserWarning: X does not have valid feature names, but StandardScaler was fitted with feature names\n",
      "  warnings.warn(\n"
     ]
    },
    {
     "name": "stdout",
     "output_type": "stream",
     "text": [
      "Iteration 17/100 - Test MSE: 0.09709036306638223, R2: 0.9405367875830056\n"
     ]
    },
    {
     "name": "stderr",
     "output_type": "stream",
     "text": [
      "c:\\Users\\PSID_PC_20\\anaconda3\\envs\\python39\\lib\\site-packages\\sklearn\\base.py:493: UserWarning: X does not have valid feature names, but StandardScaler was fitted with feature names\n",
      "  warnings.warn(\n"
     ]
    },
    {
     "name": "stdout",
     "output_type": "stream",
     "text": [
      "Iteration 18/100 - Test MSE: 0.09778574089666774, R2: 0.9401109018583425\n"
     ]
    },
    {
     "name": "stderr",
     "output_type": "stream",
     "text": [
      "c:\\Users\\PSID_PC_20\\anaconda3\\envs\\python39\\lib\\site-packages\\sklearn\\base.py:493: UserWarning: X does not have valid feature names, but StandardScaler was fitted with feature names\n",
      "  warnings.warn(\n"
     ]
    },
    {
     "name": "stdout",
     "output_type": "stream",
     "text": [
      "Iteration 19/100 - Test MSE: 0.10868014363138173, R2: 0.933438600267219\n"
     ]
    },
    {
     "name": "stderr",
     "output_type": "stream",
     "text": [
      "c:\\Users\\PSID_PC_20\\anaconda3\\envs\\python39\\lib\\site-packages\\sklearn\\base.py:493: UserWarning: X does not have valid feature names, but StandardScaler was fitted with feature names\n",
      "  warnings.warn(\n"
     ]
    },
    {
     "name": "stdout",
     "output_type": "stream",
     "text": [
      "Iteration 20/100 - Test MSE: 0.10304867541183314, R2: 0.9368876057131006\n"
     ]
    },
    {
     "name": "stderr",
     "output_type": "stream",
     "text": [
      "c:\\Users\\PSID_PC_20\\anaconda3\\envs\\python39\\lib\\site-packages\\sklearn\\base.py:493: UserWarning: X does not have valid feature names, but StandardScaler was fitted with feature names\n",
      "  warnings.warn(\n"
     ]
    },
    {
     "name": "stdout",
     "output_type": "stream",
     "text": [
      "Iteration 21/100 - Test MSE: 0.1030603923840565, R2: 0.9368804296269659\n"
     ]
    },
    {
     "name": "stderr",
     "output_type": "stream",
     "text": [
      "c:\\Users\\PSID_PC_20\\anaconda3\\envs\\python39\\lib\\site-packages\\sklearn\\base.py:493: UserWarning: X does not have valid feature names, but StandardScaler was fitted with feature names\n",
      "  warnings.warn(\n"
     ]
    },
    {
     "name": "stdout",
     "output_type": "stream",
     "text": [
      "Iteration 22/100 - Test MSE: 0.10033777012446413, R2: 0.9385479057867028\n"
     ]
    },
    {
     "name": "stderr",
     "output_type": "stream",
     "text": [
      "c:\\Users\\PSID_PC_20\\anaconda3\\envs\\python39\\lib\\site-packages\\sklearn\\base.py:493: UserWarning: X does not have valid feature names, but StandardScaler was fitted with feature names\n",
      "  warnings.warn(\n"
     ]
    },
    {
     "name": "stdout",
     "output_type": "stream",
     "text": [
      "Iteration 23/100 - Test MSE: 0.09521155764738504, R2: 0.9416874662105399\n"
     ]
    },
    {
     "name": "stderr",
     "output_type": "stream",
     "text": [
      "c:\\Users\\PSID_PC_20\\anaconda3\\envs\\python39\\lib\\site-packages\\sklearn\\base.py:493: UserWarning: X does not have valid feature names, but StandardScaler was fitted with feature names\n",
      "  warnings.warn(\n"
     ]
    },
    {
     "name": "stdout",
     "output_type": "stream",
     "text": [
      "Iteration 24/100 - Test MSE: 0.0918570524454482, R2: 0.9437419405072351\n"
     ]
    },
    {
     "name": "stderr",
     "output_type": "stream",
     "text": [
      "c:\\Users\\PSID_PC_20\\anaconda3\\envs\\python39\\lib\\site-packages\\sklearn\\base.py:493: UserWarning: X does not have valid feature names, but StandardScaler was fitted with feature names\n",
      "  warnings.warn(\n"
     ]
    },
    {
     "name": "stdout",
     "output_type": "stream",
     "text": [
      "Iteration 25/100 - Test MSE: 0.0934654890710915, R2: 0.9427568498585936\n"
     ]
    },
    {
     "name": "stderr",
     "output_type": "stream",
     "text": [
      "c:\\Users\\PSID_PC_20\\anaconda3\\envs\\python39\\lib\\site-packages\\sklearn\\base.py:493: UserWarning: X does not have valid feature names, but StandardScaler was fitted with feature names\n",
      "  warnings.warn(\n"
     ]
    },
    {
     "name": "stdout",
     "output_type": "stream",
     "text": [
      "Iteration 26/100 - Test MSE: 0.09761292698955817, R2: 0.9402167421265475\n"
     ]
    },
    {
     "name": "stderr",
     "output_type": "stream",
     "text": [
      "c:\\Users\\PSID_PC_20\\anaconda3\\envs\\python39\\lib\\site-packages\\sklearn\\base.py:493: UserWarning: X does not have valid feature names, but StandardScaler was fitted with feature names\n",
      "  warnings.warn(\n"
     ]
    },
    {
     "name": "stdout",
     "output_type": "stream",
     "text": [
      "Iteration 27/100 - Test MSE: 0.09375546352032504, R2: 0.9425792543514218\n"
     ]
    },
    {
     "name": "stderr",
     "output_type": "stream",
     "text": [
      "c:\\Users\\PSID_PC_20\\anaconda3\\envs\\python39\\lib\\site-packages\\sklearn\\base.py:493: UserWarning: X does not have valid feature names, but StandardScaler was fitted with feature names\n",
      "  warnings.warn(\n"
     ]
    },
    {
     "name": "stdout",
     "output_type": "stream",
     "text": [
      "Iteration 28/100 - Test MSE: 0.09385827618724757, R2: 0.9425162865010678\n"
     ]
    },
    {
     "name": "stderr",
     "output_type": "stream",
     "text": [
      "c:\\Users\\PSID_PC_20\\anaconda3\\envs\\python39\\lib\\site-packages\\sklearn\\base.py:493: UserWarning: X does not have valid feature names, but StandardScaler was fitted with feature names\n",
      "  warnings.warn(\n"
     ]
    },
    {
     "name": "stdout",
     "output_type": "stream",
     "text": [
      "Iteration 29/100 - Test MSE: 0.1001296004697378, R2: 0.9386753997624879\n"
     ]
    },
    {
     "name": "stderr",
     "output_type": "stream",
     "text": [
      "c:\\Users\\PSID_PC_20\\anaconda3\\envs\\python39\\lib\\site-packages\\sklearn\\base.py:493: UserWarning: X does not have valid feature names, but StandardScaler was fitted with feature names\n",
      "  warnings.warn(\n"
     ]
    },
    {
     "name": "stdout",
     "output_type": "stream",
     "text": [
      "Iteration 30/100 - Test MSE: 0.09725161602163, R2: 0.940438027845912\n"
     ]
    },
    {
     "name": "stderr",
     "output_type": "stream",
     "text": [
      "c:\\Users\\PSID_PC_20\\anaconda3\\envs\\python39\\lib\\site-packages\\sklearn\\base.py:493: UserWarning: X does not have valid feature names, but StandardScaler was fitted with feature names\n",
      "  warnings.warn(\n"
     ]
    },
    {
     "name": "stdout",
     "output_type": "stream",
     "text": [
      "Iteration 31/100 - Test MSE: 0.09140831352215256, R2: 0.9440167716755711\n"
     ]
    },
    {
     "name": "stderr",
     "output_type": "stream",
     "text": [
      "c:\\Users\\PSID_PC_20\\anaconda3\\envs\\python39\\lib\\site-packages\\sklearn\\base.py:493: UserWarning: X does not have valid feature names, but StandardScaler was fitted with feature names\n",
      "  warnings.warn(\n"
     ]
    },
    {
     "name": "stdout",
     "output_type": "stream",
     "text": [
      "Iteration 32/100 - Test MSE: 0.09631184478092991, R2: 0.9410135928674469\n"
     ]
    },
    {
     "name": "stderr",
     "output_type": "stream",
     "text": [
      "c:\\Users\\PSID_PC_20\\anaconda3\\envs\\python39\\lib\\site-packages\\sklearn\\base.py:493: UserWarning: X does not have valid feature names, but StandardScaler was fitted with feature names\n",
      "  warnings.warn(\n"
     ]
    },
    {
     "name": "stdout",
     "output_type": "stream",
     "text": [
      "Iteration 33/100 - Test MSE: 0.08948919013914841, R2: 0.9451921431313351\n"
     ]
    },
    {
     "name": "stderr",
     "output_type": "stream",
     "text": [
      "c:\\Users\\PSID_PC_20\\anaconda3\\envs\\python39\\lib\\site-packages\\sklearn\\base.py:493: UserWarning: X does not have valid feature names, but StandardScaler was fitted with feature names\n",
      "  warnings.warn(\n"
     ]
    },
    {
     "name": "stdout",
     "output_type": "stream",
     "text": [
      "Iteration 34/100 - Test MSE: 0.08942707669327882, R2: 0.9452301846517194\n"
     ]
    },
    {
     "name": "stderr",
     "output_type": "stream",
     "text": [
      "c:\\Users\\PSID_PC_20\\anaconda3\\envs\\python39\\lib\\site-packages\\sklearn\\base.py:493: UserWarning: X does not have valid feature names, but StandardScaler was fitted with feature names\n",
      "  warnings.warn(\n"
     ]
    },
    {
     "name": "stdout",
     "output_type": "stream",
     "text": [
      "Iteration 35/100 - Test MSE: 0.0976146120716619, R2: 0.9402157100942025\n"
     ]
    },
    {
     "name": "stderr",
     "output_type": "stream",
     "text": [
      "c:\\Users\\PSID_PC_20\\anaconda3\\envs\\python39\\lib\\site-packages\\sklearn\\base.py:493: UserWarning: X does not have valid feature names, but StandardScaler was fitted with feature names\n",
      "  warnings.warn(\n"
     ]
    },
    {
     "name": "stdout",
     "output_type": "stream",
     "text": [
      "Iteration 36/100 - Test MSE: 0.09256202622382285, R2: 0.9433101777224647\n"
     ]
    },
    {
     "name": "stderr",
     "output_type": "stream",
     "text": [
      "c:\\Users\\PSID_PC_20\\anaconda3\\envs\\python39\\lib\\site-packages\\sklearn\\base.py:493: UserWarning: X does not have valid feature names, but StandardScaler was fitted with feature names\n",
      "  warnings.warn(\n"
     ]
    },
    {
     "name": "stdout",
     "output_type": "stream",
     "text": [
      "Iteration 37/100 - Test MSE: 0.09570973325056564, R2: 0.9413823574358139\n"
     ]
    },
    {
     "name": "stderr",
     "output_type": "stream",
     "text": [
      "c:\\Users\\PSID_PC_20\\anaconda3\\envs\\python39\\lib\\site-packages\\sklearn\\base.py:493: UserWarning: X does not have valid feature names, but StandardScaler was fitted with feature names\n",
      "  warnings.warn(\n"
     ]
    },
    {
     "name": "stdout",
     "output_type": "stream",
     "text": [
      "Iteration 38/100 - Test MSE: 0.0889960242712546, R2: 0.945494183682356\n"
     ]
    },
    {
     "name": "stderr",
     "output_type": "stream",
     "text": [
      "c:\\Users\\PSID_PC_20\\anaconda3\\envs\\python39\\lib\\site-packages\\sklearn\\base.py:493: UserWarning: X does not have valid feature names, but StandardScaler was fitted with feature names\n",
      "  warnings.warn(\n"
     ]
    },
    {
     "name": "stdout",
     "output_type": "stream",
     "text": [
      "Iteration 39/100 - Test MSE: 0.09545447511961853, R2: 0.9415386908553449\n"
     ]
    },
    {
     "name": "stderr",
     "output_type": "stream",
     "text": [
      "c:\\Users\\PSID_PC_20\\anaconda3\\envs\\python39\\lib\\site-packages\\sklearn\\base.py:493: UserWarning: X does not have valid feature names, but StandardScaler was fitted with feature names\n",
      "  warnings.warn(\n"
     ]
    },
    {
     "name": "stdout",
     "output_type": "stream",
     "text": [
      "Iteration 40/100 - Test MSE: 0.09496576169413545, R2: 0.9418380044979426\n"
     ]
    },
    {
     "name": "stderr",
     "output_type": "stream",
     "text": [
      "c:\\Users\\PSID_PC_20\\anaconda3\\envs\\python39\\lib\\site-packages\\sklearn\\base.py:493: UserWarning: X does not have valid feature names, but StandardScaler was fitted with feature names\n",
      "  warnings.warn(\n"
     ]
    },
    {
     "name": "stdout",
     "output_type": "stream",
     "text": [
      "Iteration 41/100 - Test MSE: 0.09233949431917342, R2: 0.9434464678906938\n"
     ]
    },
    {
     "name": "stderr",
     "output_type": "stream",
     "text": [
      "c:\\Users\\PSID_PC_20\\anaconda3\\envs\\python39\\lib\\site-packages\\sklearn\\base.py:493: UserWarning: X does not have valid feature names, but StandardScaler was fitted with feature names\n",
      "  warnings.warn(\n"
     ]
    },
    {
     "name": "stdout",
     "output_type": "stream",
     "text": [
      "Iteration 42/100 - Test MSE: 0.08627440241394216, R2: 0.9471610471434542\n"
     ]
    },
    {
     "name": "stderr",
     "output_type": "stream",
     "text": [
      "c:\\Users\\PSID_PC_20\\anaconda3\\envs\\python39\\lib\\site-packages\\sklearn\\base.py:493: UserWarning: X does not have valid feature names, but StandardScaler was fitted with feature names\n",
      "  warnings.warn(\n"
     ]
    },
    {
     "name": "stdout",
     "output_type": "stream",
     "text": [
      "Iteration 43/100 - Test MSE: 0.09157078722367869, R2: 0.9439172642896587\n"
     ]
    },
    {
     "name": "stderr",
     "output_type": "stream",
     "text": [
      "c:\\Users\\PSID_PC_20\\anaconda3\\envs\\python39\\lib\\site-packages\\sklearn\\base.py:493: UserWarning: X does not have valid feature names, but StandardScaler was fitted with feature names\n",
      "  warnings.warn(\n"
     ]
    },
    {
     "name": "stdout",
     "output_type": "stream",
     "text": [
      "Iteration 44/100 - Test MSE: 0.08802353149190127, R2: 0.9460897890842345\n"
     ]
    },
    {
     "name": "stderr",
     "output_type": "stream",
     "text": [
      "c:\\Users\\PSID_PC_20\\anaconda3\\envs\\python39\\lib\\site-packages\\sklearn\\base.py:493: UserWarning: X does not have valid feature names, but StandardScaler was fitted with feature names\n",
      "  warnings.warn(\n"
     ]
    },
    {
     "name": "stdout",
     "output_type": "stream",
     "text": [
      "Iteration 45/100 - Test MSE: 0.08914514484484419, R2: 0.9454028544498446\n"
     ]
    },
    {
     "name": "stderr",
     "output_type": "stream",
     "text": [
      "c:\\Users\\PSID_PC_20\\anaconda3\\envs\\python39\\lib\\site-packages\\sklearn\\base.py:493: UserWarning: X does not have valid feature names, but StandardScaler was fitted with feature names\n",
      "  warnings.warn(\n"
     ]
    },
    {
     "name": "stdout",
     "output_type": "stream",
     "text": [
      "Iteration 46/100 - Test MSE: 0.08660887020852133, R2: 0.9469562015863096\n"
     ]
    },
    {
     "name": "stderr",
     "output_type": "stream",
     "text": [
      "c:\\Users\\PSID_PC_20\\anaconda3\\envs\\python39\\lib\\site-packages\\sklearn\\base.py:493: UserWarning: X does not have valid feature names, but StandardScaler was fitted with feature names\n",
      "  warnings.warn(\n"
     ]
    },
    {
     "name": "stdout",
     "output_type": "stream",
     "text": [
      "Iteration 47/100 - Test MSE: 0.08873153099065247, R2: 0.9456561731901773\n"
     ]
    },
    {
     "name": "stderr",
     "output_type": "stream",
     "text": [
      "c:\\Users\\PSID_PC_20\\anaconda3\\envs\\python39\\lib\\site-packages\\sklearn\\base.py:493: UserWarning: X does not have valid feature names, but StandardScaler was fitted with feature names\n",
      "  warnings.warn(\n"
     ]
    },
    {
     "name": "stdout",
     "output_type": "stream",
     "text": [
      "Iteration 48/100 - Test MSE: 0.0963293542930146, R2: 0.9410028691271751\n"
     ]
    },
    {
     "name": "stderr",
     "output_type": "stream",
     "text": [
      "c:\\Users\\PSID_PC_20\\anaconda3\\envs\\python39\\lib\\site-packages\\sklearn\\base.py:493: UserWarning: X does not have valid feature names, but StandardScaler was fitted with feature names\n",
      "  warnings.warn(\n"
     ]
    },
    {
     "name": "stdout",
     "output_type": "stream",
     "text": [
      "Iteration 49/100 - Test MSE: 0.09735668136078487, R2: 0.9403736803413553\n"
     ]
    },
    {
     "name": "stderr",
     "output_type": "stream",
     "text": [
      "c:\\Users\\PSID_PC_20\\anaconda3\\envs\\python39\\lib\\site-packages\\sklearn\\base.py:493: UserWarning: X does not have valid feature names, but StandardScaler was fitted with feature names\n",
      "  warnings.warn(\n"
     ]
    },
    {
     "name": "stdout",
     "output_type": "stream",
     "text": [
      "Iteration 50/100 - Test MSE: 0.08937476789558989, R2: 0.9452622212931534\n"
     ]
    },
    {
     "name": "stderr",
     "output_type": "stream",
     "text": [
      "c:\\Users\\PSID_PC_20\\anaconda3\\envs\\python39\\lib\\site-packages\\sklearn\\base.py:493: UserWarning: X does not have valid feature names, but StandardScaler was fitted with feature names\n",
      "  warnings.warn(\n"
     ]
    },
    {
     "name": "stdout",
     "output_type": "stream",
     "text": [
      "Iteration 51/100 - Test MSE: 0.10108839445655546, R2: 0.938088184217076\n"
     ]
    },
    {
     "name": "stderr",
     "output_type": "stream",
     "text": [
      "c:\\Users\\PSID_PC_20\\anaconda3\\envs\\python39\\lib\\site-packages\\sklearn\\base.py:493: UserWarning: X does not have valid feature names, but StandardScaler was fitted with feature names\n",
      "  warnings.warn(\n"
     ]
    },
    {
     "name": "stdout",
     "output_type": "stream",
     "text": [
      "Iteration 52/100 - Test MSE: 0.08708825526673797, R2: 0.946662601123339\n"
     ]
    },
    {
     "name": "stderr",
     "output_type": "stream",
     "text": [
      "c:\\Users\\PSID_PC_20\\anaconda3\\envs\\python39\\lib\\site-packages\\sklearn\\base.py:493: UserWarning: X does not have valid feature names, but StandardScaler was fitted with feature names\n",
      "  warnings.warn(\n"
     ]
    },
    {
     "name": "stdout",
     "output_type": "stream",
     "text": [
      "Iteration 53/100 - Test MSE: 0.09250619197227627, R2: 0.9433443735360862\n"
     ]
    },
    {
     "name": "stderr",
     "output_type": "stream",
     "text": [
      "c:\\Users\\PSID_PC_20\\anaconda3\\envs\\python39\\lib\\site-packages\\sklearn\\base.py:493: UserWarning: X does not have valid feature names, but StandardScaler was fitted with feature names\n",
      "  warnings.warn(\n"
     ]
    },
    {
     "name": "stdout",
     "output_type": "stream",
     "text": [
      "Iteration 54/100 - Test MSE: 0.0896987234312171, R2: 0.945063813992776\n"
     ]
    },
    {
     "name": "stderr",
     "output_type": "stream",
     "text": [
      "c:\\Users\\PSID_PC_20\\anaconda3\\envs\\python39\\lib\\site-packages\\sklearn\\base.py:493: UserWarning: X does not have valid feature names, but StandardScaler was fitted with feature names\n",
      "  warnings.warn(\n"
     ]
    },
    {
     "name": "stdout",
     "output_type": "stream",
     "text": [
      "Iteration 55/100 - Test MSE: 0.08584468166796272, R2: 0.9474242305860857\n"
     ]
    },
    {
     "name": "stderr",
     "output_type": "stream",
     "text": [
      "c:\\Users\\PSID_PC_20\\anaconda3\\envs\\python39\\lib\\site-packages\\sklearn\\base.py:493: UserWarning: X does not have valid feature names, but StandardScaler was fitted with feature names\n",
      "  warnings.warn(\n"
     ]
    },
    {
     "name": "stdout",
     "output_type": "stream",
     "text": [
      "Iteration 56/100 - Test MSE: 0.08542131449409639, R2: 0.9476835227691089\n"
     ]
    },
    {
     "name": "stderr",
     "output_type": "stream",
     "text": [
      "c:\\Users\\PSID_PC_20\\anaconda3\\envs\\python39\\lib\\site-packages\\sklearn\\base.py:493: UserWarning: X does not have valid feature names, but StandardScaler was fitted with feature names\n",
      "  warnings.warn(\n"
     ]
    },
    {
     "name": "stdout",
     "output_type": "stream",
     "text": [
      "Iteration 57/100 - Test MSE: 0.08705761131197826, R2: 0.9466813690827288\n"
     ]
    },
    {
     "name": "stderr",
     "output_type": "stream",
     "text": [
      "c:\\Users\\PSID_PC_20\\anaconda3\\envs\\python39\\lib\\site-packages\\sklearn\\base.py:493: UserWarning: X does not have valid feature names, but StandardScaler was fitted with feature names\n",
      "  warnings.warn(\n"
     ]
    },
    {
     "name": "stdout",
     "output_type": "stream",
     "text": [
      "Iteration 58/100 - Test MSE: 0.09214989755842183, R2: 0.9435625868555639\n"
     ]
    },
    {
     "name": "stderr",
     "output_type": "stream",
     "text": [
      "c:\\Users\\PSID_PC_20\\anaconda3\\envs\\python39\\lib\\site-packages\\sklearn\\base.py:493: UserWarning: X does not have valid feature names, but StandardScaler was fitted with feature names\n",
      "  warnings.warn(\n"
     ]
    },
    {
     "name": "stdout",
     "output_type": "stream",
     "text": [
      "Iteration 59/100 - Test MSE: 0.09142283712279128, R2: 0.9440078766635167\n"
     ]
    },
    {
     "name": "stderr",
     "output_type": "stream",
     "text": [
      "c:\\Users\\PSID_PC_20\\anaconda3\\envs\\python39\\lib\\site-packages\\sklearn\\base.py:493: UserWarning: X does not have valid feature names, but StandardScaler was fitted with feature names\n",
      "  warnings.warn(\n"
     ]
    },
    {
     "name": "stdout",
     "output_type": "stream",
     "text": [
      "Iteration 60/100 - Test MSE: 0.08617321815836235, R2: 0.9472230176695988\n"
     ]
    },
    {
     "name": "stderr",
     "output_type": "stream",
     "text": [
      "c:\\Users\\PSID_PC_20\\anaconda3\\envs\\python39\\lib\\site-packages\\sklearn\\base.py:493: UserWarning: X does not have valid feature names, but StandardScaler was fitted with feature names\n",
      "  warnings.warn(\n"
     ]
    },
    {
     "name": "stdout",
     "output_type": "stream",
     "text": [
      "Iteration 61/100 - Test MSE: 0.08175323167944445, R2: 0.9499300483838257\n"
     ]
    },
    {
     "name": "stderr",
     "output_type": "stream",
     "text": [
      "c:\\Users\\PSID_PC_20\\anaconda3\\envs\\python39\\lib\\site-packages\\sklearn\\base.py:493: UserWarning: X does not have valid feature names, but StandardScaler was fitted with feature names\n",
      "  warnings.warn(\n"
     ]
    },
    {
     "name": "stdout",
     "output_type": "stream",
     "text": [
      "Iteration 62/100 - Test MSE: 0.1005851090294711, R2: 0.9383964225150071\n"
     ]
    },
    {
     "name": "stderr",
     "output_type": "stream",
     "text": [
      "c:\\Users\\PSID_PC_20\\anaconda3\\envs\\python39\\lib\\site-packages\\sklearn\\base.py:493: UserWarning: X does not have valid feature names, but StandardScaler was fitted with feature names\n",
      "  warnings.warn(\n"
     ]
    },
    {
     "name": "stdout",
     "output_type": "stream",
     "text": [
      "Iteration 63/100 - Test MSE: 0.08553438151599262, R2: 0.9476142746158626\n"
     ]
    },
    {
     "name": "stderr",
     "output_type": "stream",
     "text": [
      "c:\\Users\\PSID_PC_20\\anaconda3\\envs\\python39\\lib\\site-packages\\sklearn\\base.py:493: UserWarning: X does not have valid feature names, but StandardScaler was fitted with feature names\n",
      "  warnings.warn(\n"
     ]
    },
    {
     "name": "stdout",
     "output_type": "stream",
     "text": [
      "Iteration 64/100 - Test MSE: 0.09231176766875294, R2: 0.9434634491404439\n"
     ]
    },
    {
     "name": "stderr",
     "output_type": "stream",
     "text": [
      "c:\\Users\\PSID_PC_20\\anaconda3\\envs\\python39\\lib\\site-packages\\sklearn\\base.py:493: UserWarning: X does not have valid feature names, but StandardScaler was fitted with feature names\n",
      "  warnings.warn(\n"
     ]
    },
    {
     "name": "stdout",
     "output_type": "stream",
     "text": [
      "Iteration 65/100 - Test MSE: 0.09073854360163278, R2: 0.9444269737779893\n"
     ]
    },
    {
     "name": "stderr",
     "output_type": "stream",
     "text": [
      "c:\\Users\\PSID_PC_20\\anaconda3\\envs\\python39\\lib\\site-packages\\sklearn\\base.py:493: UserWarning: X does not have valid feature names, but StandardScaler was fitted with feature names\n",
      "  warnings.warn(\n"
     ]
    },
    {
     "name": "stdout",
     "output_type": "stream",
     "text": [
      "Iteration 66/100 - Test MSE: 0.08785375410950776, R2: 0.9461937696260104\n"
     ]
    },
    {
     "name": "stderr",
     "output_type": "stream",
     "text": [
      "c:\\Users\\PSID_PC_20\\anaconda3\\envs\\python39\\lib\\site-packages\\sklearn\\base.py:493: UserWarning: X does not have valid feature names, but StandardScaler was fitted with feature names\n",
      "  warnings.warn(\n"
     ]
    },
    {
     "name": "stdout",
     "output_type": "stream",
     "text": [
      "Iteration 67/100 - Test MSE: 0.0849547311255938, R2: 0.9479692828082649\n"
     ]
    },
    {
     "name": "stderr",
     "output_type": "stream",
     "text": [
      "c:\\Users\\PSID_PC_20\\anaconda3\\envs\\python39\\lib\\site-packages\\sklearn\\base.py:493: UserWarning: X does not have valid feature names, but StandardScaler was fitted with feature names\n",
      "  warnings.warn(\n"
     ]
    },
    {
     "name": "stdout",
     "output_type": "stream",
     "text": [
      "Iteration 68/100 - Test MSE: 0.08461248497238141, R2: 0.9481788922387441\n"
     ]
    },
    {
     "name": "stderr",
     "output_type": "stream",
     "text": [
      "c:\\Users\\PSID_PC_20\\anaconda3\\envs\\python39\\lib\\site-packages\\sklearn\\base.py:493: UserWarning: X does not have valid feature names, but StandardScaler was fitted with feature names\n",
      "  warnings.warn(\n"
     ]
    },
    {
     "name": "stdout",
     "output_type": "stream",
     "text": [
      "Iteration 69/100 - Test MSE: 0.08389438896542495, R2: 0.9486186917620835\n"
     ]
    },
    {
     "name": "stderr",
     "output_type": "stream",
     "text": [
      "c:\\Users\\PSID_PC_20\\anaconda3\\envs\\python39\\lib\\site-packages\\sklearn\\base.py:493: UserWarning: X does not have valid feature names, but StandardScaler was fitted with feature names\n",
      "  warnings.warn(\n"
     ]
    },
    {
     "name": "stdout",
     "output_type": "stream",
     "text": [
      "Iteration 70/100 - Test MSE: 0.08277795171052292, R2: 0.9493024562835232\n"
     ]
    },
    {
     "name": "stderr",
     "output_type": "stream",
     "text": [
      "c:\\Users\\PSID_PC_20\\anaconda3\\envs\\python39\\lib\\site-packages\\sklearn\\base.py:493: UserWarning: X does not have valid feature names, but StandardScaler was fitted with feature names\n",
      "  warnings.warn(\n"
     ]
    },
    {
     "name": "stdout",
     "output_type": "stream",
     "text": [
      "Iteration 71/100 - Test MSE: 0.08278915224433249, R2: 0.9492955964912629\n"
     ]
    },
    {
     "name": "stderr",
     "output_type": "stream",
     "text": [
      "c:\\Users\\PSID_PC_20\\anaconda3\\envs\\python39\\lib\\site-packages\\sklearn\\base.py:493: UserWarning: X does not have valid feature names, but StandardScaler was fitted with feature names\n",
      "  warnings.warn(\n"
     ]
    },
    {
     "name": "stdout",
     "output_type": "stream",
     "text": [
      "Iteration 72/100 - Test MSE: 0.08090555156377127, R2: 0.9504492119875859\n"
     ]
    },
    {
     "name": "stderr",
     "output_type": "stream",
     "text": [
      "c:\\Users\\PSID_PC_20\\anaconda3\\envs\\python39\\lib\\site-packages\\sklearn\\base.py:493: UserWarning: X does not have valid feature names, but StandardScaler was fitted with feature names\n",
      "  warnings.warn(\n"
     ]
    },
    {
     "name": "stdout",
     "output_type": "stream",
     "text": [
      "Iteration 73/100 - Test MSE: 0.08258708497397302, R2: 0.9494193530479429\n"
     ]
    },
    {
     "name": "stderr",
     "output_type": "stream",
     "text": [
      "c:\\Users\\PSID_PC_20\\anaconda3\\envs\\python39\\lib\\site-packages\\sklearn\\base.py:493: UserWarning: X does not have valid feature names, but StandardScaler was fitted with feature names\n",
      "  warnings.warn(\n"
     ]
    },
    {
     "name": "stdout",
     "output_type": "stream",
     "text": [
      "Iteration 74/100 - Test MSE: 0.08702132369303633, R2: 0.9467035935170094\n"
     ]
    },
    {
     "name": "stderr",
     "output_type": "stream",
     "text": [
      "c:\\Users\\PSID_PC_20\\anaconda3\\envs\\python39\\lib\\site-packages\\sklearn\\base.py:493: UserWarning: X does not have valid feature names, but StandardScaler was fitted with feature names\n",
      "  warnings.warn(\n"
     ]
    },
    {
     "name": "stdout",
     "output_type": "stream",
     "text": [
      "Iteration 75/100 - Test MSE: 0.08035645459441641, R2: 0.9507855076681774\n"
     ]
    },
    {
     "name": "stderr",
     "output_type": "stream",
     "text": [
      "c:\\Users\\PSID_PC_20\\anaconda3\\envs\\python39\\lib\\site-packages\\sklearn\\base.py:493: UserWarning: X does not have valid feature names, but StandardScaler was fitted with feature names\n",
      "  warnings.warn(\n"
     ]
    },
    {
     "name": "stdout",
     "output_type": "stream",
     "text": [
      "Iteration 76/100 - Test MSE: 0.08408129912224187, R2: 0.9485042182138684\n"
     ]
    },
    {
     "name": "stderr",
     "output_type": "stream",
     "text": [
      "c:\\Users\\PSID_PC_20\\anaconda3\\envs\\python39\\lib\\site-packages\\sklearn\\base.py:493: UserWarning: X does not have valid feature names, but StandardScaler was fitted with feature names\n",
      "  warnings.warn(\n"
     ]
    },
    {
     "name": "stdout",
     "output_type": "stream",
     "text": [
      "Iteration 77/100 - Test MSE: 0.08813727570055879, R2: 0.9460201261864247\n"
     ]
    },
    {
     "name": "stderr",
     "output_type": "stream",
     "text": [
      "c:\\Users\\PSID_PC_20\\anaconda3\\envs\\python39\\lib\\site-packages\\sklearn\\base.py:493: UserWarning: X does not have valid feature names, but StandardScaler was fitted with feature names\n",
      "  warnings.warn(\n"
     ]
    },
    {
     "name": "stdout",
     "output_type": "stream",
     "text": [
      "Iteration 78/100 - Test MSE: 0.09262819341221605, R2: 0.943269653478305\n"
     ]
    },
    {
     "name": "stderr",
     "output_type": "stream",
     "text": [
      "c:\\Users\\PSID_PC_20\\anaconda3\\envs\\python39\\lib\\site-packages\\sklearn\\base.py:493: UserWarning: X does not have valid feature names, but StandardScaler was fitted with feature names\n",
      "  warnings.warn(\n"
     ]
    },
    {
     "name": "stdout",
     "output_type": "stream",
     "text": [
      "Iteration 79/100 - Test MSE: 0.08065434253989955, R2: 0.9506030655223321\n"
     ]
    },
    {
     "name": "stderr",
     "output_type": "stream",
     "text": [
      "c:\\Users\\PSID_PC_20\\anaconda3\\envs\\python39\\lib\\site-packages\\sklearn\\base.py:493: UserWarning: X does not have valid feature names, but StandardScaler was fitted with feature names\n",
      "  warnings.warn(\n"
     ]
    },
    {
     "name": "stdout",
     "output_type": "stream",
     "text": [
      "Iteration 80/100 - Test MSE: 0.08794858367583161, R2: 0.9461356910436709\n"
     ]
    },
    {
     "name": "stderr",
     "output_type": "stream",
     "text": [
      "c:\\Users\\PSID_PC_20\\anaconda3\\envs\\python39\\lib\\site-packages\\sklearn\\base.py:493: UserWarning: X does not have valid feature names, but StandardScaler was fitted with feature names\n",
      "  warnings.warn(\n"
     ]
    },
    {
     "name": "stdout",
     "output_type": "stream",
     "text": [
      "Iteration 81/100 - Test MSE: 0.08474602496386274, R2: 0.9480971053689783\n"
     ]
    },
    {
     "name": "stderr",
     "output_type": "stream",
     "text": [
      "c:\\Users\\PSID_PC_20\\anaconda3\\envs\\python39\\lib\\site-packages\\sklearn\\base.py:493: UserWarning: X does not have valid feature names, but StandardScaler was fitted with feature names\n",
      "  warnings.warn(\n"
     ]
    },
    {
     "name": "stdout",
     "output_type": "stream",
     "text": [
      "Iteration 82/100 - Test MSE: 0.08097043230629411, R2: 0.9504094756301087\n"
     ]
    },
    {
     "name": "stderr",
     "output_type": "stream",
     "text": [
      "c:\\Users\\PSID_PC_20\\anaconda3\\envs\\python39\\lib\\site-packages\\sklearn\\base.py:493: UserWarning: X does not have valid feature names, but StandardScaler was fitted with feature names\n",
      "  warnings.warn(\n"
     ]
    },
    {
     "name": "stdout",
     "output_type": "stream",
     "text": [
      "Iteration 83/100 - Test MSE: 0.08330809802514781, R2: 0.9489777669742755\n"
     ]
    },
    {
     "name": "stderr",
     "output_type": "stream",
     "text": [
      "c:\\Users\\PSID_PC_20\\anaconda3\\envs\\python39\\lib\\site-packages\\sklearn\\base.py:493: UserWarning: X does not have valid feature names, but StandardScaler was fitted with feature names\n",
      "  warnings.warn(\n"
     ]
    },
    {
     "name": "stdout",
     "output_type": "stream",
     "text": [
      "Iteration 84/100 - Test MSE: 0.07827505103311483, R2: 0.9520602679861149\n"
     ]
    },
    {
     "name": "stderr",
     "output_type": "stream",
     "text": [
      "c:\\Users\\PSID_PC_20\\anaconda3\\envs\\python39\\lib\\site-packages\\sklearn\\base.py:493: UserWarning: X does not have valid feature names, but StandardScaler was fitted with feature names\n",
      "  warnings.warn(\n"
     ]
    },
    {
     "name": "stdout",
     "output_type": "stream",
     "text": [
      "Iteration 85/100 - Test MSE: 0.08967460924360905, R2: 0.9450785827815076\n"
     ]
    },
    {
     "name": "stderr",
     "output_type": "stream",
     "text": [
      "c:\\Users\\PSID_PC_20\\anaconda3\\envs\\python39\\lib\\site-packages\\sklearn\\base.py:493: UserWarning: X does not have valid feature names, but StandardScaler was fitted with feature names\n",
      "  warnings.warn(\n"
     ]
    },
    {
     "name": "stdout",
     "output_type": "stream",
     "text": [
      "Iteration 86/100 - Test MSE: 0.0866592610264185, R2: 0.9469253396159363\n"
     ]
    },
    {
     "name": "stderr",
     "output_type": "stream",
     "text": [
      "c:\\Users\\PSID_PC_20\\anaconda3\\envs\\python39\\lib\\site-packages\\sklearn\\base.py:493: UserWarning: X does not have valid feature names, but StandardScaler was fitted with feature names\n",
      "  warnings.warn(\n"
     ]
    },
    {
     "name": "stdout",
     "output_type": "stream",
     "text": [
      "Iteration 87/100 - Test MSE: 0.08279947579451191, R2: 0.9492892738096103\n"
     ]
    },
    {
     "name": "stderr",
     "output_type": "stream",
     "text": [
      "c:\\Users\\PSID_PC_20\\anaconda3\\envs\\python39\\lib\\site-packages\\sklearn\\base.py:493: UserWarning: X does not have valid feature names, but StandardScaler was fitted with feature names\n",
      "  warnings.warn(\n"
     ]
    },
    {
     "name": "stdout",
     "output_type": "stream",
     "text": [
      "Iteration 88/100 - Test MSE: 0.07964049849286134, R2: 0.9512239966016146\n"
     ]
    },
    {
     "name": "stderr",
     "output_type": "stream",
     "text": [
      "c:\\Users\\PSID_PC_20\\anaconda3\\envs\\python39\\lib\\site-packages\\sklearn\\base.py:493: UserWarning: X does not have valid feature names, but StandardScaler was fitted with feature names\n",
      "  warnings.warn(\n"
     ]
    },
    {
     "name": "stdout",
     "output_type": "stream",
     "text": [
      "Iteration 89/100 - Test MSE: 0.08401722343084032, R2: 0.948543461515966\n"
     ]
    },
    {
     "name": "stderr",
     "output_type": "stream",
     "text": [
      "c:\\Users\\PSID_PC_20\\anaconda3\\envs\\python39\\lib\\site-packages\\sklearn\\base.py:493: UserWarning: X does not have valid feature names, but StandardScaler was fitted with feature names\n",
      "  warnings.warn(\n"
     ]
    },
    {
     "name": "stdout",
     "output_type": "stream",
     "text": [
      "Iteration 90/100 - Test MSE: 0.08246062636779741, R2: 0.9494968029072646\n"
     ]
    },
    {
     "name": "stderr",
     "output_type": "stream",
     "text": [
      "c:\\Users\\PSID_PC_20\\anaconda3\\envs\\python39\\lib\\site-packages\\sklearn\\base.py:493: UserWarning: X does not have valid feature names, but StandardScaler was fitted with feature names\n",
      "  warnings.warn(\n"
     ]
    },
    {
     "name": "stdout",
     "output_type": "stream",
     "text": [
      "Iteration 91/100 - Test MSE: 0.08151466951090092, R2: 0.9500761563234269\n"
     ]
    },
    {
     "name": "stderr",
     "output_type": "stream",
     "text": [
      "c:\\Users\\PSID_PC_20\\anaconda3\\envs\\python39\\lib\\site-packages\\sklearn\\base.py:493: UserWarning: X does not have valid feature names, but StandardScaler was fitted with feature names\n",
      "  warnings.warn(\n"
     ]
    },
    {
     "name": "stdout",
     "output_type": "stream",
     "text": [
      "Iteration 92/100 - Test MSE: 0.08193848184500307, R2: 0.9498165915010106\n"
     ]
    },
    {
     "name": "stderr",
     "output_type": "stream",
     "text": [
      "c:\\Users\\PSID_PC_20\\anaconda3\\envs\\python39\\lib\\site-packages\\sklearn\\base.py:493: UserWarning: X does not have valid feature names, but StandardScaler was fitted with feature names\n",
      "  warnings.warn(\n"
     ]
    },
    {
     "name": "stdout",
     "output_type": "stream",
     "text": [
      "Iteration 93/100 - Test MSE: 0.08466053777492039, R2: 0.948149462191164\n"
     ]
    },
    {
     "name": "stderr",
     "output_type": "stream",
     "text": [
      "c:\\Users\\PSID_PC_20\\anaconda3\\envs\\python39\\lib\\site-packages\\sklearn\\base.py:493: UserWarning: X does not have valid feature names, but StandardScaler was fitted with feature names\n",
      "  warnings.warn(\n"
     ]
    },
    {
     "name": "stdout",
     "output_type": "stream",
     "text": [
      "Iteration 94/100 - Test MSE: 0.08190390897987548, R2: 0.94983776573044\n"
     ]
    },
    {
     "name": "stderr",
     "output_type": "stream",
     "text": [
      "c:\\Users\\PSID_PC_20\\anaconda3\\envs\\python39\\lib\\site-packages\\sklearn\\base.py:493: UserWarning: X does not have valid feature names, but StandardScaler was fitted with feature names\n",
      "  warnings.warn(\n"
     ]
    },
    {
     "name": "stdout",
     "output_type": "stream",
     "text": [
      "Iteration 95/100 - Test MSE: 0.08621168281450839, R2: 0.9471994599039594\n"
     ]
    },
    {
     "name": "stderr",
     "output_type": "stream",
     "text": [
      "c:\\Users\\PSID_PC_20\\anaconda3\\envs\\python39\\lib\\site-packages\\sklearn\\base.py:493: UserWarning: X does not have valid feature names, but StandardScaler was fitted with feature names\n",
      "  warnings.warn(\n"
     ]
    },
    {
     "name": "stdout",
     "output_type": "stream",
     "text": [
      "Iteration 96/100 - Test MSE: 0.08450231324805425, R2: 0.948246367160447\n"
     ]
    },
    {
     "name": "stderr",
     "output_type": "stream",
     "text": [
      "c:\\Users\\PSID_PC_20\\anaconda3\\envs\\python39\\lib\\site-packages\\sklearn\\base.py:493: UserWarning: X does not have valid feature names, but StandardScaler was fitted with feature names\n",
      "  warnings.warn(\n"
     ]
    },
    {
     "name": "stdout",
     "output_type": "stream",
     "text": [
      "Iteration 97/100 - Test MSE: 0.07978688867175344, R2: 0.9511343396055102\n"
     ]
    },
    {
     "name": "stderr",
     "output_type": "stream",
     "text": [
      "c:\\Users\\PSID_PC_20\\anaconda3\\envs\\python39\\lib\\site-packages\\sklearn\\base.py:493: UserWarning: X does not have valid feature names, but StandardScaler was fitted with feature names\n",
      "  warnings.warn(\n"
     ]
    },
    {
     "name": "stdout",
     "output_type": "stream",
     "text": [
      "Iteration 98/100 - Test MSE: 0.07921065248818955, R2: 0.9514872567592156\n"
     ]
    },
    {
     "name": "stderr",
     "output_type": "stream",
     "text": [
      "c:\\Users\\PSID_PC_20\\anaconda3\\envs\\python39\\lib\\site-packages\\sklearn\\base.py:493: UserWarning: X does not have valid feature names, but StandardScaler was fitted with feature names\n",
      "  warnings.warn(\n"
     ]
    },
    {
     "name": "stdout",
     "output_type": "stream",
     "text": [
      "Iteration 99/100 - Test MSE: 0.0813613726066239, R2: 0.950170043359112\n"
     ]
    },
    {
     "name": "stderr",
     "output_type": "stream",
     "text": [
      "c:\\Users\\PSID_PC_20\\anaconda3\\envs\\python39\\lib\\site-packages\\sklearn\\base.py:493: UserWarning: X does not have valid feature names, but StandardScaler was fitted with feature names\n",
      "  warnings.warn(\n"
     ]
    },
    {
     "name": "stdout",
     "output_type": "stream",
     "text": [
      "Iteration 100/100 - Test MSE: 0.08290403481513339, R2: 0.9492252364009842\n",
      "Performance log: [(0.3311766345283599, 0.7971701212710384), (0.266878105500994, 0.8365499007764504), (0.25525489971139703, 0.8436685594466284), (0.23514238750621747, 0.8559865130284715), (0.1664384628771788, 0.8980643870323464), (0.1404958978174764, 0.9139529696688338), (0.13474879110686075, 0.9174727981700705), (0.12233238597111866, 0.9250772535735104), (0.1137522969889445, 0.9303321484733771), (0.11580979984296093, 0.9290720261976647), (0.11413357573660471, 0.9300986334421613), (0.10810058796246204, 0.9337935504472372), (0.10923323875167686, 0.933099855910043), (0.10721903792869487, 0.9343334577589264), (0.1053863641146237, 0.9354558829807033), (0.09554026989886327, 0.9414861456487829), (0.10030598917528309, 0.9385673701008971), (0.09709036306638223, 0.9405367875830056), (0.09778574089666774, 0.9401109018583425), (0.10868014363138173, 0.933438600267219), (0.10304867541183314, 0.9368876057131006), (0.1030603923840565, 0.9368804296269659), (0.10033777012446413, 0.9385479057867028), (0.09521155764738504, 0.9416874662105399), (0.0918570524454482, 0.9437419405072351), (0.0934654890710915, 0.9427568498585936), (0.09761292698955817, 0.9402167421265475), (0.09375546352032504, 0.9425792543514218), (0.09385827618724757, 0.9425162865010678), (0.1001296004697378, 0.9386753997624879), (0.09725161602163, 0.940438027845912), (0.09140831352215256, 0.9440167716755711), (0.09631184478092991, 0.9410135928674469), (0.08948919013914841, 0.9451921431313351), (0.08942707669327882, 0.9452301846517194), (0.0976146120716619, 0.9402157100942025), (0.09256202622382285, 0.9433101777224647), (0.09570973325056564, 0.9413823574358139), (0.0889960242712546, 0.945494183682356), (0.09545447511961853, 0.9415386908553449), (0.09496576169413545, 0.9418380044979426), (0.09233949431917342, 0.9434464678906938), (0.08627440241394216, 0.9471610471434542), (0.09157078722367869, 0.9439172642896587), (0.08802353149190127, 0.9460897890842345), (0.08914514484484419, 0.9454028544498446), (0.08660887020852133, 0.9469562015863096), (0.08873153099065247, 0.9456561731901773), (0.0963293542930146, 0.9410028691271751), (0.09735668136078487, 0.9403736803413553), (0.08937476789558989, 0.9452622212931534), (0.10108839445655546, 0.938088184217076), (0.08708825526673797, 0.946662601123339), (0.09250619197227627, 0.9433443735360862), (0.0896987234312171, 0.945063813992776), (0.08584468166796272, 0.9474242305860857), (0.08542131449409639, 0.9476835227691089), (0.08705761131197826, 0.9466813690827288), (0.09214989755842183, 0.9435625868555639), (0.09142283712279128, 0.9440078766635167), (0.08617321815836235, 0.9472230176695988), (0.08175323167944445, 0.9499300483838257), (0.1005851090294711, 0.9383964225150071), (0.08553438151599262, 0.9476142746158626), (0.09231176766875294, 0.9434634491404439), (0.09073854360163278, 0.9444269737779893), (0.08785375410950776, 0.9461937696260104), (0.0849547311255938, 0.9479692828082649), (0.08461248497238141, 0.9481788922387441), (0.08389438896542495, 0.9486186917620835), (0.08277795171052292, 0.9493024562835232), (0.08278915224433249, 0.9492955964912629), (0.08090555156377127, 0.9504492119875859), (0.08258708497397302, 0.9494193530479429), (0.08702132369303633, 0.9467035935170094), (0.08035645459441641, 0.9507855076681774), (0.08408129912224187, 0.9485042182138684), (0.08813727570055879, 0.9460201261864247), (0.09262819341221605, 0.943269653478305), (0.08065434253989955, 0.9506030655223321), (0.08794858367583161, 0.9461356910436709), (0.08474602496386274, 0.9480971053689783), (0.08097043230629411, 0.9504094756301087), (0.08330809802514781, 0.9489777669742755), (0.07827505103311483, 0.9520602679861149), (0.08967460924360905, 0.9450785827815076), (0.0866592610264185, 0.9469253396159363), (0.08279947579451191, 0.9492892738096103), (0.07964049849286134, 0.9512239966016146), (0.08401722343084032, 0.948543461515966), (0.08246062636779741, 0.9494968029072646), (0.08151466951090092, 0.9500761563234269), (0.08193848184500307, 0.9498165915010106), (0.08466053777492039, 0.948149462191164), (0.08190390897987548, 0.94983776573044), (0.08621168281450839, 0.9471994599039594), (0.08450231324805425, 0.948246367160447), (0.07978688867175344, 0.9511343396055102), (0.07921065248818955, 0.9514872567592156), (0.0813613726066239, 0.950170043359112), (0.08290403481513339, 0.9492252364009842)]\n"
     ]
    }
   ],
   "source": [
    "import os\n",
    "os.environ[\"KMP_DUPLICATE_LIB_OK\"] = \"TRUE\"\n",
    "import torch\n",
    "import torch.nn as nn\n",
    "import torch.optim as optim\n",
    "from torch.utils.data import DataLoader, TensorDataset\n",
    "import numpy as np\n",
    "import pandas as pd\n",
    "from sklearn.metrics import mean_squared_error, r2_score\n",
    "from sklearn.model_selection import train_test_split\n",
    "from sklearn.preprocessing import StandardScaler\n",
    "\n",
    "# PyTorch 모델 정의\n",
    "class DropoutMLP(nn.Module):\n",
    "    def __init__(self, input_dim, hidden_dim):\n",
    "        super(DropoutMLP, self).__init__()\n",
    "        self.model = nn.Sequential(\n",
    "            nn.Linear(input_dim, hidden_dim),\n",
    "            nn.ReLU(),\n",
    "            nn.Dropout(p=0.2),  # 드롭아웃 적용\n",
    "            nn.Linear(hidden_dim, hidden_dim),\n",
    "            nn.ReLU(),\n",
    "            nn.Dropout(p=0.2),  # 드롭아웃 적용\n",
    "            nn.Linear(hidden_dim, 1)\n",
    "        )\n",
    "    \n",
    "    def forward(self, x):\n",
    "        return self.model(x)\n",
    "\n",
    "# Monte Carlo Dropout 예측 함수\n",
    "def mc_dropout_predict(model, X, n_simulations):\n",
    "    model.train()  # 드롭아웃 활성화를 위해 train 모드 유지\n",
    "    predictions = []\n",
    "    with torch.no_grad():  # 가중치 업데이트 방지\n",
    "        for _ in range(n_simulations):\n",
    "            predictions.append(model(X).detach().numpy())\n",
    "    \n",
    "    predictions = np.array(predictions)\n",
    "    mean_prediction = predictions.mean(axis=0)\n",
    "    uncertainty = predictions.std(axis=0)\n",
    "    return mean_prediction, uncertainty\n",
    "\n",
    "# 데이터 준비\n",
    "data = pd.read_csv(\"../[01]Data/CoREMOF_O2_15.0_5760.csv\").reset_index(drop=True).drop(\"Unnamed: 0\", axis=1)\n",
    "data = data[['Adsorbent', 'LCD', 'PLD', 'LFPD', 'cm3_g', 'ASA_m2_cm3', 'ASA_m2_g',\n",
    "              'AV_VF', 'AV_cm3_g',  'Has_OMS',\n",
    "             '0.5bar_GCMC', 'Uptake']]\n",
    "# 'NASA_m2_cm3', 'NASA_m2_g', 'NAV_cm3_g' 제거\n",
    "\n",
    "X = data.drop(['Adsorbent', 'Uptake'], axis=1)\n",
    "y = data['Uptake']\n",
    "\n",
    "# Train-Test Split\n",
    "X_train, X_test, y_train, y_test = train_test_split(X, y, test_size=0.2, random_state=42)\n",
    "\n",
    "\n",
    "# Train 데이터를 Initial (5%)와 Remaining (95%)으로 랜덤 분리\n",
    "initial_size = int(0.05 * len(X_train))\n",
    "indices = np.random.permutation(len(X_train))  # 데이터셋 인덱스를 랜덤으로 섞음\n",
    "initial_indices = indices[:initial_size]  # 상위 5% 인덱스 선택\n",
    "remaining_indices = indices[initial_size:]  # 나머지 인덱스 선택\n",
    "\n",
    "X_initial = X_train.iloc[initial_indices]\n",
    "y_initial = y_train.iloc[initial_indices]\n",
    "X_remaining = pd.DataFrame(X_train.iloc[remaining_indices], columns=X_train.columns)\n",
    "y_remaining = y_train.iloc[remaining_indices]\n",
    "def create_dataloader(X, y, batch_size=32, shuffle=True):\n",
    "    # y를 numpy 배열로 변환 (필요 시)\n",
    "    if isinstance(y, pd.Series):\n",
    "        y = y.to_numpy()\n",
    "    dataset = TensorDataset(torch.tensor(X, dtype=torch.float32), torch.tensor(y, dtype=torch.float32))\n",
    "    return DataLoader(dataset, batch_size=batch_size, shuffle=shuffle)\n",
    "\n",
    "input_dim = X_train.shape[1]\n",
    "hidden_dim = 64\n",
    "# StandardScaler를 초기 데이터에 대해 피팅\n",
    "scaler = StandardScaler()\n",
    "X_initial_scaled = scaler.fit_transform(X_initial)\n",
    "X_test_scaled = scaler.transform(X_test)\n",
    "\n",
    "# 남은 데이터를 그대로 둠 (추후 transform 적용)\n",
    "X_remaining = pd.DataFrame(X_train.iloc[remaining_indices], columns=X_train.columns)\n",
    "y_remaining = y_train.iloc[remaining_indices].to_numpy()\n",
    "\n",
    "# 초기 데이터 로더 생성\n",
    "train_loader = create_dataloader(X_initial_scaled, y_initial)\n",
    "test_loader = create_dataloader(X_test_scaled, y_test.to_numpy(), shuffle=False)\n",
    "\n",
    "# 모델 초기화\n",
    "model = DropoutMLP(input_dim, hidden_dim)\n",
    "criterion = nn.MSELoss()\n",
    "optimizer = optim.Adam(model.parameters(), lr=0.001)\n",
    "\n",
    "# 초기 학습\n",
    "epochs = 50\n",
    "for epoch in range(epochs):\n",
    "    model.train()\n",
    "    for X_batch, y_batch in train_loader:\n",
    "        optimizer.zero_grad()\n",
    "        predictions = model(X_batch).squeeze()\n",
    "        loss = criterion(predictions, y_batch)\n",
    "        loss.backward()\n",
    "        optimizer.step()\n",
    "\n",
    "# 액티브 러닝 설정\n",
    "iterations = 100\n",
    "samples_per_iteration = 10\n",
    "performance_log = []\n",
    "\n",
    "# 초기 성능 평가\n",
    "X_test_tensor = torch.tensor(X_test_scaled, dtype=torch.float32)\n",
    "mean_prediction, _ = mc_dropout_predict(model, X_test_tensor, n_simulations=20)\n",
    "mse = mean_squared_error(y_test, mean_prediction)\n",
    "r2 = r2_score(y_test, mean_prediction)\n",
    "performance_log.append((mse, r2))\n",
    "print(f\"Initial Test MSE: {mse}, R2: {r2}\")\n",
    "\n",
    "# 반복 학습\n",
    "for iteration in range(iterations):\n",
    "    # Monte Carlo Dropout 예측\n",
    "    _, uncertainties = mc_dropout_predict(model, torch.tensor(scaler.transform(X_remaining), dtype=torch.float32), n_simulations=20)\n",
    "    uncertainties = uncertainties.flatten()\n",
    "\n",
    "    # 가장 불확실성이 높은 샘플 선택\n",
    "    most_uncertain_indices = np.argsort(uncertainties)[-samples_per_iteration:]\n",
    "    sampled_X = X_remaining.iloc[most_uncertain_indices].values\n",
    "    sampled_y = y_remaining[most_uncertain_indices]\n",
    "\n",
    "    # 선택된 샘플 추가\n",
    "    X_initial = np.vstack([X_initial, sampled_X])\n",
    "    y_initial = np.hstack([y_initial, sampled_y])\n",
    "\n",
    "    # 남은 데이터에서 샘플 제거\n",
    "    X_remaining = X_remaining.drop(X_remaining.index[most_uncertain_indices]).reset_index(drop=True)\n",
    "    y_remaining = np.delete(y_remaining, most_uncertain_indices, axis=0)\n",
    "\n",
    "    # 새 데이터 스케일링 및 로더 생성\n",
    "    X_initial_scaled = scaler.transform(X_initial)\n",
    "    train_loader = create_dataloader(X_initial_scaled, y_initial)\n",
    "\n",
    "    # 모델 학습\n",
    "    for epoch in range(epochs):\n",
    "        model.train()\n",
    "        for X_batch, y_batch in train_loader:\n",
    "            optimizer.zero_grad()\n",
    "            predictions = model(X_batch).squeeze()\n",
    "            loss = criterion(predictions, y_batch)\n",
    "            loss.backward()\n",
    "            optimizer.step()\n",
    "\n",
    "    # Test 성능 평가\n",
    "    mean_prediction, _ = mc_dropout_predict(model, X_test_tensor, n_simulations=20)\n",
    "    mse = mean_squared_error(y_test, mean_prediction)\n",
    "    r2 = r2_score(y_test, mean_prediction)\n",
    "    performance_log.append((mse, r2))\n",
    "    print(f\"Iteration {iteration + 1}/{iterations} - Test MSE: {mse}, R2: {r2}\")\n",
    "\n",
    "# 최종 성능 기록\n",
    "print(\"Performance log:\", performance_log)\n",
    "first_log = performance_log\n"
   ]
  },
  {
   "cell_type": "markdown",
   "metadata": {},
   "source": [
    "## 랜덤하게 샘플링해서 추가"
   ]
  },
  {
   "cell_type": "code",
   "execution_count": 68,
   "metadata": {},
   "outputs": [
    {
     "name": "stdout",
     "output_type": "stream",
     "text": [
      "Initial Test MSE: 0.9104599920737885, R2: 0.44238671896980086\n"
     ]
    },
    {
     "name": "stderr",
     "output_type": "stream",
     "text": [
      "c:\\Users\\PSID_PC_20\\anaconda3\\envs\\python39\\lib\\site-packages\\sklearn\\base.py:493: UserWarning: X does not have valid feature names, but StandardScaler was fitted with feature names\n",
      "  warnings.warn(\n"
     ]
    },
    {
     "name": "stdout",
     "output_type": "stream",
     "text": [
      "Iteration 1/100 - Test MSE: 0.6779104483897381, R2: 0.5848122128790703\n"
     ]
    },
    {
     "name": "stderr",
     "output_type": "stream",
     "text": [
      "c:\\Users\\PSID_PC_20\\anaconda3\\envs\\python39\\lib\\site-packages\\sklearn\\base.py:493: UserWarning: X does not have valid feature names, but StandardScaler was fitted with feature names\n",
      "  warnings.warn(\n"
     ]
    },
    {
     "name": "stdout",
     "output_type": "stream",
     "text": [
      "Iteration 2/100 - Test MSE: 0.43609012077022224, R2: 0.732915619374265\n"
     ]
    },
    {
     "name": "stderr",
     "output_type": "stream",
     "text": [
      "c:\\Users\\PSID_PC_20\\anaconda3\\envs\\python39\\lib\\site-packages\\sklearn\\base.py:493: UserWarning: X does not have valid feature names, but StandardScaler was fitted with feature names\n",
      "  warnings.warn(\n"
     ]
    },
    {
     "name": "stdout",
     "output_type": "stream",
     "text": [
      "Iteration 3/100 - Test MSE: 0.49294931180047985, R2: 0.6980920792482588\n"
     ]
    },
    {
     "name": "stderr",
     "output_type": "stream",
     "text": [
      "c:\\Users\\PSID_PC_20\\anaconda3\\envs\\python39\\lib\\site-packages\\sklearn\\base.py:493: UserWarning: X does not have valid feature names, but StandardScaler was fitted with feature names\n",
      "  warnings.warn(\n"
     ]
    },
    {
     "name": "stdout",
     "output_type": "stream",
     "text": [
      "Iteration 4/100 - Test MSE: 0.24698568482358402, R2: 0.8487330588044031\n"
     ]
    },
    {
     "name": "stderr",
     "output_type": "stream",
     "text": [
      "c:\\Users\\PSID_PC_20\\anaconda3\\envs\\python39\\lib\\site-packages\\sklearn\\base.py:493: UserWarning: X does not have valid feature names, but StandardScaler was fitted with feature names\n",
      "  warnings.warn(\n"
     ]
    },
    {
     "name": "stdout",
     "output_type": "stream",
     "text": [
      "Iteration 5/100 - Test MSE: 0.2412033981073798, R2: 0.8522744333796175\n"
     ]
    },
    {
     "name": "stderr",
     "output_type": "stream",
     "text": [
      "c:\\Users\\PSID_PC_20\\anaconda3\\envs\\python39\\lib\\site-packages\\sklearn\\base.py:493: UserWarning: X does not have valid feature names, but StandardScaler was fitted with feature names\n",
      "  warnings.warn(\n"
     ]
    },
    {
     "name": "stdout",
     "output_type": "stream",
     "text": [
      "Iteration 6/100 - Test MSE: 0.25097369907872896, R2: 0.846290590455474\n"
     ]
    },
    {
     "name": "stderr",
     "output_type": "stream",
     "text": [
      "c:\\Users\\PSID_PC_20\\anaconda3\\envs\\python39\\lib\\site-packages\\sklearn\\base.py:493: UserWarning: X does not have valid feature names, but StandardScaler was fitted with feature names\n",
      "  warnings.warn(\n"
     ]
    },
    {
     "name": "stdout",
     "output_type": "stream",
     "text": [
      "Iteration 7/100 - Test MSE: 0.23015553548829637, R2: 0.8590407218239522\n"
     ]
    },
    {
     "name": "stderr",
     "output_type": "stream",
     "text": [
      "c:\\Users\\PSID_PC_20\\anaconda3\\envs\\python39\\lib\\site-packages\\sklearn\\base.py:493: UserWarning: X does not have valid feature names, but StandardScaler was fitted with feature names\n",
      "  warnings.warn(\n"
     ]
    },
    {
     "name": "stdout",
     "output_type": "stream",
     "text": [
      "Iteration 8/100 - Test MSE: 0.19477568239729284, R2: 0.8807091928563862\n"
     ]
    },
    {
     "name": "stderr",
     "output_type": "stream",
     "text": [
      "c:\\Users\\PSID_PC_20\\anaconda3\\envs\\python39\\lib\\site-packages\\sklearn\\base.py:493: UserWarning: X does not have valid feature names, but StandardScaler was fitted with feature names\n",
      "  warnings.warn(\n"
     ]
    },
    {
     "name": "stdout",
     "output_type": "stream",
     "text": [
      "Iteration 9/100 - Test MSE: 0.19436844960898506, R2: 0.8809586034984882\n"
     ]
    },
    {
     "name": "stderr",
     "output_type": "stream",
     "text": [
      "c:\\Users\\PSID_PC_20\\anaconda3\\envs\\python39\\lib\\site-packages\\sklearn\\base.py:493: UserWarning: X does not have valid feature names, but StandardScaler was fitted with feature names\n",
      "  warnings.warn(\n"
     ]
    },
    {
     "name": "stdout",
     "output_type": "stream",
     "text": [
      "Iteration 10/100 - Test MSE: 0.1664919858376893, R2: 0.8980316067741467\n"
     ]
    },
    {
     "name": "stderr",
     "output_type": "stream",
     "text": [
      "c:\\Users\\PSID_PC_20\\anaconda3\\envs\\python39\\lib\\site-packages\\sklearn\\base.py:493: UserWarning: X does not have valid feature names, but StandardScaler was fitted with feature names\n",
      "  warnings.warn(\n"
     ]
    },
    {
     "name": "stdout",
     "output_type": "stream",
     "text": [
      "Iteration 11/100 - Test MSE: 0.21955401049136283, R2: 0.8655336497822679\n"
     ]
    },
    {
     "name": "stderr",
     "output_type": "stream",
     "text": [
      "c:\\Users\\PSID_PC_20\\anaconda3\\envs\\python39\\lib\\site-packages\\sklearn\\base.py:493: UserWarning: X does not have valid feature names, but StandardScaler was fitted with feature names\n",
      "  warnings.warn(\n"
     ]
    },
    {
     "name": "stdout",
     "output_type": "stream",
     "text": [
      "Iteration 12/100 - Test MSE: 0.19257127793427015, R2: 0.882059285354733\n"
     ]
    },
    {
     "name": "stderr",
     "output_type": "stream",
     "text": [
      "c:\\Users\\PSID_PC_20\\anaconda3\\envs\\python39\\lib\\site-packages\\sklearn\\base.py:493: UserWarning: X does not have valid feature names, but StandardScaler was fitted with feature names\n",
      "  warnings.warn(\n"
     ]
    },
    {
     "name": "stdout",
     "output_type": "stream",
     "text": [
      "Iteration 13/100 - Test MSE: 0.1839286400960242, R2: 0.8873524884429468\n"
     ]
    },
    {
     "name": "stderr",
     "output_type": "stream",
     "text": [
      "c:\\Users\\PSID_PC_20\\anaconda3\\envs\\python39\\lib\\site-packages\\sklearn\\base.py:493: UserWarning: X does not have valid feature names, but StandardScaler was fitted with feature names\n",
      "  warnings.warn(\n"
     ]
    },
    {
     "name": "stdout",
     "output_type": "stream",
     "text": [
      "Iteration 14/100 - Test MSE: 0.1744961143166721, R2: 0.8931294601869179\n"
     ]
    },
    {
     "name": "stderr",
     "output_type": "stream",
     "text": [
      "c:\\Users\\PSID_PC_20\\anaconda3\\envs\\python39\\lib\\site-packages\\sklearn\\base.py:493: UserWarning: X does not have valid feature names, but StandardScaler was fitted with feature names\n",
      "  warnings.warn(\n"
     ]
    },
    {
     "name": "stdout",
     "output_type": "stream",
     "text": [
      "Iteration 15/100 - Test MSE: 0.21686116610705958, R2: 0.8671828884149452\n"
     ]
    },
    {
     "name": "stderr",
     "output_type": "stream",
     "text": [
      "c:\\Users\\PSID_PC_20\\anaconda3\\envs\\python39\\lib\\site-packages\\sklearn\\base.py:493: UserWarning: X does not have valid feature names, but StandardScaler was fitted with feature names\n",
      "  warnings.warn(\n"
     ]
    },
    {
     "name": "stdout",
     "output_type": "stream",
     "text": [
      "Iteration 16/100 - Test MSE: 0.19132572133770182, R2: 0.8828221293089624\n"
     ]
    },
    {
     "name": "stderr",
     "output_type": "stream",
     "text": [
      "c:\\Users\\PSID_PC_20\\anaconda3\\envs\\python39\\lib\\site-packages\\sklearn\\base.py:493: UserWarning: X does not have valid feature names, but StandardScaler was fitted with feature names\n",
      "  warnings.warn(\n"
     ]
    },
    {
     "name": "stdout",
     "output_type": "stream",
     "text": [
      "Iteration 17/100 - Test MSE: 0.18218000573159507, R2: 0.8884234435137462\n"
     ]
    },
    {
     "name": "stderr",
     "output_type": "stream",
     "text": [
      "c:\\Users\\PSID_PC_20\\anaconda3\\envs\\python39\\lib\\site-packages\\sklearn\\base.py:493: UserWarning: X does not have valid feature names, but StandardScaler was fitted with feature names\n",
      "  warnings.warn(\n"
     ]
    },
    {
     "name": "stdout",
     "output_type": "stream",
     "text": [
      "Iteration 18/100 - Test MSE: 0.18632195188276712, R2: 0.8858866992269986\n"
     ]
    },
    {
     "name": "stderr",
     "output_type": "stream",
     "text": [
      "c:\\Users\\PSID_PC_20\\anaconda3\\envs\\python39\\lib\\site-packages\\sklearn\\base.py:493: UserWarning: X does not have valid feature names, but StandardScaler was fitted with feature names\n",
      "  warnings.warn(\n"
     ]
    },
    {
     "name": "stdout",
     "output_type": "stream",
     "text": [
      "Iteration 19/100 - Test MSE: 0.15737208955387072, R2: 0.9036171078766081\n"
     ]
    },
    {
     "name": "stderr",
     "output_type": "stream",
     "text": [
      "c:\\Users\\PSID_PC_20\\anaconda3\\envs\\python39\\lib\\site-packages\\sklearn\\base.py:493: UserWarning: X does not have valid feature names, but StandardScaler was fitted with feature names\n",
      "  warnings.warn(\n"
     ]
    },
    {
     "name": "stdout",
     "output_type": "stream",
     "text": [
      "Iteration 20/100 - Test MSE: 0.21121361345581124, R2: 0.870641744807394\n"
     ]
    },
    {
     "name": "stderr",
     "output_type": "stream",
     "text": [
      "c:\\Users\\PSID_PC_20\\anaconda3\\envs\\python39\\lib\\site-packages\\sklearn\\base.py:493: UserWarning: X does not have valid feature names, but StandardScaler was fitted with feature names\n",
      "  warnings.warn(\n"
     ]
    },
    {
     "name": "stdout",
     "output_type": "stream",
     "text": [
      "Iteration 21/100 - Test MSE: 0.17565757943484858, R2: 0.8924181182487912\n"
     ]
    },
    {
     "name": "stderr",
     "output_type": "stream",
     "text": [
      "c:\\Users\\PSID_PC_20\\anaconda3\\envs\\python39\\lib\\site-packages\\sklearn\\base.py:493: UserWarning: X does not have valid feature names, but StandardScaler was fitted with feature names\n",
      "  warnings.warn(\n"
     ]
    },
    {
     "name": "stdout",
     "output_type": "stream",
     "text": [
      "Iteration 22/100 - Test MSE: 0.18091980746439906, R2: 0.8891952547922618\n"
     ]
    },
    {
     "name": "stderr",
     "output_type": "stream",
     "text": [
      "c:\\Users\\PSID_PC_20\\anaconda3\\envs\\python39\\lib\\site-packages\\sklearn\\base.py:493: UserWarning: X does not have valid feature names, but StandardScaler was fitted with feature names\n",
      "  warnings.warn(\n"
     ]
    },
    {
     "name": "stdout",
     "output_type": "stream",
     "text": [
      "Iteration 23/100 - Test MSE: 0.18164217920058812, R2: 0.8887528365888848\n"
     ]
    },
    {
     "name": "stderr",
     "output_type": "stream",
     "text": [
      "c:\\Users\\PSID_PC_20\\anaconda3\\envs\\python39\\lib\\site-packages\\sklearn\\base.py:493: UserWarning: X does not have valid feature names, but StandardScaler was fitted with feature names\n",
      "  warnings.warn(\n"
     ]
    },
    {
     "name": "stdout",
     "output_type": "stream",
     "text": [
      "Iteration 24/100 - Test MSE: 0.2117860927052546, R2: 0.8702911285964865\n"
     ]
    },
    {
     "name": "stderr",
     "output_type": "stream",
     "text": [
      "c:\\Users\\PSID_PC_20\\anaconda3\\envs\\python39\\lib\\site-packages\\sklearn\\base.py:493: UserWarning: X does not have valid feature names, but StandardScaler was fitted with feature names\n",
      "  warnings.warn(\n"
     ]
    },
    {
     "name": "stdout",
     "output_type": "stream",
     "text": [
      "Iteration 25/100 - Test MSE: 0.16820136747211556, R2: 0.8969846921266023\n"
     ]
    },
    {
     "name": "stderr",
     "output_type": "stream",
     "text": [
      "c:\\Users\\PSID_PC_20\\anaconda3\\envs\\python39\\lib\\site-packages\\sklearn\\base.py:493: UserWarning: X does not have valid feature names, but StandardScaler was fitted with feature names\n",
      "  warnings.warn(\n"
     ]
    },
    {
     "name": "stdout",
     "output_type": "stream",
     "text": [
      "Iteration 26/100 - Test MSE: 0.16118140209768178, R2: 0.9012840857948956\n"
     ]
    },
    {
     "name": "stderr",
     "output_type": "stream",
     "text": [
      "c:\\Users\\PSID_PC_20\\anaconda3\\envs\\python39\\lib\\site-packages\\sklearn\\base.py:493: UserWarning: X does not have valid feature names, but StandardScaler was fitted with feature names\n",
      "  warnings.warn(\n"
     ]
    },
    {
     "name": "stdout",
     "output_type": "stream",
     "text": [
      "Iteration 27/100 - Test MSE: 0.23207057926607058, R2: 0.8578678489316367\n"
     ]
    },
    {
     "name": "stderr",
     "output_type": "stream",
     "text": [
      "c:\\Users\\PSID_PC_20\\anaconda3\\envs\\python39\\lib\\site-packages\\sklearn\\base.py:493: UserWarning: X does not have valid feature names, but StandardScaler was fitted with feature names\n",
      "  warnings.warn(\n"
     ]
    },
    {
     "name": "stdout",
     "output_type": "stream",
     "text": [
      "Iteration 28/100 - Test MSE: 0.2008507218517462, R2: 0.8769885212046096\n"
     ]
    },
    {
     "name": "stderr",
     "output_type": "stream",
     "text": [
      "c:\\Users\\PSID_PC_20\\anaconda3\\envs\\python39\\lib\\site-packages\\sklearn\\base.py:493: UserWarning: X does not have valid feature names, but StandardScaler was fitted with feature names\n",
      "  warnings.warn(\n"
     ]
    },
    {
     "name": "stdout",
     "output_type": "stream",
     "text": [
      "Iteration 29/100 - Test MSE: 0.16766422273088202, R2: 0.8973136676380524\n"
     ]
    },
    {
     "name": "stderr",
     "output_type": "stream",
     "text": [
      "c:\\Users\\PSID_PC_20\\anaconda3\\envs\\python39\\lib\\site-packages\\sklearn\\base.py:493: UserWarning: X does not have valid feature names, but StandardScaler was fitted with feature names\n",
      "  warnings.warn(\n"
     ]
    },
    {
     "name": "stdout",
     "output_type": "stream",
     "text": [
      "Iteration 30/100 - Test MSE: 0.15462096048634463, R2: 0.9053020430953282\n"
     ]
    },
    {
     "name": "stderr",
     "output_type": "stream",
     "text": [
      "c:\\Users\\PSID_PC_20\\anaconda3\\envs\\python39\\lib\\site-packages\\sklearn\\base.py:493: UserWarning: X does not have valid feature names, but StandardScaler was fitted with feature names\n",
      "  warnings.warn(\n"
     ]
    },
    {
     "name": "stdout",
     "output_type": "stream",
     "text": [
      "Iteration 31/100 - Test MSE: 0.16965146276637988, R2: 0.8960965779844318\n"
     ]
    },
    {
     "name": "stderr",
     "output_type": "stream",
     "text": [
      "c:\\Users\\PSID_PC_20\\anaconda3\\envs\\python39\\lib\\site-packages\\sklearn\\base.py:493: UserWarning: X does not have valid feature names, but StandardScaler was fitted with feature names\n",
      "  warnings.warn(\n"
     ]
    },
    {
     "name": "stdout",
     "output_type": "stream",
     "text": [
      "Iteration 32/100 - Test MSE: 0.18652801840801175, R2: 0.8857604933176204\n"
     ]
    },
    {
     "name": "stderr",
     "output_type": "stream",
     "text": [
      "c:\\Users\\PSID_PC_20\\anaconda3\\envs\\python39\\lib\\site-packages\\sklearn\\base.py:493: UserWarning: X does not have valid feature names, but StandardScaler was fitted with feature names\n",
      "  warnings.warn(\n"
     ]
    },
    {
     "name": "stdout",
     "output_type": "stream",
     "text": [
      "Iteration 33/100 - Test MSE: 0.18161508628418419, R2: 0.8887694297068035\n"
     ]
    },
    {
     "name": "stderr",
     "output_type": "stream",
     "text": [
      "c:\\Users\\PSID_PC_20\\anaconda3\\envs\\python39\\lib\\site-packages\\sklearn\\base.py:493: UserWarning: X does not have valid feature names, but StandardScaler was fitted with feature names\n",
      "  warnings.warn(\n"
     ]
    },
    {
     "name": "stdout",
     "output_type": "stream",
     "text": [
      "Iteration 34/100 - Test MSE: 0.2731756866701606, R2: 0.8326929329482491\n"
     ]
    },
    {
     "name": "stderr",
     "output_type": "stream",
     "text": [
      "c:\\Users\\PSID_PC_20\\anaconda3\\envs\\python39\\lib\\site-packages\\sklearn\\base.py:493: UserWarning: X does not have valid feature names, but StandardScaler was fitted with feature names\n",
      "  warnings.warn(\n"
     ]
    },
    {
     "name": "stdout",
     "output_type": "stream",
     "text": [
      "Iteration 35/100 - Test MSE: 0.2366753997053786, R2: 0.8550476162403914\n"
     ]
    },
    {
     "name": "stderr",
     "output_type": "stream",
     "text": [
      "c:\\Users\\PSID_PC_20\\anaconda3\\envs\\python39\\lib\\site-packages\\sklearn\\base.py:493: UserWarning: X does not have valid feature names, but StandardScaler was fitted with feature names\n",
      "  warnings.warn(\n"
     ]
    },
    {
     "name": "stdout",
     "output_type": "stream",
     "text": [
      "Iteration 36/100 - Test MSE: 0.23767007926908634, R2: 0.8544384224922625\n"
     ]
    },
    {
     "name": "stderr",
     "output_type": "stream",
     "text": [
      "c:\\Users\\PSID_PC_20\\anaconda3\\envs\\python39\\lib\\site-packages\\sklearn\\base.py:493: UserWarning: X does not have valid feature names, but StandardScaler was fitted with feature names\n",
      "  warnings.warn(\n"
     ]
    },
    {
     "name": "stdout",
     "output_type": "stream",
     "text": [
      "Iteration 37/100 - Test MSE: 0.19101221065466206, R2: 0.8830141396357529\n"
     ]
    },
    {
     "name": "stderr",
     "output_type": "stream",
     "text": [
      "c:\\Users\\PSID_PC_20\\anaconda3\\envs\\python39\\lib\\site-packages\\sklearn\\base.py:493: UserWarning: X does not have valid feature names, but StandardScaler was fitted with feature names\n",
      "  warnings.warn(\n"
     ]
    },
    {
     "name": "stdout",
     "output_type": "stream",
     "text": [
      "Iteration 38/100 - Test MSE: 0.21273361158376408, R2: 0.869710818516655\n"
     ]
    },
    {
     "name": "stderr",
     "output_type": "stream",
     "text": [
      "c:\\Users\\PSID_PC_20\\anaconda3\\envs\\python39\\lib\\site-packages\\sklearn\\base.py:493: UserWarning: X does not have valid feature names, but StandardScaler was fitted with feature names\n",
      "  warnings.warn(\n"
     ]
    },
    {
     "name": "stdout",
     "output_type": "stream",
     "text": [
      "Iteration 39/100 - Test MSE: 0.2288354925288386, R2: 0.8598491851195743\n"
     ]
    },
    {
     "name": "stderr",
     "output_type": "stream",
     "text": [
      "c:\\Users\\PSID_PC_20\\anaconda3\\envs\\python39\\lib\\site-packages\\sklearn\\base.py:493: UserWarning: X does not have valid feature names, but StandardScaler was fitted with feature names\n",
      "  warnings.warn(\n"
     ]
    },
    {
     "name": "stdout",
     "output_type": "stream",
     "text": [
      "Iteration 40/100 - Test MSE: 0.23095167648680276, R2: 0.8585531234690497\n"
     ]
    },
    {
     "name": "stderr",
     "output_type": "stream",
     "text": [
      "c:\\Users\\PSID_PC_20\\anaconda3\\envs\\python39\\lib\\site-packages\\sklearn\\base.py:493: UserWarning: X does not have valid feature names, but StandardScaler was fitted with feature names\n",
      "  warnings.warn(\n"
     ]
    },
    {
     "name": "stdout",
     "output_type": "stream",
     "text": [
      "Iteration 41/100 - Test MSE: 0.21227070176596421, R2: 0.8699943286813757\n"
     ]
    },
    {
     "name": "stderr",
     "output_type": "stream",
     "text": [
      "c:\\Users\\PSID_PC_20\\anaconda3\\envs\\python39\\lib\\site-packages\\sklearn\\base.py:493: UserWarning: X does not have valid feature names, but StandardScaler was fitted with feature names\n",
      "  warnings.warn(\n"
     ]
    },
    {
     "name": "stdout",
     "output_type": "stream",
     "text": [
      "Iteration 42/100 - Test MSE: 0.20468564465544548, R2: 0.8746398140613143\n"
     ]
    },
    {
     "name": "stderr",
     "output_type": "stream",
     "text": [
      "c:\\Users\\PSID_PC_20\\anaconda3\\envs\\python39\\lib\\site-packages\\sklearn\\base.py:493: UserWarning: X does not have valid feature names, but StandardScaler was fitted with feature names\n",
      "  warnings.warn(\n"
     ]
    },
    {
     "name": "stdout",
     "output_type": "stream",
     "text": [
      "Iteration 43/100 - Test MSE: 0.2556492420367216, R2: 0.8434270435977306\n"
     ]
    },
    {
     "name": "stderr",
     "output_type": "stream",
     "text": [
      "c:\\Users\\PSID_PC_20\\anaconda3\\envs\\python39\\lib\\site-packages\\sklearn\\base.py:493: UserWarning: X does not have valid feature names, but StandardScaler was fitted with feature names\n",
      "  warnings.warn(\n"
     ]
    },
    {
     "name": "stdout",
     "output_type": "stream",
     "text": [
      "Iteration 44/100 - Test MSE: 0.22829504677638982, R2: 0.8601801823428081\n"
     ]
    },
    {
     "name": "stderr",
     "output_type": "stream",
     "text": [
      "c:\\Users\\PSID_PC_20\\anaconda3\\envs\\python39\\lib\\site-packages\\sklearn\\base.py:493: UserWarning: X does not have valid feature names, but StandardScaler was fitted with feature names\n",
      "  warnings.warn(\n"
     ]
    },
    {
     "name": "stdout",
     "output_type": "stream",
     "text": [
      "Iteration 45/100 - Test MSE: 0.25921030488546243, R2: 0.8412460626031476\n"
     ]
    },
    {
     "name": "stderr",
     "output_type": "stream",
     "text": [
      "c:\\Users\\PSID_PC_20\\anaconda3\\envs\\python39\\lib\\site-packages\\sklearn\\base.py:493: UserWarning: X does not have valid feature names, but StandardScaler was fitted with feature names\n",
      "  warnings.warn(\n"
     ]
    },
    {
     "name": "stdout",
     "output_type": "stream",
     "text": [
      "Iteration 46/100 - Test MSE: 0.2617883311779408, R2: 0.8396671445704544\n"
     ]
    },
    {
     "name": "stderr",
     "output_type": "stream",
     "text": [
      "c:\\Users\\PSID_PC_20\\anaconda3\\envs\\python39\\lib\\site-packages\\sklearn\\base.py:493: UserWarning: X does not have valid feature names, but StandardScaler was fitted with feature names\n",
      "  warnings.warn(\n"
     ]
    },
    {
     "name": "stdout",
     "output_type": "stream",
     "text": [
      "Iteration 47/100 - Test MSE: 0.22685307472858465, R2: 0.8610633213843151\n"
     ]
    },
    {
     "name": "stderr",
     "output_type": "stream",
     "text": [
      "c:\\Users\\PSID_PC_20\\anaconda3\\envs\\python39\\lib\\site-packages\\sklearn\\base.py:493: UserWarning: X does not have valid feature names, but StandardScaler was fitted with feature names\n",
      "  warnings.warn(\n"
     ]
    },
    {
     "name": "stdout",
     "output_type": "stream",
     "text": [
      "Iteration 48/100 - Test MSE: 0.24535919425424074, R2: 0.8497292066316903\n"
     ]
    },
    {
     "name": "stderr",
     "output_type": "stream",
     "text": [
      "c:\\Users\\PSID_PC_20\\anaconda3\\envs\\python39\\lib\\site-packages\\sklearn\\base.py:493: UserWarning: X does not have valid feature names, but StandardScaler was fitted with feature names\n",
      "  warnings.warn(\n"
     ]
    },
    {
     "name": "stdout",
     "output_type": "stream",
     "text": [
      "Iteration 49/100 - Test MSE: 0.2222913861372128, R2: 0.8638571378777549\n"
     ]
    },
    {
     "name": "stderr",
     "output_type": "stream",
     "text": [
      "c:\\Users\\PSID_PC_20\\anaconda3\\envs\\python39\\lib\\site-packages\\sklearn\\base.py:493: UserWarning: X does not have valid feature names, but StandardScaler was fitted with feature names\n",
      "  warnings.warn(\n"
     ]
    },
    {
     "name": "stdout",
     "output_type": "stream",
     "text": [
      "Iteration 50/100 - Test MSE: 0.32202725357427364, R2: 0.8027736803264809\n"
     ]
    },
    {
     "name": "stderr",
     "output_type": "stream",
     "text": [
      "c:\\Users\\PSID_PC_20\\anaconda3\\envs\\python39\\lib\\site-packages\\sklearn\\base.py:493: UserWarning: X does not have valid feature names, but StandardScaler was fitted with feature names\n",
      "  warnings.warn(\n"
     ]
    },
    {
     "name": "stdout",
     "output_type": "stream",
     "text": [
      "Iteration 51/100 - Test MSE: 0.2096485676583113, R2: 0.8716002606452166\n"
     ]
    },
    {
     "name": "stderr",
     "output_type": "stream",
     "text": [
      "c:\\Users\\PSID_PC_20\\anaconda3\\envs\\python39\\lib\\site-packages\\sklearn\\base.py:493: UserWarning: X does not have valid feature names, but StandardScaler was fitted with feature names\n",
      "  warnings.warn(\n"
     ]
    },
    {
     "name": "stdout",
     "output_type": "stream",
     "text": [
      "Iteration 52/100 - Test MSE: 0.25540044312838783, R2: 0.8435794210517653\n"
     ]
    },
    {
     "name": "stderr",
     "output_type": "stream",
     "text": [
      "c:\\Users\\PSID_PC_20\\anaconda3\\envs\\python39\\lib\\site-packages\\sklearn\\base.py:493: UserWarning: X does not have valid feature names, but StandardScaler was fitted with feature names\n",
      "  warnings.warn(\n"
     ]
    },
    {
     "name": "stdout",
     "output_type": "stream",
     "text": [
      "Iteration 53/100 - Test MSE: 0.22178498958933798, R2: 0.8641672815886495\n"
     ]
    },
    {
     "name": "stderr",
     "output_type": "stream",
     "text": [
      "c:\\Users\\PSID_PC_20\\anaconda3\\envs\\python39\\lib\\site-packages\\sklearn\\base.py:493: UserWarning: X does not have valid feature names, but StandardScaler was fitted with feature names\n",
      "  warnings.warn(\n"
     ]
    },
    {
     "name": "stdout",
     "output_type": "stream",
     "text": [
      "Iteration 54/100 - Test MSE: 0.21312321984087518, R2: 0.8694722020585399\n"
     ]
    },
    {
     "name": "stderr",
     "output_type": "stream",
     "text": [
      "c:\\Users\\PSID_PC_20\\anaconda3\\envs\\python39\\lib\\site-packages\\sklearn\\base.py:493: UserWarning: X does not have valid feature names, but StandardScaler was fitted with feature names\n",
      "  warnings.warn(\n"
     ]
    },
    {
     "name": "stdout",
     "output_type": "stream",
     "text": [
      "Iteration 55/100 - Test MSE: 0.23218861933278973, R2: 0.8577955550258426\n"
     ]
    },
    {
     "name": "stderr",
     "output_type": "stream",
     "text": [
      "c:\\Users\\PSID_PC_20\\anaconda3\\envs\\python39\\lib\\site-packages\\sklearn\\base.py:493: UserWarning: X does not have valid feature names, but StandardScaler was fitted with feature names\n",
      "  warnings.warn(\n"
     ]
    },
    {
     "name": "stdout",
     "output_type": "stream",
     "text": [
      "Iteration 56/100 - Test MSE: 0.275801304607126, R2: 0.8310848673052676\n"
     ]
    },
    {
     "name": "stderr",
     "output_type": "stream",
     "text": [
      "c:\\Users\\PSID_PC_20\\anaconda3\\envs\\python39\\lib\\site-packages\\sklearn\\base.py:493: UserWarning: X does not have valid feature names, but StandardScaler was fitted with feature names\n",
      "  warnings.warn(\n"
     ]
    },
    {
     "name": "stdout",
     "output_type": "stream",
     "text": [
      "Iteration 57/100 - Test MSE: 0.23120416209661265, R2: 0.8583984880863589\n"
     ]
    },
    {
     "name": "stderr",
     "output_type": "stream",
     "text": [
      "c:\\Users\\PSID_PC_20\\anaconda3\\envs\\python39\\lib\\site-packages\\sklearn\\base.py:493: UserWarning: X does not have valid feature names, but StandardScaler was fitted with feature names\n",
      "  warnings.warn(\n"
     ]
    },
    {
     "name": "stdout",
     "output_type": "stream",
     "text": [
      "Iteration 58/100 - Test MSE: 0.17772531131848426, R2: 0.891151731180757\n"
     ]
    },
    {
     "name": "stderr",
     "output_type": "stream",
     "text": [
      "c:\\Users\\PSID_PC_20\\anaconda3\\envs\\python39\\lib\\site-packages\\sklearn\\base.py:493: UserWarning: X does not have valid feature names, but StandardScaler was fitted with feature names\n",
      "  warnings.warn(\n"
     ]
    },
    {
     "name": "stdout",
     "output_type": "stream",
     "text": [
      "Iteration 59/100 - Test MSE: 0.23181646916235601, R2: 0.858023479239293\n"
     ]
    },
    {
     "name": "stderr",
     "output_type": "stream",
     "text": [
      "c:\\Users\\PSID_PC_20\\anaconda3\\envs\\python39\\lib\\site-packages\\sklearn\\base.py:493: UserWarning: X does not have valid feature names, but StandardScaler was fitted with feature names\n",
      "  warnings.warn(\n"
     ]
    },
    {
     "name": "stdout",
     "output_type": "stream",
     "text": [
      "Iteration 60/100 - Test MSE: 0.2065013604444309, R2: 0.8735277748203496\n"
     ]
    },
    {
     "name": "stderr",
     "output_type": "stream",
     "text": [
      "c:\\Users\\PSID_PC_20\\anaconda3\\envs\\python39\\lib\\site-packages\\sklearn\\base.py:493: UserWarning: X does not have valid feature names, but StandardScaler was fitted with feature names\n",
      "  warnings.warn(\n"
     ]
    },
    {
     "name": "stdout",
     "output_type": "stream",
     "text": [
      "Iteration 61/100 - Test MSE: 0.20846013853412956, R2: 0.8723281167497966\n"
     ]
    },
    {
     "name": "stderr",
     "output_type": "stream",
     "text": [
      "c:\\Users\\PSID_PC_20\\anaconda3\\envs\\python39\\lib\\site-packages\\sklearn\\base.py:493: UserWarning: X does not have valid feature names, but StandardScaler was fitted with feature names\n",
      "  warnings.warn(\n"
     ]
    },
    {
     "name": "stdout",
     "output_type": "stream",
     "text": [
      "Iteration 62/100 - Test MSE: 0.29827071538984107, R2: 0.8173234258597992\n"
     ]
    },
    {
     "name": "stderr",
     "output_type": "stream",
     "text": [
      "c:\\Users\\PSID_PC_20\\anaconda3\\envs\\python39\\lib\\site-packages\\sklearn\\base.py:493: UserWarning: X does not have valid feature names, but StandardScaler was fitted with feature names\n",
      "  warnings.warn(\n"
     ]
    },
    {
     "name": "stdout",
     "output_type": "stream",
     "text": [
      "Iteration 63/100 - Test MSE: 0.1903977996452183, R2: 0.8833904370478959\n"
     ]
    },
    {
     "name": "stderr",
     "output_type": "stream",
     "text": [
      "c:\\Users\\PSID_PC_20\\anaconda3\\envs\\python39\\lib\\site-packages\\sklearn\\base.py:493: UserWarning: X does not have valid feature names, but StandardScaler was fitted with feature names\n",
      "  warnings.warn(\n"
     ]
    },
    {
     "name": "stdout",
     "output_type": "stream",
     "text": [
      "Iteration 64/100 - Test MSE: 0.1801280759595853, R2: 0.8896801525427809\n"
     ]
    },
    {
     "name": "stderr",
     "output_type": "stream",
     "text": [
      "c:\\Users\\PSID_PC_20\\anaconda3\\envs\\python39\\lib\\site-packages\\sklearn\\base.py:493: UserWarning: X does not have valid feature names, but StandardScaler was fitted with feature names\n",
      "  warnings.warn(\n"
     ]
    },
    {
     "name": "stdout",
     "output_type": "stream",
     "text": [
      "Iteration 65/100 - Test MSE: 0.19216375678649, R2: 0.882308872603246\n"
     ]
    },
    {
     "name": "stderr",
     "output_type": "stream",
     "text": [
      "c:\\Users\\PSID_PC_20\\anaconda3\\envs\\python39\\lib\\site-packages\\sklearn\\base.py:493: UserWarning: X does not have valid feature names, but StandardScaler was fitted with feature names\n",
      "  warnings.warn(\n"
     ]
    },
    {
     "name": "stdout",
     "output_type": "stream",
     "text": [
      "Iteration 66/100 - Test MSE: 0.18084168672043496, R2: 0.8892431000185623\n"
     ]
    },
    {
     "name": "stderr",
     "output_type": "stream",
     "text": [
      "c:\\Users\\PSID_PC_20\\anaconda3\\envs\\python39\\lib\\site-packages\\sklearn\\base.py:493: UserWarning: X does not have valid feature names, but StandardScaler was fitted with feature names\n",
      "  warnings.warn(\n"
     ]
    },
    {
     "name": "stdout",
     "output_type": "stream",
     "text": [
      "Iteration 67/100 - Test MSE: 0.20754259276112508, R2: 0.8728900697333813\n"
     ]
    },
    {
     "name": "stderr",
     "output_type": "stream",
     "text": [
      "c:\\Users\\PSID_PC_20\\anaconda3\\envs\\python39\\lib\\site-packages\\sklearn\\base.py:493: UserWarning: X does not have valid feature names, but StandardScaler was fitted with feature names\n",
      "  warnings.warn(\n"
     ]
    },
    {
     "name": "stdout",
     "output_type": "stream",
     "text": [
      "Iteration 68/100 - Test MSE: 0.14485576231507172, R2: 0.9112827607980258\n"
     ]
    },
    {
     "name": "stderr",
     "output_type": "stream",
     "text": [
      "c:\\Users\\PSID_PC_20\\anaconda3\\envs\\python39\\lib\\site-packages\\sklearn\\base.py:493: UserWarning: X does not have valid feature names, but StandardScaler was fitted with feature names\n",
      "  warnings.warn(\n"
     ]
    },
    {
     "name": "stdout",
     "output_type": "stream",
     "text": [
      "Iteration 69/100 - Test MSE: 0.24469464769946717, R2: 0.8501362096719454\n"
     ]
    },
    {
     "name": "stderr",
     "output_type": "stream",
     "text": [
      "c:\\Users\\PSID_PC_20\\anaconda3\\envs\\python39\\lib\\site-packages\\sklearn\\base.py:493: UserWarning: X does not have valid feature names, but StandardScaler was fitted with feature names\n",
      "  warnings.warn(\n"
     ]
    },
    {
     "name": "stdout",
     "output_type": "stream",
     "text": [
      "Iteration 70/100 - Test MSE: 0.31250170274760136, R2: 0.808607625471047\n"
     ]
    },
    {
     "name": "stderr",
     "output_type": "stream",
     "text": [
      "c:\\Users\\PSID_PC_20\\anaconda3\\envs\\python39\\lib\\site-packages\\sklearn\\base.py:493: UserWarning: X does not have valid feature names, but StandardScaler was fitted with feature names\n",
      "  warnings.warn(\n"
     ]
    },
    {
     "name": "stdout",
     "output_type": "stream",
     "text": [
      "Iteration 71/100 - Test MSE: 0.20215495989989074, R2: 0.8761897376626621\n"
     ]
    },
    {
     "name": "stderr",
     "output_type": "stream",
     "text": [
      "c:\\Users\\PSID_PC_20\\anaconda3\\envs\\python39\\lib\\site-packages\\sklearn\\base.py:493: UserWarning: X does not have valid feature names, but StandardScaler was fitted with feature names\n",
      "  warnings.warn(\n"
     ]
    },
    {
     "name": "stdout",
     "output_type": "stream",
     "text": [
      "Iteration 72/100 - Test MSE: 0.1999034313761298, R2: 0.8775686913985727\n"
     ]
    },
    {
     "name": "stderr",
     "output_type": "stream",
     "text": [
      "c:\\Users\\PSID_PC_20\\anaconda3\\envs\\python39\\lib\\site-packages\\sklearn\\base.py:493: UserWarning: X does not have valid feature names, but StandardScaler was fitted with feature names\n",
      "  warnings.warn(\n"
     ]
    },
    {
     "name": "stdout",
     "output_type": "stream",
     "text": [
      "Iteration 73/100 - Test MSE: 0.21826758922969336, R2: 0.8663215213930486\n"
     ]
    },
    {
     "name": "stderr",
     "output_type": "stream",
     "text": [
      "c:\\Users\\PSID_PC_20\\anaconda3\\envs\\python39\\lib\\site-packages\\sklearn\\base.py:493: UserWarning: X does not have valid feature names, but StandardScaler was fitted with feature names\n",
      "  warnings.warn(\n"
     ]
    },
    {
     "name": "stdout",
     "output_type": "stream",
     "text": [
      "Iteration 74/100 - Test MSE: 0.16682131062246247, R2: 0.897829911064988\n"
     ]
    },
    {
     "name": "stderr",
     "output_type": "stream",
     "text": [
      "c:\\Users\\PSID_PC_20\\anaconda3\\envs\\python39\\lib\\site-packages\\sklearn\\base.py:493: UserWarning: X does not have valid feature names, but StandardScaler was fitted with feature names\n",
      "  warnings.warn(\n"
     ]
    },
    {
     "name": "stdout",
     "output_type": "stream",
     "text": [
      "Iteration 75/100 - Test MSE: 0.20734768246577895, R2: 0.8730094429845299\n"
     ]
    },
    {
     "name": "stderr",
     "output_type": "stream",
     "text": [
      "c:\\Users\\PSID_PC_20\\anaconda3\\envs\\python39\\lib\\site-packages\\sklearn\\base.py:493: UserWarning: X does not have valid feature names, but StandardScaler was fitted with feature names\n",
      "  warnings.warn(\n"
     ]
    },
    {
     "name": "stdout",
     "output_type": "stream",
     "text": [
      "Iteration 76/100 - Test MSE: 0.1716237656293717, R2: 0.8948886366358909\n"
     ]
    },
    {
     "name": "stderr",
     "output_type": "stream",
     "text": [
      "c:\\Users\\PSID_PC_20\\anaconda3\\envs\\python39\\lib\\site-packages\\sklearn\\base.py:493: UserWarning: X does not have valid feature names, but StandardScaler was fitted with feature names\n",
      "  warnings.warn(\n"
     ]
    },
    {
     "name": "stdout",
     "output_type": "stream",
     "text": [
      "Iteration 77/100 - Test MSE: 0.1973271031007196, R2: 0.8791465694768726\n"
     ]
    },
    {
     "name": "stderr",
     "output_type": "stream",
     "text": [
      "c:\\Users\\PSID_PC_20\\anaconda3\\envs\\python39\\lib\\site-packages\\sklearn\\base.py:493: UserWarning: X does not have valid feature names, but StandardScaler was fitted with feature names\n",
      "  warnings.warn(\n"
     ]
    },
    {
     "name": "stdout",
     "output_type": "stream",
     "text": [
      "Iteration 78/100 - Test MSE: 0.22713788499916587, R2: 0.8608888886900369\n"
     ]
    },
    {
     "name": "stderr",
     "output_type": "stream",
     "text": [
      "c:\\Users\\PSID_PC_20\\anaconda3\\envs\\python39\\lib\\site-packages\\sklearn\\base.py:493: UserWarning: X does not have valid feature names, but StandardScaler was fitted with feature names\n",
      "  warnings.warn(\n"
     ]
    },
    {
     "name": "stdout",
     "output_type": "stream",
     "text": [
      "Iteration 79/100 - Test MSE: 0.1837801590957964, R2: 0.8874434259673064\n"
     ]
    },
    {
     "name": "stderr",
     "output_type": "stream",
     "text": [
      "c:\\Users\\PSID_PC_20\\anaconda3\\envs\\python39\\lib\\site-packages\\sklearn\\base.py:493: UserWarning: X does not have valid feature names, but StandardScaler was fitted with feature names\n",
      "  warnings.warn(\n"
     ]
    },
    {
     "name": "stdout",
     "output_type": "stream",
     "text": [
      "Iteration 80/100 - Test MSE: 0.2542745082773969, R2: 0.8442690023974072\n"
     ]
    },
    {
     "name": "stderr",
     "output_type": "stream",
     "text": [
      "c:\\Users\\PSID_PC_20\\anaconda3\\envs\\python39\\lib\\site-packages\\sklearn\\base.py:493: UserWarning: X does not have valid feature names, but StandardScaler was fitted with feature names\n",
      "  warnings.warn(\n"
     ]
    },
    {
     "name": "stdout",
     "output_type": "stream",
     "text": [
      "Iteration 81/100 - Test MSE: 0.3790333485195862, R2: 0.7678601685654957\n"
     ]
    },
    {
     "name": "stderr",
     "output_type": "stream",
     "text": [
      "c:\\Users\\PSID_PC_20\\anaconda3\\envs\\python39\\lib\\site-packages\\sklearn\\base.py:493: UserWarning: X does not have valid feature names, but StandardScaler was fitted with feature names\n",
      "  warnings.warn(\n"
     ]
    },
    {
     "name": "stdout",
     "output_type": "stream",
     "text": [
      "Iteration 82/100 - Test MSE: 0.2658430322603283, R2: 0.837183833723377\n"
     ]
    },
    {
     "name": "stderr",
     "output_type": "stream",
     "text": [
      "c:\\Users\\PSID_PC_20\\anaconda3\\envs\\python39\\lib\\site-packages\\sklearn\\base.py:493: UserWarning: X does not have valid feature names, but StandardScaler was fitted with feature names\n",
      "  warnings.warn(\n"
     ]
    },
    {
     "name": "stdout",
     "output_type": "stream",
     "text": [
      "Iteration 83/100 - Test MSE: 0.3302453823130522, R2: 0.797740468796207\n"
     ]
    },
    {
     "name": "stderr",
     "output_type": "stream",
     "text": [
      "c:\\Users\\PSID_PC_20\\anaconda3\\envs\\python39\\lib\\site-packages\\sklearn\\base.py:493: UserWarning: X does not have valid feature names, but StandardScaler was fitted with feature names\n",
      "  warnings.warn(\n"
     ]
    },
    {
     "name": "stdout",
     "output_type": "stream",
     "text": [
      "Iteration 84/100 - Test MSE: 0.19367258174959973, R2: 0.8813847893425817\n"
     ]
    },
    {
     "name": "stderr",
     "output_type": "stream",
     "text": [
      "c:\\Users\\PSID_PC_20\\anaconda3\\envs\\python39\\lib\\site-packages\\sklearn\\base.py:493: UserWarning: X does not have valid feature names, but StandardScaler was fitted with feature names\n",
      "  warnings.warn(\n"
     ]
    },
    {
     "name": "stdout",
     "output_type": "stream",
     "text": [
      "Iteration 85/100 - Test MSE: 0.17636653039985178, R2: 0.8919839196270765\n"
     ]
    },
    {
     "name": "stderr",
     "output_type": "stream",
     "text": [
      "c:\\Users\\PSID_PC_20\\anaconda3\\envs\\python39\\lib\\site-packages\\sklearn\\base.py:493: UserWarning: X does not have valid feature names, but StandardScaler was fitted with feature names\n",
      "  warnings.warn(\n"
     ]
    },
    {
     "name": "stdout",
     "output_type": "stream",
     "text": [
      "Iteration 86/100 - Test MSE: 0.2684614626660238, R2: 0.8355801701001755\n"
     ]
    },
    {
     "name": "stderr",
     "output_type": "stream",
     "text": [
      "c:\\Users\\PSID_PC_20\\anaconda3\\envs\\python39\\lib\\site-packages\\sklearn\\base.py:493: UserWarning: X does not have valid feature names, but StandardScaler was fitted with feature names\n",
      "  warnings.warn(\n"
     ]
    },
    {
     "name": "stdout",
     "output_type": "stream",
     "text": [
      "Iteration 87/100 - Test MSE: 0.1940571804862708, R2: 0.8811492409765884\n"
     ]
    },
    {
     "name": "stderr",
     "output_type": "stream",
     "text": [
      "c:\\Users\\PSID_PC_20\\anaconda3\\envs\\python39\\lib\\site-packages\\sklearn\\base.py:493: UserWarning: X does not have valid feature names, but StandardScaler was fitted with feature names\n",
      "  warnings.warn(\n"
     ]
    },
    {
     "name": "stdout",
     "output_type": "stream",
     "text": [
      "Iteration 88/100 - Test MSE: 0.24650640196108586, R2: 0.8490265966773748\n"
     ]
    },
    {
     "name": "stderr",
     "output_type": "stream",
     "text": [
      "c:\\Users\\PSID_PC_20\\anaconda3\\envs\\python39\\lib\\site-packages\\sklearn\\base.py:493: UserWarning: X does not have valid feature names, but StandardScaler was fitted with feature names\n",
      "  warnings.warn(\n"
     ]
    },
    {
     "name": "stdout",
     "output_type": "stream",
     "text": [
      "Iteration 89/100 - Test MSE: 0.2217822350056094, R2: 0.8641689686396832\n"
     ]
    },
    {
     "name": "stderr",
     "output_type": "stream",
     "text": [
      "c:\\Users\\PSID_PC_20\\anaconda3\\envs\\python39\\lib\\site-packages\\sklearn\\base.py:493: UserWarning: X does not have valid feature names, but StandardScaler was fitted with feature names\n",
      "  warnings.warn(\n"
     ]
    },
    {
     "name": "stdout",
     "output_type": "stream",
     "text": [
      "Iteration 90/100 - Test MSE: 0.3050616764636173, R2: 0.8131642863933065\n"
     ]
    },
    {
     "name": "stderr",
     "output_type": "stream",
     "text": [
      "c:\\Users\\PSID_PC_20\\anaconda3\\envs\\python39\\lib\\site-packages\\sklearn\\base.py:493: UserWarning: X does not have valid feature names, but StandardScaler was fitted with feature names\n",
      "  warnings.warn(\n"
     ]
    },
    {
     "name": "stdout",
     "output_type": "stream",
     "text": [
      "Iteration 91/100 - Test MSE: 0.23954047979883222, R2: 0.8532928914581568\n"
     ]
    },
    {
     "name": "stderr",
     "output_type": "stream",
     "text": [
      "c:\\Users\\PSID_PC_20\\anaconda3\\envs\\python39\\lib\\site-packages\\sklearn\\base.py:493: UserWarning: X does not have valid feature names, but StandardScaler was fitted with feature names\n",
      "  warnings.warn(\n"
     ]
    },
    {
     "name": "stdout",
     "output_type": "stream",
     "text": [
      "Iteration 92/100 - Test MSE: 0.24014826323985167, R2: 0.8529206531152828\n"
     ]
    },
    {
     "name": "stderr",
     "output_type": "stream",
     "text": [
      "c:\\Users\\PSID_PC_20\\anaconda3\\envs\\python39\\lib\\site-packages\\sklearn\\base.py:493: UserWarning: X does not have valid feature names, but StandardScaler was fitted with feature names\n",
      "  warnings.warn(\n"
     ]
    },
    {
     "name": "stdout",
     "output_type": "stream",
     "text": [
      "Iteration 93/100 - Test MSE: 0.23725472477702342, R2: 0.8546928072901957\n"
     ]
    },
    {
     "name": "stderr",
     "output_type": "stream",
     "text": [
      "c:\\Users\\PSID_PC_20\\anaconda3\\envs\\python39\\lib\\site-packages\\sklearn\\base.py:493: UserWarning: X does not have valid feature names, but StandardScaler was fitted with feature names\n",
      "  warnings.warn(\n"
     ]
    },
    {
     "name": "stdout",
     "output_type": "stream",
     "text": [
      "Iteration 94/100 - Test MSE: 0.18111306111661007, R2: 0.8890768961559476\n"
     ]
    },
    {
     "name": "stderr",
     "output_type": "stream",
     "text": [
      "c:\\Users\\PSID_PC_20\\anaconda3\\envs\\python39\\lib\\site-packages\\sklearn\\base.py:493: UserWarning: X does not have valid feature names, but StandardScaler was fitted with feature names\n",
      "  warnings.warn(\n"
     ]
    },
    {
     "name": "stdout",
     "output_type": "stream",
     "text": [
      "Iteration 95/100 - Test MSE: 0.18545685413116944, R2: 0.8864165303012685\n"
     ]
    },
    {
     "name": "stderr",
     "output_type": "stream",
     "text": [
      "c:\\Users\\PSID_PC_20\\anaconda3\\envs\\python39\\lib\\site-packages\\sklearn\\base.py:493: UserWarning: X does not have valid feature names, but StandardScaler was fitted with feature names\n",
      "  warnings.warn(\n"
     ]
    },
    {
     "name": "stdout",
     "output_type": "stream",
     "text": [
      "Iteration 96/100 - Test MSE: 0.1816344573476788, R2: 0.8887575658551611\n"
     ]
    },
    {
     "name": "stderr",
     "output_type": "stream",
     "text": [
      "c:\\Users\\PSID_PC_20\\anaconda3\\envs\\python39\\lib\\site-packages\\sklearn\\base.py:493: UserWarning: X does not have valid feature names, but StandardScaler was fitted with feature names\n",
      "  warnings.warn(\n"
     ]
    },
    {
     "name": "stdout",
     "output_type": "stream",
     "text": [
      "Iteration 97/100 - Test MSE: 0.22042039029425223, R2: 0.8650030335127852\n"
     ]
    },
    {
     "name": "stderr",
     "output_type": "stream",
     "text": [
      "c:\\Users\\PSID_PC_20\\anaconda3\\envs\\python39\\lib\\site-packages\\sklearn\\base.py:493: UserWarning: X does not have valid feature names, but StandardScaler was fitted with feature names\n",
      "  warnings.warn(\n"
     ]
    },
    {
     "name": "stdout",
     "output_type": "stream",
     "text": [
      "Iteration 98/100 - Test MSE: 0.24180734098875314, R2: 0.8519045471961836\n"
     ]
    },
    {
     "name": "stderr",
     "output_type": "stream",
     "text": [
      "c:\\Users\\PSID_PC_20\\anaconda3\\envs\\python39\\lib\\site-packages\\sklearn\\base.py:493: UserWarning: X does not have valid feature names, but StandardScaler was fitted with feature names\n",
      "  warnings.warn(\n"
     ]
    },
    {
     "name": "stdout",
     "output_type": "stream",
     "text": [
      "Iteration 99/100 - Test MSE: 0.1591871060375061, R2: 0.9025054969267864\n"
     ]
    },
    {
     "name": "stderr",
     "output_type": "stream",
     "text": [
      "c:\\Users\\PSID_PC_20\\anaconda3\\envs\\python39\\lib\\site-packages\\sklearn\\base.py:493: UserWarning: X does not have valid feature names, but StandardScaler was fitted with feature names\n",
      "  warnings.warn(\n"
     ]
    },
    {
     "name": "stdout",
     "output_type": "stream",
     "text": [
      "Iteration 100/100 - Test MSE: 0.2503859902284842, R2: 0.846650534069832\n",
      "Performance log: [(0.9104599920737885, 0.44238671896980086), (0.6779104483897381, 0.5848122128790703), (0.43609012077022224, 0.732915619374265), (0.49294931180047985, 0.6980920792482588), (0.24698568482358402, 0.8487330588044031), (0.2412033981073798, 0.8522744333796175), (0.25097369907872896, 0.846290590455474), (0.23015553548829637, 0.8590407218239522), (0.19477568239729284, 0.8807091928563862), (0.19436844960898506, 0.8809586034984882), (0.1664919858376893, 0.8980316067741467), (0.21955401049136283, 0.8655336497822679), (0.19257127793427015, 0.882059285354733), (0.1839286400960242, 0.8873524884429468), (0.1744961143166721, 0.8931294601869179), (0.21686116610705958, 0.8671828884149452), (0.19132572133770182, 0.8828221293089624), (0.18218000573159507, 0.8884234435137462), (0.18632195188276712, 0.8858866992269986), (0.15737208955387072, 0.9036171078766081), (0.21121361345581124, 0.870641744807394), (0.17565757943484858, 0.8924181182487912), (0.18091980746439906, 0.8891952547922618), (0.18164217920058812, 0.8887528365888848), (0.2117860927052546, 0.8702911285964865), (0.16820136747211556, 0.8969846921266023), (0.16118140209768178, 0.9012840857948956), (0.23207057926607058, 0.8578678489316367), (0.2008507218517462, 0.8769885212046096), (0.16766422273088202, 0.8973136676380524), (0.15462096048634463, 0.9053020430953282), (0.16965146276637988, 0.8960965779844318), (0.18652801840801175, 0.8857604933176204), (0.18161508628418419, 0.8887694297068035), (0.2731756866701606, 0.8326929329482491), (0.2366753997053786, 0.8550476162403914), (0.23767007926908634, 0.8544384224922625), (0.19101221065466206, 0.8830141396357529), (0.21273361158376408, 0.869710818516655), (0.2288354925288386, 0.8598491851195743), (0.23095167648680276, 0.8585531234690497), (0.21227070176596421, 0.8699943286813757), (0.20468564465544548, 0.8746398140613143), (0.2556492420367216, 0.8434270435977306), (0.22829504677638982, 0.8601801823428081), (0.25921030488546243, 0.8412460626031476), (0.2617883311779408, 0.8396671445704544), (0.22685307472858465, 0.8610633213843151), (0.24535919425424074, 0.8497292066316903), (0.2222913861372128, 0.8638571378777549), (0.32202725357427364, 0.8027736803264809), (0.2096485676583113, 0.8716002606452166), (0.25540044312838783, 0.8435794210517653), (0.22178498958933798, 0.8641672815886495), (0.21312321984087518, 0.8694722020585399), (0.23218861933278973, 0.8577955550258426), (0.275801304607126, 0.8310848673052676), (0.23120416209661265, 0.8583984880863589), (0.17772531131848426, 0.891151731180757), (0.23181646916235601, 0.858023479239293), (0.2065013604444309, 0.8735277748203496), (0.20846013853412956, 0.8723281167497966), (0.29827071538984107, 0.8173234258597992), (0.1903977996452183, 0.8833904370478959), (0.1801280759595853, 0.8896801525427809), (0.19216375678649, 0.882308872603246), (0.18084168672043496, 0.8892431000185623), (0.20754259276112508, 0.8728900697333813), (0.14485576231507172, 0.9112827607980258), (0.24469464769946717, 0.8501362096719454), (0.31250170274760136, 0.808607625471047), (0.20215495989989074, 0.8761897376626621), (0.1999034313761298, 0.8775686913985727), (0.21826758922969336, 0.8663215213930486), (0.16682131062246247, 0.897829911064988), (0.20734768246577895, 0.8730094429845299), (0.1716237656293717, 0.8948886366358909), (0.1973271031007196, 0.8791465694768726), (0.22713788499916587, 0.8608888886900369), (0.1837801590957964, 0.8874434259673064), (0.2542745082773969, 0.8442690023974072), (0.3790333485195862, 0.7678601685654957), (0.2658430322603283, 0.837183833723377), (0.3302453823130522, 0.797740468796207), (0.19367258174959973, 0.8813847893425817), (0.17636653039985178, 0.8919839196270765), (0.2684614626660238, 0.8355801701001755), (0.1940571804862708, 0.8811492409765884), (0.24650640196108586, 0.8490265966773748), (0.2217822350056094, 0.8641689686396832), (0.3050616764636173, 0.8131642863933065), (0.23954047979883222, 0.8532928914581568), (0.24014826323985167, 0.8529206531152828), (0.23725472477702342, 0.8546928072901957), (0.18111306111661007, 0.8890768961559476), (0.18545685413116944, 0.8864165303012685), (0.1816344573476788, 0.8887575658551611), (0.22042039029425223, 0.8650030335127852), (0.24180734098875314, 0.8519045471961836), (0.1591871060375061, 0.9025054969267864), (0.2503859902284842, 0.846650534069832)]\n"
     ]
    }
   ],
   "source": [
    "import torch\n",
    "import torch.nn as nn\n",
    "import torch.optim as optim\n",
    "from torch.utils.data import DataLoader, TensorDataset\n",
    "import numpy as np\n",
    "import pandas as pd\n",
    "from sklearn.metrics import mean_squared_error, r2_score\n",
    "from sklearn.model_selection import train_test_split\n",
    "from sklearn.preprocessing import StandardScaler\n",
    "\n",
    "# PyTorch 모델 정의\n",
    "class DropoutMLP(nn.Module):\n",
    "    def __init__(self, input_dim, hidden_dim):\n",
    "        super(DropoutMLP, self).__init__()\n",
    "        self.model = nn.Sequential(\n",
    "            nn.Linear(input_dim, hidden_dim),\n",
    "            nn.ReLU(),\n",
    "            nn.Dropout(p=0.2),  # 드롭아웃 적용\n",
    "            nn.Linear(hidden_dim, hidden_dim),\n",
    "            nn.ReLU(),\n",
    "            nn.Dropout(p=0.2),  # 드롭아웃 적용\n",
    "            nn.Linear(hidden_dim, 1)\n",
    "        )\n",
    "    \n",
    "    def forward(self, x):\n",
    "        return self.model(x)\n",
    "\n",
    "# 데이터 준비\n",
    "data = pd.read_csv(\"../[01]Data/CoREMOF_O2_15.0_5760.csv\").reset_index(drop=True).drop(\"Unnamed: 0\", axis=1)\n",
    "data = data[['Adsorbent', 'LCD', 'PLD', 'LFPD', 'cm3_g', 'ASA_m2_cm3', 'ASA_m2_g',\n",
    "              'AV_VF', 'AV_cm3_g',  'Has_OMS',\n",
    "             '0.5bar_GCMC', 'Uptake']]\n",
    "X = data.drop(['Adsorbent', 'Uptake'], axis=1)\n",
    "y = data['Uptake']\n",
    "\n",
    "# Train-Test Split\n",
    "X_train, X_test, y_train, y_test = train_test_split(X, y, test_size=0.2, random_state=42)\n",
    "\n",
    "\n",
    "\n",
    "# Train 데이터를 Initial (5%)와 Remaining (95%)으로 랜덤 분리\n",
    "initial_size = int(0.05 * len(X_train))\n",
    "indices = np.random.permutation(len(X_train))\n",
    "initial_indices = indices[:initial_size]\n",
    "remaining_indices = indices[initial_size:]\n",
    "\n",
    "X_initial = X_train.iloc[initial_indices]\n",
    "y_initial = y_train.iloc[initial_indices].to_numpy()\n",
    "\n",
    "# 스탠다드 스케일러 적용\n",
    "scaler = StandardScaler()\n",
    "X_initial_scaled = scaler.fit_transform(X_initial)\n",
    "X_test_scaled = scaler.transform(X_test)\n",
    "X_remaining = pd.DataFrame(X_train.iloc[remaining_indices], columns=X_train.columns).reset_index(drop =True)\n",
    "y_remaining = y_train.iloc[remaining_indices].reset_index(drop =True)\n",
    "\n",
    "def create_dataloader(X, y, batch_size=32, shuffle=True):\n",
    "    dataset = TensorDataset(torch.tensor(X, dtype=torch.float32), torch.tensor(y, dtype=torch.float32))\n",
    "    return DataLoader(dataset, batch_size=batch_size, shuffle=shuffle)\n",
    "\n",
    "train_loader = create_dataloader(X_initial_scaled, y_initial)\n",
    "test_loader = create_dataloader(X_test_scaled, y_test.to_numpy(), shuffle=False)\n",
    "\n",
    "# 모델 초기화\n",
    "input_dim = X_train.shape[1]\n",
    "hidden_dim = 64\n",
    "model = DropoutMLP(input_dim, hidden_dim)\n",
    "criterion = nn.MSELoss()\n",
    "optimizer = optim.Adam(model.parameters(), lr=0.001)\n",
    "\n",
    "# 초기 모델 학습\n",
    "epochs = 50\n",
    "for epoch in range(epochs):\n",
    "    model.train()\n",
    "    for X_batch, y_batch in train_loader:\n",
    "        optimizer.zero_grad()\n",
    "        predictions = model(X_batch).squeeze()\n",
    "        loss = criterion(predictions, y_batch)\n",
    "        loss.backward()\n",
    "        optimizer.step()\n",
    "\n",
    "# 랜덤 샘플링 설정\n",
    "iterations = 100\n",
    "samples_per_iteration = 10\n",
    "performance_log = []\n",
    "\n",
    "X_remaining_tensor = torch.tensor(X_remaining.values, dtype=torch.float32)\n",
    "X_test_tensor = torch.tensor(X_test_scaled, dtype=torch.float32)\n",
    "\n",
    "# 초기 Test 성능 평가\n",
    "mean_prediction, _ = mc_dropout_predict(model, X_test_tensor, n_simulations=20)\n",
    "mse = mean_squared_error(y_test, mean_prediction)\n",
    "r2 = r2_score(y_test, mean_prediction)\n",
    "performance_log.append((mse, r2))\n",
    "print(f\"Initial Test MSE: {mse}, R2: {r2}\")\n",
    "\n",
    "for iteration in range(iterations):\n",
    "    # 랜덤으로 샘플 선택\n",
    "    sample_indices = np.random.choice(X_remaining.index, size=samples_per_iteration, replace=False)\n",
    "    sample_indices = X_remaining.index[sample_indices]  # 현재 인덱스 동기화\n",
    "    sampled_X = X_remaining.iloc[sample_indices].values\n",
    "    sampled_y = y_remaining.iloc[sample_indices].to_numpy()\n",
    "\n",
    "    # 선택된 샘플을 Training Set에 추가\n",
    "    X_initial = np.vstack([X_initial, sampled_X])\n",
    "    y_initial = np.hstack([y_initial, sampled_y])\n",
    "    X_initial_scaled = scaler.transform(X_initial)\n",
    "    # 남은 데이터에서 선택된 샘플 제거\n",
    "    X_remaining = X_remaining.drop(sample_indices).reset_index(drop=True)  # 인덱스 초기화\n",
    "    y_remaining = y_remaining.drop(sample_indices).reset_index(drop=True)  # 인덱스 초기화\n",
    "\n",
    "\n",
    "    # 새 학습 데이터로 DataLoader 생성\n",
    "    train_loader = create_dataloader(X_initial_scaled, y_initial)\n",
    "\n",
    "    # 모델 재학습\n",
    "    for epoch in range(epochs):\n",
    "        model.train()\n",
    "        for X_batch, y_batch in train_loader:\n",
    "            optimizer.zero_grad()\n",
    "            predictions = model(X_batch).squeeze()\n",
    "            loss = criterion(predictions, y_batch)\n",
    "            loss.backward()\n",
    "            optimizer.step()\n",
    "\n",
    "    # Test 성능 평가\n",
    "    mean_prediction, _ = mc_dropout_predict(model, X_test_tensor, n_simulations=20)\n",
    "    mse = mean_squared_error(y_test, mean_prediction)\n",
    "    r2 = r2_score(y_test, mean_prediction)\n",
    "    performance_log.append((mse, r2))\n",
    "    print(f\"Iteration {iteration + 1}/{iterations} - Test MSE: {mse}, R2: {r2}\")\n",
    "\n",
    "# 성능 기록 출력\n",
    "print(\"Performance log:\", performance_log)\n",
    "second_log = performance_log\n"
   ]
  },
  {
   "cell_type": "markdown",
   "metadata": {},
   "source": [
    "## 랜덤 샘플링이면서 매번 아예 새로운 모델을 학습시키는 코드"
   ]
  },
  {
   "cell_type": "code",
   "execution_count": 69,
   "metadata": {},
   "outputs": [
    {
     "name": "stderr",
     "output_type": "stream",
     "text": [
      "c:\\Users\\PSID_PC_20\\anaconda3\\envs\\python39\\lib\\site-packages\\sklearn\\base.py:486: UserWarning: X has feature names, but StandardScaler was fitted without feature names\n",
      "  warnings.warn(\n"
     ]
    },
    {
     "name": "stdout",
     "output_type": "stream",
     "text": [
      "Iteration 1/100 - Samples: 240, Test MSE: 1.2803, R2: 0.2159\n"
     ]
    },
    {
     "name": "stderr",
     "output_type": "stream",
     "text": [
      "c:\\Users\\PSID_PC_20\\anaconda3\\envs\\python39\\lib\\site-packages\\sklearn\\base.py:486: UserWarning: X has feature names, but StandardScaler was fitted without feature names\n",
      "  warnings.warn(\n"
     ]
    },
    {
     "name": "stdout",
     "output_type": "stream",
     "text": [
      "Iteration 2/100 - Samples: 250, Test MSE: 0.9608, R2: 0.4115\n"
     ]
    },
    {
     "name": "stderr",
     "output_type": "stream",
     "text": [
      "c:\\Users\\PSID_PC_20\\anaconda3\\envs\\python39\\lib\\site-packages\\sklearn\\base.py:486: UserWarning: X has feature names, but StandardScaler was fitted without feature names\n",
      "  warnings.warn(\n"
     ]
    },
    {
     "name": "stdout",
     "output_type": "stream",
     "text": [
      "Iteration 3/100 - Samples: 260, Test MSE: 1.0038, R2: 0.3852\n"
     ]
    },
    {
     "name": "stderr",
     "output_type": "stream",
     "text": [
      "c:\\Users\\PSID_PC_20\\anaconda3\\envs\\python39\\lib\\site-packages\\sklearn\\base.py:486: UserWarning: X has feature names, but StandardScaler was fitted without feature names\n",
      "  warnings.warn(\n"
     ]
    },
    {
     "name": "stdout",
     "output_type": "stream",
     "text": [
      "Iteration 4/100 - Samples: 270, Test MSE: 1.0257, R2: 0.3718\n"
     ]
    },
    {
     "name": "stderr",
     "output_type": "stream",
     "text": [
      "c:\\Users\\PSID_PC_20\\anaconda3\\envs\\python39\\lib\\site-packages\\sklearn\\base.py:486: UserWarning: X has feature names, but StandardScaler was fitted without feature names\n",
      "  warnings.warn(\n"
     ]
    },
    {
     "name": "stdout",
     "output_type": "stream",
     "text": [
      "Iteration 5/100 - Samples: 280, Test MSE: 0.9103, R2: 0.4425\n"
     ]
    },
    {
     "name": "stderr",
     "output_type": "stream",
     "text": [
      "c:\\Users\\PSID_PC_20\\anaconda3\\envs\\python39\\lib\\site-packages\\sklearn\\base.py:486: UserWarning: X has feature names, but StandardScaler was fitted without feature names\n",
      "  warnings.warn(\n"
     ]
    },
    {
     "name": "stdout",
     "output_type": "stream",
     "text": [
      "Iteration 6/100 - Samples: 290, Test MSE: 0.6251, R2: 0.6171\n"
     ]
    },
    {
     "name": "stderr",
     "output_type": "stream",
     "text": [
      "c:\\Users\\PSID_PC_20\\anaconda3\\envs\\python39\\lib\\site-packages\\sklearn\\base.py:486: UserWarning: X has feature names, but StandardScaler was fitted without feature names\n",
      "  warnings.warn(\n"
     ]
    },
    {
     "name": "stdout",
     "output_type": "stream",
     "text": [
      "Iteration 7/100 - Samples: 300, Test MSE: 0.8091, R2: 0.5045\n"
     ]
    },
    {
     "name": "stderr",
     "output_type": "stream",
     "text": [
      "c:\\Users\\PSID_PC_20\\anaconda3\\envs\\python39\\lib\\site-packages\\sklearn\\base.py:486: UserWarning: X has feature names, but StandardScaler was fitted without feature names\n",
      "  warnings.warn(\n"
     ]
    },
    {
     "name": "stdout",
     "output_type": "stream",
     "text": [
      "Iteration 8/100 - Samples: 310, Test MSE: 0.7707, R2: 0.5280\n"
     ]
    },
    {
     "name": "stderr",
     "output_type": "stream",
     "text": [
      "c:\\Users\\PSID_PC_20\\anaconda3\\envs\\python39\\lib\\site-packages\\sklearn\\base.py:486: UserWarning: X has feature names, but StandardScaler was fitted without feature names\n",
      "  warnings.warn(\n"
     ]
    },
    {
     "name": "stdout",
     "output_type": "stream",
     "text": [
      "Iteration 9/100 - Samples: 320, Test MSE: 1.1211, R2: 0.3134\n"
     ]
    },
    {
     "name": "stderr",
     "output_type": "stream",
     "text": [
      "c:\\Users\\PSID_PC_20\\anaconda3\\envs\\python39\\lib\\site-packages\\sklearn\\base.py:486: UserWarning: X has feature names, but StandardScaler was fitted without feature names\n",
      "  warnings.warn(\n"
     ]
    },
    {
     "name": "stdout",
     "output_type": "stream",
     "text": [
      "Iteration 10/100 - Samples: 330, Test MSE: 0.7489, R2: 0.5413\n"
     ]
    },
    {
     "name": "stderr",
     "output_type": "stream",
     "text": [
      "c:\\Users\\PSID_PC_20\\anaconda3\\envs\\python39\\lib\\site-packages\\sklearn\\base.py:486: UserWarning: X has feature names, but StandardScaler was fitted without feature names\n",
      "  warnings.warn(\n"
     ]
    },
    {
     "name": "stdout",
     "output_type": "stream",
     "text": [
      "Iteration 11/100 - Samples: 340, Test MSE: 0.6889, R2: 0.5781\n"
     ]
    },
    {
     "name": "stderr",
     "output_type": "stream",
     "text": [
      "c:\\Users\\PSID_PC_20\\anaconda3\\envs\\python39\\lib\\site-packages\\sklearn\\base.py:486: UserWarning: X has feature names, but StandardScaler was fitted without feature names\n",
      "  warnings.warn(\n"
     ]
    },
    {
     "name": "stdout",
     "output_type": "stream",
     "text": [
      "Iteration 12/100 - Samples: 350, Test MSE: 0.5979, R2: 0.6338\n"
     ]
    },
    {
     "name": "stderr",
     "output_type": "stream",
     "text": [
      "c:\\Users\\PSID_PC_20\\anaconda3\\envs\\python39\\lib\\site-packages\\sklearn\\base.py:486: UserWarning: X has feature names, but StandardScaler was fitted without feature names\n",
      "  warnings.warn(\n"
     ]
    },
    {
     "name": "stdout",
     "output_type": "stream",
     "text": [
      "Iteration 13/100 - Samples: 360, Test MSE: 0.4914, R2: 0.6991\n"
     ]
    },
    {
     "name": "stderr",
     "output_type": "stream",
     "text": [
      "c:\\Users\\PSID_PC_20\\anaconda3\\envs\\python39\\lib\\site-packages\\sklearn\\base.py:486: UserWarning: X has feature names, but StandardScaler was fitted without feature names\n",
      "  warnings.warn(\n"
     ]
    },
    {
     "name": "stdout",
     "output_type": "stream",
     "text": [
      "Iteration 14/100 - Samples: 370, Test MSE: 0.5111, R2: 0.6870\n"
     ]
    },
    {
     "name": "stderr",
     "output_type": "stream",
     "text": [
      "c:\\Users\\PSID_PC_20\\anaconda3\\envs\\python39\\lib\\site-packages\\sklearn\\base.py:486: UserWarning: X has feature names, but StandardScaler was fitted without feature names\n",
      "  warnings.warn(\n"
     ]
    },
    {
     "name": "stdout",
     "output_type": "stream",
     "text": [
      "Iteration 15/100 - Samples: 380, Test MSE: 0.5643, R2: 0.6544\n"
     ]
    },
    {
     "name": "stderr",
     "output_type": "stream",
     "text": [
      "c:\\Users\\PSID_PC_20\\anaconda3\\envs\\python39\\lib\\site-packages\\sklearn\\base.py:486: UserWarning: X has feature names, but StandardScaler was fitted without feature names\n",
      "  warnings.warn(\n"
     ]
    },
    {
     "name": "stdout",
     "output_type": "stream",
     "text": [
      "Iteration 16/100 - Samples: 390, Test MSE: 0.5723, R2: 0.6495\n"
     ]
    },
    {
     "name": "stderr",
     "output_type": "stream",
     "text": [
      "c:\\Users\\PSID_PC_20\\anaconda3\\envs\\python39\\lib\\site-packages\\sklearn\\base.py:486: UserWarning: X has feature names, but StandardScaler was fitted without feature names\n",
      "  warnings.warn(\n"
     ]
    },
    {
     "name": "stdout",
     "output_type": "stream",
     "text": [
      "Iteration 17/100 - Samples: 400, Test MSE: 0.4314, R2: 0.7358\n"
     ]
    },
    {
     "name": "stderr",
     "output_type": "stream",
     "text": [
      "c:\\Users\\PSID_PC_20\\anaconda3\\envs\\python39\\lib\\site-packages\\sklearn\\base.py:486: UserWarning: X has feature names, but StandardScaler was fitted without feature names\n",
      "  warnings.warn(\n"
     ]
    },
    {
     "name": "stdout",
     "output_type": "stream",
     "text": [
      "Iteration 18/100 - Samples: 410, Test MSE: 0.3121, R2: 0.8088\n"
     ]
    },
    {
     "name": "stderr",
     "output_type": "stream",
     "text": [
      "c:\\Users\\PSID_PC_20\\anaconda3\\envs\\python39\\lib\\site-packages\\sklearn\\base.py:486: UserWarning: X has feature names, but StandardScaler was fitted without feature names\n",
      "  warnings.warn(\n"
     ]
    },
    {
     "name": "stdout",
     "output_type": "stream",
     "text": [
      "Iteration 19/100 - Samples: 420, Test MSE: 0.3949, R2: 0.7581\n"
     ]
    },
    {
     "name": "stderr",
     "output_type": "stream",
     "text": [
      "c:\\Users\\PSID_PC_20\\anaconda3\\envs\\python39\\lib\\site-packages\\sklearn\\base.py:486: UserWarning: X has feature names, but StandardScaler was fitted without feature names\n",
      "  warnings.warn(\n"
     ]
    },
    {
     "name": "stdout",
     "output_type": "stream",
     "text": [
      "Iteration 20/100 - Samples: 430, Test MSE: 0.4838, R2: 0.7037\n"
     ]
    },
    {
     "name": "stderr",
     "output_type": "stream",
     "text": [
      "c:\\Users\\PSID_PC_20\\anaconda3\\envs\\python39\\lib\\site-packages\\sklearn\\base.py:486: UserWarning: X has feature names, but StandardScaler was fitted without feature names\n",
      "  warnings.warn(\n"
     ]
    },
    {
     "name": "stdout",
     "output_type": "stream",
     "text": [
      "Iteration 21/100 - Samples: 440, Test MSE: 0.3665, R2: 0.7756\n"
     ]
    },
    {
     "name": "stderr",
     "output_type": "stream",
     "text": [
      "c:\\Users\\PSID_PC_20\\anaconda3\\envs\\python39\\lib\\site-packages\\sklearn\\base.py:486: UserWarning: X has feature names, but StandardScaler was fitted without feature names\n",
      "  warnings.warn(\n"
     ]
    },
    {
     "name": "stdout",
     "output_type": "stream",
     "text": [
      "Iteration 22/100 - Samples: 450, Test MSE: 0.4387, R2: 0.7313\n"
     ]
    },
    {
     "name": "stderr",
     "output_type": "stream",
     "text": [
      "c:\\Users\\PSID_PC_20\\anaconda3\\envs\\python39\\lib\\site-packages\\sklearn\\base.py:486: UserWarning: X has feature names, but StandardScaler was fitted without feature names\n",
      "  warnings.warn(\n"
     ]
    },
    {
     "name": "stdout",
     "output_type": "stream",
     "text": [
      "Iteration 23/100 - Samples: 460, Test MSE: 0.2681, R2: 0.8358\n"
     ]
    },
    {
     "name": "stderr",
     "output_type": "stream",
     "text": [
      "c:\\Users\\PSID_PC_20\\anaconda3\\envs\\python39\\lib\\site-packages\\sklearn\\base.py:486: UserWarning: X has feature names, but StandardScaler was fitted without feature names\n",
      "  warnings.warn(\n"
     ]
    },
    {
     "name": "stdout",
     "output_type": "stream",
     "text": [
      "Iteration 24/100 - Samples: 470, Test MSE: 0.4826, R2: 0.7044\n"
     ]
    },
    {
     "name": "stderr",
     "output_type": "stream",
     "text": [
      "c:\\Users\\PSID_PC_20\\anaconda3\\envs\\python39\\lib\\site-packages\\sklearn\\base.py:486: UserWarning: X has feature names, but StandardScaler was fitted without feature names\n",
      "  warnings.warn(\n"
     ]
    },
    {
     "name": "stdout",
     "output_type": "stream",
     "text": [
      "Iteration 25/100 - Samples: 480, Test MSE: 0.4057, R2: 0.7515\n"
     ]
    },
    {
     "name": "stderr",
     "output_type": "stream",
     "text": [
      "c:\\Users\\PSID_PC_20\\anaconda3\\envs\\python39\\lib\\site-packages\\sklearn\\base.py:486: UserWarning: X has feature names, but StandardScaler was fitted without feature names\n",
      "  warnings.warn(\n"
     ]
    },
    {
     "name": "stdout",
     "output_type": "stream",
     "text": [
      "Iteration 26/100 - Samples: 490, Test MSE: 0.3714, R2: 0.7726\n"
     ]
    },
    {
     "name": "stderr",
     "output_type": "stream",
     "text": [
      "c:\\Users\\PSID_PC_20\\anaconda3\\envs\\python39\\lib\\site-packages\\sklearn\\base.py:486: UserWarning: X has feature names, but StandardScaler was fitted without feature names\n",
      "  warnings.warn(\n"
     ]
    },
    {
     "name": "stdout",
     "output_type": "stream",
     "text": [
      "Iteration 27/100 - Samples: 500, Test MSE: 0.3565, R2: 0.7817\n"
     ]
    },
    {
     "name": "stderr",
     "output_type": "stream",
     "text": [
      "c:\\Users\\PSID_PC_20\\anaconda3\\envs\\python39\\lib\\site-packages\\sklearn\\base.py:486: UserWarning: X has feature names, but StandardScaler was fitted without feature names\n",
      "  warnings.warn(\n"
     ]
    },
    {
     "name": "stdout",
     "output_type": "stream",
     "text": [
      "Iteration 28/100 - Samples: 510, Test MSE: 0.4024, R2: 0.7535\n"
     ]
    },
    {
     "name": "stderr",
     "output_type": "stream",
     "text": [
      "c:\\Users\\PSID_PC_20\\anaconda3\\envs\\python39\\lib\\site-packages\\sklearn\\base.py:486: UserWarning: X has feature names, but StandardScaler was fitted without feature names\n",
      "  warnings.warn(\n"
     ]
    },
    {
     "name": "stdout",
     "output_type": "stream",
     "text": [
      "Iteration 29/100 - Samples: 520, Test MSE: 0.3679, R2: 0.7747\n"
     ]
    },
    {
     "name": "stderr",
     "output_type": "stream",
     "text": [
      "c:\\Users\\PSID_PC_20\\anaconda3\\envs\\python39\\lib\\site-packages\\sklearn\\base.py:486: UserWarning: X has feature names, but StandardScaler was fitted without feature names\n",
      "  warnings.warn(\n"
     ]
    },
    {
     "name": "stdout",
     "output_type": "stream",
     "text": [
      "Iteration 30/100 - Samples: 530, Test MSE: 0.3493, R2: 0.7861\n"
     ]
    },
    {
     "name": "stderr",
     "output_type": "stream",
     "text": [
      "c:\\Users\\PSID_PC_20\\anaconda3\\envs\\python39\\lib\\site-packages\\sklearn\\base.py:486: UserWarning: X has feature names, but StandardScaler was fitted without feature names\n",
      "  warnings.warn(\n"
     ]
    },
    {
     "name": "stdout",
     "output_type": "stream",
     "text": [
      "Iteration 31/100 - Samples: 540, Test MSE: 0.3489, R2: 0.7863\n"
     ]
    },
    {
     "name": "stderr",
     "output_type": "stream",
     "text": [
      "c:\\Users\\PSID_PC_20\\anaconda3\\envs\\python39\\lib\\site-packages\\sklearn\\base.py:486: UserWarning: X has feature names, but StandardScaler was fitted without feature names\n",
      "  warnings.warn(\n"
     ]
    },
    {
     "name": "stdout",
     "output_type": "stream",
     "text": [
      "Iteration 32/100 - Samples: 550, Test MSE: 0.2925, R2: 0.8208\n"
     ]
    },
    {
     "name": "stderr",
     "output_type": "stream",
     "text": [
      "c:\\Users\\PSID_PC_20\\anaconda3\\envs\\python39\\lib\\site-packages\\sklearn\\base.py:486: UserWarning: X has feature names, but StandardScaler was fitted without feature names\n",
      "  warnings.warn(\n"
     ]
    },
    {
     "name": "stdout",
     "output_type": "stream",
     "text": [
      "Iteration 33/100 - Samples: 560, Test MSE: 0.3548, R2: 0.7827\n"
     ]
    },
    {
     "name": "stderr",
     "output_type": "stream",
     "text": [
      "c:\\Users\\PSID_PC_20\\anaconda3\\envs\\python39\\lib\\site-packages\\sklearn\\base.py:486: UserWarning: X has feature names, but StandardScaler was fitted without feature names\n",
      "  warnings.warn(\n"
     ]
    },
    {
     "name": "stdout",
     "output_type": "stream",
     "text": [
      "Iteration 34/100 - Samples: 570, Test MSE: 0.2914, R2: 0.8215\n"
     ]
    },
    {
     "name": "stderr",
     "output_type": "stream",
     "text": [
      "c:\\Users\\PSID_PC_20\\anaconda3\\envs\\python39\\lib\\site-packages\\sklearn\\base.py:486: UserWarning: X has feature names, but StandardScaler was fitted without feature names\n",
      "  warnings.warn(\n"
     ]
    },
    {
     "name": "stdout",
     "output_type": "stream",
     "text": [
      "Iteration 35/100 - Samples: 580, Test MSE: 0.1859, R2: 0.8861\n"
     ]
    },
    {
     "name": "stderr",
     "output_type": "stream",
     "text": [
      "c:\\Users\\PSID_PC_20\\anaconda3\\envs\\python39\\lib\\site-packages\\sklearn\\base.py:486: UserWarning: X has feature names, but StandardScaler was fitted without feature names\n",
      "  warnings.warn(\n"
     ]
    },
    {
     "name": "stdout",
     "output_type": "stream",
     "text": [
      "Iteration 36/100 - Samples: 590, Test MSE: 0.2244, R2: 0.8626\n"
     ]
    },
    {
     "name": "stderr",
     "output_type": "stream",
     "text": [
      "c:\\Users\\PSID_PC_20\\anaconda3\\envs\\python39\\lib\\site-packages\\sklearn\\base.py:486: UserWarning: X has feature names, but StandardScaler was fitted without feature names\n",
      "  warnings.warn(\n"
     ]
    },
    {
     "name": "stdout",
     "output_type": "stream",
     "text": [
      "Iteration 37/100 - Samples: 600, Test MSE: 0.1776, R2: 0.8912\n"
     ]
    },
    {
     "name": "stderr",
     "output_type": "stream",
     "text": [
      "c:\\Users\\PSID_PC_20\\anaconda3\\envs\\python39\\lib\\site-packages\\sklearn\\base.py:486: UserWarning: X has feature names, but StandardScaler was fitted without feature names\n",
      "  warnings.warn(\n"
     ]
    },
    {
     "name": "stdout",
     "output_type": "stream",
     "text": [
      "Iteration 38/100 - Samples: 610, Test MSE: 0.1799, R2: 0.8898\n"
     ]
    },
    {
     "name": "stderr",
     "output_type": "stream",
     "text": [
      "c:\\Users\\PSID_PC_20\\anaconda3\\envs\\python39\\lib\\site-packages\\sklearn\\base.py:486: UserWarning: X has feature names, but StandardScaler was fitted without feature names\n",
      "  warnings.warn(\n"
     ]
    },
    {
     "name": "stdout",
     "output_type": "stream",
     "text": [
      "Iteration 39/100 - Samples: 620, Test MSE: 0.2261, R2: 0.8615\n"
     ]
    },
    {
     "name": "stderr",
     "output_type": "stream",
     "text": [
      "c:\\Users\\PSID_PC_20\\anaconda3\\envs\\python39\\lib\\site-packages\\sklearn\\base.py:486: UserWarning: X has feature names, but StandardScaler was fitted without feature names\n",
      "  warnings.warn(\n"
     ]
    },
    {
     "name": "stdout",
     "output_type": "stream",
     "text": [
      "Iteration 40/100 - Samples: 630, Test MSE: 0.2261, R2: 0.8615\n"
     ]
    },
    {
     "name": "stderr",
     "output_type": "stream",
     "text": [
      "c:\\Users\\PSID_PC_20\\anaconda3\\envs\\python39\\lib\\site-packages\\sklearn\\base.py:486: UserWarning: X has feature names, but StandardScaler was fitted without feature names\n",
      "  warnings.warn(\n"
     ]
    },
    {
     "name": "stdout",
     "output_type": "stream",
     "text": [
      "Iteration 41/100 - Samples: 640, Test MSE: 0.2136, R2: 0.8692\n"
     ]
    },
    {
     "name": "stderr",
     "output_type": "stream",
     "text": [
      "c:\\Users\\PSID_PC_20\\anaconda3\\envs\\python39\\lib\\site-packages\\sklearn\\base.py:486: UserWarning: X has feature names, but StandardScaler was fitted without feature names\n",
      "  warnings.warn(\n"
     ]
    },
    {
     "name": "stdout",
     "output_type": "stream",
     "text": [
      "Iteration 42/100 - Samples: 650, Test MSE: 0.2378, R2: 0.8543\n"
     ]
    },
    {
     "name": "stderr",
     "output_type": "stream",
     "text": [
      "c:\\Users\\PSID_PC_20\\anaconda3\\envs\\python39\\lib\\site-packages\\sklearn\\base.py:486: UserWarning: X has feature names, but StandardScaler was fitted without feature names\n",
      "  warnings.warn(\n"
     ]
    },
    {
     "name": "stdout",
     "output_type": "stream",
     "text": [
      "Iteration 43/100 - Samples: 660, Test MSE: 0.3231, R2: 0.8021\n"
     ]
    },
    {
     "name": "stderr",
     "output_type": "stream",
     "text": [
      "c:\\Users\\PSID_PC_20\\anaconda3\\envs\\python39\\lib\\site-packages\\sklearn\\base.py:486: UserWarning: X has feature names, but StandardScaler was fitted without feature names\n",
      "  warnings.warn(\n"
     ]
    },
    {
     "name": "stdout",
     "output_type": "stream",
     "text": [
      "Iteration 44/100 - Samples: 670, Test MSE: 0.2515, R2: 0.8460\n"
     ]
    },
    {
     "name": "stderr",
     "output_type": "stream",
     "text": [
      "c:\\Users\\PSID_PC_20\\anaconda3\\envs\\python39\\lib\\site-packages\\sklearn\\base.py:486: UserWarning: X has feature names, but StandardScaler was fitted without feature names\n",
      "  warnings.warn(\n"
     ]
    },
    {
     "name": "stdout",
     "output_type": "stream",
     "text": [
      "Iteration 45/100 - Samples: 680, Test MSE: 0.2140, R2: 0.8690\n"
     ]
    },
    {
     "name": "stderr",
     "output_type": "stream",
     "text": [
      "c:\\Users\\PSID_PC_20\\anaconda3\\envs\\python39\\lib\\site-packages\\sklearn\\base.py:486: UserWarning: X has feature names, but StandardScaler was fitted without feature names\n",
      "  warnings.warn(\n"
     ]
    },
    {
     "name": "stdout",
     "output_type": "stream",
     "text": [
      "Iteration 46/100 - Samples: 690, Test MSE: 0.1788, R2: 0.8905\n"
     ]
    },
    {
     "name": "stderr",
     "output_type": "stream",
     "text": [
      "c:\\Users\\PSID_PC_20\\anaconda3\\envs\\python39\\lib\\site-packages\\sklearn\\base.py:486: UserWarning: X has feature names, but StandardScaler was fitted without feature names\n",
      "  warnings.warn(\n"
     ]
    },
    {
     "name": "stdout",
     "output_type": "stream",
     "text": [
      "Iteration 47/100 - Samples: 700, Test MSE: 0.2730, R2: 0.8328\n"
     ]
    },
    {
     "name": "stderr",
     "output_type": "stream",
     "text": [
      "c:\\Users\\PSID_PC_20\\anaconda3\\envs\\python39\\lib\\site-packages\\sklearn\\base.py:486: UserWarning: X has feature names, but StandardScaler was fitted without feature names\n",
      "  warnings.warn(\n"
     ]
    },
    {
     "name": "stdout",
     "output_type": "stream",
     "text": [
      "Iteration 48/100 - Samples: 710, Test MSE: 0.1630, R2: 0.9001\n"
     ]
    },
    {
     "name": "stderr",
     "output_type": "stream",
     "text": [
      "c:\\Users\\PSID_PC_20\\anaconda3\\envs\\python39\\lib\\site-packages\\sklearn\\base.py:486: UserWarning: X has feature names, but StandardScaler was fitted without feature names\n",
      "  warnings.warn(\n"
     ]
    },
    {
     "name": "stdout",
     "output_type": "stream",
     "text": [
      "Iteration 49/100 - Samples: 720, Test MSE: 0.2253, R2: 0.8620\n"
     ]
    },
    {
     "name": "stderr",
     "output_type": "stream",
     "text": [
      "c:\\Users\\PSID_PC_20\\anaconda3\\envs\\python39\\lib\\site-packages\\sklearn\\base.py:486: UserWarning: X has feature names, but StandardScaler was fitted without feature names\n",
      "  warnings.warn(\n"
     ]
    },
    {
     "name": "stdout",
     "output_type": "stream",
     "text": [
      "Iteration 50/100 - Samples: 730, Test MSE: 0.1796, R2: 0.8900\n"
     ]
    },
    {
     "name": "stderr",
     "output_type": "stream",
     "text": [
      "c:\\Users\\PSID_PC_20\\anaconda3\\envs\\python39\\lib\\site-packages\\sklearn\\base.py:486: UserWarning: X has feature names, but StandardScaler was fitted without feature names\n",
      "  warnings.warn(\n"
     ]
    },
    {
     "name": "stdout",
     "output_type": "stream",
     "text": [
      "Iteration 51/100 - Samples: 740, Test MSE: 0.1973, R2: 0.8792\n"
     ]
    },
    {
     "name": "stderr",
     "output_type": "stream",
     "text": [
      "c:\\Users\\PSID_PC_20\\anaconda3\\envs\\python39\\lib\\site-packages\\sklearn\\base.py:486: UserWarning: X has feature names, but StandardScaler was fitted without feature names\n",
      "  warnings.warn(\n"
     ]
    },
    {
     "name": "stdout",
     "output_type": "stream",
     "text": [
      "Iteration 52/100 - Samples: 750, Test MSE: 0.1384, R2: 0.9153\n"
     ]
    },
    {
     "name": "stderr",
     "output_type": "stream",
     "text": [
      "c:\\Users\\PSID_PC_20\\anaconda3\\envs\\python39\\lib\\site-packages\\sklearn\\base.py:486: UserWarning: X has feature names, but StandardScaler was fitted without feature names\n",
      "  warnings.warn(\n"
     ]
    },
    {
     "name": "stdout",
     "output_type": "stream",
     "text": [
      "Iteration 53/100 - Samples: 760, Test MSE: 0.2251, R2: 0.8621\n"
     ]
    },
    {
     "name": "stderr",
     "output_type": "stream",
     "text": [
      "c:\\Users\\PSID_PC_20\\anaconda3\\envs\\python39\\lib\\site-packages\\sklearn\\base.py:486: UserWarning: X has feature names, but StandardScaler was fitted without feature names\n",
      "  warnings.warn(\n"
     ]
    },
    {
     "name": "stdout",
     "output_type": "stream",
     "text": [
      "Iteration 54/100 - Samples: 770, Test MSE: 0.2107, R2: 0.8710\n"
     ]
    },
    {
     "name": "stderr",
     "output_type": "stream",
     "text": [
      "c:\\Users\\PSID_PC_20\\anaconda3\\envs\\python39\\lib\\site-packages\\sklearn\\base.py:486: UserWarning: X has feature names, but StandardScaler was fitted without feature names\n",
      "  warnings.warn(\n"
     ]
    },
    {
     "name": "stdout",
     "output_type": "stream",
     "text": [
      "Iteration 55/100 - Samples: 780, Test MSE: 0.2228, R2: 0.8636\n"
     ]
    },
    {
     "name": "stderr",
     "output_type": "stream",
     "text": [
      "c:\\Users\\PSID_PC_20\\anaconda3\\envs\\python39\\lib\\site-packages\\sklearn\\base.py:486: UserWarning: X has feature names, but StandardScaler was fitted without feature names\n",
      "  warnings.warn(\n"
     ]
    },
    {
     "name": "stdout",
     "output_type": "stream",
     "text": [
      "Iteration 56/100 - Samples: 790, Test MSE: 0.2121, R2: 0.8701\n"
     ]
    },
    {
     "name": "stderr",
     "output_type": "stream",
     "text": [
      "c:\\Users\\PSID_PC_20\\anaconda3\\envs\\python39\\lib\\site-packages\\sklearn\\base.py:486: UserWarning: X has feature names, but StandardScaler was fitted without feature names\n",
      "  warnings.warn(\n"
     ]
    },
    {
     "name": "stdout",
     "output_type": "stream",
     "text": [
      "Iteration 57/100 - Samples: 800, Test MSE: 0.1887, R2: 0.8844\n"
     ]
    },
    {
     "name": "stderr",
     "output_type": "stream",
     "text": [
      "c:\\Users\\PSID_PC_20\\anaconda3\\envs\\python39\\lib\\site-packages\\sklearn\\base.py:486: UserWarning: X has feature names, but StandardScaler was fitted without feature names\n",
      "  warnings.warn(\n"
     ]
    },
    {
     "name": "stdout",
     "output_type": "stream",
     "text": [
      "Iteration 58/100 - Samples: 810, Test MSE: 0.2262, R2: 0.8614\n"
     ]
    },
    {
     "name": "stderr",
     "output_type": "stream",
     "text": [
      "c:\\Users\\PSID_PC_20\\anaconda3\\envs\\python39\\lib\\site-packages\\sklearn\\base.py:486: UserWarning: X has feature names, but StandardScaler was fitted without feature names\n",
      "  warnings.warn(\n"
     ]
    },
    {
     "name": "stdout",
     "output_type": "stream",
     "text": [
      "Iteration 59/100 - Samples: 820, Test MSE: 0.2033, R2: 0.8755\n"
     ]
    },
    {
     "name": "stderr",
     "output_type": "stream",
     "text": [
      "c:\\Users\\PSID_PC_20\\anaconda3\\envs\\python39\\lib\\site-packages\\sklearn\\base.py:486: UserWarning: X has feature names, but StandardScaler was fitted without feature names\n",
      "  warnings.warn(\n"
     ]
    },
    {
     "name": "stdout",
     "output_type": "stream",
     "text": [
      "Iteration 60/100 - Samples: 830, Test MSE: 0.2036, R2: 0.8753\n"
     ]
    },
    {
     "name": "stderr",
     "output_type": "stream",
     "text": [
      "c:\\Users\\PSID_PC_20\\anaconda3\\envs\\python39\\lib\\site-packages\\sklearn\\base.py:486: UserWarning: X has feature names, but StandardScaler was fitted without feature names\n",
      "  warnings.warn(\n"
     ]
    },
    {
     "name": "stdout",
     "output_type": "stream",
     "text": [
      "Iteration 61/100 - Samples: 840, Test MSE: 0.1601, R2: 0.9019\n"
     ]
    },
    {
     "name": "stderr",
     "output_type": "stream",
     "text": [
      "c:\\Users\\PSID_PC_20\\anaconda3\\envs\\python39\\lib\\site-packages\\sklearn\\base.py:486: UserWarning: X has feature names, but StandardScaler was fitted without feature names\n",
      "  warnings.warn(\n"
     ]
    },
    {
     "name": "stdout",
     "output_type": "stream",
     "text": [
      "Iteration 62/100 - Samples: 850, Test MSE: 0.1486, R2: 0.9090\n"
     ]
    },
    {
     "name": "stderr",
     "output_type": "stream",
     "text": [
      "c:\\Users\\PSID_PC_20\\anaconda3\\envs\\python39\\lib\\site-packages\\sklearn\\base.py:486: UserWarning: X has feature names, but StandardScaler was fitted without feature names\n",
      "  warnings.warn(\n",
      "c:\\Users\\PSID_PC_20\\anaconda3\\envs\\python39\\lib\\site-packages\\sklearn\\base.py:486: UserWarning: X has feature names, but StandardScaler was fitted without feature names\n",
      "  warnings.warn(\n"
     ]
    },
    {
     "name": "stdout",
     "output_type": "stream",
     "text": [
      "Iteration 63/100 - Samples: 860, Test MSE: 0.1573, R2: 0.9036\n",
      "Iteration 64/100 - Samples: 870, Test MSE: 0.1302, R2: 0.9202\n"
     ]
    },
    {
     "name": "stderr",
     "output_type": "stream",
     "text": [
      "c:\\Users\\PSID_PC_20\\anaconda3\\envs\\python39\\lib\\site-packages\\sklearn\\base.py:486: UserWarning: X has feature names, but StandardScaler was fitted without feature names\n",
      "  warnings.warn(\n"
     ]
    },
    {
     "name": "stdout",
     "output_type": "stream",
     "text": [
      "Iteration 65/100 - Samples: 880, Test MSE: 0.1529, R2: 0.9064\n"
     ]
    },
    {
     "name": "stderr",
     "output_type": "stream",
     "text": [
      "c:\\Users\\PSID_PC_20\\anaconda3\\envs\\python39\\lib\\site-packages\\sklearn\\base.py:486: UserWarning: X has feature names, but StandardScaler was fitted without feature names\n",
      "  warnings.warn(\n"
     ]
    },
    {
     "name": "stdout",
     "output_type": "stream",
     "text": [
      "Iteration 66/100 - Samples: 890, Test MSE: 0.2176, R2: 0.8667\n"
     ]
    },
    {
     "name": "stderr",
     "output_type": "stream",
     "text": [
      "c:\\Users\\PSID_PC_20\\anaconda3\\envs\\python39\\lib\\site-packages\\sklearn\\base.py:486: UserWarning: X has feature names, but StandardScaler was fitted without feature names\n",
      "  warnings.warn(\n"
     ]
    },
    {
     "name": "stdout",
     "output_type": "stream",
     "text": [
      "Iteration 67/100 - Samples: 900, Test MSE: 0.1887, R2: 0.8844\n"
     ]
    },
    {
     "name": "stderr",
     "output_type": "stream",
     "text": [
      "c:\\Users\\PSID_PC_20\\anaconda3\\envs\\python39\\lib\\site-packages\\sklearn\\base.py:486: UserWarning: X has feature names, but StandardScaler was fitted without feature names\n",
      "  warnings.warn(\n"
     ]
    },
    {
     "name": "stdout",
     "output_type": "stream",
     "text": [
      "Iteration 68/100 - Samples: 910, Test MSE: 0.2261, R2: 0.8615\n"
     ]
    },
    {
     "name": "stderr",
     "output_type": "stream",
     "text": [
      "c:\\Users\\PSID_PC_20\\anaconda3\\envs\\python39\\lib\\site-packages\\sklearn\\base.py:486: UserWarning: X has feature names, but StandardScaler was fitted without feature names\n",
      "  warnings.warn(\n"
     ]
    },
    {
     "name": "stdout",
     "output_type": "stream",
     "text": [
      "Iteration 69/100 - Samples: 920, Test MSE: 0.1728, R2: 0.8942\n"
     ]
    },
    {
     "name": "stderr",
     "output_type": "stream",
     "text": [
      "c:\\Users\\PSID_PC_20\\anaconda3\\envs\\python39\\lib\\site-packages\\sklearn\\base.py:486: UserWarning: X has feature names, but StandardScaler was fitted without feature names\n",
      "  warnings.warn(\n"
     ]
    },
    {
     "name": "stdout",
     "output_type": "stream",
     "text": [
      "Iteration 70/100 - Samples: 930, Test MSE: 0.1704, R2: 0.8957\n"
     ]
    },
    {
     "name": "stderr",
     "output_type": "stream",
     "text": [
      "c:\\Users\\PSID_PC_20\\anaconda3\\envs\\python39\\lib\\site-packages\\sklearn\\base.py:486: UserWarning: X has feature names, but StandardScaler was fitted without feature names\n",
      "  warnings.warn(\n"
     ]
    },
    {
     "name": "stdout",
     "output_type": "stream",
     "text": [
      "Iteration 71/100 - Samples: 940, Test MSE: 0.1763, R2: 0.8920\n"
     ]
    },
    {
     "name": "stderr",
     "output_type": "stream",
     "text": [
      "c:\\Users\\PSID_PC_20\\anaconda3\\envs\\python39\\lib\\site-packages\\sklearn\\base.py:486: UserWarning: X has feature names, but StandardScaler was fitted without feature names\n",
      "  warnings.warn(\n"
     ]
    },
    {
     "name": "stdout",
     "output_type": "stream",
     "text": [
      "Iteration 72/100 - Samples: 950, Test MSE: 0.1781, R2: 0.8909\n"
     ]
    },
    {
     "name": "stderr",
     "output_type": "stream",
     "text": [
      "c:\\Users\\PSID_PC_20\\anaconda3\\envs\\python39\\lib\\site-packages\\sklearn\\base.py:486: UserWarning: X has feature names, but StandardScaler was fitted without feature names\n",
      "  warnings.warn(\n"
     ]
    },
    {
     "name": "stdout",
     "output_type": "stream",
     "text": [
      "Iteration 73/100 - Samples: 960, Test MSE: 0.2023, R2: 0.8761\n"
     ]
    },
    {
     "name": "stderr",
     "output_type": "stream",
     "text": [
      "c:\\Users\\PSID_PC_20\\anaconda3\\envs\\python39\\lib\\site-packages\\sklearn\\base.py:486: UserWarning: X has feature names, but StandardScaler was fitted without feature names\n",
      "  warnings.warn(\n"
     ]
    },
    {
     "name": "stdout",
     "output_type": "stream",
     "text": [
      "Iteration 74/100 - Samples: 970, Test MSE: 0.2113, R2: 0.8706\n"
     ]
    },
    {
     "name": "stderr",
     "output_type": "stream",
     "text": [
      "c:\\Users\\PSID_PC_20\\anaconda3\\envs\\python39\\lib\\site-packages\\sklearn\\base.py:486: UserWarning: X has feature names, but StandardScaler was fitted without feature names\n",
      "  warnings.warn(\n"
     ]
    },
    {
     "name": "stdout",
     "output_type": "stream",
     "text": [
      "Iteration 75/100 - Samples: 980, Test MSE: 0.1591, R2: 0.9026\n"
     ]
    },
    {
     "name": "stderr",
     "output_type": "stream",
     "text": [
      "c:\\Users\\PSID_PC_20\\anaconda3\\envs\\python39\\lib\\site-packages\\sklearn\\base.py:486: UserWarning: X has feature names, but StandardScaler was fitted without feature names\n",
      "  warnings.warn(\n"
     ]
    },
    {
     "name": "stdout",
     "output_type": "stream",
     "text": [
      "Iteration 76/100 - Samples: 990, Test MSE: 0.2006, R2: 0.8771\n"
     ]
    },
    {
     "name": "stderr",
     "output_type": "stream",
     "text": [
      "c:\\Users\\PSID_PC_20\\anaconda3\\envs\\python39\\lib\\site-packages\\sklearn\\base.py:486: UserWarning: X has feature names, but StandardScaler was fitted without feature names\n",
      "  warnings.warn(\n"
     ]
    },
    {
     "name": "stdout",
     "output_type": "stream",
     "text": [
      "Iteration 77/100 - Samples: 1000, Test MSE: 0.1944, R2: 0.8810\n"
     ]
    },
    {
     "name": "stderr",
     "output_type": "stream",
     "text": [
      "c:\\Users\\PSID_PC_20\\anaconda3\\envs\\python39\\lib\\site-packages\\sklearn\\base.py:486: UserWarning: X has feature names, but StandardScaler was fitted without feature names\n",
      "  warnings.warn(\n"
     ]
    },
    {
     "name": "stdout",
     "output_type": "stream",
     "text": [
      "Iteration 78/100 - Samples: 1010, Test MSE: 0.1624, R2: 0.9005\n"
     ]
    },
    {
     "name": "stderr",
     "output_type": "stream",
     "text": [
      "c:\\Users\\PSID_PC_20\\anaconda3\\envs\\python39\\lib\\site-packages\\sklearn\\base.py:486: UserWarning: X has feature names, but StandardScaler was fitted without feature names\n",
      "  warnings.warn(\n"
     ]
    },
    {
     "name": "stdout",
     "output_type": "stream",
     "text": [
      "Iteration 79/100 - Samples: 1020, Test MSE: 0.1699, R2: 0.8959\n"
     ]
    },
    {
     "name": "stderr",
     "output_type": "stream",
     "text": [
      "c:\\Users\\PSID_PC_20\\anaconda3\\envs\\python39\\lib\\site-packages\\sklearn\\base.py:486: UserWarning: X has feature names, but StandardScaler was fitted without feature names\n",
      "  warnings.warn(\n"
     ]
    },
    {
     "name": "stdout",
     "output_type": "stream",
     "text": [
      "Iteration 80/100 - Samples: 1030, Test MSE: 0.2559, R2: 0.8433\n"
     ]
    },
    {
     "name": "stderr",
     "output_type": "stream",
     "text": [
      "c:\\Users\\PSID_PC_20\\anaconda3\\envs\\python39\\lib\\site-packages\\sklearn\\base.py:486: UserWarning: X has feature names, but StandardScaler was fitted without feature names\n",
      "  warnings.warn(\n"
     ]
    },
    {
     "name": "stdout",
     "output_type": "stream",
     "text": [
      "Iteration 81/100 - Samples: 1040, Test MSE: 0.1342, R2: 0.9178\n"
     ]
    },
    {
     "name": "stderr",
     "output_type": "stream",
     "text": [
      "c:\\Users\\PSID_PC_20\\anaconda3\\envs\\python39\\lib\\site-packages\\sklearn\\base.py:486: UserWarning: X has feature names, but StandardScaler was fitted without feature names\n",
      "  warnings.warn(\n"
     ]
    },
    {
     "name": "stdout",
     "output_type": "stream",
     "text": [
      "Iteration 82/100 - Samples: 1050, Test MSE: 0.1830, R2: 0.8879\n"
     ]
    },
    {
     "name": "stderr",
     "output_type": "stream",
     "text": [
      "c:\\Users\\PSID_PC_20\\anaconda3\\envs\\python39\\lib\\site-packages\\sklearn\\base.py:486: UserWarning: X has feature names, but StandardScaler was fitted without feature names\n",
      "  warnings.warn(\n"
     ]
    },
    {
     "name": "stdout",
     "output_type": "stream",
     "text": [
      "Iteration 83/100 - Samples: 1060, Test MSE: 0.1686, R2: 0.8967\n"
     ]
    },
    {
     "name": "stderr",
     "output_type": "stream",
     "text": [
      "c:\\Users\\PSID_PC_20\\anaconda3\\envs\\python39\\lib\\site-packages\\sklearn\\base.py:486: UserWarning: X has feature names, but StandardScaler was fitted without feature names\n",
      "  warnings.warn(\n"
     ]
    },
    {
     "name": "stdout",
     "output_type": "stream",
     "text": [
      "Iteration 84/100 - Samples: 1070, Test MSE: 0.1444, R2: 0.9115\n"
     ]
    },
    {
     "name": "stderr",
     "output_type": "stream",
     "text": [
      "c:\\Users\\PSID_PC_20\\anaconda3\\envs\\python39\\lib\\site-packages\\sklearn\\base.py:486: UserWarning: X has feature names, but StandardScaler was fitted without feature names\n",
      "  warnings.warn(\n"
     ]
    },
    {
     "name": "stdout",
     "output_type": "stream",
     "text": [
      "Iteration 85/100 - Samples: 1080, Test MSE: 0.1532, R2: 0.9062\n"
     ]
    },
    {
     "name": "stderr",
     "output_type": "stream",
     "text": [
      "c:\\Users\\PSID_PC_20\\anaconda3\\envs\\python39\\lib\\site-packages\\sklearn\\base.py:486: UserWarning: X has feature names, but StandardScaler was fitted without feature names\n",
      "  warnings.warn(\n"
     ]
    },
    {
     "name": "stdout",
     "output_type": "stream",
     "text": [
      "Iteration 86/100 - Samples: 1090, Test MSE: 0.1635, R2: 0.8999\n"
     ]
    },
    {
     "name": "stderr",
     "output_type": "stream",
     "text": [
      "c:\\Users\\PSID_PC_20\\anaconda3\\envs\\python39\\lib\\site-packages\\sklearn\\base.py:486: UserWarning: X has feature names, but StandardScaler was fitted without feature names\n",
      "  warnings.warn(\n"
     ]
    },
    {
     "name": "stdout",
     "output_type": "stream",
     "text": [
      "Iteration 87/100 - Samples: 1100, Test MSE: 0.1954, R2: 0.8803\n"
     ]
    },
    {
     "name": "stderr",
     "output_type": "stream",
     "text": [
      "c:\\Users\\PSID_PC_20\\anaconda3\\envs\\python39\\lib\\site-packages\\sklearn\\base.py:486: UserWarning: X has feature names, but StandardScaler was fitted without feature names\n",
      "  warnings.warn(\n"
     ]
    },
    {
     "name": "stdout",
     "output_type": "stream",
     "text": [
      "Iteration 88/100 - Samples: 1110, Test MSE: 0.1689, R2: 0.8966\n"
     ]
    },
    {
     "name": "stderr",
     "output_type": "stream",
     "text": [
      "c:\\Users\\PSID_PC_20\\anaconda3\\envs\\python39\\lib\\site-packages\\sklearn\\base.py:486: UserWarning: X has feature names, but StandardScaler was fitted without feature names\n",
      "  warnings.warn(\n"
     ]
    },
    {
     "name": "stdout",
     "output_type": "stream",
     "text": [
      "Iteration 89/100 - Samples: 1120, Test MSE: 0.1709, R2: 0.8953\n"
     ]
    },
    {
     "name": "stderr",
     "output_type": "stream",
     "text": [
      "c:\\Users\\PSID_PC_20\\anaconda3\\envs\\python39\\lib\\site-packages\\sklearn\\base.py:486: UserWarning: X has feature names, but StandardScaler was fitted without feature names\n",
      "  warnings.warn(\n"
     ]
    },
    {
     "name": "stdout",
     "output_type": "stream",
     "text": [
      "Iteration 90/100 - Samples: 1130, Test MSE: 0.2028, R2: 0.8758\n"
     ]
    },
    {
     "name": "stderr",
     "output_type": "stream",
     "text": [
      "c:\\Users\\PSID_PC_20\\anaconda3\\envs\\python39\\lib\\site-packages\\sklearn\\base.py:486: UserWarning: X has feature names, but StandardScaler was fitted without feature names\n",
      "  warnings.warn(\n"
     ]
    },
    {
     "name": "stdout",
     "output_type": "stream",
     "text": [
      "Iteration 91/100 - Samples: 1140, Test MSE: 0.2419, R2: 0.8519\n"
     ]
    },
    {
     "name": "stderr",
     "output_type": "stream",
     "text": [
      "c:\\Users\\PSID_PC_20\\anaconda3\\envs\\python39\\lib\\site-packages\\sklearn\\base.py:486: UserWarning: X has feature names, but StandardScaler was fitted without feature names\n",
      "  warnings.warn(\n"
     ]
    },
    {
     "name": "stdout",
     "output_type": "stream",
     "text": [
      "Iteration 92/100 - Samples: 1150, Test MSE: 0.1496, R2: 0.9084\n"
     ]
    },
    {
     "name": "stderr",
     "output_type": "stream",
     "text": [
      "c:\\Users\\PSID_PC_20\\anaconda3\\envs\\python39\\lib\\site-packages\\sklearn\\base.py:486: UserWarning: X has feature names, but StandardScaler was fitted without feature names\n",
      "  warnings.warn(\n"
     ]
    },
    {
     "name": "stdout",
     "output_type": "stream",
     "text": [
      "Iteration 93/100 - Samples: 1160, Test MSE: 0.1471, R2: 0.9099\n"
     ]
    },
    {
     "name": "stderr",
     "output_type": "stream",
     "text": [
      "c:\\Users\\PSID_PC_20\\anaconda3\\envs\\python39\\lib\\site-packages\\sklearn\\base.py:486: UserWarning: X has feature names, but StandardScaler was fitted without feature names\n",
      "  warnings.warn(\n"
     ]
    },
    {
     "name": "stdout",
     "output_type": "stream",
     "text": [
      "Iteration 94/100 - Samples: 1170, Test MSE: 0.1873, R2: 0.8853\n"
     ]
    },
    {
     "name": "stderr",
     "output_type": "stream",
     "text": [
      "c:\\Users\\PSID_PC_20\\anaconda3\\envs\\python39\\lib\\site-packages\\sklearn\\base.py:486: UserWarning: X has feature names, but StandardScaler was fitted without feature names\n",
      "  warnings.warn(\n"
     ]
    },
    {
     "name": "stdout",
     "output_type": "stream",
     "text": [
      "Iteration 95/100 - Samples: 1180, Test MSE: 0.1414, R2: 0.9134\n"
     ]
    },
    {
     "name": "stderr",
     "output_type": "stream",
     "text": [
      "c:\\Users\\PSID_PC_20\\anaconda3\\envs\\python39\\lib\\site-packages\\sklearn\\base.py:486: UserWarning: X has feature names, but StandardScaler was fitted without feature names\n",
      "  warnings.warn(\n"
     ]
    },
    {
     "name": "stdout",
     "output_type": "stream",
     "text": [
      "Iteration 96/100 - Samples: 1190, Test MSE: 0.1712, R2: 0.8951\n"
     ]
    },
    {
     "name": "stderr",
     "output_type": "stream",
     "text": [
      "c:\\Users\\PSID_PC_20\\anaconda3\\envs\\python39\\lib\\site-packages\\sklearn\\base.py:486: UserWarning: X has feature names, but StandardScaler was fitted without feature names\n",
      "  warnings.warn(\n"
     ]
    },
    {
     "name": "stdout",
     "output_type": "stream",
     "text": [
      "Iteration 97/100 - Samples: 1200, Test MSE: 0.1338, R2: 0.9181\n"
     ]
    },
    {
     "name": "stderr",
     "output_type": "stream",
     "text": [
      "c:\\Users\\PSID_PC_20\\anaconda3\\envs\\python39\\lib\\site-packages\\sklearn\\base.py:486: UserWarning: X has feature names, but StandardScaler was fitted without feature names\n",
      "  warnings.warn(\n"
     ]
    },
    {
     "name": "stdout",
     "output_type": "stream",
     "text": [
      "Iteration 98/100 - Samples: 1210, Test MSE: 0.1745, R2: 0.8932\n"
     ]
    },
    {
     "name": "stderr",
     "output_type": "stream",
     "text": [
      "c:\\Users\\PSID_PC_20\\anaconda3\\envs\\python39\\lib\\site-packages\\sklearn\\base.py:486: UserWarning: X has feature names, but StandardScaler was fitted without feature names\n",
      "  warnings.warn(\n"
     ]
    },
    {
     "name": "stdout",
     "output_type": "stream",
     "text": [
      "Iteration 99/100 - Samples: 1220, Test MSE: 0.1862, R2: 0.8860\n"
     ]
    },
    {
     "name": "stderr",
     "output_type": "stream",
     "text": [
      "c:\\Users\\PSID_PC_20\\anaconda3\\envs\\python39\\lib\\site-packages\\sklearn\\base.py:486: UserWarning: X has feature names, but StandardScaler was fitted without feature names\n",
      "  warnings.warn(\n"
     ]
    },
    {
     "name": "stdout",
     "output_type": "stream",
     "text": [
      "Iteration 100/100 - Samples: 1230, Test MSE: 0.1580, R2: 0.9032\n",
      "Performance log:\n",
      "MSE: 1.2803, R2: 0.2159\n",
      "MSE: 0.9608, R2: 0.4115\n",
      "MSE: 1.0038, R2: 0.3852\n",
      "MSE: 1.0257, R2: 0.3718\n",
      "MSE: 0.9103, R2: 0.4425\n",
      "MSE: 0.6251, R2: 0.6171\n",
      "MSE: 0.8091, R2: 0.5045\n",
      "MSE: 0.7707, R2: 0.5280\n",
      "MSE: 1.1211, R2: 0.3134\n",
      "MSE: 0.7489, R2: 0.5413\n",
      "MSE: 0.6889, R2: 0.5781\n",
      "MSE: 0.5979, R2: 0.6338\n",
      "MSE: 0.4914, R2: 0.6991\n",
      "MSE: 0.5111, R2: 0.6870\n",
      "MSE: 0.5643, R2: 0.6544\n",
      "MSE: 0.5723, R2: 0.6495\n",
      "MSE: 0.4314, R2: 0.7358\n",
      "MSE: 0.3121, R2: 0.8088\n",
      "MSE: 0.3949, R2: 0.7581\n",
      "MSE: 0.4838, R2: 0.7037\n",
      "MSE: 0.3665, R2: 0.7756\n",
      "MSE: 0.4387, R2: 0.7313\n",
      "MSE: 0.2681, R2: 0.8358\n",
      "MSE: 0.4826, R2: 0.7044\n",
      "MSE: 0.4057, R2: 0.7515\n",
      "MSE: 0.3714, R2: 0.7726\n",
      "MSE: 0.3565, R2: 0.7817\n",
      "MSE: 0.4024, R2: 0.7535\n",
      "MSE: 0.3679, R2: 0.7747\n",
      "MSE: 0.3493, R2: 0.7861\n",
      "MSE: 0.3489, R2: 0.7863\n",
      "MSE: 0.2925, R2: 0.8208\n",
      "MSE: 0.3548, R2: 0.7827\n",
      "MSE: 0.2914, R2: 0.8215\n",
      "MSE: 0.1859, R2: 0.8861\n",
      "MSE: 0.2244, R2: 0.8626\n",
      "MSE: 0.1776, R2: 0.8912\n",
      "MSE: 0.1799, R2: 0.8898\n",
      "MSE: 0.2261, R2: 0.8615\n",
      "MSE: 0.2261, R2: 0.8615\n",
      "MSE: 0.2136, R2: 0.8692\n",
      "MSE: 0.2378, R2: 0.8543\n",
      "MSE: 0.3231, R2: 0.8021\n",
      "MSE: 0.2515, R2: 0.8460\n",
      "MSE: 0.2140, R2: 0.8690\n",
      "MSE: 0.1788, R2: 0.8905\n",
      "MSE: 0.2730, R2: 0.8328\n",
      "MSE: 0.1630, R2: 0.9001\n",
      "MSE: 0.2253, R2: 0.8620\n",
      "MSE: 0.1796, R2: 0.8900\n",
      "MSE: 0.1973, R2: 0.8792\n",
      "MSE: 0.1384, R2: 0.9153\n",
      "MSE: 0.2251, R2: 0.8621\n",
      "MSE: 0.2107, R2: 0.8710\n",
      "MSE: 0.2228, R2: 0.8636\n",
      "MSE: 0.2121, R2: 0.8701\n",
      "MSE: 0.1887, R2: 0.8844\n",
      "MSE: 0.2262, R2: 0.8614\n",
      "MSE: 0.2033, R2: 0.8755\n",
      "MSE: 0.2036, R2: 0.8753\n",
      "MSE: 0.1601, R2: 0.9019\n",
      "MSE: 0.1486, R2: 0.9090\n",
      "MSE: 0.1573, R2: 0.9036\n",
      "MSE: 0.1302, R2: 0.9202\n",
      "MSE: 0.1529, R2: 0.9064\n",
      "MSE: 0.2176, R2: 0.8667\n",
      "MSE: 0.1887, R2: 0.8844\n",
      "MSE: 0.2261, R2: 0.8615\n",
      "MSE: 0.1728, R2: 0.8942\n",
      "MSE: 0.1704, R2: 0.8957\n",
      "MSE: 0.1763, R2: 0.8920\n",
      "MSE: 0.1781, R2: 0.8909\n",
      "MSE: 0.2023, R2: 0.8761\n",
      "MSE: 0.2113, R2: 0.8706\n",
      "MSE: 0.1591, R2: 0.9026\n",
      "MSE: 0.2006, R2: 0.8771\n",
      "MSE: 0.1944, R2: 0.8810\n",
      "MSE: 0.1624, R2: 0.9005\n",
      "MSE: 0.1699, R2: 0.8959\n",
      "MSE: 0.2559, R2: 0.8433\n",
      "MSE: 0.1342, R2: 0.9178\n",
      "MSE: 0.1830, R2: 0.8879\n",
      "MSE: 0.1686, R2: 0.8967\n",
      "MSE: 0.1444, R2: 0.9115\n",
      "MSE: 0.1532, R2: 0.9062\n",
      "MSE: 0.1635, R2: 0.8999\n",
      "MSE: 0.1954, R2: 0.8803\n",
      "MSE: 0.1689, R2: 0.8966\n",
      "MSE: 0.1709, R2: 0.8953\n",
      "MSE: 0.2028, R2: 0.8758\n",
      "MSE: 0.2419, R2: 0.8519\n",
      "MSE: 0.1496, R2: 0.9084\n",
      "MSE: 0.1471, R2: 0.9099\n",
      "MSE: 0.1873, R2: 0.8853\n",
      "MSE: 0.1414, R2: 0.9134\n",
      "MSE: 0.1712, R2: 0.8951\n",
      "MSE: 0.1338, R2: 0.9181\n",
      "MSE: 0.1745, R2: 0.8932\n",
      "MSE: 0.1862, R2: 0.8860\n",
      "MSE: 0.1580, R2: 0.9032\n"
     ]
    }
   ],
   "source": [
    "import torch\n",
    "import torch.nn as nn\n",
    "import torch.optim as optim\n",
    "from torch.utils.data import DataLoader, TensorDataset\n",
    "import numpy as np\n",
    "import pandas as pd\n",
    "from sklearn.metrics import mean_squared_error, r2_score\n",
    "from sklearn.model_selection import train_test_split\n",
    "from sklearn.preprocessing import StandardScaler\n",
    "\n",
    "# PyTorch 모델 정의\n",
    "class DropoutMLP(nn.Module):\n",
    "    def __init__(self, input_dim, hidden_dim):\n",
    "        super(DropoutMLP, self).__init__()\n",
    "        self.model = nn.Sequential(\n",
    "            nn.Linear(input_dim, hidden_dim),\n",
    "            nn.ReLU(),\n",
    "            nn.Dropout(p=0.2),  # 드롭아웃 적용\n",
    "            nn.Linear(hidden_dim, hidden_dim),\n",
    "            nn.ReLU(),\n",
    "            nn.Dropout(p=0.2),  # 드롭아웃 적용\n",
    "            nn.Linear(hidden_dim, 1)\n",
    "        )\n",
    "    \n",
    "    def forward(self, x):\n",
    "        return self.model(x)\n",
    "\n",
    "# 데이터 준비\n",
    "data = pd.read_csv(\"../[01]Data/CoREMOF_O2_15.0_5760.csv\").reset_index(drop=True).drop(\"Unnamed: 0\", axis=1)\n",
    "data = data[['Adsorbent', 'LCD', 'PLD', 'LFPD', 'cm3_g', 'ASA_m2_cm3', 'ASA_m2_g',\n",
    "              'AV_VF', 'AV_cm3_g',  'Has_OMS',\n",
    "             '0.5bar_GCMC', 'Uptake']]\n",
    "X = data.drop(['Adsorbent', 'Uptake'], axis=1)\n",
    "y = data['Uptake']\n",
    "\n",
    "# Train-Test Split\n",
    "X_train, X_test, y_train, y_test = train_test_split(X, y, test_size=0.2, random_state=42)\n",
    "\n",
    "# Train 데이터를 Initial (5%)와 Remaining (95%)으로 랜덤 분리\n",
    "initial_size = int(0.05 * len(X_train))\n",
    "indices = np.random.permutation(len(X_train))\n",
    "initial_indices = indices[:initial_size]\n",
    "remaining_indices = indices[initial_size:]\n",
    "\n",
    "X_initial = X_train.iloc[initial_indices]\n",
    "y_initial = y_train.iloc[initial_indices].to_numpy()\n",
    "\n",
    "# 스탠다드 스케일러 적용\n",
    "scaler = StandardScaler()\n",
    "X_initial_scaled = scaler.fit_transform(X_initial)\n",
    "X_test_scaled = scaler.transform(X_test)\n",
    "X_remaining = pd.DataFrame(X_train.iloc[remaining_indices], columns=X_train.columns).reset_index(drop=True)\n",
    "y_remaining = y_train.iloc[remaining_indices].reset_index(drop=True)\n",
    "\n",
    "def create_dataloader(X, y, batch_size=32, shuffle=True):\n",
    "    dataset = TensorDataset(torch.tensor(X, dtype=torch.float32), torch.tensor(y, dtype=torch.float32))\n",
    "    return DataLoader(dataset, batch_size=batch_size, shuffle=shuffle)\n",
    "\n",
    "train_loader = create_dataloader(X_initial_scaled, y_initial)\n",
    "test_loader = create_dataloader(X_test_scaled, y_test.to_numpy(), shuffle=False)\n",
    "\n",
    "# 모델 초기화\n",
    "input_dim = X_train.shape[1]\n",
    "hidden_dim = 64\n",
    "criterion = nn.MSELoss()\n",
    "\n",
    "# 랜덤 샘플링 설정\n",
    "iterations = 100\n",
    "samples_per_iteration = 10\n",
    "performance_log = []\n",
    "\n",
    "for iteration in range(iterations):\n",
    "    # 랜덤으로 샘플 선택\n",
    "    sample_indices = np.random.choice(X_remaining.index, size=samples_per_iteration, replace=False)\n",
    "    sampled_X = X_remaining.iloc[sample_indices].values\n",
    "    sampled_y = y_remaining.iloc[sample_indices].to_numpy()\n",
    "\n",
    "    # 선택된 샘플을 Training Set에 추가\n",
    "    X_initial = np.vstack([X_initial, sampled_X])\n",
    "    y_initial = np.hstack([y_initial, sampled_y])\n",
    "\n",
    "    # 남은 데이터에서 선택된 샘플 제거\n",
    "    X_remaining = X_remaining.drop(sample_indices).reset_index(drop=True)\n",
    "    y_remaining = y_remaining.drop(sample_indices).reset_index(drop=True)\n",
    "\n",
    "    # 새 데이터 스케일링\n",
    "    scaler = StandardScaler()\n",
    "    X_initial_scaled = scaler.fit_transform(X_initial)\n",
    "    X_test_scaled = scaler.transform(X_test)\n",
    "    train_loader = create_dataloader(X_initial_scaled, y_initial)\n",
    "\n",
    "    # 새로운 모델 생성\n",
    "    model = DropoutMLP(input_dim, hidden_dim)\n",
    "    optimizer = optim.Adam(model.parameters(), lr=0.001)\n",
    "\n",
    "    # 모델 학습\n",
    "    epochs = 50\n",
    "    for epoch in range(epochs):\n",
    "        model.train()\n",
    "        for X_batch, y_batch in train_loader:\n",
    "            optimizer.zero_grad()\n",
    "            predictions = model(X_batch).squeeze()\n",
    "            loss = criterion(predictions, y_batch)\n",
    "            loss.backward()\n",
    "            optimizer.step()\n",
    "\n",
    "    # Test 성능 평가\n",
    "    X_test_tensor = torch.tensor(X_test_scaled, dtype=torch.float32)\n",
    "    model.eval()\n",
    "    with torch.no_grad():\n",
    "        predictions = model(X_test_tensor).squeeze().numpy()\n",
    "    mse = mean_squared_error(y_test, predictions)\n",
    "    r2 = r2_score(y_test, predictions)\n",
    "    performance_log.append((mse, r2))\n",
    "\n",
    "    print(f\"Iteration {iteration + 1}/{iterations} - Samples: {len(y_initial)}, Test MSE: {mse:.4f}, R2: {r2:.4f}\")\n",
    "\n",
    "# 성능 기록 출력\n",
    "print(\"Performance log:\")\n",
    "for entry in performance_log:\n",
    "    print(f\"MSE: {entry[0]:.4f}, R2: {entry[1]:.4f}\")\n",
    "third_log = performance_log"
   ]
  },
  {
   "cell_type": "markdown",
   "metadata": {},
   "source": [
    "## 랜덤하게 아예 모델 재학습 시키는 경우 높은 샘플링 비율 포인트 찍어서 성능보기"
   ]
  },
  {
   "cell_type": "code",
   "execution_count": 71,
   "metadata": {},
   "outputs": [
    {
     "name": "stdout",
     "output_type": "stream",
     "text": [
      "Sample_Fraction 0.3 - Samples: 1382, Test MSE: 0.1809, R2: 0.8892\n",
      "Sample_Fraction 0.35 - Samples: 1612, Test MSE: 0.1155, R2: 0.9293\n",
      "Sample_Fraction 0.39999999999999997 - Samples: 1843, Test MSE: 0.3741, R2: 0.7709\n",
      "Sample_Fraction 0.44999999999999996 - Samples: 2073, Test MSE: 0.1478, R2: 0.9095\n",
      "Sample_Fraction 0.49999999999999994 - Samples: 2303, Test MSE: 0.1751, R2: 0.8927\n",
      "Sample_Fraction 0.5499999999999999 - Samples: 2534, Test MSE: 0.1233, R2: 0.9245\n",
      "Sample_Fraction 0.5999999999999999 - Samples: 2764, Test MSE: 0.1270, R2: 0.9222\n",
      "Sample_Fraction 0.6499999999999999 - Samples: 2995, Test MSE: 0.0883, R2: 0.9459\n",
      "Sample_Fraction 0.7 - Samples: 3225, Test MSE: 0.0973, R2: 0.9404\n",
      "Sample_Fraction 0.7499999999999999 - Samples: 3455, Test MSE: 0.1211, R2: 0.9258\n",
      "Sample_Fraction 0.7999999999999998 - Samples: 3686, Test MSE: 0.0855, R2: 0.9476\n",
      "Sample_Fraction 0.8499999999999999 - Samples: 3916, Test MSE: 0.0946, R2: 0.9421\n",
      "Sample_Fraction 0.8999999999999999 - Samples: 4147, Test MSE: 0.0871, R2: 0.9466\n",
      "Sample_Fraction 0.95 - Samples: 4377, Test MSE: 0.0814, R2: 0.9502\n",
      "Sample_Fraction 0.9999999999999998 - Samples: 4607, Test MSE: 0.1357, R2: 0.9169\n"
     ]
    }
   ],
   "source": [
    "import torch\n",
    "import torch.nn as nn\n",
    "import torch.optim as optim\n",
    "from torch.utils.data import DataLoader, TensorDataset\n",
    "import numpy as np\n",
    "import pandas as pd\n",
    "from sklearn.metrics import mean_squared_error, r2_score\n",
    "from sklearn.model_selection import train_test_split\n",
    "from sklearn.preprocessing import StandardScaler\n",
    "\n",
    "# PyTorch 모델 정의\n",
    "class DropoutMLP(nn.Module):\n",
    "    def __init__(self, input_dim, hidden_dim):\n",
    "        super(DropoutMLP, self).__init__()\n",
    "        self.model = nn.Sequential(\n",
    "            nn.Linear(input_dim, hidden_dim),\n",
    "            nn.ReLU(),\n",
    "            nn.Dropout(p=0.2),  # 드롭아웃 적용\n",
    "            nn.Linear(hidden_dim, hidden_dim),\n",
    "            nn.ReLU(),\n",
    "            nn.Dropout(p=0.2),  # 드롭아웃 적용\n",
    "            nn.Linear(hidden_dim, 1)\n",
    "        )\n",
    "    \n",
    "    def forward(self, x):\n",
    "        return self.model(x)\n",
    "\n",
    "# 데이터 준비\n",
    "data = pd.read_csv(\"../[01]Data/CoREMOF_O2_15.0_5760.csv\").reset_index(drop=True).drop(\"Unnamed: 0\", axis=1)\n",
    "data = data[['Adsorbent', 'LCD', 'PLD', 'LFPD', 'cm3_g', 'ASA_m2_cm3', 'ASA_m2_g',\n",
    "              'AV_VF', 'AV_cm3_g',  'Has_OMS',\n",
    "             '0.5bar_GCMC', 'Uptake']]\n",
    "X = data.drop(['Adsorbent', 'Uptake'], axis=1)\n",
    "y = data['Uptake']\n",
    "\n",
    "# Train-Test Split\n",
    "X_train, X_test, y_train, y_test = train_test_split(X, y, test_size=0.2, random_state=42)\n",
    "\n",
    "\n",
    "for i in np.arange(0.3, 1.05, 0.05):\n",
    "    # Train 데이터를 Initial (5%)와 Remaining (95%)으로 랜덤 분리\n",
    "    initial_size = int( i* len(X_train))\n",
    "    indices = np.random.permutation(len(X_train))\n",
    "    initial_indices = indices[:initial_size]\n",
    "    remaining_indices = indices[initial_size:]\n",
    "\n",
    "    X_initial = X_train.iloc[initial_indices]\n",
    "    y_initial = y_train.iloc[initial_indices].to_numpy()\n",
    "\n",
    "    # 스탠다드 스케일러 적용\n",
    "    scaler = StandardScaler()\n",
    "    X_initial_scaled = scaler.fit_transform(X_initial)\n",
    "    X_test_scaled = scaler.transform(X_test)\n",
    "    X_remaining = pd.DataFrame(X_train.iloc[remaining_indices], columns=X_train.columns).reset_index(drop =True)\n",
    "    y_remaining = y_train.iloc[remaining_indices].reset_index(drop =True)\n",
    "\n",
    "    def create_dataloader(X, y, batch_size=32, shuffle=True):\n",
    "        dataset = TensorDataset(torch.tensor(X, dtype=torch.float32), torch.tensor(y, dtype=torch.float32))\n",
    "        return DataLoader(dataset, batch_size=batch_size, shuffle=shuffle)\n",
    "\n",
    "    train_loader = create_dataloader(X_initial_scaled, y_initial)\n",
    "    test_loader = create_dataloader(X_test_scaled, y_test.to_numpy(), shuffle=False)\n",
    "\n",
    "    # 모델 초기화\n",
    "    input_dim = X_train.shape[1]\n",
    "    hidden_dim = 64\n",
    "    model = DropoutMLP(input_dim, hidden_dim)\n",
    "    criterion = nn.MSELoss()\n",
    "    optimizer = optim.Adam(model.parameters(), lr=0.001)\n",
    "\n",
    "    # 초기 모델 학습\n",
    "    epochs = 50\n",
    "    for epoch in range(epochs):\n",
    "        model.train()\n",
    "        for X_batch, y_batch in train_loader:\n",
    "            optimizer.zero_grad()\n",
    "            predictions = model(X_batch).squeeze()\n",
    "            loss = criterion(predictions, y_batch)\n",
    "            loss.backward()\n",
    "            optimizer.step()\n",
    "\n",
    "    # 랜덤 샘플링 설정\n",
    "    iterations = 100\n",
    "    samples_per_iteration = 10\n",
    "    performance_log = []\n",
    "\n",
    "    X_remaining_tensor = torch.tensor(X_remaining.values, dtype=torch.float32)\n",
    "    X_test_tensor = torch.tensor(X_test_scaled, dtype=torch.float32)\n",
    "    model.eval()\n",
    "    with torch.no_grad():\n",
    "        predictions = model(X_test_tensor).squeeze().numpy()\n",
    "    mse = mean_squared_error(y_test, predictions)\n",
    "    r2 = r2_score(y_test, predictions)\n",
    "    performance_log.append((mse, r2))\n",
    "\n",
    "    print(f\"Sample_Fraction {i} - Samples: {len(y_initial)}, Test MSE: {mse:.4f}, R2: {r2:.4f}\")\n",
    "train_fractions = np.arange(0.3, 1.05, 0.05)\n",
    "fourth_log = performance_log"
   ]
  },
  {
   "cell_type": "code",
   "execution_count": 64,
   "metadata": {},
   "outputs": [
    {
     "data": {
      "text/plain": [
       "array([0.3 , 0.35, 0.4 , 0.45, 0.5 , 0.55, 0.6 , 0.65, 0.7 , 0.75, 0.8 ,\n",
       "       0.85, 0.9 , 0.95, 1.  ])"
      ]
     },
     "execution_count": 64,
     "metadata": {},
     "output_type": "execute_result"
    }
   ],
   "source": [
    "0.8892, 0.9293, 0.7709, 0.9095, 0.8927, 0.9245, 0.9222, 0.9459, 0.9404, 0.9258, 0.9476, 0.9421, 0.9466, 0.9502, 0.9169"
   ]
  },
  {
   "cell_type": "markdown",
   "metadata": {},
   "source": [
    "## 성능 자료 저장"
   ]
  },
  {
   "cell_type": "code",
   "execution_count": 61,
   "metadata": {},
   "outputs": [],
   "source": [
    "ls = []\n",
    "for a , b, c in zip(first_log, second_log , third_log):\n",
    "    dic = {}\n",
    "    for i, co in zip(list(a) + list(b) + list(c) , [\"Active_Learning_MSE\" , \"Active_Learning_R2\", \"Random_이어서학습_MSE\", \"Random_이어서학습_R2\", \"Random_모델재학습_MSE\", \"Random_모델재학습_R2\"]):\n",
    "        dic[co] = i \n",
    "    ls.append(dic)\n",
    "pd.DataFrame(ls).to_csv(\"Active_Learning_O2_15bar_Score.csv\")"
   ]
  },
  {
   "cell_type": "code",
   "execution_count": 51,
   "metadata": {},
   "outputs": [
    {
     "data": {
      "text/plain": [
       "[(1.0428007432204107, 0.3613343266589826),\n",
       " (0.6826010822559619, 0.5819394235604547),\n",
       " (0.6842972373905898, 0.5809006095126219),\n",
       " (0.7207319420532543, 0.5585860922497172),\n",
       " (0.6866686791743446, 0.57944821462946),\n",
       " (0.7686551063755448, 0.5292354418886456),\n",
       " (0.7007547140583203, 0.5708211907110678),\n",
       " (0.6727000263130326, 0.5880033476626276),\n",
       " (0.6428927027369289, 0.6062589103921242),\n",
       " (0.5338102096426723, 0.6730667299633029),\n",
       " (0.38591788112350706, 0.7636437210037662),\n",
       " (0.2791763046027824, 0.8290178409258127),\n",
       " (0.3844167265877585, 0.7645631064938475),\n",
       " (0.41945252371598724, 0.7431053533138519),\n",
       " (0.44939493134752007, 0.7247670580491331),\n",
       " (0.47096746216510016, 0.7115549127664867),\n",
       " (0.4771483067529238, 0.7077694405215134),\n",
       " (0.3935625870997375, 0.7589617035411345),\n",
       " (0.3864627070692657, 0.7633100411212347),\n",
       " (0.39012525325077685, 0.7610669064300054),\n",
       " (0.37239940231978014, 0.771923143917357),\n",
       " (0.21631544696122343, 0.867517115339884),\n",
       " (0.3381279672255542, 0.792912761841124),\n",
       " (0.2262565781578666, 0.8614286470579492),\n",
       " (0.23081210460934917, 0.8586386045810194),\n",
       " (0.20763272636828053, 0.8728348672018538),\n",
       " (0.14501335298527898, 0.9111862440356869),\n",
       " (0.14646084114624353, 0.9102997266382016),\n",
       " (0.1254180574945861, 0.9231874270711256),\n",
       " (0.12706455963256114, 0.9221790231133764),\n",
       " (0.12214402596578099, 0.9251926150847306),\n",
       " (0.12341833914833364, 0.9244121590943859),\n",
       " (0.12920497390934838, 0.9208681215492949),\n",
       " (0.12036783280256708, 0.9262804486041665),\n",
       " (0.2734045364191106, 0.8325527734019913),\n",
       " (0.46436642776314435, 0.715597731213329),\n",
       " (0.3703097117303515, 0.7732029796444109),\n",
       " (0.41080546714492433, 0.7484012626649719),\n",
       " (0.4142467185706925, 0.746293660447326),\n",
       " (0.4304023111206681, 0.736399131256362),\n",
       " (0.44186063223276173, 0.7293814565797858),\n",
       " (0.576347217374344, 0.647014843386235),\n",
       " (0.5129361965852165, 0.6858510664641558),\n",
       " (0.6725130330753146, 0.5881178720939284),\n",
       " (0.6440536080254388, 0.6055479113229429),\n",
       " (0.4523058469110435, 0.7229842612296034),\n",
       " (0.6619508421414662, 0.5945867098163589),\n",
       " (0.774976818711298, 0.5253636948728988),\n",
       " (0.8651138196623838, 0.4701590848075248),\n",
       " (0.11336601060426618, 0.9305687304432088),\n",
       " (0.11349210011408067, 0.9304915066377881),\n",
       " (0.11348864586555892, 0.9304936222001067),\n",
       " (0.09748576082384136, 0.9402946253323102),\n",
       " (0.13783601395603087, 0.915582021554751),\n",
       " (0.10166087288346676, 0.9377375685099301),\n",
       " (0.10765776312560338, 0.9340647595199609),\n",
       " (0.09952011241912231, 0.9390486820973638),\n",
       " (0.10996355563717135, 0.932652571682007),\n",
       " (0.12165442794784312, 0.9254924704979777),\n",
       " (0.09654051676258929, 0.9408735421951682),\n",
       " (0.10407380036233714, 0.9362597656189802),\n",
       " (0.13866241614004876, 0.9150758896683502),\n",
       " (0.11252543849097196, 0.9310835407348382),\n",
       " (0.10410875528281349, 0.9362383573988885),\n",
       " (0.12574167447041906, 0.9229892271224598),\n",
       " (0.09023540281398773, 0.9447351234911687),\n",
       " (0.10254813811946013, 0.9371941609097132),\n",
       " (0.09913389873819967, 0.939285219539616),\n",
       " (0.09522088874956751, 0.9416817513559073),\n",
       " (0.11506429916802101, 0.9295286097718827),\n",
       " (0.11738549905961161, 0.928106985649192),\n",
       " (0.09724507151512211, 0.9404420360437222),\n",
       " (0.11649168631996619, 0.9286544032828269),\n",
       " (0.09687786986409545, 0.9406669295252714),\n",
       " (0.09288703410531597, 0.9431111259104821),\n",
       " (0.10157127237858996, 0.9377924445417615),\n",
       " (0.09479205779941413, 0.9419443898410731),\n",
       " (0.10960152129015246, 0.9328743004365314),\n",
       " (0.09660541722806967, 0.9408337937583209),\n",
       " (0.11249230396845229, 0.9311038340480847),\n",
       " (0.09436313631635322, 0.9422070837733227),\n",
       " (0.10586670345250192, 0.935161698066996),\n",
       " (0.10483637104055957, 0.9357927274826503),\n",
       " (0.09670440552547627, 0.9407731681517254),\n",
       " (0.11347063843084514, 0.9305046508942185),\n",
       " (0.09845006043602887, 0.9397040378541902),\n",
       " (0.12374089948770021, 0.9242146062851134),\n",
       " (0.09729009823898972, 0.9404144593248676),\n",
       " (0.1139449843508871, 0.9302141366628184),\n",
       " (0.10981836011042034, 0.9327414970107061),\n",
       " (0.11274396759094109, 0.9309497020933876),\n",
       " (0.11398890559218668, 0.9301872369992624),\n",
       " (0.11160246371304984, 0.9316488187247618),\n",
       " (0.1029719593726765, 0.9369345906247653),\n",
       " (0.09942660162668217, 0.9391059529936561),\n",
       " (0.1046080305617003, 0.9359325751252894),\n",
       " (0.10617230189476477, 0.9349745336099617),\n",
       " (0.12179251906639377, 0.9254078962801466),\n",
       " (0.08770813535541129, 0.9462829541612543),\n",
       " (0.1086129883769632, 0.9334797296546503),\n",
       " (0.11119457910293708, 0.9318986285766023)]"
      ]
     },
     "execution_count": 51,
     "metadata": {},
     "output_type": "execute_result"
    }
   ],
   "source": [
    "second_log"
   ]
  },
  {
   "cell_type": "code",
   "execution_count": null,
   "metadata": {},
   "outputs": [],
   "source": [
    "# 25 % Initial Test MSE: 0.24229746295191884, R2: 0.8516043708914969\n",
    "# 35 % Initial Test MSE: 0.11843110378372088, R2: 0.9274666026714148\n",
    "# 40 % Initial Test MSE: 0.11655841181037568, R2: 0.9286135371053348\n",
    "# 50%  Initial Test MSE: 0.09955010659747054, R2: 0.9390303120950066\n",
    "# 75 % Initial Test MSE: 0.0953816269835651, R2: 0.9415833068610072\n",
    "# 100% Initial Test MSE: 0.08467340609458346, R2: 0.9481415809596864"
   ]
  },
  {
   "cell_type": "markdown",
   "metadata": {},
   "source": [
    "## 전체 Train셋에 대한 퍼센트로 X축을 구성해서 비교 시각화"
   ]
  },
  {
   "cell_type": "code",
   "execution_count": 88,
   "metadata": {},
   "outputs": [
    {
     "data": {
      "text/plain": [
       "(0.5, 1.0)"
      ]
     },
     "execution_count": 88,
     "metadata": {},
     "output_type": "execute_result"
    },
    {
     "data": {
      "image/png": "[encoded data removed]",
      "text/plain": [
       "<Figure size 640x480 with 1 Axes>"
      ]
     },
     "metadata": {},
     "output_type": "display_data"
    }
   ],
   "source": [
    "import matplotlib.pyplot as plt\n",
    "plt.plot([ (10* x + int(len(X_train) * 0.05)) * 100/ len(X_train) for x in range(0,101)], [ x[1] for x in  first_log], color = \"blue\" )\n",
    "# plt.plot([5*x for x in range(1, 21)], [ x[1] for x in  log] )\n",
    "# plt.plot(np.arange(0, 101), [ x[1] for x in  second_performance_log] )\n",
    "plt.plot([ (10* x + int(len(X_train) * 0.05)) * 100/ len(X_train) for x in range(0,101)], [ x[1] for x in  second_log] , color = \"red\" )\n",
    "plt.plot([ (10* x + int(len(X_train) * 0.05)) * 100/ len(X_train) for x in range(1,101)], [ x[1] for x in  third_log] , color = \"green\" )\n",
    "# plt.axhline(0.94)\n",
    "# plt.scatter([ 35, 40, 50, 75, 100],[0.9274666026714148,0.9286135371053348,0.9390303120950066,0.9415833068610072,0.9481415809596864], color = \"red\" , marker = \"*\" )\n",
    "plt.scatter(train_fractions*100,  [0.8892, 0.9293, 0.7709, 0.9095, 0.8927, 0.9245, 0.9222, 0.9459, 0.9404, 0.9258, 0.9476, 0.9421, 0.9466, 0.9502, 0.9169] , marker = \"*\" , color = \"green\")\n",
    "catx = [0.05, 0.10, 0.15, 0.20, 0.25, 0.30, 0.35, 0.40, 0.45, 0.50, 0.55, 0.60, 0.65, 0.70, 0.75, 0.80, 0.85, 0.90, 0.95, 1.00]\n",
    "catr2 = [0.8354,0.8666,0.9033,0.8784,0.9001,0.8773,0.8902,0.9336,0.9097,0.9270,0.9403,0.9503,0.9349,0.9238,0.9083,0.9116,0.9447,0.9322,0.9405,0.9404]\n",
    "plt.scatter([x* 100 for x in catx] , catr2, marker = \"*\", color = \"black\")\n",
    "plt.ylim(0.5,1)\n",
    "# 25 % Initial Test MSE: 0.24229746295191884, R2: 0.8516043708914969\n",
    "# 35 % Initial Test MSE: 0.11843110378372088, R2: 0.9274666026714148\n",
    "# 40 % Initial Test MSE: 0.11655841181037568, R2: 0.9286135371053348\n",
    "# 50%  Initial Test MSE: 0.09955010659747054, R2: 0.9390303120950066\n",
    "# 75 % Initial Test MSE: 0.0953816269835651, R2: 0.9415833068610072\n",
    "# 100% Initial Test MSE: 0.08467340609458346, R2: 0.9481415809596864\n"
   ]
  },
  {
   "cell_type": "code",
   "execution_count": 89,
   "metadata": {},
   "outputs": [
    {
     "data": {
      "text/plain": [
       "(0.8, 1.0)"
      ]
     },
     "execution_count": 89,
     "metadata": {},
     "output_type": "execute_result"
    },
    {
     "data": {
      "image/png": "[encoded data removed]",
      "text/plain": [
       "<Figure size 640x480 with 1 Axes>"
      ]
     },
     "metadata": {},
     "output_type": "display_data"
    }
   ],
   "source": [
    "import matplotlib.pyplot as plt\n",
    "plt.plot([ (10* x + int(len(X_train) * 0.05)) * 100/ len(X_train) for x in range(0,101)], [ x[1] for x in  first_log], color = \"blue\" )\n",
    "# plt.plot([5*x for x in range(1, 21)], [ x[1] for x in  log] )\n",
    "# plt.plot(np.arange(0, 101), [ x[1] for x in  second_performance_log] )\n",
    "plt.plot([ (10* x + int(len(X_train) * 0.05)) * 100/ len(X_train) for x in range(0,101)], [ x[1] for x in  second_log] , color = \"red\" )\n",
    "plt.plot([ (10* x + int(len(X_train) * 0.05)) * 100/ len(X_train) for x in range(1,101)], [ x[1] for x in  third_log] , color = \"green\" )\n",
    "# plt.axhline(0.94)\n",
    "# plt.scatter([ 35, 40, 50, 75, 100],[0.9274666026714148,0.9286135371053348,0.9390303120950066,0.9415833068610072,0.9481415809596864], color = \"red\" , marker = \"*\" )\n",
    "plt.scatter(train_fractions*100,  [0.8892, 0.9293, 0.7709, 0.9095, 0.8927, 0.9245, 0.9222, 0.9459, 0.9404, 0.9258, 0.9476, 0.9421, 0.9466, 0.9502, 0.9169] , marker = \"*\" , color = \"green\")\n",
    "catx = [0.05, 0.10, 0.15, 0.20, 0.25, 0.30, 0.35, 0.40, 0.45, 0.50, 0.55, 0.60, 0.65, 0.70, 0.75, 0.80, 0.85, 0.90, 0.95, 1.00]\n",
    "catr2 = [0.8354,0.8666,0.9033,0.8784,0.9001,0.8773,0.8902,0.9336,0.9097,0.9270,0.9403,0.9503,0.9349,0.9238,0.9083,0.9116,0.9447,0.9322,0.9405,0.9404]\n",
    "plt.scatter([x* 100 for x in catx] , catr2, marker = \"*\", color = \"black\")\n",
    "plt.ylim(0.8,1)\n",
    "# 25 % Initial Test MSE: 0.24229746295191884, R2: 0.8516043708914969\n",
    "# 35 % Initial Test MSE: 0.11843110378372088, R2: 0.9274666026714148\n",
    "# 40 % Initial Test MSE: 0.11655841181037568, R2: 0.9286135371053348\n",
    "# 50%  Initial Test MSE: 0.09955010659747054, R2: 0.9390303120950066\n",
    "# 75 % Initial Test MSE: 0.0953816269835651, R2: 0.9415833068610072\n",
    "# 100% Initial Test MSE: 0.08467340609458346, R2: 0.9481415809596864\n"
   ]
  },
  {
   "cell_type": "code",
   "execution_count": 81,
   "metadata": {},
   "outputs": [
    {
     "data": {
      "text/plain": [
       "[(0.1356917597722783, 0.9168952748785368)]"
      ]
     },
     "execution_count": 81,
     "metadata": {},
     "output_type": "execute_result"
    }
   ],
   "source": [
    "fourth_log"
   ]
  },
  {
   "cell_type": "markdown",
   "metadata": {},
   "source": [
    "* 확대"
   ]
  },
  {
   "cell_type": "code",
   "execution_count": 44,
   "metadata": {},
   "outputs": [
    {
     "data": {
      "text/plain": [
       "(0.8, 1.0)"
      ]
     },
     "execution_count": 44,
     "metadata": {},
     "output_type": "execute_result"
    },
    {
     "data": {
      "image/png": "[encoded data removed]",
      "text/plain": [
       "<Figure size 640x480 with 1 Axes>"
      ]
     },
     "metadata": {},
     "output_type": "display_data"
    }
   ],
   "source": [
    "plt.plot([ (10* x + int(len(X_train) * 0.05)) * 100/ len(X_train) for x in range(0,101)], [ x[1] for x in  first_log], color = \"blue\" )\n",
    "# plt.plot([5*x for x in range(1, 21)], [ x[1] for x in  log] )\n",
    "# plt.plot(np.arange(0, 101), [ x[1] for x in  second_performance_log] )\n",
    "plt.plot([ (10* x + int(len(X_train) * 0.05)) * 100/ len(X_train) for x in range(0,101)], [ x[1] for x in  second_log] , color = \"red\" )\n",
    "# plt.axhline(0.94)\n",
    "# plt.scatter([ 35, 40, 50, 75, 100],[0.9274666026714148,0.9286135371053348,0.9390303120950066,0.9415833068610072,0.9481415809596864], color = \"red\" , marker = \"*\" )\n",
    "\n",
    "plt.axhline(y  =max( [ x[1] for x in  first_log]) - 0.002, color = 'green')\n",
    "# 25 % Initial Test MSE: 0.24229746295191884, R2: 0.8516043708914969\n",
    "# 35 % Initial Test MSE: 0.11843110378372088, R2: 0.9274666026714148\n",
    "# 40 % Initial Test MSE: 0.11655841181037568, R2: 0.9286135371053348\n",
    "# 50%  Initial Test MSE: 0.09955010659747054, R2: 0.9390303120950066\n",
    "# 75 % Initial Test MSE: 0.0953816269835651, R2: 0.9415833068610072\n",
    "# 100% Initial Test MSE: 0.08467340609458346, R2: 0.9481415809596864\n",
    "plt.ylim(0.80, 1)"
   ]
  }
 ],
 "metadata": {
  "kernelspec": {
   "display_name": "python39",
   "language": "python",
   "name": "python3"
  },
  "language_info": {
   "codemirror_mode": {
    "name": "ipython",
    "version": 3
   },
   "file_extension": ".py",
   "mimetype": "text/x-python",
   "name": "python",
   "nbconvert_exporter": "python",
   "pygments_lexer": "ipython3",
   "version": "3.9.19"
  }
 },
 "nbformat": 4,
 "nbformat_minor": 2
}
