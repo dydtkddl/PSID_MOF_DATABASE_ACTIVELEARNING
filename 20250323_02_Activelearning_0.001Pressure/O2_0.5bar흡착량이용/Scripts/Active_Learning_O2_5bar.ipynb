{
 "cells": [
  {
   "cell_type": "code",
   "execution_count": 1,
   "metadata": {},
   "outputs": [],
   "source": [
    "import pandas as pd \n",
    "import numpy as np \n",
    "import os \n",
    "import matplotlib.pyplot as plt "
   ]
  },
  {
   "cell_type": "markdown",
   "metadata": {},
   "source": [
    "## 데이터 불러오기"
   ]
  },
  {
   "cell_type": "code",
   "execution_count": 12,
   "metadata": {},
   "outputs": [
    {
     "name": "stdout",
     "output_type": "stream",
     "text": [
      "CoREMOF_O2_15.0_5760.csv\n"
     ]
    },
    {
     "data": {
      "text/plain": [
       "Index(['Adsorbent', 'LCD', 'PLD', 'LFPD', 'cm3_g', 'ASA_m2_cm3', 'ASA_m2_g',\n",
       "       'NASA_m2_cm3', 'NASA_m2_g', 'AV_VF', 'AV_cm3_g', 'NAV_cm3_g', 'Has_OMS',\n",
       "       '0.5bar_GCMC', 'Uptake'],\n",
       "      dtype='object')"
      ]
     },
     "execution_count": 12,
     "metadata": {},
     "output_type": "execute_result"
    }
   ],
   "source": [
    "DATA_PATH =  \"../[01]Data/\"\n",
    "datas = os.listdir(DATA_PATH)\n",
    "print('CoREMOF_O2_15.0_5760.csv')\n",
    "O2_15bar = pd.read_csv(os.path.join(DATA_PATH , 'CoREMOF_O2_15.0_5760.csv')).reset_index(drop = True).drop(\"Unnamed: 0\", axis = 1)\n",
    "O2_15bar  = O2_15bar[['Adsorbent', 'LCD', 'PLD', 'LFPD', 'cm3_g', 'ASA_m2_cm3', 'ASA_m2_g',\n",
    "       'NASA_m2_cm3', 'NASA_m2_g', 'AV_VF', 'AV_cm3_g', 'NAV_cm3_g', 'Has_OMS',\n",
    "       '0.5bar_GCMC',  'Uptake']]"
   ]
  },
  {
   "cell_type": "markdown",
   "metadata": {},
   "source": [
    "## 액티브 러닝 몬테카를로 드랍아웃\n",
    "* 10개씩 추가 샘플링해가며 5%부터 학습"
   ]
  },
  {
   "cell_type": "code",
   "execution_count": 1,
   "metadata": {},
   "outputs": [
    {
     "name": "stdout",
     "output_type": "stream",
     "text": [
      "Initial Test MSE: 0.7675613114165386, R2: -1.0117491505755507\n"
     ]
    },
    {
     "name": "stderr",
     "output_type": "stream",
     "text": [
      "c:\\Users\\PSID_PC_20\\anaconda3\\envs\\python39\\lib\\site-packages\\sklearn\\base.py:493: UserWarning: X does not have valid feature names, but StandardScaler was fitted with feature names\n",
      "  warnings.warn(\n"
     ]
    },
    {
     "name": "stdout",
     "output_type": "stream",
     "text": [
      "Iteration 1/100 - Test MSE: 0.04387403264199411, R2: 0.8850078207603185\n"
     ]
    },
    {
     "name": "stderr",
     "output_type": "stream",
     "text": [
      "c:\\Users\\PSID_PC_20\\anaconda3\\envs\\python39\\lib\\site-packages\\sklearn\\base.py:493: UserWarning: X does not have valid feature names, but StandardScaler was fitted with feature names\n",
      "  warnings.warn(\n"
     ]
    },
    {
     "name": "stdout",
     "output_type": "stream",
     "text": [
      "Iteration 2/100 - Test MSE: 0.04124408230369656, R2: 0.891900821072387\n"
     ]
    },
    {
     "name": "stderr",
     "output_type": "stream",
     "text": [
      "c:\\Users\\PSID_PC_20\\anaconda3\\envs\\python39\\lib\\site-packages\\sklearn\\base.py:493: UserWarning: X does not have valid feature names, but StandardScaler was fitted with feature names\n",
      "  warnings.warn(\n"
     ]
    },
    {
     "name": "stdout",
     "output_type": "stream",
     "text": [
      "Iteration 3/100 - Test MSE: 0.04119958968221144, R2: 0.8920174345495755\n"
     ]
    },
    {
     "name": "stderr",
     "output_type": "stream",
     "text": [
      "c:\\Users\\PSID_PC_20\\anaconda3\\envs\\python39\\lib\\site-packages\\sklearn\\base.py:493: UserWarning: X does not have valid feature names, but StandardScaler was fitted with feature names\n",
      "  warnings.warn(\n"
     ]
    },
    {
     "name": "stdout",
     "output_type": "stream",
     "text": [
      "Iteration 4/100 - Test MSE: 0.0314878801056319, R2: 0.9174714578317856\n"
     ]
    },
    {
     "name": "stderr",
     "output_type": "stream",
     "text": [
      "c:\\Users\\PSID_PC_20\\anaconda3\\envs\\python39\\lib\\site-packages\\sklearn\\base.py:493: UserWarning: X does not have valid feature names, but StandardScaler was fitted with feature names\n",
      "  warnings.warn(\n"
     ]
    },
    {
     "name": "stdout",
     "output_type": "stream",
     "text": [
      "Iteration 5/100 - Test MSE: 0.027384086559927894, R2: 0.928227345416155\n"
     ]
    },
    {
     "name": "stderr",
     "output_type": "stream",
     "text": [
      "c:\\Users\\PSID_PC_20\\anaconda3\\envs\\python39\\lib\\site-packages\\sklearn\\base.py:493: UserWarning: X does not have valid feature names, but StandardScaler was fitted with feature names\n",
      "  warnings.warn(\n"
     ]
    },
    {
     "name": "stdout",
     "output_type": "stream",
     "text": [
      "Iteration 6/100 - Test MSE: 0.026120159862385542, R2: 0.9315400494599245\n"
     ]
    },
    {
     "name": "stderr",
     "output_type": "stream",
     "text": [
      "c:\\Users\\PSID_PC_20\\anaconda3\\envs\\python39\\lib\\site-packages\\sklearn\\base.py:493: UserWarning: X does not have valid feature names, but StandardScaler was fitted with feature names\n",
      "  warnings.warn(\n"
     ]
    },
    {
     "name": "stdout",
     "output_type": "stream",
     "text": [
      "Iteration 7/100 - Test MSE: 0.026094516215504224, R2: 0.9316072604879738\n"
     ]
    },
    {
     "name": "stderr",
     "output_type": "stream",
     "text": [
      "c:\\Users\\PSID_PC_20\\anaconda3\\envs\\python39\\lib\\site-packages\\sklearn\\base.py:493: UserWarning: X does not have valid feature names, but StandardScaler was fitted with feature names\n",
      "  warnings.warn(\n"
     ]
    },
    {
     "name": "stdout",
     "output_type": "stream",
     "text": [
      "Iteration 8/100 - Test MSE: 0.022758118987043333, R2: 0.9403518313652524\n"
     ]
    },
    {
     "name": "stderr",
     "output_type": "stream",
     "text": [
      "c:\\Users\\PSID_PC_20\\anaconda3\\envs\\python39\\lib\\site-packages\\sklearn\\base.py:493: UserWarning: X does not have valid feature names, but StandardScaler was fitted with feature names\n",
      "  warnings.warn(\n"
     ]
    },
    {
     "name": "stdout",
     "output_type": "stream",
     "text": [
      "Iteration 9/100 - Test MSE: 0.02439892535505544, R2: 0.9360513399673528\n"
     ]
    },
    {
     "name": "stderr",
     "output_type": "stream",
     "text": [
      "c:\\Users\\PSID_PC_20\\anaconda3\\envs\\python39\\lib\\site-packages\\sklearn\\base.py:493: UserWarning: X does not have valid feature names, but StandardScaler was fitted with feature names\n",
      "  warnings.warn(\n"
     ]
    },
    {
     "name": "stdout",
     "output_type": "stream",
     "text": [
      "Iteration 10/100 - Test MSE: 0.021756604304222882, R2: 0.9429767634488336\n"
     ]
    },
    {
     "name": "stderr",
     "output_type": "stream",
     "text": [
      "c:\\Users\\PSID_PC_20\\anaconda3\\envs\\python39\\lib\\site-packages\\sklearn\\base.py:493: UserWarning: X does not have valid feature names, but StandardScaler was fitted with feature names\n",
      "  warnings.warn(\n"
     ]
    },
    {
     "name": "stdout",
     "output_type": "stream",
     "text": [
      "Iteration 11/100 - Test MSE: 0.01990147693498177, R2: 0.9478389820804538\n"
     ]
    },
    {
     "name": "stderr",
     "output_type": "stream",
     "text": [
      "c:\\Users\\PSID_PC_20\\anaconda3\\envs\\python39\\lib\\site-packages\\sklearn\\base.py:493: UserWarning: X does not have valid feature names, but StandardScaler was fitted with feature names\n",
      "  warnings.warn(\n"
     ]
    },
    {
     "name": "stdout",
     "output_type": "stream",
     "text": [
      "Iteration 12/100 - Test MSE: 0.020589075984465723, R2: 0.9460368109924099\n"
     ]
    },
    {
     "name": "stderr",
     "output_type": "stream",
     "text": [
      "c:\\Users\\PSID_PC_20\\anaconda3\\envs\\python39\\lib\\site-packages\\sklearn\\base.py:493: UserWarning: X does not have valid feature names, but StandardScaler was fitted with feature names\n",
      "  warnings.warn(\n"
     ]
    },
    {
     "name": "stdout",
     "output_type": "stream",
     "text": [
      "Iteration 13/100 - Test MSE: 0.020338318065655638, R2: 0.9466940380082366\n"
     ]
    },
    {
     "name": "stderr",
     "output_type": "stream",
     "text": [
      "c:\\Users\\PSID_PC_20\\anaconda3\\envs\\python39\\lib\\site-packages\\sklearn\\base.py:493: UserWarning: X does not have valid feature names, but StandardScaler was fitted with feature names\n",
      "  warnings.warn(\n"
     ]
    },
    {
     "name": "stdout",
     "output_type": "stream",
     "text": [
      "Iteration 14/100 - Test MSE: 0.0206438703051031, R2: 0.9458931971515883\n"
     ]
    },
    {
     "name": "stderr",
     "output_type": "stream",
     "text": [
      "c:\\Users\\PSID_PC_20\\anaconda3\\envs\\python39\\lib\\site-packages\\sklearn\\base.py:493: UserWarning: X does not have valid feature names, but StandardScaler was fitted with feature names\n",
      "  warnings.warn(\n"
     ]
    },
    {
     "name": "stdout",
     "output_type": "stream",
     "text": [
      "Iteration 15/100 - Test MSE: 0.019539890810578678, R2: 0.9487866856290932\n"
     ]
    },
    {
     "name": "stderr",
     "output_type": "stream",
     "text": [
      "c:\\Users\\PSID_PC_20\\anaconda3\\envs\\python39\\lib\\site-packages\\sklearn\\base.py:493: UserWarning: X does not have valid feature names, but StandardScaler was fitted with feature names\n",
      "  warnings.warn(\n"
     ]
    },
    {
     "name": "stdout",
     "output_type": "stream",
     "text": [
      "Iteration 16/100 - Test MSE: 0.02234346321349212, R2: 0.9414386284560065\n"
     ]
    },
    {
     "name": "stderr",
     "output_type": "stream",
     "text": [
      "c:\\Users\\PSID_PC_20\\anaconda3\\envs\\python39\\lib\\site-packages\\sklearn\\base.py:493: UserWarning: X does not have valid feature names, but StandardScaler was fitted with feature names\n",
      "  warnings.warn(\n"
     ]
    },
    {
     "name": "stdout",
     "output_type": "stream",
     "text": [
      "Iteration 17/100 - Test MSE: 0.02132294638784091, R2: 0.9441133644368535\n"
     ]
    },
    {
     "name": "stderr",
     "output_type": "stream",
     "text": [
      "c:\\Users\\PSID_PC_20\\anaconda3\\envs\\python39\\lib\\site-packages\\sklearn\\base.py:493: UserWarning: X does not have valid feature names, but StandardScaler was fitted with feature names\n",
      "  warnings.warn(\n"
     ]
    },
    {
     "name": "stdout",
     "output_type": "stream",
     "text": [
      "Iteration 18/100 - Test MSE: 0.021150350832271, R2: 0.944565730856508\n"
     ]
    },
    {
     "name": "stderr",
     "output_type": "stream",
     "text": [
      "c:\\Users\\PSID_PC_20\\anaconda3\\envs\\python39\\lib\\site-packages\\sklearn\\base.py:493: UserWarning: X does not have valid feature names, but StandardScaler was fitted with feature names\n",
      "  warnings.warn(\n"
     ]
    },
    {
     "name": "stdout",
     "output_type": "stream",
     "text": [
      "Iteration 19/100 - Test MSE: 0.02231049198287406, R2: 0.9415250448037337\n"
     ]
    },
    {
     "name": "stderr",
     "output_type": "stream",
     "text": [
      "c:\\Users\\PSID_PC_20\\anaconda3\\envs\\python39\\lib\\site-packages\\sklearn\\base.py:493: UserWarning: X does not have valid feature names, but StandardScaler was fitted with feature names\n",
      "  warnings.warn(\n"
     ]
    },
    {
     "name": "stdout",
     "output_type": "stream",
     "text": [
      "Iteration 20/100 - Test MSE: 0.02175306709061199, R2: 0.9429860343518498\n"
     ]
    },
    {
     "name": "stderr",
     "output_type": "stream",
     "text": [
      "c:\\Users\\PSID_PC_20\\anaconda3\\envs\\python39\\lib\\site-packages\\sklearn\\base.py:493: UserWarning: X does not have valid feature names, but StandardScaler was fitted with feature names\n",
      "  warnings.warn(\n"
     ]
    },
    {
     "name": "stdout",
     "output_type": "stream",
     "text": [
      "Iteration 21/100 - Test MSE: 0.020346468263723168, R2: 0.9466726766475276\n"
     ]
    },
    {
     "name": "stderr",
     "output_type": "stream",
     "text": [
      "c:\\Users\\PSID_PC_20\\anaconda3\\envs\\python39\\lib\\site-packages\\sklearn\\base.py:493: UserWarning: X does not have valid feature names, but StandardScaler was fitted with feature names\n",
      "  warnings.warn(\n"
     ]
    },
    {
     "name": "stdout",
     "output_type": "stream",
     "text": [
      "Iteration 22/100 - Test MSE: 0.021377995639602937, R2: 0.9439690824312014\n"
     ]
    },
    {
     "name": "stderr",
     "output_type": "stream",
     "text": [
      "c:\\Users\\PSID_PC_20\\anaconda3\\envs\\python39\\lib\\site-packages\\sklearn\\base.py:493: UserWarning: X does not have valid feature names, but StandardScaler was fitted with feature names\n",
      "  warnings.warn(\n"
     ]
    },
    {
     "name": "stdout",
     "output_type": "stream",
     "text": [
      "Iteration 23/100 - Test MSE: 0.02130103052321575, R2: 0.9441708050886789\n"
     ]
    },
    {
     "name": "stderr",
     "output_type": "stream",
     "text": [
      "c:\\Users\\PSID_PC_20\\anaconda3\\envs\\python39\\lib\\site-packages\\sklearn\\base.py:493: UserWarning: X does not have valid feature names, but StandardScaler was fitted with feature names\n",
      "  warnings.warn(\n"
     ]
    },
    {
     "name": "stdout",
     "output_type": "stream",
     "text": [
      "Iteration 24/100 - Test MSE: 0.022809202086013093, R2: 0.9402179444959786\n"
     ]
    },
    {
     "name": "stderr",
     "output_type": "stream",
     "text": [
      "c:\\Users\\PSID_PC_20\\anaconda3\\envs\\python39\\lib\\site-packages\\sklearn\\base.py:493: UserWarning: X does not have valid feature names, but StandardScaler was fitted with feature names\n",
      "  warnings.warn(\n"
     ]
    },
    {
     "name": "stdout",
     "output_type": "stream",
     "text": [
      "Iteration 25/100 - Test MSE: 0.02356801517141847, R2: 0.9382291241147213\n"
     ]
    },
    {
     "name": "stderr",
     "output_type": "stream",
     "text": [
      "c:\\Users\\PSID_PC_20\\anaconda3\\envs\\python39\\lib\\site-packages\\sklearn\\base.py:493: UserWarning: X does not have valid feature names, but StandardScaler was fitted with feature names\n",
      "  warnings.warn(\n"
     ]
    },
    {
     "name": "stdout",
     "output_type": "stream",
     "text": [
      "Iteration 26/100 - Test MSE: 0.02013880028427931, R2: 0.9472169665629181\n"
     ]
    },
    {
     "name": "stderr",
     "output_type": "stream",
     "text": [
      "c:\\Users\\PSID_PC_20\\anaconda3\\envs\\python39\\lib\\site-packages\\sklearn\\base.py:493: UserWarning: X does not have valid feature names, but StandardScaler was fitted with feature names\n",
      "  warnings.warn(\n"
     ]
    },
    {
     "name": "stdout",
     "output_type": "stream",
     "text": [
      "Iteration 27/100 - Test MSE: 0.019768224649185387, R2: 0.9481882312788903\n"
     ]
    },
    {
     "name": "stderr",
     "output_type": "stream",
     "text": [
      "c:\\Users\\PSID_PC_20\\anaconda3\\envs\\python39\\lib\\site-packages\\sklearn\\base.py:493: UserWarning: X does not have valid feature names, but StandardScaler was fitted with feature names\n",
      "  warnings.warn(\n"
     ]
    },
    {
     "name": "stdout",
     "output_type": "stream",
     "text": [
      "Iteration 28/100 - Test MSE: 0.021917497821742633, R2: 0.942555067628071\n"
     ]
    },
    {
     "name": "stderr",
     "output_type": "stream",
     "text": [
      "c:\\Users\\PSID_PC_20\\anaconda3\\envs\\python39\\lib\\site-packages\\sklearn\\base.py:493: UserWarning: X does not have valid feature names, but StandardScaler was fitted with feature names\n",
      "  warnings.warn(\n"
     ]
    },
    {
     "name": "stdout",
     "output_type": "stream",
     "text": [
      "Iteration 29/100 - Test MSE: 0.019620472450928256, R2: 0.9485754841991696\n"
     ]
    },
    {
     "name": "stderr",
     "output_type": "stream",
     "text": [
      "c:\\Users\\PSID_PC_20\\anaconda3\\envs\\python39\\lib\\site-packages\\sklearn\\base.py:493: UserWarning: X does not have valid feature names, but StandardScaler was fitted with feature names\n",
      "  warnings.warn(\n"
     ]
    },
    {
     "name": "stdout",
     "output_type": "stream",
     "text": [
      "Iteration 30/100 - Test MSE: 0.021276345747655738, R2: 0.9442355029512813\n"
     ]
    },
    {
     "name": "stderr",
     "output_type": "stream",
     "text": [
      "c:\\Users\\PSID_PC_20\\anaconda3\\envs\\python39\\lib\\site-packages\\sklearn\\base.py:493: UserWarning: X does not have valid feature names, but StandardScaler was fitted with feature names\n",
      "  warnings.warn(\n"
     ]
    },
    {
     "name": "stdout",
     "output_type": "stream",
     "text": [
      "Iteration 31/100 - Test MSE: 0.02082078525391218, R2: 0.9454295097657116\n"
     ]
    },
    {
     "name": "stderr",
     "output_type": "stream",
     "text": [
      "c:\\Users\\PSID_PC_20\\anaconda3\\envs\\python39\\lib\\site-packages\\sklearn\\base.py:493: UserWarning: X does not have valid feature names, but StandardScaler was fitted with feature names\n",
      "  warnings.warn(\n"
     ]
    },
    {
     "name": "stdout",
     "output_type": "stream",
     "text": [
      "Iteration 32/100 - Test MSE: 0.0195883548131102, R2: 0.9486596633124703\n"
     ]
    },
    {
     "name": "stderr",
     "output_type": "stream",
     "text": [
      "c:\\Users\\PSID_PC_20\\anaconda3\\envs\\python39\\lib\\site-packages\\sklearn\\base.py:493: UserWarning: X does not have valid feature names, but StandardScaler was fitted with feature names\n",
      "  warnings.warn(\n"
     ]
    },
    {
     "name": "stdout",
     "output_type": "stream",
     "text": [
      "Iteration 33/100 - Test MSE: 0.01983417038834827, R2: 0.9480153899921139\n"
     ]
    },
    {
     "name": "stderr",
     "output_type": "stream",
     "text": [
      "c:\\Users\\PSID_PC_20\\anaconda3\\envs\\python39\\lib\\site-packages\\sklearn\\base.py:493: UserWarning: X does not have valid feature names, but StandardScaler was fitted with feature names\n",
      "  warnings.warn(\n"
     ]
    },
    {
     "name": "stdout",
     "output_type": "stream",
     "text": [
      "Iteration 34/100 - Test MSE: 0.020197564521870888, R2: 0.9470629477199922\n"
     ]
    },
    {
     "name": "stderr",
     "output_type": "stream",
     "text": [
      "c:\\Users\\PSID_PC_20\\anaconda3\\envs\\python39\\lib\\site-packages\\sklearn\\base.py:493: UserWarning: X does not have valid feature names, but StandardScaler was fitted with feature names\n",
      "  warnings.warn(\n"
     ]
    },
    {
     "name": "stdout",
     "output_type": "stream",
     "text": [
      "Iteration 35/100 - Test MSE: 0.01868068493634406, R2: 0.9510386317107308\n"
     ]
    },
    {
     "name": "stderr",
     "output_type": "stream",
     "text": [
      "c:\\Users\\PSID_PC_20\\anaconda3\\envs\\python39\\lib\\site-packages\\sklearn\\base.py:493: UserWarning: X does not have valid feature names, but StandardScaler was fitted with feature names\n",
      "  warnings.warn(\n"
     ]
    },
    {
     "name": "stdout",
     "output_type": "stream",
     "text": [
      "Iteration 36/100 - Test MSE: 0.019230270240523133, R2: 0.9495981894263084\n"
     ]
    },
    {
     "name": "stderr",
     "output_type": "stream",
     "text": [
      "c:\\Users\\PSID_PC_20\\anaconda3\\envs\\python39\\lib\\site-packages\\sklearn\\base.py:493: UserWarning: X does not have valid feature names, but StandardScaler was fitted with feature names\n",
      "  warnings.warn(\n"
     ]
    },
    {
     "name": "stdout",
     "output_type": "stream",
     "text": [
      "Iteration 37/100 - Test MSE: 0.019657431845636883, R2: 0.9484786150242842\n"
     ]
    },
    {
     "name": "stderr",
     "output_type": "stream",
     "text": [
      "c:\\Users\\PSID_PC_20\\anaconda3\\envs\\python39\\lib\\site-packages\\sklearn\\base.py:493: UserWarning: X does not have valid feature names, but StandardScaler was fitted with feature names\n",
      "  warnings.warn(\n"
     ]
    },
    {
     "name": "stdout",
     "output_type": "stream",
     "text": [
      "Iteration 38/100 - Test MSE: 0.021387264372027735, R2: 0.9439447894342705\n"
     ]
    },
    {
     "name": "stderr",
     "output_type": "stream",
     "text": [
      "c:\\Users\\PSID_PC_20\\anaconda3\\envs\\python39\\lib\\site-packages\\sklearn\\base.py:493: UserWarning: X does not have valid feature names, but StandardScaler was fitted with feature names\n",
      "  warnings.warn(\n"
     ]
    },
    {
     "name": "stdout",
     "output_type": "stream",
     "text": [
      "Iteration 39/100 - Test MSE: 0.018349760467776338, R2: 0.9519059722197477\n"
     ]
    },
    {
     "name": "stderr",
     "output_type": "stream",
     "text": [
      "c:\\Users\\PSID_PC_20\\anaconda3\\envs\\python39\\lib\\site-packages\\sklearn\\base.py:493: UserWarning: X does not have valid feature names, but StandardScaler was fitted with feature names\n",
      "  warnings.warn(\n"
     ]
    },
    {
     "name": "stdout",
     "output_type": "stream",
     "text": [
      "Iteration 40/100 - Test MSE: 0.018103507145743186, R2: 0.9525513928578885\n"
     ]
    },
    {
     "name": "stderr",
     "output_type": "stream",
     "text": [
      "c:\\Users\\PSID_PC_20\\anaconda3\\envs\\python39\\lib\\site-packages\\sklearn\\base.py:493: UserWarning: X does not have valid feature names, but StandardScaler was fitted with feature names\n",
      "  warnings.warn(\n"
     ]
    },
    {
     "name": "stdout",
     "output_type": "stream",
     "text": [
      "Iteration 41/100 - Test MSE: 0.01926126308587949, R2: 0.9495169583514845\n"
     ]
    },
    {
     "name": "stderr",
     "output_type": "stream",
     "text": [
      "c:\\Users\\PSID_PC_20\\anaconda3\\envs\\python39\\lib\\site-packages\\sklearn\\base.py:493: UserWarning: X does not have valid feature names, but StandardScaler was fitted with feature names\n",
      "  warnings.warn(\n"
     ]
    },
    {
     "name": "stdout",
     "output_type": "stream",
     "text": [
      "Iteration 42/100 - Test MSE: 0.01957193177459792, R2: 0.9487027074749177\n"
     ]
    },
    {
     "name": "stderr",
     "output_type": "stream",
     "text": [
      "c:\\Users\\PSID_PC_20\\anaconda3\\envs\\python39\\lib\\site-packages\\sklearn\\base.py:493: UserWarning: X does not have valid feature names, but StandardScaler was fitted with feature names\n",
      "  warnings.warn(\n"
     ]
    },
    {
     "name": "stdout",
     "output_type": "stream",
     "text": [
      "Iteration 43/100 - Test MSE: 0.01782613112366929, R2: 0.9532783849150668\n"
     ]
    },
    {
     "name": "stderr",
     "output_type": "stream",
     "text": [
      "c:\\Users\\PSID_PC_20\\anaconda3\\envs\\python39\\lib\\site-packages\\sklearn\\base.py:493: UserWarning: X does not have valid feature names, but StandardScaler was fitted with feature names\n",
      "  warnings.warn(\n"
     ]
    },
    {
     "name": "stdout",
     "output_type": "stream",
     "text": [
      "Iteration 44/100 - Test MSE: 0.017971690259804492, R2: 0.9528968799276175\n"
     ]
    },
    {
     "name": "stderr",
     "output_type": "stream",
     "text": [
      "c:\\Users\\PSID_PC_20\\anaconda3\\envs\\python39\\lib\\site-packages\\sklearn\\base.py:493: UserWarning: X does not have valid feature names, but StandardScaler was fitted with feature names\n",
      "  warnings.warn(\n"
     ]
    },
    {
     "name": "stdout",
     "output_type": "stream",
     "text": [
      "Iteration 45/100 - Test MSE: 0.017938735014639662, R2: 0.9529832543780767\n"
     ]
    },
    {
     "name": "stderr",
     "output_type": "stream",
     "text": [
      "c:\\Users\\PSID_PC_20\\anaconda3\\envs\\python39\\lib\\site-packages\\sklearn\\base.py:493: UserWarning: X does not have valid feature names, but StandardScaler was fitted with feature names\n",
      "  warnings.warn(\n"
     ]
    },
    {
     "name": "stdout",
     "output_type": "stream",
     "text": [
      "Iteration 46/100 - Test MSE: 0.018285984793659085, R2: 0.9520731258481608\n"
     ]
    },
    {
     "name": "stderr",
     "output_type": "stream",
     "text": [
      "c:\\Users\\PSID_PC_20\\anaconda3\\envs\\python39\\lib\\site-packages\\sklearn\\base.py:493: UserWarning: X does not have valid feature names, but StandardScaler was fitted with feature names\n",
      "  warnings.warn(\n"
     ]
    },
    {
     "name": "stdout",
     "output_type": "stream",
     "text": [
      "Iteration 47/100 - Test MSE: 0.017815748729568603, R2: 0.9533055967771061\n"
     ]
    },
    {
     "name": "stderr",
     "output_type": "stream",
     "text": [
      "c:\\Users\\PSID_PC_20\\anaconda3\\envs\\python39\\lib\\site-packages\\sklearn\\base.py:493: UserWarning: X does not have valid feature names, but StandardScaler was fitted with feature names\n",
      "  warnings.warn(\n"
     ]
    },
    {
     "name": "stdout",
     "output_type": "stream",
     "text": [
      "Iteration 48/100 - Test MSE: 0.019244916331059115, R2: 0.9495598025772622\n"
     ]
    },
    {
     "name": "stderr",
     "output_type": "stream",
     "text": [
      "c:\\Users\\PSID_PC_20\\anaconda3\\envs\\python39\\lib\\site-packages\\sklearn\\base.py:493: UserWarning: X does not have valid feature names, but StandardScaler was fitted with feature names\n",
      "  warnings.warn(\n"
     ]
    },
    {
     "name": "stdout",
     "output_type": "stream",
     "text": [
      "Iteration 49/100 - Test MSE: 0.020212896731255744, R2: 0.9470227625794078\n"
     ]
    },
    {
     "name": "stderr",
     "output_type": "stream",
     "text": [
      "c:\\Users\\PSID_PC_20\\anaconda3\\envs\\python39\\lib\\site-packages\\sklearn\\base.py:493: UserWarning: X does not have valid feature names, but StandardScaler was fitted with feature names\n",
      "  warnings.warn(\n"
     ]
    },
    {
     "name": "stdout",
     "output_type": "stream",
     "text": [
      "Iteration 50/100 - Test MSE: 0.020449054950264764, R2: 0.9464038008242667\n"
     ]
    },
    {
     "name": "stderr",
     "output_type": "stream",
     "text": [
      "c:\\Users\\PSID_PC_20\\anaconda3\\envs\\python39\\lib\\site-packages\\sklearn\\base.py:493: UserWarning: X does not have valid feature names, but StandardScaler was fitted with feature names\n",
      "  warnings.warn(\n"
     ]
    },
    {
     "name": "stdout",
     "output_type": "stream",
     "text": [
      "Iteration 51/100 - Test MSE: 0.02135306854333245, R2: 0.9440344154072159\n"
     ]
    },
    {
     "name": "stderr",
     "output_type": "stream",
     "text": [
      "c:\\Users\\PSID_PC_20\\anaconda3\\envs\\python39\\lib\\site-packages\\sklearn\\base.py:493: UserWarning: X does not have valid feature names, but StandardScaler was fitted with feature names\n",
      "  warnings.warn(\n"
     ]
    },
    {
     "name": "stdout",
     "output_type": "stream",
     "text": [
      "Iteration 52/100 - Test MSE: 0.021581215024760982, R2: 0.9434364521130869\n"
     ]
    },
    {
     "name": "stderr",
     "output_type": "stream",
     "text": [
      "c:\\Users\\PSID_PC_20\\anaconda3\\envs\\python39\\lib\\site-packages\\sklearn\\base.py:493: UserWarning: X does not have valid feature names, but StandardScaler was fitted with feature names\n",
      "  warnings.warn(\n"
     ]
    },
    {
     "name": "stdout",
     "output_type": "stream",
     "text": [
      "Iteration 53/100 - Test MSE: 0.01969041332521632, R2: 0.948392171814417\n"
     ]
    },
    {
     "name": "stderr",
     "output_type": "stream",
     "text": [
      "c:\\Users\\PSID_PC_20\\anaconda3\\envs\\python39\\lib\\site-packages\\sklearn\\base.py:493: UserWarning: X does not have valid feature names, but StandardScaler was fitted with feature names\n",
      "  warnings.warn(\n"
     ]
    },
    {
     "name": "stdout",
     "output_type": "stream",
     "text": [
      "Iteration 54/100 - Test MSE: 0.02277942018518662, R2: 0.9402960017310151\n"
     ]
    },
    {
     "name": "stderr",
     "output_type": "stream",
     "text": [
      "c:\\Users\\PSID_PC_20\\anaconda3\\envs\\python39\\lib\\site-packages\\sklearn\\base.py:493: UserWarning: X does not have valid feature names, but StandardScaler was fitted with feature names\n",
      "  warnings.warn(\n"
     ]
    },
    {
     "name": "stdout",
     "output_type": "stream",
     "text": [
      "Iteration 55/100 - Test MSE: 0.021174418339121964, R2: 0.9445026508318328\n"
     ]
    },
    {
     "name": "stderr",
     "output_type": "stream",
     "text": [
      "c:\\Users\\PSID_PC_20\\anaconda3\\envs\\python39\\lib\\site-packages\\sklearn\\base.py:493: UserWarning: X does not have valid feature names, but StandardScaler was fitted with feature names\n",
      "  warnings.warn(\n"
     ]
    },
    {
     "name": "stdout",
     "output_type": "stream",
     "text": [
      "Iteration 56/100 - Test MSE: 0.018768738395910374, R2: 0.9508078469253943\n"
     ]
    },
    {
     "name": "stderr",
     "output_type": "stream",
     "text": [
      "c:\\Users\\PSID_PC_20\\anaconda3\\envs\\python39\\lib\\site-packages\\sklearn\\base.py:493: UserWarning: X does not have valid feature names, but StandardScaler was fitted with feature names\n",
      "  warnings.warn(\n"
     ]
    },
    {
     "name": "stdout",
     "output_type": "stream",
     "text": [
      "Iteration 57/100 - Test MSE: 0.01734692983782953, R2: 0.954534353350948\n"
     ]
    },
    {
     "name": "stderr",
     "output_type": "stream",
     "text": [
      "c:\\Users\\PSID_PC_20\\anaconda3\\envs\\python39\\lib\\site-packages\\sklearn\\base.py:493: UserWarning: X does not have valid feature names, but StandardScaler was fitted with feature names\n",
      "  warnings.warn(\n"
     ]
    },
    {
     "name": "stdout",
     "output_type": "stream",
     "text": [
      "Iteration 58/100 - Test MSE: 0.020005543556371456, R2: 0.9475662274039607\n"
     ]
    },
    {
     "name": "stderr",
     "output_type": "stream",
     "text": [
      "c:\\Users\\PSID_PC_20\\anaconda3\\envs\\python39\\lib\\site-packages\\sklearn\\base.py:493: UserWarning: X does not have valid feature names, but StandardScaler was fitted with feature names\n",
      "  warnings.warn(\n"
     ]
    },
    {
     "name": "stdout",
     "output_type": "stream",
     "text": [
      "Iteration 59/100 - Test MSE: 0.018798356075999202, R2: 0.9507302201066966\n"
     ]
    },
    {
     "name": "stderr",
     "output_type": "stream",
     "text": [
      "c:\\Users\\PSID_PC_20\\anaconda3\\envs\\python39\\lib\\site-packages\\sklearn\\base.py:493: UserWarning: X does not have valid feature names, but StandardScaler was fitted with feature names\n",
      "  warnings.warn(\n"
     ]
    },
    {
     "name": "stdout",
     "output_type": "stream",
     "text": [
      "Iteration 60/100 - Test MSE: 0.01870676770503513, R2: 0.9509702697610357\n"
     ]
    },
    {
     "name": "stderr",
     "output_type": "stream",
     "text": [
      "c:\\Users\\PSID_PC_20\\anaconda3\\envs\\python39\\lib\\site-packages\\sklearn\\base.py:493: UserWarning: X does not have valid feature names, but StandardScaler was fitted with feature names\n",
      "  warnings.warn(\n"
     ]
    },
    {
     "name": "stdout",
     "output_type": "stream",
     "text": [
      "Iteration 61/100 - Test MSE: 0.017398420714522522, R2: 0.9543993977116932\n"
     ]
    },
    {
     "name": "stderr",
     "output_type": "stream",
     "text": [
      "c:\\Users\\PSID_PC_20\\anaconda3\\envs\\python39\\lib\\site-packages\\sklearn\\base.py:493: UserWarning: X does not have valid feature names, but StandardScaler was fitted with feature names\n",
      "  warnings.warn(\n"
     ]
    },
    {
     "name": "stdout",
     "output_type": "stream",
     "text": [
      "Iteration 62/100 - Test MSE: 0.020151334635867227, R2: 0.9471841145017408\n"
     ]
    },
    {
     "name": "stderr",
     "output_type": "stream",
     "text": [
      "c:\\Users\\PSID_PC_20\\anaconda3\\envs\\python39\\lib\\site-packages\\sklearn\\base.py:493: UserWarning: X does not have valid feature names, but StandardScaler was fitted with feature names\n",
      "  warnings.warn(\n"
     ]
    },
    {
     "name": "stdout",
     "output_type": "stream",
     "text": [
      "Iteration 63/100 - Test MSE: 0.01825686361881811, R2: 0.9521494513453931\n"
     ]
    },
    {
     "name": "stderr",
     "output_type": "stream",
     "text": [
      "c:\\Users\\PSID_PC_20\\anaconda3\\envs\\python39\\lib\\site-packages\\sklearn\\base.py:493: UserWarning: X does not have valid feature names, but StandardScaler was fitted with feature names\n",
      "  warnings.warn(\n"
     ]
    },
    {
     "name": "stdout",
     "output_type": "stream",
     "text": [
      "Iteration 64/100 - Test MSE: 0.018612917170293015, R2: 0.9512162484610305\n"
     ]
    },
    {
     "name": "stderr",
     "output_type": "stream",
     "text": [
      "c:\\Users\\PSID_PC_20\\anaconda3\\envs\\python39\\lib\\site-packages\\sklearn\\base.py:493: UserWarning: X does not have valid feature names, but StandardScaler was fitted with feature names\n",
      "  warnings.warn(\n"
     ]
    },
    {
     "name": "stdout",
     "output_type": "stream",
     "text": [
      "Iteration 65/100 - Test MSE: 0.01886288964762845, R2: 0.9505610800575856\n"
     ]
    },
    {
     "name": "stderr",
     "output_type": "stream",
     "text": [
      "c:\\Users\\PSID_PC_20\\anaconda3\\envs\\python39\\lib\\site-packages\\sklearn\\base.py:493: UserWarning: X does not have valid feature names, but StandardScaler was fitted with feature names\n",
      "  warnings.warn(\n"
     ]
    },
    {
     "name": "stdout",
     "output_type": "stream",
     "text": [
      "Iteration 66/100 - Test MSE: 0.017597369057291035, R2: 0.9538779616340536\n"
     ]
    },
    {
     "name": "stderr",
     "output_type": "stream",
     "text": [
      "c:\\Users\\PSID_PC_20\\anaconda3\\envs\\python39\\lib\\site-packages\\sklearn\\base.py:493: UserWarning: X does not have valid feature names, but StandardScaler was fitted with feature names\n",
      "  warnings.warn(\n"
     ]
    },
    {
     "name": "stdout",
     "output_type": "stream",
     "text": [
      "Iteration 67/100 - Test MSE: 0.018957892646480942, R2: 0.95031208079277\n"
     ]
    },
    {
     "name": "stderr",
     "output_type": "stream",
     "text": [
      "c:\\Users\\PSID_PC_20\\anaconda3\\envs\\python39\\lib\\site-packages\\sklearn\\base.py:493: UserWarning: X does not have valid feature names, but StandardScaler was fitted with feature names\n",
      "  warnings.warn(\n"
     ]
    },
    {
     "name": "stdout",
     "output_type": "stream",
     "text": [
      "Iteration 68/100 - Test MSE: 0.02027855161190301, R2: 0.9468506836217939\n"
     ]
    },
    {
     "name": "stderr",
     "output_type": "stream",
     "text": [
      "c:\\Users\\PSID_PC_20\\anaconda3\\envs\\python39\\lib\\site-packages\\sklearn\\base.py:493: UserWarning: X does not have valid feature names, but StandardScaler was fitted with feature names\n",
      "  warnings.warn(\n"
     ]
    },
    {
     "name": "stdout",
     "output_type": "stream",
     "text": [
      "Iteration 69/100 - Test MSE: 0.01918061738855286, R2: 0.949728327672321\n"
     ]
    },
    {
     "name": "stderr",
     "output_type": "stream",
     "text": [
      "c:\\Users\\PSID_PC_20\\anaconda3\\envs\\python39\\lib\\site-packages\\sklearn\\base.py:493: UserWarning: X does not have valid feature names, but StandardScaler was fitted with feature names\n",
      "  warnings.warn(\n"
     ]
    },
    {
     "name": "stdout",
     "output_type": "stream",
     "text": [
      "Iteration 70/100 - Test MSE: 0.01867678423246416, R2: 0.9510488553079866\n"
     ]
    },
    {
     "name": "stderr",
     "output_type": "stream",
     "text": [
      "c:\\Users\\PSID_PC_20\\anaconda3\\envs\\python39\\lib\\site-packages\\sklearn\\base.py:493: UserWarning: X does not have valid feature names, but StandardScaler was fitted with feature names\n",
      "  warnings.warn(\n"
     ]
    },
    {
     "name": "stdout",
     "output_type": "stream",
     "text": [
      "Iteration 71/100 - Test MSE: 0.01860163783976871, R2: 0.9512458111594935\n"
     ]
    },
    {
     "name": "stderr",
     "output_type": "stream",
     "text": [
      "c:\\Users\\PSID_PC_20\\anaconda3\\envs\\python39\\lib\\site-packages\\sklearn\\base.py:493: UserWarning: X does not have valid feature names, but StandardScaler was fitted with feature names\n",
      "  warnings.warn(\n"
     ]
    },
    {
     "name": "stdout",
     "output_type": "stream",
     "text": [
      "Iteration 72/100 - Test MSE: 0.020585407152991488, R2: 0.9460464268608652\n"
     ]
    },
    {
     "name": "stderr",
     "output_type": "stream",
     "text": [
      "c:\\Users\\PSID_PC_20\\anaconda3\\envs\\python39\\lib\\site-packages\\sklearn\\base.py:493: UserWarning: X does not have valid feature names, but StandardScaler was fitted with feature names\n",
      "  warnings.warn(\n"
     ]
    },
    {
     "name": "stdout",
     "output_type": "stream",
     "text": [
      "Iteration 73/100 - Test MSE: 0.01951430805937849, R2: 0.9488537370518667\n"
     ]
    },
    {
     "name": "stderr",
     "output_type": "stream",
     "text": [
      "c:\\Users\\PSID_PC_20\\anaconda3\\envs\\python39\\lib\\site-packages\\sklearn\\base.py:493: UserWarning: X does not have valid feature names, but StandardScaler was fitted with feature names\n",
      "  warnings.warn(\n"
     ]
    },
    {
     "name": "stdout",
     "output_type": "stream",
     "text": [
      "Iteration 74/100 - Test MSE: 0.01802443778405728, R2: 0.9527586306626634\n"
     ]
    },
    {
     "name": "stderr",
     "output_type": "stream",
     "text": [
      "c:\\Users\\PSID_PC_20\\anaconda3\\envs\\python39\\lib\\site-packages\\sklearn\\base.py:493: UserWarning: X does not have valid feature names, but StandardScaler was fitted with feature names\n",
      "  warnings.warn(\n"
     ]
    },
    {
     "name": "stdout",
     "output_type": "stream",
     "text": [
      "Iteration 75/100 - Test MSE: 0.01981012966319967, R2: 0.9480783998229607\n"
     ]
    },
    {
     "name": "stderr",
     "output_type": "stream",
     "text": [
      "c:\\Users\\PSID_PC_20\\anaconda3\\envs\\python39\\lib\\site-packages\\sklearn\\base.py:493: UserWarning: X does not have valid feature names, but StandardScaler was fitted with feature names\n",
      "  warnings.warn(\n"
     ]
    },
    {
     "name": "stdout",
     "output_type": "stream",
     "text": [
      "Iteration 76/100 - Test MSE: 0.019152742792156494, R2: 0.9498013859346238\n"
     ]
    },
    {
     "name": "stderr",
     "output_type": "stream",
     "text": [
      "c:\\Users\\PSID_PC_20\\anaconda3\\envs\\python39\\lib\\site-packages\\sklearn\\base.py:493: UserWarning: X does not have valid feature names, but StandardScaler was fitted with feature names\n",
      "  warnings.warn(\n"
     ]
    },
    {
     "name": "stdout",
     "output_type": "stream",
     "text": [
      "Iteration 77/100 - Test MSE: 0.01962025315129315, R2: 0.9485760589752142\n"
     ]
    },
    {
     "name": "stderr",
     "output_type": "stream",
     "text": [
      "c:\\Users\\PSID_PC_20\\anaconda3\\envs\\python39\\lib\\site-packages\\sklearn\\base.py:493: UserWarning: X does not have valid feature names, but StandardScaler was fitted with feature names\n",
      "  warnings.warn(\n"
     ]
    },
    {
     "name": "stdout",
     "output_type": "stream",
     "text": [
      "Iteration 78/100 - Test MSE: 0.01816604366767336, R2: 0.9523874870004648\n"
     ]
    },
    {
     "name": "stderr",
     "output_type": "stream",
     "text": [
      "c:\\Users\\PSID_PC_20\\anaconda3\\envs\\python39\\lib\\site-packages\\sklearn\\base.py:493: UserWarning: X does not have valid feature names, but StandardScaler was fitted with feature names\n",
      "  warnings.warn(\n"
     ]
    },
    {
     "name": "stdout",
     "output_type": "stream",
     "text": [
      "Iteration 79/100 - Test MSE: 0.017996388336557964, R2: 0.9528321472030903\n"
     ]
    },
    {
     "name": "stderr",
     "output_type": "stream",
     "text": [
      "c:\\Users\\PSID_PC_20\\anaconda3\\envs\\python39\\lib\\site-packages\\sklearn\\base.py:493: UserWarning: X does not have valid feature names, but StandardScaler was fitted with feature names\n",
      "  warnings.warn(\n"
     ]
    },
    {
     "name": "stdout",
     "output_type": "stream",
     "text": [
      "Iteration 80/100 - Test MSE: 0.01984043127065787, R2: 0.9479989804565095\n"
     ]
    },
    {
     "name": "stderr",
     "output_type": "stream",
     "text": [
      "c:\\Users\\PSID_PC_20\\anaconda3\\envs\\python39\\lib\\site-packages\\sklearn\\base.py:493: UserWarning: X does not have valid feature names, but StandardScaler was fitted with feature names\n",
      "  warnings.warn(\n"
     ]
    },
    {
     "name": "stdout",
     "output_type": "stream",
     "text": [
      "Iteration 81/100 - Test MSE: 0.017648280019326792, R2: 0.9537445259291698\n"
     ]
    },
    {
     "name": "stderr",
     "output_type": "stream",
     "text": [
      "c:\\Users\\PSID_PC_20\\anaconda3\\envs\\python39\\lib\\site-packages\\sklearn\\base.py:493: UserWarning: X does not have valid feature names, but StandardScaler was fitted with feature names\n",
      "  warnings.warn(\n"
     ]
    },
    {
     "name": "stdout",
     "output_type": "stream",
     "text": [
      "Iteration 82/100 - Test MSE: 0.018441471300876866, R2: 0.9516656015967834\n"
     ]
    },
    {
     "name": "stderr",
     "output_type": "stream",
     "text": [
      "c:\\Users\\PSID_PC_20\\anaconda3\\envs\\python39\\lib\\site-packages\\sklearn\\base.py:493: UserWarning: X does not have valid feature names, but StandardScaler was fitted with feature names\n",
      "  warnings.warn(\n"
     ]
    },
    {
     "name": "stdout",
     "output_type": "stream",
     "text": [
      "Iteration 83/100 - Test MSE: 0.018480048978170516, R2: 0.9515644909644829\n"
     ]
    },
    {
     "name": "stderr",
     "output_type": "stream",
     "text": [
      "c:\\Users\\PSID_PC_20\\anaconda3\\envs\\python39\\lib\\site-packages\\sklearn\\base.py:493: UserWarning: X does not have valid feature names, but StandardScaler was fitted with feature names\n",
      "  warnings.warn(\n"
     ]
    },
    {
     "name": "stdout",
     "output_type": "stream",
     "text": [
      "Iteration 84/100 - Test MSE: 0.01778857689647072, R2: 0.9533768131233982\n"
     ]
    },
    {
     "name": "stderr",
     "output_type": "stream",
     "text": [
      "c:\\Users\\PSID_PC_20\\anaconda3\\envs\\python39\\lib\\site-packages\\sklearn\\base.py:493: UserWarning: X does not have valid feature names, but StandardScaler was fitted with feature names\n",
      "  warnings.warn(\n"
     ]
    },
    {
     "name": "stdout",
     "output_type": "stream",
     "text": [
      "Iteration 85/100 - Test MSE: 0.017718989382356276, R2: 0.9535591993645077\n"
     ]
    },
    {
     "name": "stderr",
     "output_type": "stream",
     "text": [
      "c:\\Users\\PSID_PC_20\\anaconda3\\envs\\python39\\lib\\site-packages\\sklearn\\base.py:493: UserWarning: X does not have valid feature names, but StandardScaler was fitted with feature names\n",
      "  warnings.warn(\n"
     ]
    },
    {
     "name": "stdout",
     "output_type": "stream",
     "text": [
      "Iteration 86/100 - Test MSE: 0.017723344305665533, R2: 0.9535477852753166\n"
     ]
    },
    {
     "name": "stderr",
     "output_type": "stream",
     "text": [
      "c:\\Users\\PSID_PC_20\\anaconda3\\envs\\python39\\lib\\site-packages\\sklearn\\base.py:493: UserWarning: X does not have valid feature names, but StandardScaler was fitted with feature names\n",
      "  warnings.warn(\n"
     ]
    },
    {
     "name": "stdout",
     "output_type": "stream",
     "text": [
      "Iteration 87/100 - Test MSE: 0.017478329380677605, R2: 0.9541899601216661\n"
     ]
    },
    {
     "name": "stderr",
     "output_type": "stream",
     "text": [
      "c:\\Users\\PSID_PC_20\\anaconda3\\envs\\python39\\lib\\site-packages\\sklearn\\base.py:493: UserWarning: X does not have valid feature names, but StandardScaler was fitted with feature names\n",
      "  warnings.warn(\n"
     ]
    },
    {
     "name": "stdout",
     "output_type": "stream",
     "text": [
      "Iteration 88/100 - Test MSE: 0.01927579846915166, R2: 0.9494788616619874\n"
     ]
    },
    {
     "name": "stderr",
     "output_type": "stream",
     "text": [
      "c:\\Users\\PSID_PC_20\\anaconda3\\envs\\python39\\lib\\site-packages\\sklearn\\base.py:493: UserWarning: X does not have valid feature names, but StandardScaler was fitted with feature names\n",
      "  warnings.warn(\n"
     ]
    },
    {
     "name": "stdout",
     "output_type": "stream",
     "text": [
      "Iteration 89/100 - Test MSE: 0.01911300807339287, R2: 0.9499055291288314\n"
     ]
    },
    {
     "name": "stderr",
     "output_type": "stream",
     "text": [
      "c:\\Users\\PSID_PC_20\\anaconda3\\envs\\python39\\lib\\site-packages\\sklearn\\base.py:493: UserWarning: X does not have valid feature names, but StandardScaler was fitted with feature names\n",
      "  warnings.warn(\n"
     ]
    },
    {
     "name": "stdout",
     "output_type": "stream",
     "text": [
      "Iteration 90/100 - Test MSE: 0.016152971683867454, R2: 0.9576636724897973\n"
     ]
    },
    {
     "name": "stderr",
     "output_type": "stream",
     "text": [
      "c:\\Users\\PSID_PC_20\\anaconda3\\envs\\python39\\lib\\site-packages\\sklearn\\base.py:493: UserWarning: X does not have valid feature names, but StandardScaler was fitted with feature names\n",
      "  warnings.warn(\n"
     ]
    },
    {
     "name": "stdout",
     "output_type": "stream",
     "text": [
      "Iteration 91/100 - Test MSE: 0.01825745489951335, R2: 0.9521479016210666\n"
     ]
    },
    {
     "name": "stderr",
     "output_type": "stream",
     "text": [
      "c:\\Users\\PSID_PC_20\\anaconda3\\envs\\python39\\lib\\site-packages\\sklearn\\base.py:493: UserWarning: X does not have valid feature names, but StandardScaler was fitted with feature names\n",
      "  warnings.warn(\n"
     ]
    },
    {
     "name": "stdout",
     "output_type": "stream",
     "text": [
      "Iteration 92/100 - Test MSE: 0.01716242494414545, R2: 0.9550179336951176\n"
     ]
    },
    {
     "name": "stderr",
     "output_type": "stream",
     "text": [
      "c:\\Users\\PSID_PC_20\\anaconda3\\envs\\python39\\lib\\site-packages\\sklearn\\base.py:493: UserWarning: X does not have valid feature names, but StandardScaler was fitted with feature names\n",
      "  warnings.warn(\n"
     ]
    },
    {
     "name": "stdout",
     "output_type": "stream",
     "text": [
      "Iteration 93/100 - Test MSE: 0.017155043103740015, R2: 0.955037281219471\n"
     ]
    },
    {
     "name": "stderr",
     "output_type": "stream",
     "text": [
      "c:\\Users\\PSID_PC_20\\anaconda3\\envs\\python39\\lib\\site-packages\\sklearn\\base.py:493: UserWarning: X does not have valid feature names, but StandardScaler was fitted with feature names\n",
      "  warnings.warn(\n"
     ]
    },
    {
     "name": "stdout",
     "output_type": "stream",
     "text": [
      "Iteration 94/100 - Test MSE: 0.019282216602855215, R2: 0.9494620399764303\n"
     ]
    },
    {
     "name": "stderr",
     "output_type": "stream",
     "text": [
      "c:\\Users\\PSID_PC_20\\anaconda3\\envs\\python39\\lib\\site-packages\\sklearn\\base.py:493: UserWarning: X does not have valid feature names, but StandardScaler was fitted with feature names\n",
      "  warnings.warn(\n"
     ]
    },
    {
     "name": "stdout",
     "output_type": "stream",
     "text": [
      "Iteration 95/100 - Test MSE: 0.018109264457840998, R2: 0.9525363031607528\n"
     ]
    },
    {
     "name": "stderr",
     "output_type": "stream",
     "text": [
      "c:\\Users\\PSID_PC_20\\anaconda3\\envs\\python39\\lib\\site-packages\\sklearn\\base.py:493: UserWarning: X does not have valid feature names, but StandardScaler was fitted with feature names\n",
      "  warnings.warn(\n"
     ]
    },
    {
     "name": "stdout",
     "output_type": "stream",
     "text": [
      "Iteration 96/100 - Test MSE: 0.017201589250140217, R2: 0.9549152855311912\n"
     ]
    },
    {
     "name": "stderr",
     "output_type": "stream",
     "text": [
      "c:\\Users\\PSID_PC_20\\anaconda3\\envs\\python39\\lib\\site-packages\\sklearn\\base.py:493: UserWarning: X does not have valid feature names, but StandardScaler was fitted with feature names\n",
      "  warnings.warn(\n"
     ]
    },
    {
     "name": "stdout",
     "output_type": "stream",
     "text": [
      "Iteration 97/100 - Test MSE: 0.017527952929394533, R2: 0.9540598986783717\n"
     ]
    },
    {
     "name": "stderr",
     "output_type": "stream",
     "text": [
      "c:\\Users\\PSID_PC_20\\anaconda3\\envs\\python39\\lib\\site-packages\\sklearn\\base.py:493: UserWarning: X does not have valid feature names, but StandardScaler was fitted with feature names\n",
      "  warnings.warn(\n"
     ]
    },
    {
     "name": "stdout",
     "output_type": "stream",
     "text": [
      "Iteration 98/100 - Test MSE: 0.019535870036874098, R2: 0.9487972239248157\n"
     ]
    },
    {
     "name": "stderr",
     "output_type": "stream",
     "text": [
      "c:\\Users\\PSID_PC_20\\anaconda3\\envs\\python39\\lib\\site-packages\\sklearn\\base.py:493: UserWarning: X does not have valid feature names, but StandardScaler was fitted with feature names\n",
      "  warnings.warn(\n"
     ]
    },
    {
     "name": "stdout",
     "output_type": "stream",
     "text": [
      "Iteration 99/100 - Test MSE: 0.017493198201163615, R2: 0.9541509895058496\n"
     ]
    },
    {
     "name": "stderr",
     "output_type": "stream",
     "text": [
      "c:\\Users\\PSID_PC_20\\anaconda3\\envs\\python39\\lib\\site-packages\\sklearn\\base.py:493: UserWarning: X does not have valid feature names, but StandardScaler was fitted with feature names\n",
      "  warnings.warn(\n"
     ]
    },
    {
     "name": "stdout",
     "output_type": "stream",
     "text": [
      "Iteration 100/100 - Test MSE: 0.016323150338295105, R2: 0.9572176406765743\n",
      "Performance log: [(0.7675613114165386, -1.0117491505755507), (0.04387403264199411, 0.8850078207603185), (0.04124408230369656, 0.891900821072387), (0.04119958968221144, 0.8920174345495755), (0.0314878801056319, 0.9174714578317856), (0.027384086559927894, 0.928227345416155), (0.026120159862385542, 0.9315400494599245), (0.026094516215504224, 0.9316072604879738), (0.022758118987043333, 0.9403518313652524), (0.02439892535505544, 0.9360513399673528), (0.021756604304222882, 0.9429767634488336), (0.01990147693498177, 0.9478389820804538), (0.020589075984465723, 0.9460368109924099), (0.020338318065655638, 0.9466940380082366), (0.0206438703051031, 0.9458931971515883), (0.019539890810578678, 0.9487866856290932), (0.02234346321349212, 0.9414386284560065), (0.02132294638784091, 0.9441133644368535), (0.021150350832271, 0.944565730856508), (0.02231049198287406, 0.9415250448037337), (0.02175306709061199, 0.9429860343518498), (0.020346468263723168, 0.9466726766475276), (0.021377995639602937, 0.9439690824312014), (0.02130103052321575, 0.9441708050886789), (0.022809202086013093, 0.9402179444959786), (0.02356801517141847, 0.9382291241147213), (0.02013880028427931, 0.9472169665629181), (0.019768224649185387, 0.9481882312788903), (0.021917497821742633, 0.942555067628071), (0.019620472450928256, 0.9485754841991696), (0.021276345747655738, 0.9442355029512813), (0.02082078525391218, 0.9454295097657116), (0.0195883548131102, 0.9486596633124703), (0.01983417038834827, 0.9480153899921139), (0.020197564521870888, 0.9470629477199922), (0.01868068493634406, 0.9510386317107308), (0.019230270240523133, 0.9495981894263084), (0.019657431845636883, 0.9484786150242842), (0.021387264372027735, 0.9439447894342705), (0.018349760467776338, 0.9519059722197477), (0.018103507145743186, 0.9525513928578885), (0.01926126308587949, 0.9495169583514845), (0.01957193177459792, 0.9487027074749177), (0.01782613112366929, 0.9532783849150668), (0.017971690259804492, 0.9528968799276175), (0.017938735014639662, 0.9529832543780767), (0.018285984793659085, 0.9520731258481608), (0.017815748729568603, 0.9533055967771061), (0.019244916331059115, 0.9495598025772622), (0.020212896731255744, 0.9470227625794078), (0.020449054950264764, 0.9464038008242667), (0.02135306854333245, 0.9440344154072159), (0.021581215024760982, 0.9434364521130869), (0.01969041332521632, 0.948392171814417), (0.02277942018518662, 0.9402960017310151), (0.021174418339121964, 0.9445026508318328), (0.018768738395910374, 0.9508078469253943), (0.01734692983782953, 0.954534353350948), (0.020005543556371456, 0.9475662274039607), (0.018798356075999202, 0.9507302201066966), (0.01870676770503513, 0.9509702697610357), (0.017398420714522522, 0.9543993977116932), (0.020151334635867227, 0.9471841145017408), (0.01825686361881811, 0.9521494513453931), (0.018612917170293015, 0.9512162484610305), (0.01886288964762845, 0.9505610800575856), (0.017597369057291035, 0.9538779616340536), (0.018957892646480942, 0.95031208079277), (0.02027855161190301, 0.9468506836217939), (0.01918061738855286, 0.949728327672321), (0.01867678423246416, 0.9510488553079866), (0.01860163783976871, 0.9512458111594935), (0.020585407152991488, 0.9460464268608652), (0.01951430805937849, 0.9488537370518667), (0.01802443778405728, 0.9527586306626634), (0.01981012966319967, 0.9480783998229607), (0.019152742792156494, 0.9498013859346238), (0.01962025315129315, 0.9485760589752142), (0.01816604366767336, 0.9523874870004648), (0.017996388336557964, 0.9528321472030903), (0.01984043127065787, 0.9479989804565095), (0.017648280019326792, 0.9537445259291698), (0.018441471300876866, 0.9516656015967834), (0.018480048978170516, 0.9515644909644829), (0.01778857689647072, 0.9533768131233982), (0.017718989382356276, 0.9535591993645077), (0.017723344305665533, 0.9535477852753166), (0.017478329380677605, 0.9541899601216661), (0.01927579846915166, 0.9494788616619874), (0.01911300807339287, 0.9499055291288314), (0.016152971683867454, 0.9576636724897973), (0.01825745489951335, 0.9521479016210666), (0.01716242494414545, 0.9550179336951176), (0.017155043103740015, 0.955037281219471), (0.019282216602855215, 0.9494620399764303), (0.018109264457840998, 0.9525363031607528), (0.017201589250140217, 0.9549152855311912), (0.017527952929394533, 0.9540598986783717), (0.019535870036874098, 0.9487972239248157), (0.017493198201163615, 0.9541509895058496), (0.016323150338295105, 0.9572176406765743)]\n"
     ]
    }
   ],
   "source": [
    "import os\n",
    "os.environ[\"KMP_DUPLICATE_LIB_OK\"] = \"TRUE\"\n",
    "import torch\n",
    "import torch.nn as nn\n",
    "import torch.optim as optim\n",
    "from torch.utils.data import DataLoader, TensorDataset\n",
    "import numpy as np\n",
    "import pandas as pd\n",
    "from sklearn.metrics import mean_squared_error, r2_score\n",
    "from sklearn.model_selection import train_test_split\n",
    "from sklearn.preprocessing import StandardScaler\n",
    "\n",
    "# PyTorch 모델 정의\n",
    "class DropoutMLP(nn.Module):\n",
    "    def __init__(self, input_dim, hidden_dim):\n",
    "        super(DropoutMLP, self).__init__()\n",
    "        self.model = nn.Sequential(\n",
    "            nn.Linear(input_dim, hidden_dim),\n",
    "            nn.ReLU(),\n",
    "            nn.Dropout(p=0.2),  # 드롭아웃 적용\n",
    "            nn.Linear(hidden_dim, hidden_dim),\n",
    "            nn.ReLU(),\n",
    "            nn.Dropout(p=0.2),  # 드롭아웃 적용\n",
    "            nn.Linear(hidden_dim, 1)\n",
    "        )\n",
    "    \n",
    "    def forward(self, x):\n",
    "        return self.model(x)\n",
    "\n",
    "# Monte Carlo Dropout 예측 함수\n",
    "def mc_dropout_predict(model, X, n_simulations):\n",
    "    model.train()  # 드롭아웃 활성화를 위해 train 모드 유지\n",
    "    predictions = []\n",
    "    with torch.no_grad():  # 가중치 업데이트 방지\n",
    "        for _ in range(n_simulations):\n",
    "            predictions.append(model(X).detach().numpy())\n",
    "    \n",
    "    predictions = np.array(predictions)\n",
    "    mean_prediction = predictions.mean(axis=0)\n",
    "    uncertainty = predictions.std(axis=0)\n",
    "    return mean_prediction, uncertainty\n",
    "\n",
    "# 데이터 준비\n",
    "data = pd.read_csv(\"../[01]Data/CoREMOF_O2_5.0_5760.csv\").reset_index(drop=True).drop(\"Unnamed: 0\", axis=1)\n",
    "data = data[['Adsorbent', 'LCD', 'PLD', 'LFPD', 'cm3_g', 'ASA_m2_cm3', 'ASA_m2_g',\n",
    "              'AV_VF', 'AV_cm3_g',  'Has_OMS',\n",
    "             '0.5bar_GCMC', 'Uptake']]\n",
    "# 'NASA_m2_cm3', 'NASA_m2_g', 'NAV_cm3_g' 제거\n",
    "\n",
    "X = data.drop(['Adsorbent', 'Uptake'], axis=1)\n",
    "y = data['Uptake']\n",
    "\n",
    "# Train-Test Split\n",
    "X_train, X_test, y_train, y_test = train_test_split(X, y, test_size=0.2, random_state=42)\n",
    "\n",
    "\n",
    "# Train 데이터를 Initial (5%)와 Remaining (95%)으로 랜덤 분리\n",
    "initial_size = int(0.05 * len(X_train))\n",
    "indices = np.random.permutation(len(X_train))  # 데이터셋 인덱스를 랜덤으로 섞음\n",
    "initial_indices = indices[:initial_size]  # 상위 5% 인덱스 선택\n",
    "remaining_indices = indices[initial_size:]  # 나머지 인덱스 선택\n",
    "\n",
    "X_initial = X_train.iloc[initial_indices]\n",
    "y_initial = y_train.iloc[initial_indices]\n",
    "X_remaining = pd.DataFrame(X_train.iloc[remaining_indices], columns=X_train.columns)\n",
    "y_remaining = y_train.iloc[remaining_indices]\n",
    "def create_dataloader(X, y, batch_size=32, shuffle=True):\n",
    "    # y를 numpy 배열로 변환 (필요 시)\n",
    "    if isinstance(y, pd.Series):\n",
    "        y = y.to_numpy()\n",
    "    dataset = TensorDataset(torch.tensor(X, dtype=torch.float32), torch.tensor(y, dtype=torch.float32))\n",
    "    return DataLoader(dataset, batch_size=batch_size, shuffle=shuffle)\n",
    "\n",
    "input_dim = X_train.shape[1]\n",
    "hidden_dim = 64\n",
    "# StandardScaler를 초기 데이터에 대해 피팅\n",
    "scaler = StandardScaler()\n",
    "X_initial_scaled = scaler.fit_transform(X_initial)\n",
    "X_test_scaled = scaler.transform(X_test)\n",
    "\n",
    "# 남은 데이터를 그대로 둠 (추후 transform 적용)\n",
    "X_remaining = pd.DataFrame(X_train.iloc[remaining_indices], columns=X_train.columns)\n",
    "y_remaining = y_train.iloc[remaining_indices].to_numpy()\n",
    "\n",
    "# 초기 데이터 로더 생성\n",
    "train_loader = create_dataloader(X_initial_scaled, y_initial)\n",
    "test_loader = create_dataloader(X_test_scaled, y_test.to_numpy(), shuffle=False)\n",
    "\n",
    "# 모델 초기화\n",
    "model = DropoutMLP(input_dim, hidden_dim)\n",
    "criterion = nn.MSELoss()\n",
    "optimizer = optim.Adam(model.parameters(), lr=0.001)\n",
    "\n",
    "# 초기 학습\n",
    "epochs = 50\n",
    "for epoch in range(epochs):\n",
    "    model.train()\n",
    "    for X_batch, y_batch in train_loader:\n",
    "        optimizer.zero_grad()\n",
    "        predictions = model(X_batch).squeeze()\n",
    "        loss = criterion(predictions, y_batch)\n",
    "        loss.backward()\n",
    "        optimizer.step()\n",
    "\n",
    "# 액티브 러닝 설정\n",
    "iterations = 100\n",
    "samples_per_iteration = 10\n",
    "performance_log = []\n",
    "\n",
    "# 초기 성능 평가\n",
    "X_test_tensor = torch.tensor(X_test_scaled, dtype=torch.float32)\n",
    "mean_prediction, _ = mc_dropout_predict(model, X_test_tensor, n_simulations=20)\n",
    "mse = mean_squared_error(y_test, mean_prediction)\n",
    "r2 = r2_score(y_test, mean_prediction)\n",
    "performance_log.append((mse, r2))\n",
    "print(f\"Initial Test MSE: {mse}, R2: {r2}\")\n",
    "\n",
    "# 반복 학습\n",
    "for iteration in range(iterations):\n",
    "    # Monte Carlo Dropout 예측\n",
    "    _, uncertainties = mc_dropout_predict(model, torch.tensor(scaler.transform(X_remaining), dtype=torch.float32), n_simulations=20)\n",
    "    uncertainties = uncertainties.flatten()\n",
    "\n",
    "    # 가장 불확실성이 높은 샘플 선택\n",
    "    most_uncertain_indices = np.argsort(uncertainties)[-samples_per_iteration:]\n",
    "    sampled_X = X_remaining.iloc[most_uncertain_indices].values\n",
    "    sampled_y = y_remaining[most_uncertain_indices]\n",
    "\n",
    "    # 선택된 샘플 추가\n",
    "    X_initial = np.vstack([X_initial, sampled_X])\n",
    "    y_initial = np.hstack([y_initial, sampled_y])\n",
    "\n",
    "    # 남은 데이터에서 샘플 제거\n",
    "    X_remaining = X_remaining.drop(X_remaining.index[most_uncertain_indices]).reset_index(drop=True)\n",
    "    y_remaining = np.delete(y_remaining, most_uncertain_indices, axis=0)\n",
    "\n",
    "    # 새 데이터 스케일링 및 로더 생성\n",
    "    X_initial_scaled = scaler.transform(X_initial)\n",
    "    train_loader = create_dataloader(X_initial_scaled, y_initial)\n",
    "\n",
    "    # 모델 학습\n",
    "    for epoch in range(epochs):\n",
    "        model.train()\n",
    "        for X_batch, y_batch in train_loader:\n",
    "            optimizer.zero_grad()\n",
    "            predictions = model(X_batch).squeeze()\n",
    "            loss = criterion(predictions, y_batch)\n",
    "            loss.backward()\n",
    "            optimizer.step()\n",
    "\n",
    "    # Test 성능 평가\n",
    "    mean_prediction, _ = mc_dropout_predict(model, X_test_tensor, n_simulations=20)\n",
    "    mse = mean_squared_error(y_test, mean_prediction)\n",
    "    r2 = r2_score(y_test, mean_prediction)\n",
    "    performance_log.append((mse, r2))\n",
    "    print(f\"Iteration {iteration + 1}/{iterations} - Test MSE: {mse}, R2: {r2}\")\n",
    "\n",
    "# 최종 성능 기록\n",
    "print(\"Performance log:\", performance_log)\n",
    "first_log = performance_log\n"
   ]
  },
  {
   "cell_type": "markdown",
   "metadata": {},
   "source": [
    "## 랜덤하게 샘플링해서 추가"
   ]
  },
  {
   "cell_type": "code",
   "execution_count": 8,
   "metadata": {},
   "outputs": [
    {
     "name": "stdout",
     "output_type": "stream",
     "text": [
      "Initial Test MSE: 0.15232410160596968, R2: 0.6007642940569\n"
     ]
    },
    {
     "name": "stderr",
     "output_type": "stream",
     "text": [
      "c:\\Users\\PSID_PC_20\\anaconda3\\envs\\python39\\lib\\site-packages\\sklearn\\base.py:493: UserWarning: X does not have valid feature names, but StandardScaler was fitted with feature names\n",
      "  warnings.warn(\n"
     ]
    },
    {
     "name": "stdout",
     "output_type": "stream",
     "text": [
      "Iteration 1/100 - Test MSE: 0.09772985729908734, R2: 0.7438537423877349\n"
     ]
    },
    {
     "name": "stderr",
     "output_type": "stream",
     "text": [
      "c:\\Users\\PSID_PC_20\\anaconda3\\envs\\python39\\lib\\site-packages\\sklearn\\base.py:493: UserWarning: X does not have valid feature names, but StandardScaler was fitted with feature names\n",
      "  warnings.warn(\n"
     ]
    },
    {
     "name": "stdout",
     "output_type": "stream",
     "text": [
      "Iteration 2/100 - Test MSE: 0.09250271714586653, R2: 0.757553878919857\n"
     ]
    },
    {
     "name": "stderr",
     "output_type": "stream",
     "text": [
      "c:\\Users\\PSID_PC_20\\anaconda3\\envs\\python39\\lib\\site-packages\\sklearn\\base.py:493: UserWarning: X does not have valid feature names, but StandardScaler was fitted with feature names\n",
      "  warnings.warn(\n"
     ]
    },
    {
     "name": "stdout",
     "output_type": "stream",
     "text": [
      "Iteration 3/100 - Test MSE: 0.0837790810613756, R2: 0.7804181989707422\n"
     ]
    },
    {
     "name": "stderr",
     "output_type": "stream",
     "text": [
      "c:\\Users\\PSID_PC_20\\anaconda3\\envs\\python39\\lib\\site-packages\\sklearn\\base.py:493: UserWarning: X does not have valid feature names, but StandardScaler was fitted with feature names\n",
      "  warnings.warn(\n"
     ]
    },
    {
     "name": "stdout",
     "output_type": "stream",
     "text": [
      "Iteration 4/100 - Test MSE: 0.06745049330889542, R2: 0.8232148095509801\n"
     ]
    },
    {
     "name": "stderr",
     "output_type": "stream",
     "text": [
      "c:\\Users\\PSID_PC_20\\anaconda3\\envs\\python39\\lib\\site-packages\\sklearn\\base.py:493: UserWarning: X does not have valid feature names, but StandardScaler was fitted with feature names\n",
      "  warnings.warn(\n"
     ]
    },
    {
     "name": "stdout",
     "output_type": "stream",
     "text": [
      "Iteration 5/100 - Test MSE: 0.05750744156927574, R2: 0.8492751718878899\n"
     ]
    },
    {
     "name": "stderr",
     "output_type": "stream",
     "text": [
      "c:\\Users\\PSID_PC_20\\anaconda3\\envs\\python39\\lib\\site-packages\\sklearn\\base.py:493: UserWarning: X does not have valid feature names, but StandardScaler was fitted with feature names\n",
      "  warnings.warn(\n"
     ]
    },
    {
     "name": "stdout",
     "output_type": "stream",
     "text": [
      "Iteration 6/100 - Test MSE: 0.06848287666502632, R2: 0.8205089718428084\n"
     ]
    },
    {
     "name": "stderr",
     "output_type": "stream",
     "text": [
      "c:\\Users\\PSID_PC_20\\anaconda3\\envs\\python39\\lib\\site-packages\\sklearn\\base.py:493: UserWarning: X does not have valid feature names, but StandardScaler was fitted with feature names\n",
      "  warnings.warn(\n"
     ]
    },
    {
     "name": "stdout",
     "output_type": "stream",
     "text": [
      "Iteration 7/100 - Test MSE: 0.06032483170469654, R2: 0.8418908989608027\n"
     ]
    },
    {
     "name": "stderr",
     "output_type": "stream",
     "text": [
      "c:\\Users\\PSID_PC_20\\anaconda3\\envs\\python39\\lib\\site-packages\\sklearn\\base.py:493: UserWarning: X does not have valid feature names, but StandardScaler was fitted with feature names\n",
      "  warnings.warn(\n"
     ]
    },
    {
     "name": "stdout",
     "output_type": "stream",
     "text": [
      "Iteration 8/100 - Test MSE: 0.044195935879401994, R2: 0.884164124556783\n"
     ]
    },
    {
     "name": "stderr",
     "output_type": "stream",
     "text": [
      "c:\\Users\\PSID_PC_20\\anaconda3\\envs\\python39\\lib\\site-packages\\sklearn\\base.py:493: UserWarning: X does not have valid feature names, but StandardScaler was fitted with feature names\n",
      "  warnings.warn(\n"
     ]
    },
    {
     "name": "stdout",
     "output_type": "stream",
     "text": [
      "Iteration 9/100 - Test MSE: 0.06341415430912846, R2: 0.8337939013231155\n"
     ]
    },
    {
     "name": "stderr",
     "output_type": "stream",
     "text": [
      "c:\\Users\\PSID_PC_20\\anaconda3\\envs\\python39\\lib\\site-packages\\sklearn\\base.py:493: UserWarning: X does not have valid feature names, but StandardScaler was fitted with feature names\n",
      "  warnings.warn(\n"
     ]
    },
    {
     "name": "stdout",
     "output_type": "stream",
     "text": [
      "Iteration 10/100 - Test MSE: 0.05480038009819045, R2: 0.8563702775608962\n"
     ]
    },
    {
     "name": "stderr",
     "output_type": "stream",
     "text": [
      "c:\\Users\\PSID_PC_20\\anaconda3\\envs\\python39\\lib\\site-packages\\sklearn\\base.py:493: UserWarning: X does not have valid feature names, but StandardScaler was fitted with feature names\n",
      "  warnings.warn(\n"
     ]
    },
    {
     "name": "stdout",
     "output_type": "stream",
     "text": [
      "Iteration 11/100 - Test MSE: 0.07365107376930419, R2: 0.8069633228113973\n"
     ]
    },
    {
     "name": "stderr",
     "output_type": "stream",
     "text": [
      "c:\\Users\\PSID_PC_20\\anaconda3\\envs\\python39\\lib\\site-packages\\sklearn\\base.py:493: UserWarning: X does not have valid feature names, but StandardScaler was fitted with feature names\n",
      "  warnings.warn(\n"
     ]
    },
    {
     "name": "stdout",
     "output_type": "stream",
     "text": [
      "Iteration 12/100 - Test MSE: 0.071223902471508, R2: 0.8133248469320327\n"
     ]
    },
    {
     "name": "stderr",
     "output_type": "stream",
     "text": [
      "c:\\Users\\PSID_PC_20\\anaconda3\\envs\\python39\\lib\\site-packages\\sklearn\\base.py:493: UserWarning: X does not have valid feature names, but StandardScaler was fitted with feature names\n",
      "  warnings.warn(\n"
     ]
    },
    {
     "name": "stdout",
     "output_type": "stream",
     "text": [
      "Iteration 13/100 - Test MSE: 0.07031243584503287, R2: 0.8157137664676009\n"
     ]
    },
    {
     "name": "stderr",
     "output_type": "stream",
     "text": [
      "c:\\Users\\PSID_PC_20\\anaconda3\\envs\\python39\\lib\\site-packages\\sklearn\\base.py:493: UserWarning: X does not have valid feature names, but StandardScaler was fitted with feature names\n",
      "  warnings.warn(\n"
     ]
    },
    {
     "name": "stdout",
     "output_type": "stream",
     "text": [
      "Iteration 14/100 - Test MSE: 0.0765412165780198, R2: 0.7993883678807672\n"
     ]
    },
    {
     "name": "stderr",
     "output_type": "stream",
     "text": [
      "c:\\Users\\PSID_PC_20\\anaconda3\\envs\\python39\\lib\\site-packages\\sklearn\\base.py:493: UserWarning: X does not have valid feature names, but StandardScaler was fitted with feature names\n",
      "  warnings.warn(\n"
     ]
    },
    {
     "name": "stdout",
     "output_type": "stream",
     "text": [
      "Iteration 15/100 - Test MSE: 0.06423270094915298, R2: 0.8316485215556846\n"
     ]
    },
    {
     "name": "stderr",
     "output_type": "stream",
     "text": [
      "c:\\Users\\PSID_PC_20\\anaconda3\\envs\\python39\\lib\\site-packages\\sklearn\\base.py:493: UserWarning: X does not have valid feature names, but StandardScaler was fitted with feature names\n",
      "  warnings.warn(\n"
     ]
    },
    {
     "name": "stdout",
     "output_type": "stream",
     "text": [
      "Iteration 16/100 - Test MSE: 0.05495113732790878, R2: 0.8559751485668758\n"
     ]
    },
    {
     "name": "stderr",
     "output_type": "stream",
     "text": [
      "c:\\Users\\PSID_PC_20\\anaconda3\\envs\\python39\\lib\\site-packages\\sklearn\\base.py:493: UserWarning: X does not have valid feature names, but StandardScaler was fitted with feature names\n",
      "  warnings.warn(\n"
     ]
    },
    {
     "name": "stdout",
     "output_type": "stream",
     "text": [
      "Iteration 17/100 - Test MSE: 0.03464655978608869, R2: 0.9091926779225012\n"
     ]
    },
    {
     "name": "stderr",
     "output_type": "stream",
     "text": [
      "c:\\Users\\PSID_PC_20\\anaconda3\\envs\\python39\\lib\\site-packages\\sklearn\\base.py:493: UserWarning: X does not have valid feature names, but StandardScaler was fitted with feature names\n",
      "  warnings.warn(\n"
     ]
    },
    {
     "name": "stdout",
     "output_type": "stream",
     "text": [
      "Iteration 18/100 - Test MSE: 0.057823723102699925, R2: 0.8484462099577549\n"
     ]
    },
    {
     "name": "stderr",
     "output_type": "stream",
     "text": [
      "c:\\Users\\PSID_PC_20\\anaconda3\\envs\\python39\\lib\\site-packages\\sklearn\\base.py:493: UserWarning: X does not have valid feature names, but StandardScaler was fitted with feature names\n",
      "  warnings.warn(\n"
     ]
    },
    {
     "name": "stdout",
     "output_type": "stream",
     "text": [
      "Iteration 19/100 - Test MSE: 0.04227593480498956, R2: 0.8891963747146563\n"
     ]
    },
    {
     "name": "stderr",
     "output_type": "stream",
     "text": [
      "c:\\Users\\PSID_PC_20\\anaconda3\\envs\\python39\\lib\\site-packages\\sklearn\\base.py:493: UserWarning: X does not have valid feature names, but StandardScaler was fitted with feature names\n",
      "  warnings.warn(\n"
     ]
    },
    {
     "name": "stdout",
     "output_type": "stream",
     "text": [
      "Iteration 20/100 - Test MSE: 0.052641030490027774, R2: 0.8620298511681171\n"
     ]
    },
    {
     "name": "stderr",
     "output_type": "stream",
     "text": [
      "c:\\Users\\PSID_PC_20\\anaconda3\\envs\\python39\\lib\\site-packages\\sklearn\\base.py:493: UserWarning: X does not have valid feature names, but StandardScaler was fitted with feature names\n",
      "  warnings.warn(\n"
     ]
    },
    {
     "name": "stdout",
     "output_type": "stream",
     "text": [
      "Iteration 21/100 - Test MSE: 0.038700361683940726, R2: 0.8985678165553294\n"
     ]
    },
    {
     "name": "stderr",
     "output_type": "stream",
     "text": [
      "c:\\Users\\PSID_PC_20\\anaconda3\\envs\\python39\\lib\\site-packages\\sklearn\\base.py:493: UserWarning: X does not have valid feature names, but StandardScaler was fitted with feature names\n",
      "  warnings.warn(\n"
     ]
    },
    {
     "name": "stdout",
     "output_type": "stream",
     "text": [
      "Iteration 22/100 - Test MSE: 0.06196425912710676, R2: 0.8375940217271425\n"
     ]
    },
    {
     "name": "stderr",
     "output_type": "stream",
     "text": [
      "c:\\Users\\PSID_PC_20\\anaconda3\\envs\\python39\\lib\\site-packages\\sklearn\\base.py:493: UserWarning: X does not have valid feature names, but StandardScaler was fitted with feature names\n",
      "  warnings.warn(\n"
     ]
    },
    {
     "name": "stdout",
     "output_type": "stream",
     "text": [
      "Iteration 23/100 - Test MSE: 0.05007083679822569, R2: 0.8687662315710782\n"
     ]
    },
    {
     "name": "stderr",
     "output_type": "stream",
     "text": [
      "c:\\Users\\PSID_PC_20\\anaconda3\\envs\\python39\\lib\\site-packages\\sklearn\\base.py:493: UserWarning: X does not have valid feature names, but StandardScaler was fitted with feature names\n",
      "  warnings.warn(\n"
     ]
    },
    {
     "name": "stdout",
     "output_type": "stream",
     "text": [
      "Iteration 24/100 - Test MSE: 0.0399044992713348, R2: 0.8954118175066729\n"
     ]
    },
    {
     "name": "stderr",
     "output_type": "stream",
     "text": [
      "c:\\Users\\PSID_PC_20\\anaconda3\\envs\\python39\\lib\\site-packages\\sklearn\\base.py:493: UserWarning: X does not have valid feature names, but StandardScaler was fitted with feature names\n",
      "  warnings.warn(\n"
     ]
    },
    {
     "name": "stdout",
     "output_type": "stream",
     "text": [
      "Iteration 25/100 - Test MSE: 0.05691927492282901, R2: 0.8508167344103709\n"
     ]
    },
    {
     "name": "stderr",
     "output_type": "stream",
     "text": [
      "c:\\Users\\PSID_PC_20\\anaconda3\\envs\\python39\\lib\\site-packages\\sklearn\\base.py:493: UserWarning: X does not have valid feature names, but StandardScaler was fitted with feature names\n",
      "  warnings.warn(\n"
     ]
    },
    {
     "name": "stdout",
     "output_type": "stream",
     "text": [
      "Iteration 26/100 - Test MSE: 0.046995340984537254, R2: 0.8768269897134707\n"
     ]
    },
    {
     "name": "stderr",
     "output_type": "stream",
     "text": [
      "c:\\Users\\PSID_PC_20\\anaconda3\\envs\\python39\\lib\\site-packages\\sklearn\\base.py:493: UserWarning: X does not have valid feature names, but StandardScaler was fitted with feature names\n",
      "  warnings.warn(\n"
     ]
    },
    {
     "name": "stdout",
     "output_type": "stream",
     "text": [
      "Iteration 27/100 - Test MSE: 0.05820362306966145, R2: 0.8474505065208163\n"
     ]
    },
    {
     "name": "stderr",
     "output_type": "stream",
     "text": [
      "c:\\Users\\PSID_PC_20\\anaconda3\\envs\\python39\\lib\\site-packages\\sklearn\\base.py:493: UserWarning: X does not have valid feature names, but StandardScaler was fitted with feature names\n",
      "  warnings.warn(\n"
     ]
    },
    {
     "name": "stdout",
     "output_type": "stream",
     "text": [
      "Iteration 28/100 - Test MSE: 0.03933682962131249, R2: 0.8968996581771885\n"
     ]
    },
    {
     "name": "stderr",
     "output_type": "stream",
     "text": [
      "c:\\Users\\PSID_PC_20\\anaconda3\\envs\\python39\\lib\\site-packages\\sklearn\\base.py:493: UserWarning: X does not have valid feature names, but StandardScaler was fitted with feature names\n",
      "  warnings.warn(\n"
     ]
    },
    {
     "name": "stdout",
     "output_type": "stream",
     "text": [
      "Iteration 29/100 - Test MSE: 0.04727029653569327, R2: 0.8761063416189709\n"
     ]
    },
    {
     "name": "stderr",
     "output_type": "stream",
     "text": [
      "c:\\Users\\PSID_PC_20\\anaconda3\\envs\\python39\\lib\\site-packages\\sklearn\\base.py:493: UserWarning: X does not have valid feature names, but StandardScaler was fitted with feature names\n",
      "  warnings.warn(\n"
     ]
    },
    {
     "name": "stdout",
     "output_type": "stream",
     "text": [
      "Iteration 30/100 - Test MSE: 0.044289483011178715, R2: 0.8839189410644789\n"
     ]
    },
    {
     "name": "stderr",
     "output_type": "stream",
     "text": [
      "c:\\Users\\PSID_PC_20\\anaconda3\\envs\\python39\\lib\\site-packages\\sklearn\\base.py:493: UserWarning: X does not have valid feature names, but StandardScaler was fitted with feature names\n",
      "  warnings.warn(\n"
     ]
    },
    {
     "name": "stdout",
     "output_type": "stream",
     "text": [
      "Iteration 31/100 - Test MSE: 0.046065417002435875, R2: 0.8792642852796578\n"
     ]
    },
    {
     "name": "stderr",
     "output_type": "stream",
     "text": [
      "c:\\Users\\PSID_PC_20\\anaconda3\\envs\\python39\\lib\\site-packages\\sklearn\\base.py:493: UserWarning: X does not have valid feature names, but StandardScaler was fitted with feature names\n",
      "  warnings.warn(\n"
     ]
    },
    {
     "name": "stdout",
     "output_type": "stream",
     "text": [
      "Iteration 32/100 - Test MSE: 0.05572335008007555, R2: 0.8539512081661174\n"
     ]
    },
    {
     "name": "stderr",
     "output_type": "stream",
     "text": [
      "c:\\Users\\PSID_PC_20\\anaconda3\\envs\\python39\\lib\\site-packages\\sklearn\\base.py:493: UserWarning: X does not have valid feature names, but StandardScaler was fitted with feature names\n",
      "  warnings.warn(\n"
     ]
    },
    {
     "name": "stdout",
     "output_type": "stream",
     "text": [
      "Iteration 33/100 - Test MSE: 0.04404932985643492, R2: 0.8845483733950015\n"
     ]
    },
    {
     "name": "stderr",
     "output_type": "stream",
     "text": [
      "c:\\Users\\PSID_PC_20\\anaconda3\\envs\\python39\\lib\\site-packages\\sklearn\\base.py:493: UserWarning: X does not have valid feature names, but StandardScaler was fitted with feature names\n",
      "  warnings.warn(\n"
     ]
    },
    {
     "name": "stdout",
     "output_type": "stream",
     "text": [
      "Iteration 34/100 - Test MSE: 0.041856444785040775, R2: 0.8902958421822772\n"
     ]
    },
    {
     "name": "stderr",
     "output_type": "stream",
     "text": [
      "c:\\Users\\PSID_PC_20\\anaconda3\\envs\\python39\\lib\\site-packages\\sklearn\\base.py:493: UserWarning: X does not have valid feature names, but StandardScaler was fitted with feature names\n",
      "  warnings.warn(\n"
     ]
    },
    {
     "name": "stdout",
     "output_type": "stream",
     "text": [
      "Iteration 35/100 - Test MSE: 0.04165438393466246, R2: 0.8908254360245762\n"
     ]
    },
    {
     "name": "stderr",
     "output_type": "stream",
     "text": [
      "c:\\Users\\PSID_PC_20\\anaconda3\\envs\\python39\\lib\\site-packages\\sklearn\\base.py:493: UserWarning: X does not have valid feature names, but StandardScaler was fitted with feature names\n",
      "  warnings.warn(\n"
     ]
    },
    {
     "name": "stdout",
     "output_type": "stream",
     "text": [
      "Iteration 36/100 - Test MSE: 0.04054809129544182, R2: 0.8937249871667942\n"
     ]
    },
    {
     "name": "stderr",
     "output_type": "stream",
     "text": [
      "c:\\Users\\PSID_PC_20\\anaconda3\\envs\\python39\\lib\\site-packages\\sklearn\\base.py:493: UserWarning: X does not have valid feature names, but StandardScaler was fitted with feature names\n",
      "  warnings.warn(\n"
     ]
    },
    {
     "name": "stdout",
     "output_type": "stream",
     "text": [
      "Iteration 37/100 - Test MSE: 0.042379636501844405, R2: 0.8889245764915594\n"
     ]
    },
    {
     "name": "stderr",
     "output_type": "stream",
     "text": [
      "c:\\Users\\PSID_PC_20\\anaconda3\\envs\\python39\\lib\\site-packages\\sklearn\\base.py:493: UserWarning: X does not have valid feature names, but StandardScaler was fitted with feature names\n",
      "  warnings.warn(\n"
     ]
    },
    {
     "name": "stdout",
     "output_type": "stream",
     "text": [
      "Iteration 38/100 - Test MSE: 0.035449320201233495, R2: 0.9070886732530855\n"
     ]
    },
    {
     "name": "stderr",
     "output_type": "stream",
     "text": [
      "c:\\Users\\PSID_PC_20\\anaconda3\\envs\\python39\\lib\\site-packages\\sklearn\\base.py:493: UserWarning: X does not have valid feature names, but StandardScaler was fitted with feature names\n",
      "  warnings.warn(\n"
     ]
    },
    {
     "name": "stdout",
     "output_type": "stream",
     "text": [
      "Iteration 39/100 - Test MSE: 0.04963831449407938, R2: 0.8698998561624031\n"
     ]
    },
    {
     "name": "stderr",
     "output_type": "stream",
     "text": [
      "c:\\Users\\PSID_PC_20\\anaconda3\\envs\\python39\\lib\\site-packages\\sklearn\\base.py:493: UserWarning: X does not have valid feature names, but StandardScaler was fitted with feature names\n",
      "  warnings.warn(\n"
     ]
    },
    {
     "name": "stdout",
     "output_type": "stream",
     "text": [
      "Iteration 40/100 - Test MSE: 0.043468431375058875, R2: 0.8860708863318797\n"
     ]
    },
    {
     "name": "stderr",
     "output_type": "stream",
     "text": [
      "c:\\Users\\PSID_PC_20\\anaconda3\\envs\\python39\\lib\\site-packages\\sklearn\\base.py:493: UserWarning: X does not have valid feature names, but StandardScaler was fitted with feature names\n",
      "  warnings.warn(\n"
     ]
    },
    {
     "name": "stdout",
     "output_type": "stream",
     "text": [
      "Iteration 41/100 - Test MSE: 0.058279633056426854, R2: 0.8472512872219327\n"
     ]
    },
    {
     "name": "stderr",
     "output_type": "stream",
     "text": [
      "c:\\Users\\PSID_PC_20\\anaconda3\\envs\\python39\\lib\\site-packages\\sklearn\\base.py:493: UserWarning: X does not have valid feature names, but StandardScaler was fitted with feature names\n",
      "  warnings.warn(\n"
     ]
    },
    {
     "name": "stdout",
     "output_type": "stream",
     "text": [
      "Iteration 42/100 - Test MSE: 0.04847727441605887, R2: 0.8729428982699206\n"
     ]
    },
    {
     "name": "stderr",
     "output_type": "stream",
     "text": [
      "c:\\Users\\PSID_PC_20\\anaconda3\\envs\\python39\\lib\\site-packages\\sklearn\\base.py:493: UserWarning: X does not have valid feature names, but StandardScaler was fitted with feature names\n",
      "  warnings.warn(\n"
     ]
    },
    {
     "name": "stdout",
     "output_type": "stream",
     "text": [
      "Iteration 43/100 - Test MSE: 0.05618490752733734, R2: 0.8527414835634571\n"
     ]
    },
    {
     "name": "stderr",
     "output_type": "stream",
     "text": [
      "c:\\Users\\PSID_PC_20\\anaconda3\\envs\\python39\\lib\\site-packages\\sklearn\\base.py:493: UserWarning: X does not have valid feature names, but StandardScaler was fitted with feature names\n",
      "  warnings.warn(\n"
     ]
    },
    {
     "name": "stdout",
     "output_type": "stream",
     "text": [
      "Iteration 44/100 - Test MSE: 0.04585648720377473, R2: 0.8798118823754661\n"
     ]
    },
    {
     "name": "stderr",
     "output_type": "stream",
     "text": [
      "c:\\Users\\PSID_PC_20\\anaconda3\\envs\\python39\\lib\\site-packages\\sklearn\\base.py:493: UserWarning: X does not have valid feature names, but StandardScaler was fitted with feature names\n",
      "  warnings.warn(\n"
     ]
    },
    {
     "name": "stdout",
     "output_type": "stream",
     "text": [
      "Iteration 45/100 - Test MSE: 0.06750874709002491, R2: 0.8230621285951243\n"
     ]
    },
    {
     "name": "stderr",
     "output_type": "stream",
     "text": [
      "c:\\Users\\PSID_PC_20\\anaconda3\\envs\\python39\\lib\\site-packages\\sklearn\\base.py:493: UserWarning: X does not have valid feature names, but StandardScaler was fitted with feature names\n",
      "  warnings.warn(\n"
     ]
    },
    {
     "name": "stdout",
     "output_type": "stream",
     "text": [
      "Iteration 46/100 - Test MSE: 0.05223061030958862, R2: 0.8631055469296111\n"
     ]
    },
    {
     "name": "stderr",
     "output_type": "stream",
     "text": [
      "c:\\Users\\PSID_PC_20\\anaconda3\\envs\\python39\\lib\\site-packages\\sklearn\\base.py:493: UserWarning: X does not have valid feature names, but StandardScaler was fitted with feature names\n",
      "  warnings.warn(\n"
     ]
    },
    {
     "name": "stdout",
     "output_type": "stream",
     "text": [
      "Iteration 47/100 - Test MSE: 0.040769480131676986, R2: 0.8931447354049888\n"
     ]
    },
    {
     "name": "stderr",
     "output_type": "stream",
     "text": [
      "c:\\Users\\PSID_PC_20\\anaconda3\\envs\\python39\\lib\\site-packages\\sklearn\\base.py:493: UserWarning: X does not have valid feature names, but StandardScaler was fitted with feature names\n",
      "  warnings.warn(\n"
     ]
    },
    {
     "name": "stdout",
     "output_type": "stream",
     "text": [
      "Iteration 48/100 - Test MSE: 0.039598956659704566, R2: 0.8962126331291764\n"
     ]
    },
    {
     "name": "stderr",
     "output_type": "stream",
     "text": [
      "c:\\Users\\PSID_PC_20\\anaconda3\\envs\\python39\\lib\\site-packages\\sklearn\\base.py:493: UserWarning: X does not have valid feature names, but StandardScaler was fitted with feature names\n",
      "  warnings.warn(\n"
     ]
    },
    {
     "name": "stdout",
     "output_type": "stream",
     "text": [
      "Iteration 49/100 - Test MSE: 0.0420460960198069, R2: 0.8897987734728835\n"
     ]
    },
    {
     "name": "stderr",
     "output_type": "stream",
     "text": [
      "c:\\Users\\PSID_PC_20\\anaconda3\\envs\\python39\\lib\\site-packages\\sklearn\\base.py:493: UserWarning: X does not have valid feature names, but StandardScaler was fitted with feature names\n",
      "  warnings.warn(\n"
     ]
    },
    {
     "name": "stdout",
     "output_type": "stream",
     "text": [
      "Iteration 50/100 - Test MSE: 0.04584443384931595, R2: 0.8798434737613703\n"
     ]
    },
    {
     "name": "stderr",
     "output_type": "stream",
     "text": [
      "c:\\Users\\PSID_PC_20\\anaconda3\\envs\\python39\\lib\\site-packages\\sklearn\\base.py:493: UserWarning: X does not have valid feature names, but StandardScaler was fitted with feature names\n",
      "  warnings.warn(\n"
     ]
    },
    {
     "name": "stdout",
     "output_type": "stream",
     "text": [
      "Iteration 51/100 - Test MSE: 0.03535980702800796, R2: 0.9073232838926831\n"
     ]
    },
    {
     "name": "stderr",
     "output_type": "stream",
     "text": [
      "c:\\Users\\PSID_PC_20\\anaconda3\\envs\\python39\\lib\\site-packages\\sklearn\\base.py:493: UserWarning: X does not have valid feature names, but StandardScaler was fitted with feature names\n",
      "  warnings.warn(\n"
     ]
    },
    {
     "name": "stdout",
     "output_type": "stream",
     "text": [
      "Iteration 52/100 - Test MSE: 0.04373134143195297, R2: 0.8853818090220055\n"
     ]
    },
    {
     "name": "stderr",
     "output_type": "stream",
     "text": [
      "c:\\Users\\PSID_PC_20\\anaconda3\\envs\\python39\\lib\\site-packages\\sklearn\\base.py:493: UserWarning: X does not have valid feature names, but StandardScaler was fitted with feature names\n",
      "  warnings.warn(\n"
     ]
    },
    {
     "name": "stdout",
     "output_type": "stream",
     "text": [
      "Iteration 53/100 - Test MSE: 0.04923995401326591, R2: 0.8709439439075506\n"
     ]
    },
    {
     "name": "stderr",
     "output_type": "stream",
     "text": [
      "c:\\Users\\PSID_PC_20\\anaconda3\\envs\\python39\\lib\\site-packages\\sklearn\\base.py:493: UserWarning: X does not have valid feature names, but StandardScaler was fitted with feature names\n",
      "  warnings.warn(\n"
     ]
    },
    {
     "name": "stdout",
     "output_type": "stream",
     "text": [
      "Iteration 54/100 - Test MSE: 0.06358647777988222, R2: 0.8333422480274676\n"
     ]
    },
    {
     "name": "stderr",
     "output_type": "stream",
     "text": [
      "c:\\Users\\PSID_PC_20\\anaconda3\\envs\\python39\\lib\\site-packages\\sklearn\\base.py:493: UserWarning: X does not have valid feature names, but StandardScaler was fitted with feature names\n",
      "  warnings.warn(\n"
     ]
    },
    {
     "name": "stdout",
     "output_type": "stream",
     "text": [
      "Iteration 55/100 - Test MSE: 0.062428727466931414, R2: 0.8363766677852313\n"
     ]
    },
    {
     "name": "stderr",
     "output_type": "stream",
     "text": [
      "c:\\Users\\PSID_PC_20\\anaconda3\\envs\\python39\\lib\\site-packages\\sklearn\\base.py:493: UserWarning: X does not have valid feature names, but StandardScaler was fitted with feature names\n",
      "  warnings.warn(\n"
     ]
    },
    {
     "name": "stdout",
     "output_type": "stream",
     "text": [
      "Iteration 56/100 - Test MSE: 0.06513338191412707, R2: 0.8292878708307513\n"
     ]
    },
    {
     "name": "stderr",
     "output_type": "stream",
     "text": [
      "c:\\Users\\PSID_PC_20\\anaconda3\\envs\\python39\\lib\\site-packages\\sklearn\\base.py:493: UserWarning: X does not have valid feature names, but StandardScaler was fitted with feature names\n",
      "  warnings.warn(\n"
     ]
    },
    {
     "name": "stdout",
     "output_type": "stream",
     "text": [
      "Iteration 57/100 - Test MSE: 0.046473927674429844, R2: 0.8781935942675376\n"
     ]
    },
    {
     "name": "stderr",
     "output_type": "stream",
     "text": [
      "c:\\Users\\PSID_PC_20\\anaconda3\\envs\\python39\\lib\\site-packages\\sklearn\\base.py:493: UserWarning: X does not have valid feature names, but StandardScaler was fitted with feature names\n",
      "  warnings.warn(\n"
     ]
    },
    {
     "name": "stdout",
     "output_type": "stream",
     "text": [
      "Iteration 58/100 - Test MSE: 0.04193549364739587, R2: 0.8900886581054726\n"
     ]
    },
    {
     "name": "stderr",
     "output_type": "stream",
     "text": [
      "c:\\Users\\PSID_PC_20\\anaconda3\\envs\\python39\\lib\\site-packages\\sklearn\\base.py:493: UserWarning: X does not have valid feature names, but StandardScaler was fitted with feature names\n",
      "  warnings.warn(\n"
     ]
    },
    {
     "name": "stdout",
     "output_type": "stream",
     "text": [
      "Iteration 59/100 - Test MSE: 0.05130031835061772, R2: 0.8655438069492479\n"
     ]
    },
    {
     "name": "stderr",
     "output_type": "stream",
     "text": [
      "c:\\Users\\PSID_PC_20\\anaconda3\\envs\\python39\\lib\\site-packages\\sklearn\\base.py:493: UserWarning: X does not have valid feature names, but StandardScaler was fitted with feature names\n",
      "  warnings.warn(\n"
     ]
    },
    {
     "name": "stdout",
     "output_type": "stream",
     "text": [
      "Iteration 60/100 - Test MSE: 0.04266473333215362, R2: 0.8881773484881731\n"
     ]
    },
    {
     "name": "stderr",
     "output_type": "stream",
     "text": [
      "c:\\Users\\PSID_PC_20\\anaconda3\\envs\\python39\\lib\\site-packages\\sklearn\\base.py:493: UserWarning: X does not have valid feature names, but StandardScaler was fitted with feature names\n",
      "  warnings.warn(\n"
     ]
    },
    {
     "name": "stdout",
     "output_type": "stream",
     "text": [
      "Iteration 61/100 - Test MSE: 0.05004077780482189, R2: 0.868845015055274\n"
     ]
    },
    {
     "name": "stderr",
     "output_type": "stream",
     "text": [
      "c:\\Users\\PSID_PC_20\\anaconda3\\envs\\python39\\lib\\site-packages\\sklearn\\base.py:493: UserWarning: X does not have valid feature names, but StandardScaler was fitted with feature names\n",
      "  warnings.warn(\n"
     ]
    },
    {
     "name": "stdout",
     "output_type": "stream",
     "text": [
      "Iteration 62/100 - Test MSE: 0.06409032798035685, R2: 0.8320216757191116\n"
     ]
    },
    {
     "name": "stderr",
     "output_type": "stream",
     "text": [
      "c:\\Users\\PSID_PC_20\\anaconda3\\envs\\python39\\lib\\site-packages\\sklearn\\base.py:493: UserWarning: X does not have valid feature names, but StandardScaler was fitted with feature names\n",
      "  warnings.warn(\n"
     ]
    },
    {
     "name": "stdout",
     "output_type": "stream",
     "text": [
      "Iteration 63/100 - Test MSE: 0.03923643530466365, R2: 0.8971627878819259\n"
     ]
    },
    {
     "name": "stderr",
     "output_type": "stream",
     "text": [
      "c:\\Users\\PSID_PC_20\\anaconda3\\envs\\python39\\lib\\site-packages\\sklearn\\base.py:493: UserWarning: X does not have valid feature names, but StandardScaler was fitted with feature names\n",
      "  warnings.warn(\n"
     ]
    },
    {
     "name": "stdout",
     "output_type": "stream",
     "text": [
      "Iteration 64/100 - Test MSE: 0.05002235473503691, R2: 0.8688933012240003\n"
     ]
    },
    {
     "name": "stderr",
     "output_type": "stream",
     "text": [
      "c:\\Users\\PSID_PC_20\\anaconda3\\envs\\python39\\lib\\site-packages\\sklearn\\base.py:493: UserWarning: X does not have valid feature names, but StandardScaler was fitted with feature names\n",
      "  warnings.warn(\n"
     ]
    },
    {
     "name": "stdout",
     "output_type": "stream",
     "text": [
      "Iteration 65/100 - Test MSE: 0.032632643197275844, R2: 0.9144710770895947\n"
     ]
    },
    {
     "name": "stderr",
     "output_type": "stream",
     "text": [
      "c:\\Users\\PSID_PC_20\\anaconda3\\envs\\python39\\lib\\site-packages\\sklearn\\base.py:493: UserWarning: X does not have valid feature names, but StandardScaler was fitted with feature names\n",
      "  warnings.warn(\n"
     ]
    },
    {
     "name": "stdout",
     "output_type": "stream",
     "text": [
      "Iteration 66/100 - Test MSE: 0.05177831906134674, R2: 0.8642909851752988\n"
     ]
    },
    {
     "name": "stderr",
     "output_type": "stream",
     "text": [
      "c:\\Users\\PSID_PC_20\\anaconda3\\envs\\python39\\lib\\site-packages\\sklearn\\base.py:493: UserWarning: X does not have valid feature names, but StandardScaler was fitted with feature names\n",
      "  warnings.warn(\n"
     ]
    },
    {
     "name": "stdout",
     "output_type": "stream",
     "text": [
      "Iteration 67/100 - Test MSE: 0.05459353655730563, R2: 0.8569124066540225\n"
     ]
    },
    {
     "name": "stderr",
     "output_type": "stream",
     "text": [
      "c:\\Users\\PSID_PC_20\\anaconda3\\envs\\python39\\lib\\site-packages\\sklearn\\base.py:493: UserWarning: X does not have valid feature names, but StandardScaler was fitted with feature names\n",
      "  warnings.warn(\n"
     ]
    },
    {
     "name": "stdout",
     "output_type": "stream",
     "text": [
      "Iteration 68/100 - Test MSE: 0.044684044749391076, R2: 0.882884809679934\n"
     ]
    },
    {
     "name": "stderr",
     "output_type": "stream",
     "text": [
      "c:\\Users\\PSID_PC_20\\anaconda3\\envs\\python39\\lib\\site-packages\\sklearn\\base.py:493: UserWarning: X does not have valid feature names, but StandardScaler was fitted with feature names\n",
      "  warnings.warn(\n"
     ]
    },
    {
     "name": "stdout",
     "output_type": "stream",
     "text": [
      "Iteration 69/100 - Test MSE: 0.038168913633900355, R2: 0.8999607217830181\n"
     ]
    },
    {
     "name": "stderr",
     "output_type": "stream",
     "text": [
      "c:\\Users\\PSID_PC_20\\anaconda3\\envs\\python39\\lib\\site-packages\\sklearn\\base.py:493: UserWarning: X does not have valid feature names, but StandardScaler was fitted with feature names\n",
      "  warnings.warn(\n"
     ]
    },
    {
     "name": "stdout",
     "output_type": "stream",
     "text": [
      "Iteration 70/100 - Test MSE: 0.03769167811764853, R2: 0.9012115380111996\n"
     ]
    },
    {
     "name": "stderr",
     "output_type": "stream",
     "text": [
      "c:\\Users\\PSID_PC_20\\anaconda3\\envs\\python39\\lib\\site-packages\\sklearn\\base.py:493: UserWarning: X does not have valid feature names, but StandardScaler was fitted with feature names\n",
      "  warnings.warn(\n"
     ]
    },
    {
     "name": "stdout",
     "output_type": "stream",
     "text": [
      "Iteration 71/100 - Test MSE: 0.055891032615584764, R2: 0.8535117185861195\n"
     ]
    },
    {
     "name": "stderr",
     "output_type": "stream",
     "text": [
      "c:\\Users\\PSID_PC_20\\anaconda3\\envs\\python39\\lib\\site-packages\\sklearn\\base.py:493: UserWarning: X does not have valid feature names, but StandardScaler was fitted with feature names\n",
      "  warnings.warn(\n"
     ]
    },
    {
     "name": "stdout",
     "output_type": "stream",
     "text": [
      "Iteration 72/100 - Test MSE: 0.0559272626458088, R2: 0.8534167610479471\n"
     ]
    },
    {
     "name": "stderr",
     "output_type": "stream",
     "text": [
      "c:\\Users\\PSID_PC_20\\anaconda3\\envs\\python39\\lib\\site-packages\\sklearn\\base.py:493: UserWarning: X does not have valid feature names, but StandardScaler was fitted with feature names\n",
      "  warnings.warn(\n"
     ]
    },
    {
     "name": "stdout",
     "output_type": "stream",
     "text": [
      "Iteration 73/100 - Test MSE: 0.08215212043768086, R2: 0.7846824011967473\n"
     ]
    },
    {
     "name": "stderr",
     "output_type": "stream",
     "text": [
      "c:\\Users\\PSID_PC_20\\anaconda3\\envs\\python39\\lib\\site-packages\\sklearn\\base.py:493: UserWarning: X does not have valid feature names, but StandardScaler was fitted with feature names\n",
      "  warnings.warn(\n"
     ]
    },
    {
     "name": "stdout",
     "output_type": "stream",
     "text": [
      "Iteration 74/100 - Test MSE: 0.03571690781114209, R2: 0.9063873362537718\n"
     ]
    },
    {
     "name": "stderr",
     "output_type": "stream",
     "text": [
      "c:\\Users\\PSID_PC_20\\anaconda3\\envs\\python39\\lib\\site-packages\\sklearn\\base.py:493: UserWarning: X does not have valid feature names, but StandardScaler was fitted with feature names\n",
      "  warnings.warn(\n"
     ]
    },
    {
     "name": "stdout",
     "output_type": "stream",
     "text": [
      "Iteration 75/100 - Test MSE: 0.03877593675778239, R2: 0.8983697371467606\n"
     ]
    },
    {
     "name": "stderr",
     "output_type": "stream",
     "text": [
      "c:\\Users\\PSID_PC_20\\anaconda3\\envs\\python39\\lib\\site-packages\\sklearn\\base.py:493: UserWarning: X does not have valid feature names, but StandardScaler was fitted with feature names\n",
      "  warnings.warn(\n"
     ]
    },
    {
     "name": "stdout",
     "output_type": "stream",
     "text": [
      "Iteration 76/100 - Test MSE: 0.062156447189617534, R2: 0.8370903040882307\n"
     ]
    },
    {
     "name": "stderr",
     "output_type": "stream",
     "text": [
      "c:\\Users\\PSID_PC_20\\anaconda3\\envs\\python39\\lib\\site-packages\\sklearn\\base.py:493: UserWarning: X does not have valid feature names, but StandardScaler was fitted with feature names\n",
      "  warnings.warn(\n"
     ]
    },
    {
     "name": "stdout",
     "output_type": "stream",
     "text": [
      "Iteration 77/100 - Test MSE: 0.07077411687822265, R2: 0.8145037179509003\n"
     ]
    },
    {
     "name": "stderr",
     "output_type": "stream",
     "text": [
      "c:\\Users\\PSID_PC_20\\anaconda3\\envs\\python39\\lib\\site-packages\\sklearn\\base.py:493: UserWarning: X does not have valid feature names, but StandardScaler was fitted with feature names\n",
      "  warnings.warn(\n"
     ]
    },
    {
     "name": "stdout",
     "output_type": "stream",
     "text": [
      "Iteration 78/100 - Test MSE: 0.047245716193377585, R2: 0.8761707657659921\n"
     ]
    },
    {
     "name": "stderr",
     "output_type": "stream",
     "text": [
      "c:\\Users\\PSID_PC_20\\anaconda3\\envs\\python39\\lib\\site-packages\\sklearn\\base.py:493: UserWarning: X does not have valid feature names, but StandardScaler was fitted with feature names\n",
      "  warnings.warn(\n"
     ]
    },
    {
     "name": "stdout",
     "output_type": "stream",
     "text": [
      "Iteration 79/100 - Test MSE: 0.058027753020431616, R2: 0.8479114552644377\n"
     ]
    },
    {
     "name": "stderr",
     "output_type": "stream",
     "text": [
      "c:\\Users\\PSID_PC_20\\anaconda3\\envs\\python39\\lib\\site-packages\\sklearn\\base.py:493: UserWarning: X does not have valid feature names, but StandardScaler was fitted with feature names\n",
      "  warnings.warn(\n"
     ]
    },
    {
     "name": "stdout",
     "output_type": "stream",
     "text": [
      "Iteration 80/100 - Test MSE: 0.06703736292075577, R2: 0.8242976086642954\n"
     ]
    },
    {
     "name": "stderr",
     "output_type": "stream",
     "text": [
      "c:\\Users\\PSID_PC_20\\anaconda3\\envs\\python39\\lib\\site-packages\\sklearn\\base.py:493: UserWarning: X does not have valid feature names, but StandardScaler was fitted with feature names\n",
      "  warnings.warn(\n"
     ]
    },
    {
     "name": "stdout",
     "output_type": "stream",
     "text": [
      "Iteration 81/100 - Test MSE: 0.04952894471785793, R2: 0.8701865102070241\n"
     ]
    },
    {
     "name": "stderr",
     "output_type": "stream",
     "text": [
      "c:\\Users\\PSID_PC_20\\anaconda3\\envs\\python39\\lib\\site-packages\\sklearn\\base.py:493: UserWarning: X does not have valid feature names, but StandardScaler was fitted with feature names\n",
      "  warnings.warn(\n"
     ]
    },
    {
     "name": "stdout",
     "output_type": "stream",
     "text": [
      "Iteration 82/100 - Test MSE: 0.07165471201031069, R2: 0.8121957114338577\n"
     ]
    },
    {
     "name": "stderr",
     "output_type": "stream",
     "text": [
      "c:\\Users\\PSID_PC_20\\anaconda3\\envs\\python39\\lib\\site-packages\\sklearn\\base.py:493: UserWarning: X does not have valid feature names, but StandardScaler was fitted with feature names\n",
      "  warnings.warn(\n"
     ]
    },
    {
     "name": "stdout",
     "output_type": "stream",
     "text": [
      "Iteration 83/100 - Test MSE: 0.04392670765263927, R2: 0.8848697615507859\n"
     ]
    },
    {
     "name": "stderr",
     "output_type": "stream",
     "text": [
      "c:\\Users\\PSID_PC_20\\anaconda3\\envs\\python39\\lib\\site-packages\\sklearn\\base.py:493: UserWarning: X does not have valid feature names, but StandardScaler was fitted with feature names\n",
      "  warnings.warn(\n"
     ]
    },
    {
     "name": "stdout",
     "output_type": "stream",
     "text": [
      "Iteration 84/100 - Test MSE: 0.052468574779565756, R2: 0.8624818510590361\n"
     ]
    },
    {
     "name": "stderr",
     "output_type": "stream",
     "text": [
      "c:\\Users\\PSID_PC_20\\anaconda3\\envs\\python39\\lib\\site-packages\\sklearn\\base.py:493: UserWarning: X does not have valid feature names, but StandardScaler was fitted with feature names\n",
      "  warnings.warn(\n"
     ]
    },
    {
     "name": "stdout",
     "output_type": "stream",
     "text": [
      "Iteration 85/100 - Test MSE: 0.04625839069290863, R2: 0.878758508539588\n"
     ]
    },
    {
     "name": "stderr",
     "output_type": "stream",
     "text": [
      "c:\\Users\\PSID_PC_20\\anaconda3\\envs\\python39\\lib\\site-packages\\sklearn\\base.py:493: UserWarning: X does not have valid feature names, but StandardScaler was fitted with feature names\n",
      "  warnings.warn(\n"
     ]
    },
    {
     "name": "stdout",
     "output_type": "stream",
     "text": [
      "Iteration 86/100 - Test MSE: 0.05485003015723264, R2: 0.8562401466350424\n"
     ]
    },
    {
     "name": "stderr",
     "output_type": "stream",
     "text": [
      "c:\\Users\\PSID_PC_20\\anaconda3\\envs\\python39\\lib\\site-packages\\sklearn\\base.py:493: UserWarning: X does not have valid feature names, but StandardScaler was fitted with feature names\n",
      "  warnings.warn(\n"
     ]
    },
    {
     "name": "stdout",
     "output_type": "stream",
     "text": [
      "Iteration 87/100 - Test MSE: 0.061102741938869144, R2: 0.8398520256753154\n"
     ]
    },
    {
     "name": "stderr",
     "output_type": "stream",
     "text": [
      "c:\\Users\\PSID_PC_20\\anaconda3\\envs\\python39\\lib\\site-packages\\sklearn\\base.py:493: UserWarning: X does not have valid feature names, but StandardScaler was fitted with feature names\n",
      "  warnings.warn(\n"
     ]
    },
    {
     "name": "stdout",
     "output_type": "stream",
     "text": [
      "Iteration 88/100 - Test MSE: 0.06716882805302993, R2: 0.8239530435276097\n"
     ]
    },
    {
     "name": "stderr",
     "output_type": "stream",
     "text": [
      "c:\\Users\\PSID_PC_20\\anaconda3\\envs\\python39\\lib\\site-packages\\sklearn\\base.py:493: UserWarning: X does not have valid feature names, but StandardScaler was fitted with feature names\n",
      "  warnings.warn(\n"
     ]
    },
    {
     "name": "stdout",
     "output_type": "stream",
     "text": [
      "Iteration 89/100 - Test MSE: 0.06650981049020369, R2: 0.8256803036207263\n"
     ]
    },
    {
     "name": "stderr",
     "output_type": "stream",
     "text": [
      "c:\\Users\\PSID_PC_20\\anaconda3\\envs\\python39\\lib\\site-packages\\sklearn\\base.py:493: UserWarning: X does not have valid feature names, but StandardScaler was fitted with feature names\n",
      "  warnings.warn(\n"
     ]
    },
    {
     "name": "stdout",
     "output_type": "stream",
     "text": [
      "Iteration 90/100 - Test MSE: 0.07280639222375412, R2: 0.8091772011771934\n"
     ]
    },
    {
     "name": "stderr",
     "output_type": "stream",
     "text": [
      "c:\\Users\\PSID_PC_20\\anaconda3\\envs\\python39\\lib\\site-packages\\sklearn\\base.py:493: UserWarning: X does not have valid feature names, but StandardScaler was fitted with feature names\n",
      "  warnings.warn(\n"
     ]
    },
    {
     "name": "stdout",
     "output_type": "stream",
     "text": [
      "Iteration 91/100 - Test MSE: 0.07016838126108123, R2: 0.8160913280807134\n"
     ]
    },
    {
     "name": "stderr",
     "output_type": "stream",
     "text": [
      "c:\\Users\\PSID_PC_20\\anaconda3\\envs\\python39\\lib\\site-packages\\sklearn\\base.py:493: UserWarning: X does not have valid feature names, but StandardScaler was fitted with feature names\n",
      "  warnings.warn(\n"
     ]
    },
    {
     "name": "stdout",
     "output_type": "stream",
     "text": [
      "Iteration 92/100 - Test MSE: 0.062026900450350766, R2: 0.8374298411894413\n"
     ]
    },
    {
     "name": "stderr",
     "output_type": "stream",
     "text": [
      "c:\\Users\\PSID_PC_20\\anaconda3\\envs\\python39\\lib\\site-packages\\sklearn\\base.py:493: UserWarning: X does not have valid feature names, but StandardScaler was fitted with feature names\n",
      "  warnings.warn(\n"
     ]
    },
    {
     "name": "stdout",
     "output_type": "stream",
     "text": [
      "Iteration 93/100 - Test MSE: 0.06962896717912931, R2: 0.8175051119765857\n"
     ]
    },
    {
     "name": "stderr",
     "output_type": "stream",
     "text": [
      "c:\\Users\\PSID_PC_20\\anaconda3\\envs\\python39\\lib\\site-packages\\sklearn\\base.py:493: UserWarning: X does not have valid feature names, but StandardScaler was fitted with feature names\n",
      "  warnings.warn(\n"
     ]
    },
    {
     "name": "stdout",
     "output_type": "stream",
     "text": [
      "Iteration 94/100 - Test MSE: 0.05844370641896727, R2: 0.8468212571477051\n"
     ]
    },
    {
     "name": "stderr",
     "output_type": "stream",
     "text": [
      "c:\\Users\\PSID_PC_20\\anaconda3\\envs\\python39\\lib\\site-packages\\sklearn\\base.py:493: UserWarning: X does not have valid feature names, but StandardScaler was fitted with feature names\n",
      "  warnings.warn(\n"
     ]
    },
    {
     "name": "stdout",
     "output_type": "stream",
     "text": [
      "Iteration 95/100 - Test MSE: 0.06826012760671402, R2: 0.8210927886952032\n"
     ]
    },
    {
     "name": "stderr",
     "output_type": "stream",
     "text": [
      "c:\\Users\\PSID_PC_20\\anaconda3\\envs\\python39\\lib\\site-packages\\sklearn\\base.py:493: UserWarning: X does not have valid feature names, but StandardScaler was fitted with feature names\n",
      "  warnings.warn(\n"
     ]
    },
    {
     "name": "stdout",
     "output_type": "stream",
     "text": [
      "Iteration 96/100 - Test MSE: 0.05519931042972623, R2: 0.8553246962585703\n"
     ]
    },
    {
     "name": "stderr",
     "output_type": "stream",
     "text": [
      "c:\\Users\\PSID_PC_20\\anaconda3\\envs\\python39\\lib\\site-packages\\sklearn\\base.py:493: UserWarning: X does not have valid feature names, but StandardScaler was fitted with feature names\n",
      "  warnings.warn(\n"
     ]
    },
    {
     "name": "stdout",
     "output_type": "stream",
     "text": [
      "Iteration 97/100 - Test MSE: 0.06328090618227017, R2: 0.8341431396211327\n"
     ]
    },
    {
     "name": "stderr",
     "output_type": "stream",
     "text": [
      "c:\\Users\\PSID_PC_20\\anaconda3\\envs\\python39\\lib\\site-packages\\sklearn\\base.py:493: UserWarning: X does not have valid feature names, but StandardScaler was fitted with feature names\n",
      "  warnings.warn(\n"
     ]
    },
    {
     "name": "stdout",
     "output_type": "stream",
     "text": [
      "Iteration 98/100 - Test MSE: 0.04854094140583075, R2: 0.8727760294990639\n"
     ]
    },
    {
     "name": "stderr",
     "output_type": "stream",
     "text": [
      "c:\\Users\\PSID_PC_20\\anaconda3\\envs\\python39\\lib\\site-packages\\sklearn\\base.py:493: UserWarning: X does not have valid feature names, but StandardScaler was fitted with feature names\n",
      "  warnings.warn(\n"
     ]
    },
    {
     "name": "stdout",
     "output_type": "stream",
     "text": [
      "Iteration 99/100 - Test MSE: 0.055539579280371926, R2: 0.8544328644777441\n"
     ]
    },
    {
     "name": "stderr",
     "output_type": "stream",
     "text": [
      "c:\\Users\\PSID_PC_20\\anaconda3\\envs\\python39\\lib\\site-packages\\sklearn\\base.py:493: UserWarning: X does not have valid feature names, but StandardScaler was fitted with feature names\n",
      "  warnings.warn(\n"
     ]
    },
    {
     "name": "stdout",
     "output_type": "stream",
     "text": [
      "Iteration 100/100 - Test MSE: 0.04067013504384306, R2: 0.8934051151207082\n",
      "Performance log: [(0.15232410160596968, 0.6007642940569), (0.09772985729908734, 0.7438537423877349), (0.09250271714586653, 0.757553878919857), (0.0837790810613756, 0.7804181989707422), (0.06745049330889542, 0.8232148095509801), (0.05750744156927574, 0.8492751718878899), (0.06848287666502632, 0.8205089718428084), (0.06032483170469654, 0.8418908989608027), (0.044195935879401994, 0.884164124556783), (0.06341415430912846, 0.8337939013231155), (0.05480038009819045, 0.8563702775608962), (0.07365107376930419, 0.8069633228113973), (0.071223902471508, 0.8133248469320327), (0.07031243584503287, 0.8157137664676009), (0.0765412165780198, 0.7993883678807672), (0.06423270094915298, 0.8316485215556846), (0.05495113732790878, 0.8559751485668758), (0.03464655978608869, 0.9091926779225012), (0.057823723102699925, 0.8484462099577549), (0.04227593480498956, 0.8891963747146563), (0.052641030490027774, 0.8620298511681171), (0.038700361683940726, 0.8985678165553294), (0.06196425912710676, 0.8375940217271425), (0.05007083679822569, 0.8687662315710782), (0.0399044992713348, 0.8954118175066729), (0.05691927492282901, 0.8508167344103709), (0.046995340984537254, 0.8768269897134707), (0.05820362306966145, 0.8474505065208163), (0.03933682962131249, 0.8968996581771885), (0.04727029653569327, 0.8761063416189709), (0.044289483011178715, 0.8839189410644789), (0.046065417002435875, 0.8792642852796578), (0.05572335008007555, 0.8539512081661174), (0.04404932985643492, 0.8845483733950015), (0.041856444785040775, 0.8902958421822772), (0.04165438393466246, 0.8908254360245762), (0.04054809129544182, 0.8937249871667942), (0.042379636501844405, 0.8889245764915594), (0.035449320201233495, 0.9070886732530855), (0.04963831449407938, 0.8698998561624031), (0.043468431375058875, 0.8860708863318797), (0.058279633056426854, 0.8472512872219327), (0.04847727441605887, 0.8729428982699206), (0.05618490752733734, 0.8527414835634571), (0.04585648720377473, 0.8798118823754661), (0.06750874709002491, 0.8230621285951243), (0.05223061030958862, 0.8631055469296111), (0.040769480131676986, 0.8931447354049888), (0.039598956659704566, 0.8962126331291764), (0.0420460960198069, 0.8897987734728835), (0.04584443384931595, 0.8798434737613703), (0.03535980702800796, 0.9073232838926831), (0.04373134143195297, 0.8853818090220055), (0.04923995401326591, 0.8709439439075506), (0.06358647777988222, 0.8333422480274676), (0.062428727466931414, 0.8363766677852313), (0.06513338191412707, 0.8292878708307513), (0.046473927674429844, 0.8781935942675376), (0.04193549364739587, 0.8900886581054726), (0.05130031835061772, 0.8655438069492479), (0.04266473333215362, 0.8881773484881731), (0.05004077780482189, 0.868845015055274), (0.06409032798035685, 0.8320216757191116), (0.03923643530466365, 0.8971627878819259), (0.05002235473503691, 0.8688933012240003), (0.032632643197275844, 0.9144710770895947), (0.05177831906134674, 0.8642909851752988), (0.05459353655730563, 0.8569124066540225), (0.044684044749391076, 0.882884809679934), (0.038168913633900355, 0.8999607217830181), (0.03769167811764853, 0.9012115380111996), (0.055891032615584764, 0.8535117185861195), (0.0559272626458088, 0.8534167610479471), (0.08215212043768086, 0.7846824011967473), (0.03571690781114209, 0.9063873362537718), (0.03877593675778239, 0.8983697371467606), (0.062156447189617534, 0.8370903040882307), (0.07077411687822265, 0.8145037179509003), (0.047245716193377585, 0.8761707657659921), (0.058027753020431616, 0.8479114552644377), (0.06703736292075577, 0.8242976086642954), (0.04952894471785793, 0.8701865102070241), (0.07165471201031069, 0.8121957114338577), (0.04392670765263927, 0.8848697615507859), (0.052468574779565756, 0.8624818510590361), (0.04625839069290863, 0.878758508539588), (0.05485003015723264, 0.8562401466350424), (0.061102741938869144, 0.8398520256753154), (0.06716882805302993, 0.8239530435276097), (0.06650981049020369, 0.8256803036207263), (0.07280639222375412, 0.8091772011771934), (0.07016838126108123, 0.8160913280807134), (0.062026900450350766, 0.8374298411894413), (0.06962896717912931, 0.8175051119765857), (0.05844370641896727, 0.8468212571477051), (0.06826012760671402, 0.8210927886952032), (0.05519931042972623, 0.8553246962585703), (0.06328090618227017, 0.8341431396211327), (0.04854094140583075, 0.8727760294990639), (0.055539579280371926, 0.8544328644777441), (0.04067013504384306, 0.8934051151207082)]\n"
     ]
    }
   ],
   "source": [
    "import torch\n",
    "import torch.nn as nn\n",
    "import torch.optim as optim\n",
    "from torch.utils.data import DataLoader, TensorDataset\n",
    "import numpy as np\n",
    "import pandas as pd\n",
    "from sklearn.metrics import mean_squared_error, r2_score\n",
    "from sklearn.model_selection import train_test_split\n",
    "from sklearn.preprocessing import StandardScaler\n",
    "\n",
    "# PyTorch 모델 정의\n",
    "class DropoutMLP(nn.Module):\n",
    "    def __init__(self, input_dim, hidden_dim):\n",
    "        super(DropoutMLP, self).__init__()\n",
    "        self.model = nn.Sequential(\n",
    "            nn.Linear(input_dim, hidden_dim),\n",
    "            nn.ReLU(),\n",
    "            nn.Dropout(p=0.2),  # 드롭아웃 적용\n",
    "            nn.Linear(hidden_dim, hidden_dim),\n",
    "            nn.ReLU(),\n",
    "            nn.Dropout(p=0.2),  # 드롭아웃 적용\n",
    "            nn.Linear(hidden_dim, 1)\n",
    "        )\n",
    "    \n",
    "    def forward(self, x):\n",
    "        return self.model(x)\n",
    "\n",
    "# 데이터 준비\n",
    "data = pd.read_csv(\"../[01]Data/CoREMOF_O2_5.0_5760.csv\").reset_index(drop=True).drop(\"Unnamed: 0\", axis=1)\n",
    "data = data[['Adsorbent', 'LCD', 'PLD', 'LFPD', 'cm3_g', 'ASA_m2_cm3', 'ASA_m2_g',\n",
    "              'AV_VF', 'AV_cm3_g',  'Has_OMS',\n",
    "             '0.5bar_GCMC', 'Uptake']]\n",
    "X = data.drop(['Adsorbent', 'Uptake'], axis=1)\n",
    "y = data['Uptake']\n",
    "\n",
    "# Train-Test Split\n",
    "X_train, X_test, y_train, y_test = train_test_split(X, y, test_size=0.2, random_state=42)\n",
    "\n",
    "\n",
    "\n",
    "# Train 데이터를 Initial (5%)와 Remaining (95%)으로 랜덤 분리\n",
    "initial_size = int(0.05 * len(X_train))\n",
    "indices = np.random.permutation(len(X_train))\n",
    "initial_indices = indices[:initial_size]\n",
    "remaining_indices = indices[initial_size:]\n",
    "\n",
    "X_initial = X_train.iloc[initial_indices]\n",
    "y_initial = y_train.iloc[initial_indices].to_numpy()\n",
    "\n",
    "# 스탠다드 스케일러 적용\n",
    "scaler = StandardScaler()\n",
    "X_initial_scaled = scaler.fit_transform(X_initial)\n",
    "X_test_scaled = scaler.transform(X_test)\n",
    "X_remaining = pd.DataFrame(X_train.iloc[remaining_indices], columns=X_train.columns).reset_index(drop =True)\n",
    "y_remaining = y_train.iloc[remaining_indices].reset_index(drop =True)\n",
    "\n",
    "def create_dataloader(X, y, batch_size=32, shuffle=True):\n",
    "    dataset = TensorDataset(torch.tensor(X, dtype=torch.float32), torch.tensor(y, dtype=torch.float32))\n",
    "    return DataLoader(dataset, batch_size=batch_size, shuffle=shuffle)\n",
    "\n",
    "train_loader = create_dataloader(X_initial_scaled, y_initial)\n",
    "test_loader = create_dataloader(X_test_scaled, y_test.to_numpy(), shuffle=False)\n",
    "\n",
    "# 모델 초기화\n",
    "input_dim = X_train.shape[1]\n",
    "hidden_dim = 64\n",
    "model = DropoutMLP(input_dim, hidden_dim)\n",
    "criterion = nn.MSELoss()\n",
    "optimizer = optim.Adam(model.parameters(), lr=0.001)\n",
    "\n",
    "# 초기 모델 학습\n",
    "epochs = 50\n",
    "for epoch in range(epochs):\n",
    "    model.train()\n",
    "    for X_batch, y_batch in train_loader:\n",
    "        optimizer.zero_grad()\n",
    "        predictions = model(X_batch).squeeze()\n",
    "        loss = criterion(predictions, y_batch)\n",
    "        loss.backward()\n",
    "        optimizer.step()\n",
    "\n",
    "# 랜덤 샘플링 설정\n",
    "iterations = 100\n",
    "samples_per_iteration = 10\n",
    "performance_log = []\n",
    "\n",
    "X_remaining_tensor = torch.tensor(X_remaining.values, dtype=torch.float32)\n",
    "X_test_tensor = torch.tensor(X_test_scaled, dtype=torch.float32)\n",
    "\n",
    "# 초기 Test 성능 평가\n",
    "mean_prediction, _ = mc_dropout_predict(model, X_test_tensor, n_simulations=20)\n",
    "mse = mean_squared_error(y_test, mean_prediction)\n",
    "r2 = r2_score(y_test, mean_prediction)\n",
    "performance_log.append((mse, r2))\n",
    "print(f\"Initial Test MSE: {mse}, R2: {r2}\")\n",
    "\n",
    "for iteration in range(iterations):\n",
    "    # 랜덤으로 샘플 선택\n",
    "    sample_indices = np.random.choice(X_remaining.index, size=samples_per_iteration, replace=False)\n",
    "    sample_indices = X_remaining.index[sample_indices]  # 현재 인덱스 동기화\n",
    "    sampled_X = X_remaining.iloc[sample_indices].values\n",
    "    sampled_y = y_remaining.iloc[sample_indices].to_numpy()\n",
    "\n",
    "    # 선택된 샘플을 Training Set에 추가\n",
    "    X_initial = np.vstack([X_initial, sampled_X])\n",
    "    y_initial = np.hstack([y_initial, sampled_y])\n",
    "    X_initial_scaled = scaler.transform(X_initial)\n",
    "    # 남은 데이터에서 선택된 샘플 제거\n",
    "    X_remaining = X_remaining.drop(sample_indices).reset_index(drop=True)  # 인덱스 초기화\n",
    "    y_remaining = y_remaining.drop(sample_indices).reset_index(drop=True)  # 인덱스 초기화\n",
    "\n",
    "\n",
    "    # 새 학습 데이터로 DataLoader 생성\n",
    "    train_loader = create_dataloader(X_initial_scaled, y_initial)\n",
    "\n",
    "    # 모델 재학습\n",
    "    for epoch in range(epochs):\n",
    "        model.train()\n",
    "        for X_batch, y_batch in train_loader:\n",
    "            optimizer.zero_grad()\n",
    "            predictions = model(X_batch).squeeze()\n",
    "            loss = criterion(predictions, y_batch)\n",
    "            loss.backward()\n",
    "            optimizer.step()\n",
    "\n",
    "    # Test 성능 평가\n",
    "    mean_prediction, _ = mc_dropout_predict(model, X_test_tensor, n_simulations=20)\n",
    "    mse = mean_squared_error(y_test, mean_prediction)\n",
    "    r2 = r2_score(y_test, mean_prediction)\n",
    "    performance_log.append((mse, r2))\n",
    "    print(f\"Iteration {iteration + 1}/{iterations} - Test MSE: {mse}, R2: {r2}\")\n",
    "\n",
    "# 성능 기록 출력\n",
    "print(\"Performance log:\", performance_log)\n",
    "second_log = performance_log\n"
   ]
  },
  {
   "cell_type": "markdown",
   "metadata": {},
   "source": [
    "## 랜덤 샘플링이면서 매번 아예 새로운 모델을 학습시키는 코드"
   ]
  },
  {
   "cell_type": "code",
   "execution_count": 9,
   "metadata": {},
   "outputs": [
    {
     "name": "stderr",
     "output_type": "stream",
     "text": [
      "c:\\Users\\PSID_PC_20\\anaconda3\\envs\\python39\\lib\\site-packages\\sklearn\\base.py:486: UserWarning: X has feature names, but StandardScaler was fitted without feature names\n",
      "  warnings.warn(\n"
     ]
    },
    {
     "name": "stdout",
     "output_type": "stream",
     "text": [
      "Iteration 1/100 - Samples: 240, Test MSE: 0.0560, R2: 0.8533\n"
     ]
    },
    {
     "name": "stderr",
     "output_type": "stream",
     "text": [
      "c:\\Users\\PSID_PC_20\\anaconda3\\envs\\python39\\lib\\site-packages\\sklearn\\base.py:486: UserWarning: X has feature names, but StandardScaler was fitted without feature names\n",
      "  warnings.warn(\n"
     ]
    },
    {
     "name": "stdout",
     "output_type": "stream",
     "text": [
      "Iteration 2/100 - Samples: 250, Test MSE: 0.0482, R2: 0.8736\n"
     ]
    },
    {
     "name": "stderr",
     "output_type": "stream",
     "text": [
      "c:\\Users\\PSID_PC_20\\anaconda3\\envs\\python39\\lib\\site-packages\\sklearn\\base.py:486: UserWarning: X has feature names, but StandardScaler was fitted without feature names\n",
      "  warnings.warn(\n"
     ]
    },
    {
     "name": "stdout",
     "output_type": "stream",
     "text": [
      "Iteration 3/100 - Samples: 260, Test MSE: 0.0535, R2: 0.8599\n"
     ]
    },
    {
     "name": "stderr",
     "output_type": "stream",
     "text": [
      "c:\\Users\\PSID_PC_20\\anaconda3\\envs\\python39\\lib\\site-packages\\sklearn\\base.py:486: UserWarning: X has feature names, but StandardScaler was fitted without feature names\n",
      "  warnings.warn(\n"
     ]
    },
    {
     "name": "stdout",
     "output_type": "stream",
     "text": [
      "Iteration 4/100 - Samples: 270, Test MSE: 0.0481, R2: 0.8740\n"
     ]
    },
    {
     "name": "stderr",
     "output_type": "stream",
     "text": [
      "c:\\Users\\PSID_PC_20\\anaconda3\\envs\\python39\\lib\\site-packages\\sklearn\\base.py:486: UserWarning: X has feature names, but StandardScaler was fitted without feature names\n",
      "  warnings.warn(\n"
     ]
    },
    {
     "name": "stdout",
     "output_type": "stream",
     "text": [
      "Iteration 5/100 - Samples: 280, Test MSE: 0.0520, R2: 0.8637\n"
     ]
    },
    {
     "name": "stderr",
     "output_type": "stream",
     "text": [
      "c:\\Users\\PSID_PC_20\\anaconda3\\envs\\python39\\lib\\site-packages\\sklearn\\base.py:486: UserWarning: X has feature names, but StandardScaler was fitted without feature names\n",
      "  warnings.warn(\n"
     ]
    },
    {
     "name": "stdout",
     "output_type": "stream",
     "text": [
      "Iteration 6/100 - Samples: 290, Test MSE: 0.0543, R2: 0.8577\n"
     ]
    },
    {
     "name": "stderr",
     "output_type": "stream",
     "text": [
      "c:\\Users\\PSID_PC_20\\anaconda3\\envs\\python39\\lib\\site-packages\\sklearn\\base.py:486: UserWarning: X has feature names, but StandardScaler was fitted without feature names\n",
      "  warnings.warn(\n"
     ]
    },
    {
     "name": "stdout",
     "output_type": "stream",
     "text": [
      "Iteration 7/100 - Samples: 300, Test MSE: 0.0477, R2: 0.8750\n"
     ]
    },
    {
     "name": "stderr",
     "output_type": "stream",
     "text": [
      "c:\\Users\\PSID_PC_20\\anaconda3\\envs\\python39\\lib\\site-packages\\sklearn\\base.py:486: UserWarning: X has feature names, but StandardScaler was fitted without feature names\n",
      "  warnings.warn(\n"
     ]
    },
    {
     "name": "stdout",
     "output_type": "stream",
     "text": [
      "Iteration 8/100 - Samples: 310, Test MSE: 0.0465, R2: 0.8782\n"
     ]
    },
    {
     "name": "stderr",
     "output_type": "stream",
     "text": [
      "c:\\Users\\PSID_PC_20\\anaconda3\\envs\\python39\\lib\\site-packages\\sklearn\\base.py:486: UserWarning: X has feature names, but StandardScaler was fitted without feature names\n",
      "  warnings.warn(\n"
     ]
    },
    {
     "name": "stdout",
     "output_type": "stream",
     "text": [
      "Iteration 9/100 - Samples: 320, Test MSE: 0.0457, R2: 0.8803\n"
     ]
    },
    {
     "name": "stderr",
     "output_type": "stream",
     "text": [
      "c:\\Users\\PSID_PC_20\\anaconda3\\envs\\python39\\lib\\site-packages\\sklearn\\base.py:486: UserWarning: X has feature names, but StandardScaler was fitted without feature names\n",
      "  warnings.warn(\n"
     ]
    },
    {
     "name": "stdout",
     "output_type": "stream",
     "text": [
      "Iteration 10/100 - Samples: 330, Test MSE: 0.0431, R2: 0.8871\n"
     ]
    },
    {
     "name": "stderr",
     "output_type": "stream",
     "text": [
      "c:\\Users\\PSID_PC_20\\anaconda3\\envs\\python39\\lib\\site-packages\\sklearn\\base.py:486: UserWarning: X has feature names, but StandardScaler was fitted without feature names\n",
      "  warnings.warn(\n"
     ]
    },
    {
     "name": "stdout",
     "output_type": "stream",
     "text": [
      "Iteration 11/100 - Samples: 340, Test MSE: 0.0383, R2: 0.8997\n"
     ]
    },
    {
     "name": "stderr",
     "output_type": "stream",
     "text": [
      "c:\\Users\\PSID_PC_20\\anaconda3\\envs\\python39\\lib\\site-packages\\sklearn\\base.py:486: UserWarning: X has feature names, but StandardScaler was fitted without feature names\n",
      "  warnings.warn(\n"
     ]
    },
    {
     "name": "stdout",
     "output_type": "stream",
     "text": [
      "Iteration 12/100 - Samples: 350, Test MSE: 0.0378, R2: 0.9010\n"
     ]
    },
    {
     "name": "stderr",
     "output_type": "stream",
     "text": [
      "c:\\Users\\PSID_PC_20\\anaconda3\\envs\\python39\\lib\\site-packages\\sklearn\\base.py:486: UserWarning: X has feature names, but StandardScaler was fitted without feature names\n",
      "  warnings.warn(\n"
     ]
    },
    {
     "name": "stdout",
     "output_type": "stream",
     "text": [
      "Iteration 13/100 - Samples: 360, Test MSE: 0.0421, R2: 0.8897\n"
     ]
    },
    {
     "name": "stderr",
     "output_type": "stream",
     "text": [
      "c:\\Users\\PSID_PC_20\\anaconda3\\envs\\python39\\lib\\site-packages\\sklearn\\base.py:486: UserWarning: X has feature names, but StandardScaler was fitted without feature names\n",
      "  warnings.warn(\n"
     ]
    },
    {
     "name": "stdout",
     "output_type": "stream",
     "text": [
      "Iteration 14/100 - Samples: 370, Test MSE: 0.0501, R2: 0.8687\n"
     ]
    },
    {
     "name": "stderr",
     "output_type": "stream",
     "text": [
      "c:\\Users\\PSID_PC_20\\anaconda3\\envs\\python39\\lib\\site-packages\\sklearn\\base.py:486: UserWarning: X has feature names, but StandardScaler was fitted without feature names\n",
      "  warnings.warn(\n"
     ]
    },
    {
     "name": "stdout",
     "output_type": "stream",
     "text": [
      "Iteration 15/100 - Samples: 380, Test MSE: 0.0346, R2: 0.9093\n"
     ]
    },
    {
     "name": "stderr",
     "output_type": "stream",
     "text": [
      "c:\\Users\\PSID_PC_20\\anaconda3\\envs\\python39\\lib\\site-packages\\sklearn\\base.py:486: UserWarning: X has feature names, but StandardScaler was fitted without feature names\n",
      "  warnings.warn(\n"
     ]
    },
    {
     "name": "stdout",
     "output_type": "stream",
     "text": [
      "Iteration 16/100 - Samples: 390, Test MSE: 0.0367, R2: 0.9038\n"
     ]
    },
    {
     "name": "stderr",
     "output_type": "stream",
     "text": [
      "c:\\Users\\PSID_PC_20\\anaconda3\\envs\\python39\\lib\\site-packages\\sklearn\\base.py:486: UserWarning: X has feature names, but StandardScaler was fitted without feature names\n",
      "  warnings.warn(\n"
     ]
    },
    {
     "name": "stdout",
     "output_type": "stream",
     "text": [
      "Iteration 17/100 - Samples: 400, Test MSE: 0.0371, R2: 0.9027\n"
     ]
    },
    {
     "name": "stderr",
     "output_type": "stream",
     "text": [
      "c:\\Users\\PSID_PC_20\\anaconda3\\envs\\python39\\lib\\site-packages\\sklearn\\base.py:486: UserWarning: X has feature names, but StandardScaler was fitted without feature names\n",
      "  warnings.warn(\n"
     ]
    },
    {
     "name": "stdout",
     "output_type": "stream",
     "text": [
      "Iteration 18/100 - Samples: 410, Test MSE: 0.0362, R2: 0.9051\n"
     ]
    },
    {
     "name": "stderr",
     "output_type": "stream",
     "text": [
      "c:\\Users\\PSID_PC_20\\anaconda3\\envs\\python39\\lib\\site-packages\\sklearn\\base.py:486: UserWarning: X has feature names, but StandardScaler was fitted without feature names\n",
      "  warnings.warn(\n"
     ]
    },
    {
     "name": "stdout",
     "output_type": "stream",
     "text": [
      "Iteration 19/100 - Samples: 420, Test MSE: 0.0325, R2: 0.9149\n"
     ]
    },
    {
     "name": "stderr",
     "output_type": "stream",
     "text": [
      "c:\\Users\\PSID_PC_20\\anaconda3\\envs\\python39\\lib\\site-packages\\sklearn\\base.py:486: UserWarning: X has feature names, but StandardScaler was fitted without feature names\n",
      "  warnings.warn(\n"
     ]
    },
    {
     "name": "stdout",
     "output_type": "stream",
     "text": [
      "Iteration 20/100 - Samples: 430, Test MSE: 0.0358, R2: 0.9062\n"
     ]
    },
    {
     "name": "stderr",
     "output_type": "stream",
     "text": [
      "c:\\Users\\PSID_PC_20\\anaconda3\\envs\\python39\\lib\\site-packages\\sklearn\\base.py:486: UserWarning: X has feature names, but StandardScaler was fitted without feature names\n",
      "  warnings.warn(\n"
     ]
    },
    {
     "name": "stdout",
     "output_type": "stream",
     "text": [
      "Iteration 21/100 - Samples: 440, Test MSE: 0.0439, R2: 0.8850\n"
     ]
    },
    {
     "name": "stderr",
     "output_type": "stream",
     "text": [
      "c:\\Users\\PSID_PC_20\\anaconda3\\envs\\python39\\lib\\site-packages\\sklearn\\base.py:486: UserWarning: X has feature names, but StandardScaler was fitted without feature names\n",
      "  warnings.warn(\n"
     ]
    },
    {
     "name": "stdout",
     "output_type": "stream",
     "text": [
      "Iteration 22/100 - Samples: 450, Test MSE: 0.0510, R2: 0.8664\n"
     ]
    },
    {
     "name": "stderr",
     "output_type": "stream",
     "text": [
      "c:\\Users\\PSID_PC_20\\anaconda3\\envs\\python39\\lib\\site-packages\\sklearn\\base.py:486: UserWarning: X has feature names, but StandardScaler was fitted without feature names\n",
      "  warnings.warn(\n"
     ]
    },
    {
     "name": "stdout",
     "output_type": "stream",
     "text": [
      "Iteration 23/100 - Samples: 460, Test MSE: 0.0409, R2: 0.8929\n"
     ]
    },
    {
     "name": "stderr",
     "output_type": "stream",
     "text": [
      "c:\\Users\\PSID_PC_20\\anaconda3\\envs\\python39\\lib\\site-packages\\sklearn\\base.py:486: UserWarning: X has feature names, but StandardScaler was fitted without feature names\n",
      "  warnings.warn(\n"
     ]
    },
    {
     "name": "stdout",
     "output_type": "stream",
     "text": [
      "Iteration 24/100 - Samples: 470, Test MSE: 0.0382, R2: 0.8998\n"
     ]
    },
    {
     "name": "stderr",
     "output_type": "stream",
     "text": [
      "c:\\Users\\PSID_PC_20\\anaconda3\\envs\\python39\\lib\\site-packages\\sklearn\\base.py:486: UserWarning: X has feature names, but StandardScaler was fitted without feature names\n",
      "  warnings.warn(\n"
     ]
    },
    {
     "name": "stdout",
     "output_type": "stream",
     "text": [
      "Iteration 25/100 - Samples: 480, Test MSE: 0.0361, R2: 0.9054\n"
     ]
    },
    {
     "name": "stderr",
     "output_type": "stream",
     "text": [
      "c:\\Users\\PSID_PC_20\\anaconda3\\envs\\python39\\lib\\site-packages\\sklearn\\base.py:486: UserWarning: X has feature names, but StandardScaler was fitted without feature names\n",
      "  warnings.warn(\n"
     ]
    },
    {
     "name": "stdout",
     "output_type": "stream",
     "text": [
      "Iteration 26/100 - Samples: 490, Test MSE: 0.0600, R2: 0.8428\n"
     ]
    },
    {
     "name": "stderr",
     "output_type": "stream",
     "text": [
      "c:\\Users\\PSID_PC_20\\anaconda3\\envs\\python39\\lib\\site-packages\\sklearn\\base.py:486: UserWarning: X has feature names, but StandardScaler was fitted without feature names\n",
      "  warnings.warn(\n"
     ]
    },
    {
     "name": "stdout",
     "output_type": "stream",
     "text": [
      "Iteration 27/100 - Samples: 500, Test MSE: 0.0292, R2: 0.9235\n"
     ]
    },
    {
     "name": "stderr",
     "output_type": "stream",
     "text": [
      "c:\\Users\\PSID_PC_20\\anaconda3\\envs\\python39\\lib\\site-packages\\sklearn\\base.py:486: UserWarning: X has feature names, but StandardScaler was fitted without feature names\n",
      "  warnings.warn(\n"
     ]
    },
    {
     "name": "stdout",
     "output_type": "stream",
     "text": [
      "Iteration 28/100 - Samples: 510, Test MSE: 0.0383, R2: 0.8996\n"
     ]
    },
    {
     "name": "stderr",
     "output_type": "stream",
     "text": [
      "c:\\Users\\PSID_PC_20\\anaconda3\\envs\\python39\\lib\\site-packages\\sklearn\\base.py:486: UserWarning: X has feature names, but StandardScaler was fitted without feature names\n",
      "  warnings.warn(\n"
     ]
    },
    {
     "name": "stdout",
     "output_type": "stream",
     "text": [
      "Iteration 29/100 - Samples: 520, Test MSE: 0.0315, R2: 0.9175\n"
     ]
    },
    {
     "name": "stderr",
     "output_type": "stream",
     "text": [
      "c:\\Users\\PSID_PC_20\\anaconda3\\envs\\python39\\lib\\site-packages\\sklearn\\base.py:486: UserWarning: X has feature names, but StandardScaler was fitted without feature names\n",
      "  warnings.warn(\n"
     ]
    },
    {
     "name": "stdout",
     "output_type": "stream",
     "text": [
      "Iteration 30/100 - Samples: 530, Test MSE: 0.0394, R2: 0.8966\n"
     ]
    },
    {
     "name": "stderr",
     "output_type": "stream",
     "text": [
      "c:\\Users\\PSID_PC_20\\anaconda3\\envs\\python39\\lib\\site-packages\\sklearn\\base.py:486: UserWarning: X has feature names, but StandardScaler was fitted without feature names\n",
      "  warnings.warn(\n"
     ]
    },
    {
     "name": "stdout",
     "output_type": "stream",
     "text": [
      "Iteration 31/100 - Samples: 540, Test MSE: 0.0327, R2: 0.9143\n"
     ]
    },
    {
     "name": "stderr",
     "output_type": "stream",
     "text": [
      "c:\\Users\\PSID_PC_20\\anaconda3\\envs\\python39\\lib\\site-packages\\sklearn\\base.py:486: UserWarning: X has feature names, but StandardScaler was fitted without feature names\n",
      "  warnings.warn(\n"
     ]
    },
    {
     "name": "stdout",
     "output_type": "stream",
     "text": [
      "Iteration 32/100 - Samples: 550, Test MSE: 0.0392, R2: 0.8972\n"
     ]
    },
    {
     "name": "stderr",
     "output_type": "stream",
     "text": [
      "c:\\Users\\PSID_PC_20\\anaconda3\\envs\\python39\\lib\\site-packages\\sklearn\\base.py:486: UserWarning: X has feature names, but StandardScaler was fitted without feature names\n",
      "  warnings.warn(\n"
     ]
    },
    {
     "name": "stdout",
     "output_type": "stream",
     "text": [
      "Iteration 33/100 - Samples: 560, Test MSE: 0.0303, R2: 0.9206\n"
     ]
    },
    {
     "name": "stderr",
     "output_type": "stream",
     "text": [
      "c:\\Users\\PSID_PC_20\\anaconda3\\envs\\python39\\lib\\site-packages\\sklearn\\base.py:486: UserWarning: X has feature names, but StandardScaler was fitted without feature names\n",
      "  warnings.warn(\n"
     ]
    },
    {
     "name": "stdout",
     "output_type": "stream",
     "text": [
      "Iteration 34/100 - Samples: 570, Test MSE: 0.0430, R2: 0.8874\n"
     ]
    },
    {
     "name": "stderr",
     "output_type": "stream",
     "text": [
      "c:\\Users\\PSID_PC_20\\anaconda3\\envs\\python39\\lib\\site-packages\\sklearn\\base.py:486: UserWarning: X has feature names, but StandardScaler was fitted without feature names\n",
      "  warnings.warn(\n"
     ]
    },
    {
     "name": "stdout",
     "output_type": "stream",
     "text": [
      "Iteration 35/100 - Samples: 580, Test MSE: 0.0325, R2: 0.9149\n"
     ]
    },
    {
     "name": "stderr",
     "output_type": "stream",
     "text": [
      "c:\\Users\\PSID_PC_20\\anaconda3\\envs\\python39\\lib\\site-packages\\sklearn\\base.py:486: UserWarning: X has feature names, but StandardScaler was fitted without feature names\n",
      "  warnings.warn(\n"
     ]
    },
    {
     "name": "stdout",
     "output_type": "stream",
     "text": [
      "Iteration 36/100 - Samples: 590, Test MSE: 0.0318, R2: 0.9168\n"
     ]
    },
    {
     "name": "stderr",
     "output_type": "stream",
     "text": [
      "c:\\Users\\PSID_PC_20\\anaconda3\\envs\\python39\\lib\\site-packages\\sklearn\\base.py:486: UserWarning: X has feature names, but StandardScaler was fitted without feature names\n",
      "  warnings.warn(\n"
     ]
    },
    {
     "name": "stdout",
     "output_type": "stream",
     "text": [
      "Iteration 37/100 - Samples: 600, Test MSE: 0.0374, R2: 0.9021\n"
     ]
    },
    {
     "name": "stderr",
     "output_type": "stream",
     "text": [
      "c:\\Users\\PSID_PC_20\\anaconda3\\envs\\python39\\lib\\site-packages\\sklearn\\base.py:486: UserWarning: X has feature names, but StandardScaler was fitted without feature names\n",
      "  warnings.warn(\n"
     ]
    },
    {
     "name": "stdout",
     "output_type": "stream",
     "text": [
      "Iteration 38/100 - Samples: 610, Test MSE: 0.0369, R2: 0.9032\n"
     ]
    },
    {
     "name": "stderr",
     "output_type": "stream",
     "text": [
      "c:\\Users\\PSID_PC_20\\anaconda3\\envs\\python39\\lib\\site-packages\\sklearn\\base.py:486: UserWarning: X has feature names, but StandardScaler was fitted without feature names\n",
      "  warnings.warn(\n"
     ]
    },
    {
     "name": "stdout",
     "output_type": "stream",
     "text": [
      "Iteration 39/100 - Samples: 620, Test MSE: 0.0295, R2: 0.9227\n"
     ]
    },
    {
     "name": "stderr",
     "output_type": "stream",
     "text": [
      "c:\\Users\\PSID_PC_20\\anaconda3\\envs\\python39\\lib\\site-packages\\sklearn\\base.py:486: UserWarning: X has feature names, but StandardScaler was fitted without feature names\n",
      "  warnings.warn(\n"
     ]
    },
    {
     "name": "stdout",
     "output_type": "stream",
     "text": [
      "Iteration 40/100 - Samples: 630, Test MSE: 0.0322, R2: 0.9157\n"
     ]
    },
    {
     "name": "stderr",
     "output_type": "stream",
     "text": [
      "c:\\Users\\PSID_PC_20\\anaconda3\\envs\\python39\\lib\\site-packages\\sklearn\\base.py:486: UserWarning: X has feature names, but StandardScaler was fitted without feature names\n",
      "  warnings.warn(\n"
     ]
    },
    {
     "name": "stdout",
     "output_type": "stream",
     "text": [
      "Iteration 41/100 - Samples: 640, Test MSE: 0.0292, R2: 0.9235\n"
     ]
    },
    {
     "name": "stderr",
     "output_type": "stream",
     "text": [
      "c:\\Users\\PSID_PC_20\\anaconda3\\envs\\python39\\lib\\site-packages\\sklearn\\base.py:486: UserWarning: X has feature names, but StandardScaler was fitted without feature names\n",
      "  warnings.warn(\n"
     ]
    },
    {
     "name": "stdout",
     "output_type": "stream",
     "text": [
      "Iteration 42/100 - Samples: 650, Test MSE: 0.0320, R2: 0.9162\n"
     ]
    },
    {
     "name": "stderr",
     "output_type": "stream",
     "text": [
      "c:\\Users\\PSID_PC_20\\anaconda3\\envs\\python39\\lib\\site-packages\\sklearn\\base.py:486: UserWarning: X has feature names, but StandardScaler was fitted without feature names\n",
      "  warnings.warn(\n"
     ]
    },
    {
     "name": "stdout",
     "output_type": "stream",
     "text": [
      "Iteration 43/100 - Samples: 660, Test MSE: 0.0402, R2: 0.8947\n"
     ]
    },
    {
     "name": "stderr",
     "output_type": "stream",
     "text": [
      "c:\\Users\\PSID_PC_20\\anaconda3\\envs\\python39\\lib\\site-packages\\sklearn\\base.py:486: UserWarning: X has feature names, but StandardScaler was fitted without feature names\n",
      "  warnings.warn(\n"
     ]
    },
    {
     "name": "stdout",
     "output_type": "stream",
     "text": [
      "Iteration 44/100 - Samples: 670, Test MSE: 0.0286, R2: 0.9250\n"
     ]
    },
    {
     "name": "stderr",
     "output_type": "stream",
     "text": [
      "c:\\Users\\PSID_PC_20\\anaconda3\\envs\\python39\\lib\\site-packages\\sklearn\\base.py:486: UserWarning: X has feature names, but StandardScaler was fitted without feature names\n",
      "  warnings.warn(\n"
     ]
    },
    {
     "name": "stdout",
     "output_type": "stream",
     "text": [
      "Iteration 45/100 - Samples: 680, Test MSE: 0.0319, R2: 0.9165\n"
     ]
    },
    {
     "name": "stderr",
     "output_type": "stream",
     "text": [
      "c:\\Users\\PSID_PC_20\\anaconda3\\envs\\python39\\lib\\site-packages\\sklearn\\base.py:486: UserWarning: X has feature names, but StandardScaler was fitted without feature names\n",
      "  warnings.warn(\n"
     ]
    },
    {
     "name": "stdout",
     "output_type": "stream",
     "text": [
      "Iteration 46/100 - Samples: 690, Test MSE: 0.0330, R2: 0.9134\n"
     ]
    },
    {
     "name": "stderr",
     "output_type": "stream",
     "text": [
      "c:\\Users\\PSID_PC_20\\anaconda3\\envs\\python39\\lib\\site-packages\\sklearn\\base.py:486: UserWarning: X has feature names, but StandardScaler was fitted without feature names\n",
      "  warnings.warn(\n"
     ]
    },
    {
     "name": "stdout",
     "output_type": "stream",
     "text": [
      "Iteration 47/100 - Samples: 700, Test MSE: 0.0318, R2: 0.9167\n"
     ]
    },
    {
     "name": "stderr",
     "output_type": "stream",
     "text": [
      "c:\\Users\\PSID_PC_20\\anaconda3\\envs\\python39\\lib\\site-packages\\sklearn\\base.py:486: UserWarning: X has feature names, but StandardScaler was fitted without feature names\n",
      "  warnings.warn(\n"
     ]
    },
    {
     "name": "stdout",
     "output_type": "stream",
     "text": [
      "Iteration 48/100 - Samples: 710, Test MSE: 0.0253, R2: 0.9337\n"
     ]
    },
    {
     "name": "stderr",
     "output_type": "stream",
     "text": [
      "c:\\Users\\PSID_PC_20\\anaconda3\\envs\\python39\\lib\\site-packages\\sklearn\\base.py:486: UserWarning: X has feature names, but StandardScaler was fitted without feature names\n",
      "  warnings.warn(\n"
     ]
    },
    {
     "name": "stdout",
     "output_type": "stream",
     "text": [
      "Iteration 49/100 - Samples: 720, Test MSE: 0.0321, R2: 0.9159\n"
     ]
    },
    {
     "name": "stderr",
     "output_type": "stream",
     "text": [
      "c:\\Users\\PSID_PC_20\\anaconda3\\envs\\python39\\lib\\site-packages\\sklearn\\base.py:486: UserWarning: X has feature names, but StandardScaler was fitted without feature names\n",
      "  warnings.warn(\n"
     ]
    },
    {
     "name": "stdout",
     "output_type": "stream",
     "text": [
      "Iteration 50/100 - Samples: 730, Test MSE: 0.0309, R2: 0.9190\n"
     ]
    },
    {
     "name": "stderr",
     "output_type": "stream",
     "text": [
      "c:\\Users\\PSID_PC_20\\anaconda3\\envs\\python39\\lib\\site-packages\\sklearn\\base.py:486: UserWarning: X has feature names, but StandardScaler was fitted without feature names\n",
      "  warnings.warn(\n"
     ]
    },
    {
     "name": "stdout",
     "output_type": "stream",
     "text": [
      "Iteration 51/100 - Samples: 740, Test MSE: 0.0404, R2: 0.8941\n"
     ]
    },
    {
     "name": "stderr",
     "output_type": "stream",
     "text": [
      "c:\\Users\\PSID_PC_20\\anaconda3\\envs\\python39\\lib\\site-packages\\sklearn\\base.py:486: UserWarning: X has feature names, but StandardScaler was fitted without feature names\n",
      "  warnings.warn(\n"
     ]
    },
    {
     "name": "stdout",
     "output_type": "stream",
     "text": [
      "Iteration 52/100 - Samples: 750, Test MSE: 0.0233, R2: 0.9390\n"
     ]
    },
    {
     "name": "stderr",
     "output_type": "stream",
     "text": [
      "c:\\Users\\PSID_PC_20\\anaconda3\\envs\\python39\\lib\\site-packages\\sklearn\\base.py:486: UserWarning: X has feature names, but StandardScaler was fitted without feature names\n",
      "  warnings.warn(\n"
     ]
    },
    {
     "name": "stdout",
     "output_type": "stream",
     "text": [
      "Iteration 53/100 - Samples: 760, Test MSE: 0.0256, R2: 0.9329\n"
     ]
    },
    {
     "name": "stderr",
     "output_type": "stream",
     "text": [
      "c:\\Users\\PSID_PC_20\\anaconda3\\envs\\python39\\lib\\site-packages\\sklearn\\base.py:486: UserWarning: X has feature names, but StandardScaler was fitted without feature names\n",
      "  warnings.warn(\n"
     ]
    },
    {
     "name": "stdout",
     "output_type": "stream",
     "text": [
      "Iteration 54/100 - Samples: 770, Test MSE: 0.0361, R2: 0.9054\n"
     ]
    },
    {
     "name": "stderr",
     "output_type": "stream",
     "text": [
      "c:\\Users\\PSID_PC_20\\anaconda3\\envs\\python39\\lib\\site-packages\\sklearn\\base.py:486: UserWarning: X has feature names, but StandardScaler was fitted without feature names\n",
      "  warnings.warn(\n"
     ]
    },
    {
     "name": "stdout",
     "output_type": "stream",
     "text": [
      "Iteration 55/100 - Samples: 780, Test MSE: 0.0246, R2: 0.9355\n"
     ]
    },
    {
     "name": "stderr",
     "output_type": "stream",
     "text": [
      "c:\\Users\\PSID_PC_20\\anaconda3\\envs\\python39\\lib\\site-packages\\sklearn\\base.py:486: UserWarning: X has feature names, but StandardScaler was fitted without feature names\n",
      "  warnings.warn(\n"
     ]
    },
    {
     "name": "stdout",
     "output_type": "stream",
     "text": [
      "Iteration 56/100 - Samples: 790, Test MSE: 0.0222, R2: 0.9419\n"
     ]
    },
    {
     "name": "stderr",
     "output_type": "stream",
     "text": [
      "c:\\Users\\PSID_PC_20\\anaconda3\\envs\\python39\\lib\\site-packages\\sklearn\\base.py:486: UserWarning: X has feature names, but StandardScaler was fitted without feature names\n",
      "  warnings.warn(\n"
     ]
    },
    {
     "name": "stdout",
     "output_type": "stream",
     "text": [
      "Iteration 57/100 - Samples: 800, Test MSE: 0.0300, R2: 0.9215\n"
     ]
    },
    {
     "name": "stderr",
     "output_type": "stream",
     "text": [
      "c:\\Users\\PSID_PC_20\\anaconda3\\envs\\python39\\lib\\site-packages\\sklearn\\base.py:486: UserWarning: X has feature names, but StandardScaler was fitted without feature names\n",
      "  warnings.warn(\n"
     ]
    },
    {
     "name": "stdout",
     "output_type": "stream",
     "text": [
      "Iteration 58/100 - Samples: 810, Test MSE: 0.0254, R2: 0.9333\n"
     ]
    },
    {
     "name": "stderr",
     "output_type": "stream",
     "text": [
      "c:\\Users\\PSID_PC_20\\anaconda3\\envs\\python39\\lib\\site-packages\\sklearn\\base.py:486: UserWarning: X has feature names, but StandardScaler was fitted without feature names\n",
      "  warnings.warn(\n"
     ]
    },
    {
     "name": "stdout",
     "output_type": "stream",
     "text": [
      "Iteration 59/100 - Samples: 820, Test MSE: 0.0293, R2: 0.9232\n"
     ]
    },
    {
     "name": "stderr",
     "output_type": "stream",
     "text": [
      "c:\\Users\\PSID_PC_20\\anaconda3\\envs\\python39\\lib\\site-packages\\sklearn\\base.py:486: UserWarning: X has feature names, but StandardScaler was fitted without feature names\n",
      "  warnings.warn(\n"
     ]
    },
    {
     "name": "stdout",
     "output_type": "stream",
     "text": [
      "Iteration 60/100 - Samples: 830, Test MSE: 0.0321, R2: 0.9160\n"
     ]
    },
    {
     "name": "stderr",
     "output_type": "stream",
     "text": [
      "c:\\Users\\PSID_PC_20\\anaconda3\\envs\\python39\\lib\\site-packages\\sklearn\\base.py:486: UserWarning: X has feature names, but StandardScaler was fitted without feature names\n",
      "  warnings.warn(\n"
     ]
    },
    {
     "name": "stdout",
     "output_type": "stream",
     "text": [
      "Iteration 61/100 - Samples: 840, Test MSE: 0.0362, R2: 0.9051\n"
     ]
    },
    {
     "name": "stderr",
     "output_type": "stream",
     "text": [
      "c:\\Users\\PSID_PC_20\\anaconda3\\envs\\python39\\lib\\site-packages\\sklearn\\base.py:486: UserWarning: X has feature names, but StandardScaler was fitted without feature names\n",
      "  warnings.warn(\n"
     ]
    },
    {
     "name": "stdout",
     "output_type": "stream",
     "text": [
      "Iteration 62/100 - Samples: 850, Test MSE: 0.0294, R2: 0.9228\n"
     ]
    },
    {
     "name": "stderr",
     "output_type": "stream",
     "text": [
      "c:\\Users\\PSID_PC_20\\anaconda3\\envs\\python39\\lib\\site-packages\\sklearn\\base.py:486: UserWarning: X has feature names, but StandardScaler was fitted without feature names\n",
      "  warnings.warn(\n"
     ]
    },
    {
     "name": "stdout",
     "output_type": "stream",
     "text": [
      "Iteration 63/100 - Samples: 860, Test MSE: 0.0267, R2: 0.9299\n"
     ]
    },
    {
     "name": "stderr",
     "output_type": "stream",
     "text": [
      "c:\\Users\\PSID_PC_20\\anaconda3\\envs\\python39\\lib\\site-packages\\sklearn\\base.py:486: UserWarning: X has feature names, but StandardScaler was fitted without feature names\n",
      "  warnings.warn(\n"
     ]
    },
    {
     "name": "stdout",
     "output_type": "stream",
     "text": [
      "Iteration 64/100 - Samples: 870, Test MSE: 0.0352, R2: 0.9078\n"
     ]
    },
    {
     "name": "stderr",
     "output_type": "stream",
     "text": [
      "c:\\Users\\PSID_PC_20\\anaconda3\\envs\\python39\\lib\\site-packages\\sklearn\\base.py:486: UserWarning: X has feature names, but StandardScaler was fitted without feature names\n",
      "  warnings.warn(\n"
     ]
    },
    {
     "name": "stdout",
     "output_type": "stream",
     "text": [
      "Iteration 65/100 - Samples: 880, Test MSE: 0.0272, R2: 0.9287\n"
     ]
    },
    {
     "name": "stderr",
     "output_type": "stream",
     "text": [
      "c:\\Users\\PSID_PC_20\\anaconda3\\envs\\python39\\lib\\site-packages\\sklearn\\base.py:486: UserWarning: X has feature names, but StandardScaler was fitted without feature names\n",
      "  warnings.warn(\n"
     ]
    },
    {
     "name": "stdout",
     "output_type": "stream",
     "text": [
      "Iteration 66/100 - Samples: 890, Test MSE: 0.0228, R2: 0.9403\n"
     ]
    },
    {
     "name": "stderr",
     "output_type": "stream",
     "text": [
      "c:\\Users\\PSID_PC_20\\anaconda3\\envs\\python39\\lib\\site-packages\\sklearn\\base.py:486: UserWarning: X has feature names, but StandardScaler was fitted without feature names\n",
      "  warnings.warn(\n"
     ]
    },
    {
     "name": "stdout",
     "output_type": "stream",
     "text": [
      "Iteration 67/100 - Samples: 900, Test MSE: 0.0350, R2: 0.9082\n"
     ]
    },
    {
     "name": "stderr",
     "output_type": "stream",
     "text": [
      "c:\\Users\\PSID_PC_20\\anaconda3\\envs\\python39\\lib\\site-packages\\sklearn\\base.py:486: UserWarning: X has feature names, but StandardScaler was fitted without feature names\n",
      "  warnings.warn(\n"
     ]
    },
    {
     "name": "stdout",
     "output_type": "stream",
     "text": [
      "Iteration 68/100 - Samples: 910, Test MSE: 0.0257, R2: 0.9328\n"
     ]
    },
    {
     "name": "stderr",
     "output_type": "stream",
     "text": [
      "c:\\Users\\PSID_PC_20\\anaconda3\\envs\\python39\\lib\\site-packages\\sklearn\\base.py:486: UserWarning: X has feature names, but StandardScaler was fitted without feature names\n",
      "  warnings.warn(\n"
     ]
    },
    {
     "name": "stdout",
     "output_type": "stream",
     "text": [
      "Iteration 69/100 - Samples: 920, Test MSE: 0.0269, R2: 0.9296\n"
     ]
    },
    {
     "name": "stderr",
     "output_type": "stream",
     "text": [
      "c:\\Users\\PSID_PC_20\\anaconda3\\envs\\python39\\lib\\site-packages\\sklearn\\base.py:486: UserWarning: X has feature names, but StandardScaler was fitted without feature names\n",
      "  warnings.warn(\n"
     ]
    },
    {
     "name": "stdout",
     "output_type": "stream",
     "text": [
      "Iteration 70/100 - Samples: 930, Test MSE: 0.0285, R2: 0.9253\n"
     ]
    },
    {
     "name": "stderr",
     "output_type": "stream",
     "text": [
      "c:\\Users\\PSID_PC_20\\anaconda3\\envs\\python39\\lib\\site-packages\\sklearn\\base.py:486: UserWarning: X has feature names, but StandardScaler was fitted without feature names\n",
      "  warnings.warn(\n"
     ]
    },
    {
     "name": "stdout",
     "output_type": "stream",
     "text": [
      "Iteration 71/100 - Samples: 940, Test MSE: 0.0286, R2: 0.9251\n"
     ]
    },
    {
     "name": "stderr",
     "output_type": "stream",
     "text": [
      "c:\\Users\\PSID_PC_20\\anaconda3\\envs\\python39\\lib\\site-packages\\sklearn\\base.py:486: UserWarning: X has feature names, but StandardScaler was fitted without feature names\n",
      "  warnings.warn(\n"
     ]
    },
    {
     "name": "stdout",
     "output_type": "stream",
     "text": [
      "Iteration 72/100 - Samples: 950, Test MSE: 0.0276, R2: 0.9276\n"
     ]
    },
    {
     "name": "stderr",
     "output_type": "stream",
     "text": [
      "c:\\Users\\PSID_PC_20\\anaconda3\\envs\\python39\\lib\\site-packages\\sklearn\\base.py:486: UserWarning: X has feature names, but StandardScaler was fitted without feature names\n",
      "  warnings.warn(\n"
     ]
    },
    {
     "name": "stdout",
     "output_type": "stream",
     "text": [
      "Iteration 73/100 - Samples: 960, Test MSE: 0.0226, R2: 0.9406\n"
     ]
    },
    {
     "name": "stderr",
     "output_type": "stream",
     "text": [
      "c:\\Users\\PSID_PC_20\\anaconda3\\envs\\python39\\lib\\site-packages\\sklearn\\base.py:486: UserWarning: X has feature names, but StandardScaler was fitted without feature names\n",
      "  warnings.warn(\n"
     ]
    },
    {
     "name": "stdout",
     "output_type": "stream",
     "text": [
      "Iteration 74/100 - Samples: 970, Test MSE: 0.0291, R2: 0.9237\n"
     ]
    },
    {
     "name": "stderr",
     "output_type": "stream",
     "text": [
      "c:\\Users\\PSID_PC_20\\anaconda3\\envs\\python39\\lib\\site-packages\\sklearn\\base.py:486: UserWarning: X has feature names, but StandardScaler was fitted without feature names\n",
      "  warnings.warn(\n"
     ]
    },
    {
     "name": "stdout",
     "output_type": "stream",
     "text": [
      "Iteration 75/100 - Samples: 980, Test MSE: 0.0230, R2: 0.9398\n"
     ]
    },
    {
     "name": "stderr",
     "output_type": "stream",
     "text": [
      "c:\\Users\\PSID_PC_20\\anaconda3\\envs\\python39\\lib\\site-packages\\sklearn\\base.py:486: UserWarning: X has feature names, but StandardScaler was fitted without feature names\n",
      "  warnings.warn(\n"
     ]
    },
    {
     "name": "stdout",
     "output_type": "stream",
     "text": [
      "Iteration 76/100 - Samples: 990, Test MSE: 0.0304, R2: 0.9202\n"
     ]
    },
    {
     "name": "stderr",
     "output_type": "stream",
     "text": [
      "c:\\Users\\PSID_PC_20\\anaconda3\\envs\\python39\\lib\\site-packages\\sklearn\\base.py:486: UserWarning: X has feature names, but StandardScaler was fitted without feature names\n",
      "  warnings.warn(\n"
     ]
    },
    {
     "name": "stdout",
     "output_type": "stream",
     "text": [
      "Iteration 77/100 - Samples: 1000, Test MSE: 0.0257, R2: 0.9325\n"
     ]
    },
    {
     "name": "stderr",
     "output_type": "stream",
     "text": [
      "c:\\Users\\PSID_PC_20\\anaconda3\\envs\\python39\\lib\\site-packages\\sklearn\\base.py:486: UserWarning: X has feature names, but StandardScaler was fitted without feature names\n",
      "  warnings.warn(\n"
     ]
    },
    {
     "name": "stdout",
     "output_type": "stream",
     "text": [
      "Iteration 78/100 - Samples: 1010, Test MSE: 0.0267, R2: 0.9299\n"
     ]
    },
    {
     "name": "stderr",
     "output_type": "stream",
     "text": [
      "c:\\Users\\PSID_PC_20\\anaconda3\\envs\\python39\\lib\\site-packages\\sklearn\\base.py:486: UserWarning: X has feature names, but StandardScaler was fitted without feature names\n",
      "  warnings.warn(\n"
     ]
    },
    {
     "name": "stdout",
     "output_type": "stream",
     "text": [
      "Iteration 79/100 - Samples: 1020, Test MSE: 0.0205, R2: 0.9462\n"
     ]
    },
    {
     "name": "stderr",
     "output_type": "stream",
     "text": [
      "c:\\Users\\PSID_PC_20\\anaconda3\\envs\\python39\\lib\\site-packages\\sklearn\\base.py:486: UserWarning: X has feature names, but StandardScaler was fitted without feature names\n",
      "  warnings.warn(\n"
     ]
    },
    {
     "name": "stdout",
     "output_type": "stream",
     "text": [
      "Iteration 80/100 - Samples: 1030, Test MSE: 0.0306, R2: 0.9197\n"
     ]
    },
    {
     "name": "stderr",
     "output_type": "stream",
     "text": [
      "c:\\Users\\PSID_PC_20\\anaconda3\\envs\\python39\\lib\\site-packages\\sklearn\\base.py:486: UserWarning: X has feature names, but StandardScaler was fitted without feature names\n",
      "  warnings.warn(\n"
     ]
    },
    {
     "name": "stdout",
     "output_type": "stream",
     "text": [
      "Iteration 81/100 - Samples: 1040, Test MSE: 0.0270, R2: 0.9293\n"
     ]
    },
    {
     "name": "stderr",
     "output_type": "stream",
     "text": [
      "c:\\Users\\PSID_PC_20\\anaconda3\\envs\\python39\\lib\\site-packages\\sklearn\\base.py:486: UserWarning: X has feature names, but StandardScaler was fitted without feature names\n",
      "  warnings.warn(\n"
     ]
    },
    {
     "name": "stdout",
     "output_type": "stream",
     "text": [
      "Iteration 82/100 - Samples: 1050, Test MSE: 0.0316, R2: 0.9172\n"
     ]
    },
    {
     "name": "stderr",
     "output_type": "stream",
     "text": [
      "c:\\Users\\PSID_PC_20\\anaconda3\\envs\\python39\\lib\\site-packages\\sklearn\\base.py:486: UserWarning: X has feature names, but StandardScaler was fitted without feature names\n",
      "  warnings.warn(\n"
     ]
    },
    {
     "name": "stdout",
     "output_type": "stream",
     "text": [
      "Iteration 83/100 - Samples: 1060, Test MSE: 0.0322, R2: 0.9156\n"
     ]
    },
    {
     "name": "stderr",
     "output_type": "stream",
     "text": [
      "c:\\Users\\PSID_PC_20\\anaconda3\\envs\\python39\\lib\\site-packages\\sklearn\\base.py:486: UserWarning: X has feature names, but StandardScaler was fitted without feature names\n",
      "  warnings.warn(\n"
     ]
    },
    {
     "name": "stdout",
     "output_type": "stream",
     "text": [
      "Iteration 84/100 - Samples: 1070, Test MSE: 0.0317, R2: 0.9169\n"
     ]
    },
    {
     "name": "stderr",
     "output_type": "stream",
     "text": [
      "c:\\Users\\PSID_PC_20\\anaconda3\\envs\\python39\\lib\\site-packages\\sklearn\\base.py:486: UserWarning: X has feature names, but StandardScaler was fitted without feature names\n",
      "  warnings.warn(\n"
     ]
    },
    {
     "name": "stdout",
     "output_type": "stream",
     "text": [
      "Iteration 85/100 - Samples: 1080, Test MSE: 0.0265, R2: 0.9305\n"
     ]
    },
    {
     "name": "stderr",
     "output_type": "stream",
     "text": [
      "c:\\Users\\PSID_PC_20\\anaconda3\\envs\\python39\\lib\\site-packages\\sklearn\\base.py:486: UserWarning: X has feature names, but StandardScaler was fitted without feature names\n",
      "  warnings.warn(\n"
     ]
    },
    {
     "name": "stdout",
     "output_type": "stream",
     "text": [
      "Iteration 86/100 - Samples: 1090, Test MSE: 0.0376, R2: 0.9014\n"
     ]
    },
    {
     "name": "stderr",
     "output_type": "stream",
     "text": [
      "c:\\Users\\PSID_PC_20\\anaconda3\\envs\\python39\\lib\\site-packages\\sklearn\\base.py:486: UserWarning: X has feature names, but StandardScaler was fitted without feature names\n",
      "  warnings.warn(\n"
     ]
    },
    {
     "name": "stdout",
     "output_type": "stream",
     "text": [
      "Iteration 87/100 - Samples: 1100, Test MSE: 0.0369, R2: 0.9033\n"
     ]
    },
    {
     "name": "stderr",
     "output_type": "stream",
     "text": [
      "c:\\Users\\PSID_PC_20\\anaconda3\\envs\\python39\\lib\\site-packages\\sklearn\\base.py:486: UserWarning: X has feature names, but StandardScaler was fitted without feature names\n",
      "  warnings.warn(\n"
     ]
    },
    {
     "name": "stdout",
     "output_type": "stream",
     "text": [
      "Iteration 88/100 - Samples: 1110, Test MSE: 0.0298, R2: 0.9219\n"
     ]
    },
    {
     "name": "stderr",
     "output_type": "stream",
     "text": [
      "c:\\Users\\PSID_PC_20\\anaconda3\\envs\\python39\\lib\\site-packages\\sklearn\\base.py:486: UserWarning: X has feature names, but StandardScaler was fitted without feature names\n",
      "  warnings.warn(\n"
     ]
    },
    {
     "name": "stdout",
     "output_type": "stream",
     "text": [
      "Iteration 89/100 - Samples: 1120, Test MSE: 0.0284, R2: 0.9256\n"
     ]
    },
    {
     "name": "stderr",
     "output_type": "stream",
     "text": [
      "c:\\Users\\PSID_PC_20\\anaconda3\\envs\\python39\\lib\\site-packages\\sklearn\\base.py:486: UserWarning: X has feature names, but StandardScaler was fitted without feature names\n",
      "  warnings.warn(\n"
     ]
    },
    {
     "name": "stdout",
     "output_type": "stream",
     "text": [
      "Iteration 90/100 - Samples: 1130, Test MSE: 0.0327, R2: 0.9143\n"
     ]
    },
    {
     "name": "stderr",
     "output_type": "stream",
     "text": [
      "c:\\Users\\PSID_PC_20\\anaconda3\\envs\\python39\\lib\\site-packages\\sklearn\\base.py:486: UserWarning: X has feature names, but StandardScaler was fitted without feature names\n",
      "  warnings.warn(\n"
     ]
    },
    {
     "name": "stdout",
     "output_type": "stream",
     "text": [
      "Iteration 91/100 - Samples: 1140, Test MSE: 0.0284, R2: 0.9257\n"
     ]
    },
    {
     "name": "stderr",
     "output_type": "stream",
     "text": [
      "c:\\Users\\PSID_PC_20\\anaconda3\\envs\\python39\\lib\\site-packages\\sklearn\\base.py:486: UserWarning: X has feature names, but StandardScaler was fitted without feature names\n",
      "  warnings.warn(\n"
     ]
    },
    {
     "name": "stdout",
     "output_type": "stream",
     "text": [
      "Iteration 92/100 - Samples: 1150, Test MSE: 0.0317, R2: 0.9168\n"
     ]
    },
    {
     "name": "stderr",
     "output_type": "stream",
     "text": [
      "c:\\Users\\PSID_PC_20\\anaconda3\\envs\\python39\\lib\\site-packages\\sklearn\\base.py:486: UserWarning: X has feature names, but StandardScaler was fitted without feature names\n",
      "  warnings.warn(\n"
     ]
    },
    {
     "name": "stdout",
     "output_type": "stream",
     "text": [
      "Iteration 93/100 - Samples: 1160, Test MSE: 0.0273, R2: 0.9285\n"
     ]
    },
    {
     "name": "stderr",
     "output_type": "stream",
     "text": [
      "c:\\Users\\PSID_PC_20\\anaconda3\\envs\\python39\\lib\\site-packages\\sklearn\\base.py:486: UserWarning: X has feature names, but StandardScaler was fitted without feature names\n",
      "  warnings.warn(\n"
     ]
    },
    {
     "name": "stdout",
     "output_type": "stream",
     "text": [
      "Iteration 94/100 - Samples: 1170, Test MSE: 0.0372, R2: 0.9024\n"
     ]
    },
    {
     "name": "stderr",
     "output_type": "stream",
     "text": [
      "c:\\Users\\PSID_PC_20\\anaconda3\\envs\\python39\\lib\\site-packages\\sklearn\\base.py:486: UserWarning: X has feature names, but StandardScaler was fitted without feature names\n",
      "  warnings.warn(\n"
     ]
    },
    {
     "name": "stdout",
     "output_type": "stream",
     "text": [
      "Iteration 95/100 - Samples: 1180, Test MSE: 0.0337, R2: 0.9117\n"
     ]
    },
    {
     "name": "stderr",
     "output_type": "stream",
     "text": [
      "c:\\Users\\PSID_PC_20\\anaconda3\\envs\\python39\\lib\\site-packages\\sklearn\\base.py:486: UserWarning: X has feature names, but StandardScaler was fitted without feature names\n",
      "  warnings.warn(\n"
     ]
    },
    {
     "name": "stdout",
     "output_type": "stream",
     "text": [
      "Iteration 96/100 - Samples: 1190, Test MSE: 0.0226, R2: 0.9409\n"
     ]
    },
    {
     "name": "stderr",
     "output_type": "stream",
     "text": [
      "c:\\Users\\PSID_PC_20\\anaconda3\\envs\\python39\\lib\\site-packages\\sklearn\\base.py:486: UserWarning: X has feature names, but StandardScaler was fitted without feature names\n",
      "  warnings.warn(\n"
     ]
    },
    {
     "name": "stdout",
     "output_type": "stream",
     "text": [
      "Iteration 97/100 - Samples: 1200, Test MSE: 0.0254, R2: 0.9333\n"
     ]
    },
    {
     "name": "stderr",
     "output_type": "stream",
     "text": [
      "c:\\Users\\PSID_PC_20\\anaconda3\\envs\\python39\\lib\\site-packages\\sklearn\\base.py:486: UserWarning: X has feature names, but StandardScaler was fitted without feature names\n",
      "  warnings.warn(\n"
     ]
    },
    {
     "name": "stdout",
     "output_type": "stream",
     "text": [
      "Iteration 98/100 - Samples: 1210, Test MSE: 0.0291, R2: 0.9236\n"
     ]
    },
    {
     "name": "stderr",
     "output_type": "stream",
     "text": [
      "c:\\Users\\PSID_PC_20\\anaconda3\\envs\\python39\\lib\\site-packages\\sklearn\\base.py:486: UserWarning: X has feature names, but StandardScaler was fitted without feature names\n",
      "  warnings.warn(\n"
     ]
    },
    {
     "name": "stdout",
     "output_type": "stream",
     "text": [
      "Iteration 99/100 - Samples: 1220, Test MSE: 0.0257, R2: 0.9327\n"
     ]
    },
    {
     "name": "stderr",
     "output_type": "stream",
     "text": [
      "c:\\Users\\PSID_PC_20\\anaconda3\\envs\\python39\\lib\\site-packages\\sklearn\\base.py:486: UserWarning: X has feature names, but StandardScaler was fitted without feature names\n",
      "  warnings.warn(\n"
     ]
    },
    {
     "name": "stdout",
     "output_type": "stream",
     "text": [
      "Iteration 100/100 - Samples: 1230, Test MSE: 0.0259, R2: 0.9322\n",
      "Performance log:\n",
      "MSE: 0.0560, R2: 0.8533\n",
      "MSE: 0.0482, R2: 0.8736\n",
      "MSE: 0.0535, R2: 0.8599\n",
      "MSE: 0.0481, R2: 0.8740\n",
      "MSE: 0.0520, R2: 0.8637\n",
      "MSE: 0.0543, R2: 0.8577\n",
      "MSE: 0.0477, R2: 0.8750\n",
      "MSE: 0.0465, R2: 0.8782\n",
      "MSE: 0.0457, R2: 0.8803\n",
      "MSE: 0.0431, R2: 0.8871\n",
      "MSE: 0.0383, R2: 0.8997\n",
      "MSE: 0.0378, R2: 0.9010\n",
      "MSE: 0.0421, R2: 0.8897\n",
      "MSE: 0.0501, R2: 0.8687\n",
      "MSE: 0.0346, R2: 0.9093\n",
      "MSE: 0.0367, R2: 0.9038\n",
      "MSE: 0.0371, R2: 0.9027\n",
      "MSE: 0.0362, R2: 0.9051\n",
      "MSE: 0.0325, R2: 0.9149\n",
      "MSE: 0.0358, R2: 0.9062\n",
      "MSE: 0.0439, R2: 0.8850\n",
      "MSE: 0.0510, R2: 0.8664\n",
      "MSE: 0.0409, R2: 0.8929\n",
      "MSE: 0.0382, R2: 0.8998\n",
      "MSE: 0.0361, R2: 0.9054\n",
      "MSE: 0.0600, R2: 0.8428\n",
      "MSE: 0.0292, R2: 0.9235\n",
      "MSE: 0.0383, R2: 0.8996\n",
      "MSE: 0.0315, R2: 0.9175\n",
      "MSE: 0.0394, R2: 0.8966\n",
      "MSE: 0.0327, R2: 0.9143\n",
      "MSE: 0.0392, R2: 0.8972\n",
      "MSE: 0.0303, R2: 0.9206\n",
      "MSE: 0.0430, R2: 0.8874\n",
      "MSE: 0.0325, R2: 0.9149\n",
      "MSE: 0.0318, R2: 0.9168\n",
      "MSE: 0.0374, R2: 0.9021\n",
      "MSE: 0.0369, R2: 0.9032\n",
      "MSE: 0.0295, R2: 0.9227\n",
      "MSE: 0.0322, R2: 0.9157\n",
      "MSE: 0.0292, R2: 0.9235\n",
      "MSE: 0.0320, R2: 0.9162\n",
      "MSE: 0.0402, R2: 0.8947\n",
      "MSE: 0.0286, R2: 0.9250\n",
      "MSE: 0.0319, R2: 0.9165\n",
      "MSE: 0.0330, R2: 0.9134\n",
      "MSE: 0.0318, R2: 0.9167\n",
      "MSE: 0.0253, R2: 0.9337\n",
      "MSE: 0.0321, R2: 0.9159\n",
      "MSE: 0.0309, R2: 0.9190\n",
      "MSE: 0.0404, R2: 0.8941\n",
      "MSE: 0.0233, R2: 0.9390\n",
      "MSE: 0.0256, R2: 0.9329\n",
      "MSE: 0.0361, R2: 0.9054\n",
      "MSE: 0.0246, R2: 0.9355\n",
      "MSE: 0.0222, R2: 0.9419\n",
      "MSE: 0.0300, R2: 0.9215\n",
      "MSE: 0.0254, R2: 0.9333\n",
      "MSE: 0.0293, R2: 0.9232\n",
      "MSE: 0.0321, R2: 0.9160\n",
      "MSE: 0.0362, R2: 0.9051\n",
      "MSE: 0.0294, R2: 0.9228\n",
      "MSE: 0.0267, R2: 0.9299\n",
      "MSE: 0.0352, R2: 0.9078\n",
      "MSE: 0.0272, R2: 0.9287\n",
      "MSE: 0.0228, R2: 0.9403\n",
      "MSE: 0.0350, R2: 0.9082\n",
      "MSE: 0.0257, R2: 0.9328\n",
      "MSE: 0.0269, R2: 0.9296\n",
      "MSE: 0.0285, R2: 0.9253\n",
      "MSE: 0.0286, R2: 0.9251\n",
      "MSE: 0.0276, R2: 0.9276\n",
      "MSE: 0.0226, R2: 0.9406\n",
      "MSE: 0.0291, R2: 0.9237\n",
      "MSE: 0.0230, R2: 0.9398\n",
      "MSE: 0.0304, R2: 0.9202\n",
      "MSE: 0.0257, R2: 0.9325\n",
      "MSE: 0.0267, R2: 0.9299\n",
      "MSE: 0.0205, R2: 0.9462\n",
      "MSE: 0.0306, R2: 0.9197\n",
      "MSE: 0.0270, R2: 0.9293\n",
      "MSE: 0.0316, R2: 0.9172\n",
      "MSE: 0.0322, R2: 0.9156\n",
      "MSE: 0.0317, R2: 0.9169\n",
      "MSE: 0.0265, R2: 0.9305\n",
      "MSE: 0.0376, R2: 0.9014\n",
      "MSE: 0.0369, R2: 0.9033\n",
      "MSE: 0.0298, R2: 0.9219\n",
      "MSE: 0.0284, R2: 0.9256\n",
      "MSE: 0.0327, R2: 0.9143\n",
      "MSE: 0.0284, R2: 0.9257\n",
      "MSE: 0.0317, R2: 0.9168\n",
      "MSE: 0.0273, R2: 0.9285\n",
      "MSE: 0.0372, R2: 0.9024\n",
      "MSE: 0.0337, R2: 0.9117\n",
      "MSE: 0.0226, R2: 0.9409\n",
      "MSE: 0.0254, R2: 0.9333\n",
      "MSE: 0.0291, R2: 0.9236\n",
      "MSE: 0.0257, R2: 0.9327\n",
      "MSE: 0.0259, R2: 0.9322\n"
     ]
    }
   ],
   "source": [
    "import torch\n",
    "import torch.nn as nn\n",
    "import torch.optim as optim\n",
    "from torch.utils.data import DataLoader, TensorDataset\n",
    "import numpy as np\n",
    "import pandas as pd\n",
    "from sklearn.metrics import mean_squared_error, r2_score\n",
    "from sklearn.model_selection import train_test_split\n",
    "from sklearn.preprocessing import StandardScaler\n",
    "\n",
    "# PyTorch 모델 정의\n",
    "class DropoutMLP(nn.Module):\n",
    "    def __init__(self, input_dim, hidden_dim):\n",
    "        super(DropoutMLP, self).__init__()\n",
    "        self.model = nn.Sequential(\n",
    "            nn.Linear(input_dim, hidden_dim),\n",
    "            nn.ReLU(),\n",
    "            nn.Dropout(p=0.2),  # 드롭아웃 적용\n",
    "            nn.Linear(hidden_dim, hidden_dim),\n",
    "            nn.ReLU(),\n",
    "            nn.Dropout(p=0.2),  # 드롭아웃 적용\n",
    "            nn.Linear(hidden_dim, 1)\n",
    "        )\n",
    "    \n",
    "    def forward(self, x):\n",
    "        return self.model(x)\n",
    "\n",
    "# 데이터 준비\n",
    "data = pd.read_csv(\"../[01]Data/CoREMOF_O2_5.0_5760.csv\").reset_index(drop=True).drop(\"Unnamed: 0\", axis=1)\n",
    "data = data[['Adsorbent', 'LCD', 'PLD', 'LFPD', 'cm3_g', 'ASA_m2_cm3', 'ASA_m2_g',\n",
    "              'AV_VF', 'AV_cm3_g',  'Has_OMS',\n",
    "             '0.5bar_GCMC', 'Uptake']]\n",
    "X = data.drop(['Adsorbent', 'Uptake'], axis=1)\n",
    "y = data['Uptake']\n",
    "\n",
    "# Train-Test Split\n",
    "X_train, X_test, y_train, y_test = train_test_split(X, y, test_size=0.2, random_state=42)\n",
    "\n",
    "# Train 데이터를 Initial (5%)와 Remaining (95%)으로 랜덤 분리\n",
    "initial_size = int(0.05 * len(X_train))\n",
    "indices = np.random.permutation(len(X_train))\n",
    "initial_indices = indices[:initial_size]\n",
    "remaining_indices = indices[initial_size:]\n",
    "\n",
    "X_initial = X_train.iloc[initial_indices]\n",
    "y_initial = y_train.iloc[initial_indices].to_numpy()\n",
    "\n",
    "# 스탠다드 스케일러 적용\n",
    "scaler = StandardScaler()\n",
    "X_initial_scaled = scaler.fit_transform(X_initial)\n",
    "X_test_scaled = scaler.transform(X_test)\n",
    "X_remaining = pd.DataFrame(X_train.iloc[remaining_indices], columns=X_train.columns).reset_index(drop=True)\n",
    "y_remaining = y_train.iloc[remaining_indices].reset_index(drop=True)\n",
    "\n",
    "def create_dataloader(X, y, batch_size=32, shuffle=True):\n",
    "    dataset = TensorDataset(torch.tensor(X, dtype=torch.float32), torch.tensor(y, dtype=torch.float32))\n",
    "    return DataLoader(dataset, batch_size=batch_size, shuffle=shuffle)\n",
    "\n",
    "train_loader = create_dataloader(X_initial_scaled, y_initial)\n",
    "test_loader = create_dataloader(X_test_scaled, y_test.to_numpy(), shuffle=False)\n",
    "\n",
    "# 모델 초기화\n",
    "input_dim = X_train.shape[1]\n",
    "hidden_dim = 64\n",
    "criterion = nn.MSELoss()\n",
    "\n",
    "# 랜덤 샘플링 설정\n",
    "iterations = 100\n",
    "samples_per_iteration = 10\n",
    "performance_log = []\n",
    "\n",
    "for iteration in range(iterations):\n",
    "    # 랜덤으로 샘플 선택\n",
    "    sample_indices = np.random.choice(X_remaining.index, size=samples_per_iteration, replace=False)\n",
    "    sampled_X = X_remaining.iloc[sample_indices].values\n",
    "    sampled_y = y_remaining.iloc[sample_indices].to_numpy()\n",
    "\n",
    "    # 선택된 샘플을 Training Set에 추가\n",
    "    X_initial = np.vstack([X_initial, sampled_X])\n",
    "    y_initial = np.hstack([y_initial, sampled_y])\n",
    "\n",
    "    # 남은 데이터에서 선택된 샘플 제거\n",
    "    X_remaining = X_remaining.drop(sample_indices).reset_index(drop=True)\n",
    "    y_remaining = y_remaining.drop(sample_indices).reset_index(drop=True)\n",
    "\n",
    "    # 새 데이터 스케일링\n",
    "    scaler = StandardScaler()\n",
    "    X_initial_scaled = scaler.fit_transform(X_initial)\n",
    "    X_test_scaled = scaler.transform(X_test)\n",
    "    train_loader = create_dataloader(X_initial_scaled, y_initial)\n",
    "\n",
    "    # 새로운 모델 생성\n",
    "    model = DropoutMLP(input_dim, hidden_dim)\n",
    "    optimizer = optim.Adam(model.parameters(), lr=0.001)\n",
    "\n",
    "    # 모델 학습\n",
    "    epochs = 50\n",
    "    for epoch in range(epochs):\n",
    "        model.train()\n",
    "        for X_batch, y_batch in train_loader:\n",
    "            optimizer.zero_grad()\n",
    "            predictions = model(X_batch).squeeze()\n",
    "            loss = criterion(predictions, y_batch)\n",
    "            loss.backward()\n",
    "            optimizer.step()\n",
    "\n",
    "    # Test 성능 평가\n",
    "    X_test_tensor = torch.tensor(X_test_scaled, dtype=torch.float32)\n",
    "    model.eval()\n",
    "    with torch.no_grad():\n",
    "        predictions = model(X_test_tensor).squeeze().numpy()\n",
    "    mse = mean_squared_error(y_test, predictions)\n",
    "    r2 = r2_score(y_test, predictions)\n",
    "    performance_log.append((mse, r2))\n",
    "\n",
    "    print(f\"Iteration {iteration + 1}/{iterations} - Samples: {len(y_initial)}, Test MSE: {mse:.4f}, R2: {r2:.4f}\")\n",
    "\n",
    "# 성능 기록 출력\n",
    "print(\"Performance log:\")\n",
    "for entry in performance_log:\n",
    "    print(f\"MSE: {entry[0]:.4f}, R2: {entry[1]:.4f}\")\n",
    "third_log = performance_log"
   ]
  },
  {
   "cell_type": "code",
   "execution_count": null,
   "metadata": {},
   "outputs": [],
   "source": []
  },
  {
   "cell_type": "markdown",
   "metadata": {},
   "source": [
    "## 랜덤하게 아예 모델 재학습 시키는 경우 높은 샘플링 비율 포인트 찍어서 성능보기"
   ]
  },
  {
   "cell_type": "code",
   "execution_count": 12,
   "metadata": {},
   "outputs": [
    {
     "name": "stdout",
     "output_type": "stream",
     "text": [
      "Sample_Fraction 0.3 - Samples: 1382, Test MSE: 0.0212, R2: 0.9444\n",
      "Sample_Fraction 0.35 - Samples: 1612, Test MSE: 0.0210, R2: 0.9449\n",
      "Sample_Fraction 0.39999999999999997 - Samples: 1843, Test MSE: 0.0235, R2: 0.9385\n",
      "Sample_Fraction 0.44999999999999996 - Samples: 2073, Test MSE: 0.0249, R2: 0.9349\n",
      "Sample_Fraction 0.49999999999999994 - Samples: 2303, Test MSE: 0.0233, R2: 0.9390\n",
      "Sample_Fraction 0.5499999999999999 - Samples: 2534, Test MSE: 0.0489, R2: 0.8719\n",
      "Sample_Fraction 0.5999999999999999 - Samples: 2764, Test MSE: 0.0200, R2: 0.9475\n",
      "Sample_Fraction 0.6499999999999999 - Samples: 2995, Test MSE: 0.0262, R2: 0.9313\n",
      "Sample_Fraction 0.7 - Samples: 3225, Test MSE: 0.0204, R2: 0.9466\n",
      "Sample_Fraction 0.7499999999999999 - Samples: 3455, Test MSE: 0.0186, R2: 0.9512\n",
      "Sample_Fraction 0.7999999999999998 - Samples: 3686, Test MSE: 0.0212, R2: 0.9443\n",
      "Sample_Fraction 0.8499999999999999 - Samples: 3916, Test MSE: 0.0165, R2: 0.9567\n",
      "Sample_Fraction 0.8999999999999999 - Samples: 4147, Test MSE: 0.0200, R2: 0.9475\n",
      "Sample_Fraction 0.95 - Samples: 4377, Test MSE: 0.0230, R2: 0.9397\n",
      "Sample_Fraction 0.9999999999999998 - Samples: 4607, Test MSE: 0.0182, R2: 0.9524\n"
     ]
    }
   ],
   "source": [
    "import torch\n",
    "import torch.nn as nn\n",
    "import torch.optim as optim\n",
    "from torch.utils.data import DataLoader, TensorDataset\n",
    "import numpy as np\n",
    "import pandas as pd\n",
    "from sklearn.metrics import mean_squared_error, r2_score\n",
    "from sklearn.model_selection import train_test_split\n",
    "from sklearn.preprocessing import StandardScaler\n",
    "\n",
    "# PyTorch 모델 정의\n",
    "class DropoutMLP(nn.Module):\n",
    "    def __init__(self, input_dim, hidden_dim):\n",
    "        super(DropoutMLP, self).__init__()\n",
    "        self.model = nn.Sequential(\n",
    "            nn.Linear(input_dim, hidden_dim),\n",
    "            nn.ReLU(),\n",
    "            nn.Dropout(p=0.2),  # 드롭아웃 적용\n",
    "            nn.Linear(hidden_dim, hidden_dim),\n",
    "            nn.ReLU(),\n",
    "            nn.Dropout(p=0.2),  # 드롭아웃 적용\n",
    "            nn.Linear(hidden_dim, 1)\n",
    "        )\n",
    "    \n",
    "    def forward(self, x):\n",
    "        return self.model(x)\n",
    "\n",
    "# 데이터 준비\n",
    "data = pd.read_csv(\"../[01]Data/CoREMOF_O2_5.0_5760.csv\").reset_index(drop=True).drop(\"Unnamed: 0\", axis=1)\n",
    "data = data[['Adsorbent', 'LCD', 'PLD', 'LFPD', 'cm3_g', 'ASA_m2_cm3', 'ASA_m2_g',\n",
    "              'AV_VF', 'AV_cm3_g',  'Has_OMS',\n",
    "             '0.5bar_GCMC', 'Uptake']]\n",
    "X = data.drop(['Adsorbent', 'Uptake'], axis=1)\n",
    "y = data['Uptake']\n",
    "\n",
    "# Train-Test Split\n",
    "X_train, X_test, y_train, y_test = train_test_split(X, y, test_size=0.2, random_state=42)\n",
    "\n",
    "\n",
    "for i in np.arange(0.3, 1.05, 0.05):\n",
    "    # Train 데이터를 Initial (5%)와 Remaining (95%)으로 랜덤 분리\n",
    "    initial_size = int( i* len(X_train))\n",
    "    indices = np.random.permutation(len(X_train))\n",
    "    initial_indices = indices[:initial_size]\n",
    "    remaining_indices = indices[initial_size:]\n",
    "\n",
    "    X_initial = X_train.iloc[initial_indices]\n",
    "    y_initial = y_train.iloc[initial_indices].to_numpy()\n",
    "\n",
    "    # 스탠다드 스케일러 적용\n",
    "    scaler = StandardScaler()\n",
    "    X_initial_scaled = scaler.fit_transform(X_initial)\n",
    "    X_test_scaled = scaler.transform(X_test)\n",
    "    X_remaining = pd.DataFrame(X_train.iloc[remaining_indices], columns=X_train.columns).reset_index(drop =True)\n",
    "    y_remaining = y_train.iloc[remaining_indices].reset_index(drop =True)\n",
    "\n",
    "    def create_dataloader(X, y, batch_size=32, shuffle=True):\n",
    "        dataset = TensorDataset(torch.tensor(X, dtype=torch.float32), torch.tensor(y, dtype=torch.float32))\n",
    "        return DataLoader(dataset, batch_size=batch_size, shuffle=shuffle)\n",
    "\n",
    "    train_loader = create_dataloader(X_initial_scaled, y_initial)\n",
    "    test_loader = create_dataloader(X_test_scaled, y_test.to_numpy(), shuffle=False)\n",
    "\n",
    "    # 모델 초기화\n",
    "    input_dim = X_train.shape[1]\n",
    "    hidden_dim = 64\n",
    "    model = DropoutMLP(input_dim, hidden_dim)\n",
    "    criterion = nn.MSELoss()\n",
    "    optimizer = optim.Adam(model.parameters(), lr=0.001)\n",
    "\n",
    "    # 초기 모델 학습\n",
    "    epochs = 50\n",
    "    for epoch in range(epochs):\n",
    "        model.train()\n",
    "        for X_batch, y_batch in train_loader:\n",
    "            optimizer.zero_grad()\n",
    "            predictions = model(X_batch).squeeze()\n",
    "            loss = criterion(predictions, y_batch)\n",
    "            loss.backward()\n",
    "            optimizer.step()\n",
    "\n",
    "    # 랜덤 샘플링 설정\n",
    "    iterations = 100\n",
    "    samples_per_iteration = 10\n",
    "    performance_log = []\n",
    "\n",
    "    X_remaining_tensor = torch.tensor(X_remaining.values, dtype=torch.float32)\n",
    "    X_test_tensor = torch.tensor(X_test_scaled, dtype=torch.float32)\n",
    "    model.eval()\n",
    "    with torch.no_grad():\n",
    "        predictions = model(X_test_tensor).squeeze().numpy()\n",
    "    mse = mean_squared_error(y_test, predictions)\n",
    "    r2 = r2_score(y_test, predictions)\n",
    "    performance_log.append((mse, r2))\n",
    "\n",
    "    print(f\"Sample_Fraction {i} - Samples: {len(y_initial)}, Test MSE: {mse:.4f}, R2: {r2:.4f}\")\n",
    "\n",
    "train_fractions = np.arange(0.3, 1.05, 0.05)\n",
    "fourth_log = performance_log"
   ]
  },
  {
   "cell_type": "code",
   "execution_count": 7,
   "metadata": {},
   "outputs": [
    {
     "data": {
      "text/html": [
       "<div>\n",
       "<style scoped>\n",
       "    .dataframe tbody tr th:only-of-type {\n",
       "        vertical-align: middle;\n",
       "    }\n",
       "\n",
       "    .dataframe tbody tr th {\n",
       "        vertical-align: top;\n",
       "    }\n",
       "\n",
       "    .dataframe thead th {\n",
       "        text-align: right;\n",
       "    }\n",
       "</style>\n",
       "<table border=\"1\" class=\"dataframe\">\n",
       "  <thead>\n",
       "    <tr style=\"text-align: right;\">\n",
       "      <th></th>\n",
       "      <th>Active_Learning_MSE</th>\n",
       "      <th>Active_Learning_R2</th>\n",
       "      <th>Random_이어서학습_MSE</th>\n",
       "      <th>Random_이어서학습_R2</th>\n",
       "      <th>Random_모델재학습_MSE</th>\n",
       "      <th>Random_모델재학습_R2</th>\n",
       "    </tr>\n",
       "  </thead>\n",
       "  <tbody>\n",
       "    <tr>\n",
       "      <th>0</th>\n",
       "      <td>0.767561</td>\n",
       "      <td>-1.011749</td>\n",
       "      <td>0.147045</td>\n",
       "      <td>0.614599</td>\n",
       "      <td>0.141914</td>\n",
       "      <td>0.628049</td>\n",
       "    </tr>\n",
       "    <tr>\n",
       "      <th>1</th>\n",
       "      <td>0.043874</td>\n",
       "      <td>0.885008</td>\n",
       "      <td>0.130360</td>\n",
       "      <td>0.658332</td>\n",
       "      <td>0.125277</td>\n",
       "      <td>0.671654</td>\n",
       "    </tr>\n",
       "    <tr>\n",
       "      <th>2</th>\n",
       "      <td>0.041244</td>\n",
       "      <td>0.891901</td>\n",
       "      <td>0.115399</td>\n",
       "      <td>0.697544</td>\n",
       "      <td>0.113412</td>\n",
       "      <td>0.702751</td>\n",
       "    </tr>\n",
       "    <tr>\n",
       "      <th>3</th>\n",
       "      <td>0.041200</td>\n",
       "      <td>0.892017</td>\n",
       "      <td>0.094535</td>\n",
       "      <td>0.752229</td>\n",
       "      <td>0.089269</td>\n",
       "      <td>0.766030</td>\n",
       "    </tr>\n",
       "    <tr>\n",
       "      <th>4</th>\n",
       "      <td>0.031488</td>\n",
       "      <td>0.917471</td>\n",
       "      <td>0.104181</td>\n",
       "      <td>0.726946</td>\n",
       "      <td>0.084754</td>\n",
       "      <td>0.777864</td>\n",
       "    </tr>\n",
       "    <tr>\n",
       "      <th>...</th>\n",
       "      <td>...</td>\n",
       "      <td>...</td>\n",
       "      <td>...</td>\n",
       "      <td>...</td>\n",
       "      <td>...</td>\n",
       "      <td>...</td>\n",
       "    </tr>\n",
       "    <tr>\n",
       "      <th>95</th>\n",
       "      <td>0.018109</td>\n",
       "      <td>0.952536</td>\n",
       "      <td>0.051868</td>\n",
       "      <td>0.864055</td>\n",
       "      <td>0.030165</td>\n",
       "      <td>0.920938</td>\n",
       "    </tr>\n",
       "    <tr>\n",
       "      <th>96</th>\n",
       "      <td>0.017202</td>\n",
       "      <td>0.954915</td>\n",
       "      <td>0.045907</td>\n",
       "      <td>0.879680</td>\n",
       "      <td>0.024814</td>\n",
       "      <td>0.934963</td>\n",
       "    </tr>\n",
       "    <tr>\n",
       "      <th>97</th>\n",
       "      <td>0.017528</td>\n",
       "      <td>0.954060</td>\n",
       "      <td>0.062666</td>\n",
       "      <td>0.835756</td>\n",
       "      <td>0.027135</td>\n",
       "      <td>0.928881</td>\n",
       "    </tr>\n",
       "    <tr>\n",
       "      <th>98</th>\n",
       "      <td>0.019536</td>\n",
       "      <td>0.948797</td>\n",
       "      <td>0.069115</td>\n",
       "      <td>0.818852</td>\n",
       "      <td>0.021369</td>\n",
       "      <td>0.943993</td>\n",
       "    </tr>\n",
       "    <tr>\n",
       "      <th>99</th>\n",
       "      <td>0.017493</td>\n",
       "      <td>0.954151</td>\n",
       "      <td>0.052012</td>\n",
       "      <td>0.863679</td>\n",
       "      <td>0.026801</td>\n",
       "      <td>0.929756</td>\n",
       "    </tr>\n",
       "  </tbody>\n",
       "</table>\n",
       "<p>100 rows × 6 columns</p>\n",
       "</div>"
      ],
      "text/plain": [
       "    Active_Learning_MSE  Active_Learning_R2  Random_이어서학습_MSE  \\\n",
       "0              0.767561           -1.011749          0.147045   \n",
       "1              0.043874            0.885008          0.130360   \n",
       "2              0.041244            0.891901          0.115399   \n",
       "3              0.041200            0.892017          0.094535   \n",
       "4              0.031488            0.917471          0.104181   \n",
       "..                  ...                 ...               ...   \n",
       "95             0.018109            0.952536          0.051868   \n",
       "96             0.017202            0.954915          0.045907   \n",
       "97             0.017528            0.954060          0.062666   \n",
       "98             0.019536            0.948797          0.069115   \n",
       "99             0.017493            0.954151          0.052012   \n",
       "\n",
       "    Random_이어서학습_R2  Random_모델재학습_MSE  Random_모델재학습_R2  \n",
       "0          0.614599          0.141914         0.628049  \n",
       "1          0.658332          0.125277         0.671654  \n",
       "2          0.697544          0.113412         0.702751  \n",
       "3          0.752229          0.089269         0.766030  \n",
       "4          0.726946          0.084754         0.777864  \n",
       "..              ...               ...              ...  \n",
       "95         0.864055          0.030165         0.920938  \n",
       "96         0.879680          0.024814         0.934963  \n",
       "97         0.835756          0.027135         0.928881  \n",
       "98         0.818852          0.021369         0.943993  \n",
       "99         0.863679          0.026801         0.929756  \n",
       "\n",
       "[100 rows x 6 columns]"
      ]
     },
     "execution_count": 7,
     "metadata": {},
     "output_type": "execute_result"
    }
   ],
   "source": [
    "ls = []\n",
    "for a , b, c in zip(first_log, second_log , third_log):\n",
    "    dic = {}\n",
    "    for i, co in zip(list(a) + list(b) + list(c) , [\"Active_Learning_MSE\" , \"Active_Learning_R2\", \"Random_이어서학습_MSE\", \"Random_이어서학습_R2\", \"Random_모델재학습_MSE\", \"Random_모델재학습_R2\"]):\n",
    "        dic[co] = i \n",
    "    ls.append(dic)\n",
    "# pd.DataFrame(ls).to_csv(\"Active_Learning_O2_5bar_Score.csv\")\n",
    "pd.DataFrame(ls)"
   ]
  },
  {
   "cell_type": "code",
   "execution_count": null,
   "metadata": {},
   "outputs": [],
   "source": [
    "# 25 % Initial Test MSE: 0.24229746295191884, R2: 0.8516043708914969\n",
    "# 35 % Initial Test MSE: 0.11843110378372088, R2: 0.9274666026714148\n",
    "# 40 % Initial Test MSE: 0.11655841181037568, R2: 0.9286135371053348\n",
    "# 50%  Initial Test MSE: 0.09955010659747054, R2: 0.9390303120950066\n",
    "# 75 % Initial Test MSE: 0.0953816269835651, R2: 0.9415833068610072\n",
    "# 100% Initial Test MSE: 0.08467340609458346, R2: 0.9481415809596864"
   ]
  },
  {
   "cell_type": "code",
   "execution_count": null,
   "metadata": {},
   "outputs": [],
   "source": [
    "0.9444,0.9449,0.9385,0.9349,0.9390,0.8719,0.9475,0.9313,0.9466,0.9512,0.9443,0.9567,0.9475,0.9397,0.9524"
   ]
  },
  {
   "cell_type": "markdown",
   "metadata": {},
   "source": [
    "## 전체 Train셋에 대한 퍼센트로 X축을 구성해서 비교 시각화"
   ]
  },
  {
   "cell_type": "code",
   "execution_count": 19,
   "metadata": {},
   "outputs": [
    {
     "data": {
      "text/plain": [
       "(0.5, 1.0)"
      ]
     },
     "execution_count": 19,
     "metadata": {},
     "output_type": "execute_result"
    },
    {
     "data": {
      "image/png": "[encoded data removed]",
      "text/plain": [
       "<Figure size 640x480 with 1 Axes>"
      ]
     },
     "metadata": {},
     "output_type": "display_data"
    }
   ],
   "source": [
    "import matplotlib.pyplot as plt\n",
    "plt.plot([ (10* x + int(len(X_train) * 0.05)) * 100/ len(X_train) for x in range(0,101)], [ x[1] for x in  first_log], color = \"blue\" )\n",
    "# plt.plot([5*x for x in range(1, 21)], [ x[1] for x in  log] )\n",
    "# plt.plot(np.arange(0, 101), [ x[1] for x in  second_performance_log] )\n",
    "plt.plot([ (10* x + int(len(X_train) * 0.05)) * 100/ len(X_train) for x in range(0,101)], [ x[1] for x in  second_log] , color = \"red\" )\n",
    "plt.plot([ (10* x + int(len(X_train) * 0.05)) * 100/ len(X_train) for x in range(1,101)], [ x[1] for x in  third_log] , color = \"green\" )\n",
    "plt.ylim(0.5,1)\n",
    "# plt.axhline(0.94)\n",
    "# plt.scatter([ 35, 40, 50, 75, 100],[0.9274666026714148,0.9286135371053348,0.9390303120950066,0.9415833068610072,0.9481415809596864], color = \"red\" , marker = \"*\" )\n",
    "plt.scatter(train_fractions*100, [0.9444,0.9449,0.9385,0.9349,0.9390,0.8719,0.9475,0.9313,0.9466,0.9512,0.9443,0.9567,0.9475,0.9397,0.9524]  , marker = \"*\" , color = \"green\")\n",
    "catx = [0.05, 0.10, 0.15, 0.20, 0.25, 0.30, 0.35, 0.40, 0.45, 0.50, 0.55, 0.60, 0.65, 0.70, 0.75, 0.80, 0.85, 0.90, 0.95, 1.00]\n",
    "catr2 = [0.8571,0.9022,0.9278,0.9329,0.9197,0.9331,0.9445,0.9461,0.9500,0.9367,0.9460,0.9448,0.9447,0.9355,0.9536,0.9430,0.9570,0.9426,0.9530,0.9548]\n",
    "plt.scatter([x* 100 for x in catx] , catr2, marker = \"*\", color = \"black\")\n",
    "\n",
    "# 25 % Initial Test MSE: 0.24229746295191884, R2: 0.8516043708914969\n",
    "# 35 % Initial Test MSE: 0.11843110378372088, R2: 0.9274666026714148\n",
    "# 40 % Initial Test MSE: 0.11655841181037568, R2: 0.9286135371053348\n",
    "# 50%  Initial Test MSE: 0.09955010659747054, R2: 0.9390303120950066\n",
    "# 75 % Initial Test MSE: 0.0953816269835651, R2: 0.9415833068610072\n",
    "# 100% Initial Test MSE: 0.08467340609458346, R2: 0.9481415809596864\n",
    "plt.ylim(0.5,1)\n"
   ]
  },
  {
   "cell_type": "code",
   "execution_count": null,
   "metadata": {},
   "outputs": [],
   "source": []
  },
  {
   "cell_type": "code",
   "execution_count": 21,
   "metadata": {},
   "outputs": [
    {
     "data": {
      "text/plain": [
       "(0.8, 1.0)"
      ]
     },
     "execution_count": 21,
     "metadata": {},
     "output_type": "execute_result"
    },
    {
     "data": {
      "image/png": "[encoded data removed]",
      "text/plain": [
       "<Figure size 640x480 with 1 Axes>"
      ]
     },
     "metadata": {},
     "output_type": "display_data"
    }
   ],
   "source": [
    "import matplotlib.pyplot as plt\n",
    "plt.plot([ (10* x + int(len(X_train) * 0.05)) * 100/ len(X_train) for x in range(0,101)], [ x[1] for x in  first_log], color = \"blue\" )\n",
    "# plt.plot([5*x for x in range(1, 21)], [ x[1] for x in  log] )\n",
    "# plt.plot(np.arange(0, 101), [ x[1] for x in  second_performance_log] )\n",
    "plt.plot([ (10* x + int(len(X_train) * 0.05)) * 100/ len(X_train) for x in range(0,101)], [ x[1] for x in  second_log] , color = \"red\" )\n",
    "plt.plot([ (10* x + int(len(X_train) * 0.05)) * 100/ len(X_train) for x in range(1,101)], [ x[1] for x in  third_log] , color = \"green\" )\n",
    "plt.ylim(0.8,1)\n",
    "# plt.axhline(0.94)\n",
    "# plt.scatter([ 35, 40, 50, 75, 100],[0.9274666026714148,0.9286135371053348,0.9390303120950066,0.9415833068610072,0.9481415809596864], color = \"red\" , marker = \"*\" )\n",
    "plt.scatter(train_fractions*100, [0.9444,0.9449,0.9385,0.9349,0.9390,0.8719,0.9475,0.9313,0.9466,0.9512,0.9443,0.9567,0.9475,0.9397,0.9524]  , marker = \"*\" , color = \"green\")\n",
    "catx = [0.05, 0.10, 0.15, 0.20, 0.25, 0.30, 0.35, 0.40, 0.45, 0.50, 0.55, 0.60, 0.65, 0.70, 0.75, 0.80, 0.85, 0.90, 0.95, 1.00]\n",
    "catr2 = [0.8571,0.9022,0.9278,0.9329,0.9197,0.9331,0.9445,0.9461,0.9500,0.9367,0.9460,0.9448,0.9447,0.9355,0.9536,0.9430,0.9570,0.9426,0.9530,0.9548]\n",
    "plt.scatter([x* 100 for x in catx] , catr2, marker = \"*\", color = \"black\")\n",
    "\n",
    "# 25 % Initial Test MSE: 0.24229746295191884, R2: 0.8516043708914969\n",
    "# 35 % Initial Test MSE: 0.11843110378372088, R2: 0.9274666026714148\n",
    "# 40 % Initial Test MSE: 0.11655841181037568, R2: 0.9286135371053348\n",
    "# 50%  Initial Test MSE: 0.09955010659747054, R2: 0.9390303120950066\n",
    "# 75 % Initial Test MSE: 0.0953816269835651, R2: 0.9415833068610072\n",
    "# 100% Initial Test MSE: 0.08467340609458346, R2: 0.9481415809596864\n",
    "plt.ylim(0.8,1)\n"
   ]
  },
  {
   "cell_type": "markdown",
   "metadata": {},
   "source": [
    "* 확대"
   ]
  },
  {
   "cell_type": "code",
   "execution_count": 109,
   "metadata": {},
   "outputs": [
    {
     "data": {
      "text/plain": [
       "(0.8, 1.0)"
      ]
     },
     "execution_count": 109,
     "metadata": {},
     "output_type": "execute_result"
    },
    {
     "data": {
      "image/png": "[encoded data removed]",
      "text/plain": [
       "<Figure size 640x480 with 1 Axes>"
      ]
     },
     "metadata": {},
     "output_type": "display_data"
    }
   ],
   "source": [
    "plt.plot([ (10* x + int(len(X_train_scaled) * 0.05)) * 100/ len(X_train_scaled) for x in range(0,101)], [ x[1] for x in  first_performance_log], color = \"blue\" )\n",
    "# plt.plot([5*x for x in range(1, 21)], [ x[1] for x in  log] )\n",
    "# plt.plot(np.arange(0, 101), [ x[1] for x in  second_performance_log] )\n",
    "plt.plot([ (10* x + int(len(X_train_scaled) * 0.05)) * 100/ len(X_train_scaled) for x in range(0,101)], [ x[1] for x in  second_performance_log] , color = \"red\" )\n",
    "# plt.axhline(0.94)\n",
    "plt.scatter([ 35, 40, 50, 75, 100],[0.9274666026714148,0.9286135371053348,0.9390303120950066,0.9415833068610072,0.9481415809596864], color = \"red\" , marker = \"*\" )\n",
    "\n",
    "plt.axhline(y  =max( [ x[1] for x in  first_performance_log]) - 0.002, color = 'green')\n",
    "# 25 % Initial Test MSE: 0.24229746295191884, R2: 0.8516043708914969\n",
    "# 35 % Initial Test MSE: 0.11843110378372088, R2: 0.9274666026714148\n",
    "# 40 % Initial Test MSE: 0.11655841181037568, R2: 0.9286135371053348\n",
    "# 50%  Initial Test MSE: 0.09955010659747054, R2: 0.9390303120950066\n",
    "# 75 % Initial Test MSE: 0.0953816269835651, R2: 0.9415833068610072\n",
    "# 100% Initial Test MSE: 0.08467340609458346, R2: 0.9481415809596864\n",
    "plt.ylim(0.80, 1)"
   ]
  }
 ],
 "metadata": {
  "kernelspec": {
   "display_name": "python39",
   "language": "python",
   "name": "python3"
  },
  "language_info": {
   "codemirror_mode": {
    "name": "ipython",
    "version": 3
   },
   "file_extension": ".py",
   "mimetype": "text/x-python",
   "name": "python",
   "nbconvert_exporter": "python",
   "pygments_lexer": "ipython3",
   "version": "3.9.19"
  }
 },
 "nbformat": 4,
 "nbformat_minor": 2
}
